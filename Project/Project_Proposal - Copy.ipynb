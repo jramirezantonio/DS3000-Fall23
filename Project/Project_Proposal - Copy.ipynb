{
 "cells": [
  {
   "cell_type": "markdown",
   "id": "d867c000-68c1-4097-9074-fe9071bd7c62",
   "metadata": {},
   "source": [
    "# DS 3000 Project Proposal\n",
    "## Making Your Football Club's Money Worth\n",
    "### By Alondra Castro-Valadez\n",
    "\n"
   ]
  },
  {
   "cell_type": "markdown",
   "id": "ac136823-7f26-43eb-a159-86c1b764f5e1",
   "metadata": {},
   "source": [
    "## Description\n",
    "\n",
    "When thinking about the future success of a football club a question that often comes up is, what player should the club buy during the upcoming transfer window? And most often than not, big football clubs might start their wish list with superstar players like Cristiano Ronaldo, Lionel Messi, Harry Kane, and Vinicius Junior to add to their roster. However, these transfers cost millions of dollars to these football clubs, and in some cases, buying these players ends up not being worth the millions spent. A club could spend 100 million dollars to buy the hottest player in the premier league and next thing  you know the player ends up with a total of 3 goals and 1 assist for the entire season, decreasing their value and not advancing the club's success. \n",
    "\n",
    "There are a couple of questions that come up when thinking about this issue:\n",
    "- Is using a player's stats enough to predict whether or not they will be succesful?\n",
    "- Can we determine what specific stats clubs should be looking at when buying a player?\n",
    "- Is there a way to determine the chance of success of a certain player?\n",
    "- Are there any outside factors that might deter the success of a player after a transfer that clubs should start considering?\n",
    "- Can we provide a chance score for a player on whether a player will be succesful or not?\n"
   ]
  },
  {
   "cell_type": "markdown",
   "id": "ac9fdcdf-5054-4845-9669-c490aa317917",
   "metadata": {},
   "source": [
    "## Data Source\n",
    "For this project I will be using data from many football transfers and player stats (ESPN will be my main source). More specifically, will be using multiple examples of transfers that were seen as succesful and other transfers that were deemed as unsuccesful. Here I will talk about some examples of the transfers I will be using in my project.\n",
    "One example for a succesful transfer that I will be using is the summer 2009 transfer of Cristiano Ronaldo from Manchester United to Real Madrid. For Ronaldo's data I will be using the data from the website https://www.espn.com/soccer/player/stats/_/id/22774/cristiano-ronaldo which includes the stats for all of Ronaldo's seasons already in table form, so I would be able to scrape the data pretty easily. For the not-succesful transfer example I will be using Richarlison de Andrade's transfer from Everton to Tottenham. To analyze this transfer I will also be using data from the website ESPN website https://www.espn.com/soccer/player/_/id/156799/richarlison to inform me of his stats before and after the transfer. Since it seems like each of the pages in the website contain only one table, I think I should be able to get the scrape the data using pandas.read_html which should get the table elements of the html and return the one table per page. Since the data comes from the ESPN website I should be able to rely on it highly. However, since the data comes from multiple pages from the website that might pose a challenge but I should be able to access each either through a new url.   In addition to the player stats I will be accessing other information that doesn't need to be websrapped like the league the club is in, the language they speak in the location of the club, and the styles of play for club and player which I will use later to compare to the players stats. \n"
   ]
  },
  {
   "cell_type": "markdown",
   "id": "1e2f6208-0e9d-4aab-aaaa-203d0fad7cee",
   "metadata": {},
   "source": [
    "## Usage of Data\n",
    "Once I am able to clean the data, I will be using it to answer the following questions:\n",
    "- Can we determine what specific stats clubs should be looking at when buying a player?\n",
    "- Are there any outside factors that might deter the success of a player after a transfer that clubs should start considering?\n",
    "\n",
    "For determining what stats clubs should be looking at when thinking of buying a player I will be looking at the correlation in specific stats like goals, assists, fouls suffered, and shots on target. If there are positive relations between any features we would be able to assume that these statistics should be used and taken more seriously when football clubs are assessing the risk of buying a player or not. If there are negative correlations, football clubs might want to skip over these stats and look at others.\n",
    "\n",
    "Next, to determine if there is any other outside factors that clubs should start considering like if they're switching to a new league (example from Eredivisie to the Premier League), if a player is learning a new language, and their style of play compared to the club's style when buying players I will be using a linear regression model. If any of these factors seem to have linear relationship with the success of a player (Goals and Assists) it might suggest that clubs should start thinking about these factors when buying a player and if there isn't a linear relationship in the model, then it might suggest to the club that this factor isn't as important to the player's predicted success.\n"
   ]
  },
  {
   "cell_type": "code",
   "execution_count": null,
   "id": "cbd2cebe-fda6-403e-a8dc-56375febb1e2",
   "metadata": {},
   "outputs": [],
   "source": []
  }
 ],
 "metadata": {
  "kernelspec": {
   "display_name": "Python 3 (ipykernel)",
   "language": "python",
   "name": "python3"
  },
  "language_info": {
   "codemirror_mode": {
    "name": "ipython",
    "version": 3
   },
   "file_extension": ".py",
   "mimetype": "text/x-python",
   "name": "python",
   "nbconvert_exporter": "python",
   "pygments_lexer": "ipython3",
   "version": "3.10.13"
  }
 },
 "nbformat": 4,
 "nbformat_minor": 5
}
