{
 "cells": [
  {
   "cell_type": "markdown",
   "id": "6028fca1",
   "metadata": {},
   "source": [
    "# DS 3000 Project Proposal\n",
    "## Soccer Match Outcome Prediction\n",
    "### By Josue Antonio\n"
   ]
  },
  {
   "cell_type": "markdown",
   "id": "99f44cc5",
   "metadata": {},
   "source": [
    "## Description\n",
    "\n",
    "Soccer is undoubtedly world's number one sport, captivating  millions of fans with its excitement and unpredictability. Just last year, Argentina's shootout win over France in the final of the Qatar 2022 World Cup reached a global audience of 1.5 billion viewers, FIFA revealed. As someone that grew up watching soccer games with family and friends, I've always been intrigued by the idea of being able to predict the score or outcome of a match even before the teams hit the field. I remember watching games and making bets about the ending score with friends, and I remember being perplexed when an unexpected turn of events led to a result that went totally against what I anticipated, and sometimes, against what everyone anticipated.\n",
    "\n",
    "As a soccer enthusiast, the prospect of foreseeing the results of these matches is fascinating. Imagine being able to predict not only which team will win but also the actual score. With the help of Data Science, I think I'm now able to make way better predictions than the ones I did while growing up. Predicting outcomes could not only elevate the excitement for fans but could also be valuable for coaches, players, and even those who enjoy a friendly bet.\n",
    "\n",
    "These are some of the questions I would want to answer by following through with this project:\n",
    "- Can we accurately predict if a soccer match will end in a win, loss, or draw based on historical match data, team performance metrics, and player statistics?\n",
    "\n",
    "- Can we predict the number of goals scored by each team in a soccer match, taking into account historical data, player attributes, and recent team performance?\n",
    "\n",
    "    - Is it possible to forecast the score difference (goal margin) between opposing teams in a soccer match by analyzing team characteristics, past performance, and other relevant features?\n",
    "\n",
    "- How do various external factors, such as weather conditions, home or away games, or match schedules, influence the outcomes of soccer matches?\n",
    "\n"
   ]
  },
  {
   "cell_type": "markdown",
   "id": "22eda3fa",
   "metadata": {},
   "source": [
    "# Data Source\n",
    "\n",
    "The core data for this project will be sourced from the Football-Data API (https://www.football-data.org/documentation/quickstart). This API is a valuable repository of diverse soccer-related data, providing data and statistics (live scores, fixtures, tables, squads, lineups/subs, etc.), but it doesn't include team performance metrics nor player statistics. For the latter, I intend to scrape data from a website like https://www.whoscored.com/Statistics which includes team stats such as number of goals, shots per game, possession %, etc, and also includes player stats such as goals, assists, rating, among other numerical values.\n",
    "### Reliability and Issues:\n",
    "The Football-Data API is a reputable source known for its reliability, aggregating data from multiple trusted football databases. However, occasional challenges like missing data or slight delays in updates might be encountered, which will need to be addressed during data processing. The web scraping part of this project will likely be more difficult due to the unpredictable nature of scraping websites.\n",
    "\n",
    "### Data Cleaning Strategy:\n",
    "To prepare the data for analysis, a thorough data cleaning process will be implemented. This involves handling any missing values, ensuring data consistency, and structuring it into a clear format suitable for analysis. The goal is to streamline the datasets from the API and website into one database, retaining pertinent match information like scores, team stats, player stats, etc.\n",
    "\n"
   ]
  },
  {
   "cell_type": "markdown",
   "id": "f860d856",
   "metadata": {},
   "source": [
    "# Usage of Data\n",
    "Once the data is cleaned and visualized, the data will be used to try to answer the questions defined above. \n",
    "\n",
    "While we have not covered any machine learning models in class, I have experience with models such as Linear Regression with regularization such as Lasso Regression which could prove useful to perform feature selection in order to predict the number of goals scored by each team. \n",
    "\n",
    "Moreover, I've been reading about other models such as Random Forests and Support Vector Machines and I'm particularly interested in the former since it can be used for both Regression and Classification. I'd like to try this model to accurately predict if a match will end in a win, loss, or draw.\n",
    "\n",
    "Lastly, I could look at the correlation of the various external factors (weather conditions, home or away games, etc) with the outcome of the soccer matches to see if they're important in predicting the overall match result.\n",
    "\n",
    "I think it could also be interesting to run a clustering model to see if there's a general trend of the groups with the most number of victories, or the groups with the most number of goals. By doing this, I could see if the \"successful\" clusters have any features in common which I could then assign more weight to those features when running my regression model."
   ]
  }
 ],
 "metadata": {
  "kernelspec": {
   "display_name": "Python 3 (ipykernel)",
   "language": "python",
   "name": "python3"
  },
  "language_info": {
   "codemirror_mode": {
    "name": "ipython",
    "version": 3
   },
   "file_extension": ".py",
   "mimetype": "text/x-python",
   "name": "python",
   "nbconvert_exporter": "python",
   "pygments_lexer": "ipython3",
   "version": "3.10.13"
  }
 },
 "nbformat": 4,
 "nbformat_minor": 5
}
