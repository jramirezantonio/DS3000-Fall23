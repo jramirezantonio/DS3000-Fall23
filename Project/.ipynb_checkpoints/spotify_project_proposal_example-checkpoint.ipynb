{
 "cells": [
  {
   "cell_type": "markdown",
   "id": "6028fca1",
   "metadata": {},
   "source": [
    "# DS 3000 Project Proposal\n",
    "## Building a Better Playlist\n",
    "### By A. Student\n",
    "(Note: This is an example proposal. Since we work with Spotify data in class (on homework and in lecture), you are not permitted to work with the Spotify API on your final project.)"
   ]
  },
  {
   "cell_type": "markdown",
   "id": "2f1c3a2f",
   "metadata": {},
   "source": [
    "## Description\n",
    "\n",
    "Spotify is the #1 music streaming service in the world, likely due to its wide variety of music and the ease of use. Users can create playlists, and even see recommended songs for playlists based on the songs already in it. However, Spotify does not provide the user with any idea of *why* a song is being suggested nor give any sort of score/information on which of the recommended songs are most suitable for the playlist. If a user is trying to create their perfect R&B playlist, but then they add a pop song to it, there is no way for the user to know if the song truly fits the \"vibe\" of the playlist. Users could be adding multiple songs to their genre-themed playlists that simply do not fit in, and they might not realize until they listen through a few times, or they might not notice at all. By the time they realize their playlist isn't cohesive, they could have too many songs to sift through and eliminate.\n",
    "\n",
    "There are several questions we might investigate related to these issues:\n",
    "- Can we determine which features about a song are most important in it being recommended for a playlist?\n",
    "- Can we provide a \"score\" value so that we can compare two or more songs being considered for the playlist?\n",
    "- Can we provide a measurement of the cohesiveness of the playlist?\n",
    "  - Can we categorize the genre(s) of the playlist? This is related to above because it is likely that a playlist that is predominantly of one genre is likely more \"cohesive\" than a playlist with many different genres."
   ]
  },
  {
   "cell_type": "markdown",
   "id": "9e0bf8d3",
   "metadata": {},
   "source": [
    "## Data Source\n",
    "\n",
    "For this project, I will be using the Spotify API. I may find multiple public existing playlists within Spotify and perhaps also use the playlists from my group members. The [documentation suggests](https://developer.spotify.com/documentation/web-api/reference/get-recommendations) that I can find the recommendations for a given set of songs, which will come in handy. The data will consist of information about each song in each playlist, including the audio features and the genres of each song, as well as the same features for the recommendations. I have had a bit of trouble accessing the API with my own credentials (rather than the Professor's), so I will have to troubleshoot and make sure I am able to properly use the API. There is a rate limit on the Spotify API, so perhaps that is the issue. After retreiving the data from each song's URI, the data will be cleaned and made into a Dataframe to display only the necessary information (song title, id, artist, genre, and other audio stats about the song). Charts and graphs will also be made to display the state of the playlist."
   ]
  },
  {
   "cell_type": "markdown",
   "id": "6aa7f355",
   "metadata": {},
   "source": [
    "## Usage of Data\n",
    "\n",
    "Once the data is cleaned and visualized, the data will be used to try to answer the questions defined above. While we have not covered many machine learning models in class, I did a little bit of research into the possibilities and think that there are both classification and regression models that could be used, as well as considering how I could answer the questions with basic numeric summaries. For example:\n",
    "\n",
    "- To determine which features about a song are most important in it being recommended, I might look at the correlation in audio features among recommended songs. If there are strong positive and/or negative correlations, it suggests those features might be more important than if there are no correlations.\n",
    "- I could use the track's popularity as a response variable and use regression to predict a recommended tracks popularity based on their audio features. This might help build a model that can predict a track's score for comparison purposes (though a track's popularity may not be the best representation...)\n",
    "- To determine whether a playlist is cohesive or not, I could potentially use classification to classify playlists as \"cohesive\" or \"not cohesive\", though this would require me going in and labeling playlists as such (a subjective measure). Or, I could investigate clustering (not covered in class) to see what the optimal number of clusters are for a given playlist, and then use the number of optimal clusters as a measure of cohesiveness (so; for example, if the number of optimal clusters is 1 or 2, I could label the playlist as \"cohesive\" and if it's more than 2, I could label it as \"not cohesive\", and then continue with the classification).\n",
    "  - I could do something similar, trying to classify the predominant genre in the playlist based on audio features (and, thus, recommend more songs from that genre to make the playlist more cohesive). This may be easier, though I'm not sure, because it is easy to measure what the predominant genre is in the existing playlists."
   ]
  }
 ],
 "metadata": {
  "kernelspec": {
   "display_name": "Python 3 (ipykernel)",
   "language": "python",
   "name": "python3"
  },
  "language_info": {
   "codemirror_mode": {
    "name": "ipython",
    "version": 3
   },
   "file_extension": ".py",
   "mimetype": "text/x-python",
   "name": "python",
   "nbconvert_exporter": "python",
   "pygments_lexer": "ipython3",
   "version": "3.10.13"
  }
 },
 "nbformat": 4,
 "nbformat_minor": 5
}
