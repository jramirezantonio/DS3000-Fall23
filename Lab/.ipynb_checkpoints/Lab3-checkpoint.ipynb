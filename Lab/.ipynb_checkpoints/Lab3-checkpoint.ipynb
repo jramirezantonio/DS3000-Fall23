{
 "cells": [
  {
   "cell_type": "markdown",
   "id": "e52a63c5-8632-42cf-a598-1f9b9fcf118e",
   "metadata": {},
   "source": [
    "# Lab 3 (Due @ by 11:59 pm via Canvas/Gradescope)"
   ]
  },
  {
   "cell_type": "markdown",
   "id": "036f3831-9eab-4c04-a0e5-dbe043d32320",
   "metadata": {},
   "source": [
    "Due: Tuesday Nov 7 @ 11:59 PM EST\n",
    "\n",
    "### Submission Instructions\n",
    "Submit this `ipynb` file to Gradescope (this can also be done via the assignment on Canvas).  To ensure that your submitted `ipynb` file represents your latest code, make sure to give a fresh `Kernel > Restart & Run All` just before uploading the `ipynb` file to gradescope.\n",
    "\n",
    "### Group Work\n",
    "\n",
    "You are encouraged to work in groups for this Lab, however each student should submit their own notebook file to Gradescope. While each Part of the Lab depends on previous parts, talking through the problem with your group should help speed up both understanding and arriving at a solution. "
   ]
  },
  {
   "cell_type": "code",
   "execution_count": 1,
   "id": "128c2500-de83-4732-a3ac-78ccdd6094f2",
   "metadata": {},
   "outputs": [],
   "source": [
    "# you might use the below modules on this lab\n",
    "import warnings\n",
    "warnings.simplefilter(action='ignore', category=FutureWarning)\n",
    "\n",
    "import requests\n",
    "import pandas as pd\n",
    "import numpy as np\n",
    "import matplotlib.pyplot as plt\n",
    "import seaborn as sns\n",
    "import plotly.express as px\n",
    "import scipy.stats as stats\n",
    "import pylab as py"
   ]
  },
  {
   "cell_type": "markdown",
   "id": "d197c58c-8285-446e-bb07-347de63ce276",
   "metadata": {},
   "source": [
    "## Part 1: Exploring Data and Defining a Question (20 points)\n",
    "\n",
    "For this lab, you will use the data from our [DS 3000 Spotify Playlist](https://open.spotify.com/playlist/6Bl2siSxFI0mmdzOwy562o). A data set containing the first 100 songs is on Canvas, in the labs module, called `spotify100.csv`. This is the data set we'll be using for the entirety of the lab. In this first part, you must:\n",
    "\n",
    "1. Read in the data and print the first few rows.\n",
    "2. Choose, either on your own or via discussion with your classmates, **one numeric feature** that you are interested in predicting with **one other numeric feature**.\n",
    "3. Generate a scatterplot that examines the relationship between two numeric features you chose, making sure it is labelled correctly and that the features are on the appropriate axis.\n",
    "4. Discuss **in a markdown cell**, *why* you chose these features, which one you are predicting (the outcome) and which one you are predicting with (the input), **and** based on the scatterplot, your intuition as to whether a simple linear regression model will be (a) appropriate and (b) a good fit to the data.\n",
    "5. Formally define, **in a markdown cell, using $\\LaTeX$ typesetting** the mathematical notation for the simple linear regression model."
   ]
  },
  {
   "cell_type": "code",
   "execution_count": 4,
   "id": "9edb4e1d-4e41-4072-a09f-dc12f6719a7d",
   "metadata": {},
   "outputs": [
    {
     "data": {
      "text/html": [
       "<div>\n",
       "<style scoped>\n",
       "    .dataframe tbody tr th:only-of-type {\n",
       "        vertical-align: middle;\n",
       "    }\n",
       "\n",
       "    .dataframe tbody tr th {\n",
       "        vertical-align: top;\n",
       "    }\n",
       "\n",
       "    .dataframe thead th {\n",
       "        text-align: right;\n",
       "    }\n",
       "</style>\n",
       "<table border=\"1\" class=\"dataframe\">\n",
       "  <thead>\n",
       "    <tr style=\"text-align: right;\">\n",
       "      <th></th>\n",
       "      <th>danceability</th>\n",
       "      <th>energy</th>\n",
       "      <th>key</th>\n",
       "      <th>loudness</th>\n",
       "      <th>mode</th>\n",
       "      <th>speechiness</th>\n",
       "      <th>acousticness</th>\n",
       "      <th>instrumentalness</th>\n",
       "      <th>liveness</th>\n",
       "      <th>valence</th>\n",
       "      <th>tempo</th>\n",
       "      <th>track_href</th>\n",
       "      <th>duration_ms</th>\n",
       "      <th>song_title</th>\n",
       "      <th>artist_name</th>\n",
       "    </tr>\n",
       "  </thead>\n",
       "  <tbody>\n",
       "    <tr>\n",
       "      <th>0</th>\n",
       "      <td>0.631</td>\n",
       "      <td>0.605</td>\n",
       "      <td>0</td>\n",
       "      <td>-8.730</td>\n",
       "      <td>1</td>\n",
       "      <td>0.0386</td>\n",
       "      <td>0.45300</td>\n",
       "      <td>0.000184</td>\n",
       "      <td>0.2910</td>\n",
       "      <td>0.250</td>\n",
       "      <td>115.281</td>\n",
       "      <td>https://api.spotify.com/v1/tracks/4LVDnRxfljiE...</td>\n",
       "      <td>295293</td>\n",
       "      <td>Pursuit Of Happiness (nightmare)</td>\n",
       "      <td>Kid Cudi</td>\n",
       "    </tr>\n",
       "    <tr>\n",
       "      <th>1</th>\n",
       "      <td>0.531</td>\n",
       "      <td>0.766</td>\n",
       "      <td>8</td>\n",
       "      <td>-7.692</td>\n",
       "      <td>1</td>\n",
       "      <td>0.0582</td>\n",
       "      <td>0.00560</td>\n",
       "      <td>0.000000</td>\n",
       "      <td>0.2010</td>\n",
       "      <td>0.532</td>\n",
       "      <td>130.048</td>\n",
       "      <td>https://api.spotify.com/v1/tracks/1rS3J4u1G8f6...</td>\n",
       "      <td>179493</td>\n",
       "      <td>I Found A Way</td>\n",
       "      <td>Drake Bell</td>\n",
       "    </tr>\n",
       "    <tr>\n",
       "      <th>2</th>\n",
       "      <td>0.561</td>\n",
       "      <td>0.965</td>\n",
       "      <td>7</td>\n",
       "      <td>-3.673</td>\n",
       "      <td>0</td>\n",
       "      <td>0.0343</td>\n",
       "      <td>0.00383</td>\n",
       "      <td>0.000007</td>\n",
       "      <td>0.3710</td>\n",
       "      <td>0.304</td>\n",
       "      <td>128.040</td>\n",
       "      <td>https://api.spotify.com/v1/tracks/4uUG5RXrOk84...</td>\n",
       "      <td>175238</td>\n",
       "      <td>I'm Good (Blue)</td>\n",
       "      <td>David Guetta</td>\n",
       "    </tr>\n",
       "    <tr>\n",
       "      <th>3</th>\n",
       "      <td>0.620</td>\n",
       "      <td>0.712</td>\n",
       "      <td>9</td>\n",
       "      <td>-6.434</td>\n",
       "      <td>1</td>\n",
       "      <td>0.1000</td>\n",
       "      <td>0.22800</td>\n",
       "      <td>0.000003</td>\n",
       "      <td>0.0561</td>\n",
       "      <td>0.830</td>\n",
       "      <td>170.234</td>\n",
       "      <td>https://api.spotify.com/v1/tracks/4dRqYKhLVujx...</td>\n",
       "      <td>268600</td>\n",
       "      <td>This Life</td>\n",
       "      <td>Vampire Weekend</td>\n",
       "    </tr>\n",
       "    <tr>\n",
       "      <th>4</th>\n",
       "      <td>0.787</td>\n",
       "      <td>0.655</td>\n",
       "      <td>6</td>\n",
       "      <td>-8.339</td>\n",
       "      <td>0</td>\n",
       "      <td>0.0431</td>\n",
       "      <td>0.23800</td>\n",
       "      <td>0.000171</td>\n",
       "      <td>0.1380</td>\n",
       "      <td>0.650</td>\n",
       "      <td>102.485</td>\n",
       "      <td>https://api.spotify.com/v1/tracks/6shRGWCtBUOP...</td>\n",
       "      <td>208653</td>\n",
       "      <td>Upside Down</td>\n",
       "      <td>Jack Johnson</td>\n",
       "    </tr>\n",
       "  </tbody>\n",
       "</table>\n",
       "</div>"
      ],
      "text/plain": [
       "   danceability  energy  key  loudness  mode  speechiness  acousticness  \\\n",
       "0         0.631   0.605    0    -8.730     1       0.0386       0.45300   \n",
       "1         0.531   0.766    8    -7.692     1       0.0582       0.00560   \n",
       "2         0.561   0.965    7    -3.673     0       0.0343       0.00383   \n",
       "3         0.620   0.712    9    -6.434     1       0.1000       0.22800   \n",
       "4         0.787   0.655    6    -8.339     0       0.0431       0.23800   \n",
       "\n",
       "   instrumentalness  liveness  valence    tempo  \\\n",
       "0          0.000184    0.2910    0.250  115.281   \n",
       "1          0.000000    0.2010    0.532  130.048   \n",
       "2          0.000007    0.3710    0.304  128.040   \n",
       "3          0.000003    0.0561    0.830  170.234   \n",
       "4          0.000171    0.1380    0.650  102.485   \n",
       "\n",
       "                                          track_href  duration_ms  \\\n",
       "0  https://api.spotify.com/v1/tracks/4LVDnRxfljiE...       295293   \n",
       "1  https://api.spotify.com/v1/tracks/1rS3J4u1G8f6...       179493   \n",
       "2  https://api.spotify.com/v1/tracks/4uUG5RXrOk84...       175238   \n",
       "3  https://api.spotify.com/v1/tracks/4dRqYKhLVujx...       268600   \n",
       "4  https://api.spotify.com/v1/tracks/6shRGWCtBUOP...       208653   \n",
       "\n",
       "                         song_title      artist_name  \n",
       "0  Pursuit Of Happiness (nightmare)         Kid Cudi  \n",
       "1                     I Found A Way       Drake Bell  \n",
       "2                   I'm Good (Blue)     David Guetta  \n",
       "3                         This Life  Vampire Weekend  \n",
       "4                       Upside Down     Jack Johnson  "
      ]
     },
     "execution_count": 4,
     "metadata": {},
     "output_type": "execute_result"
    }
   ],
   "source": [
    "spotify_data = 'spotify100.csv'\n",
    "spotify_df = pd.read_csv(spotify_data)\n",
    "spotify_df.head()"
   ]
  },
  {
   "cell_type": "code",
   "execution_count": 11,
   "id": "ba06d8aa-ee3f-42ef-8f2e-647a8cf98a94",
   "metadata": {},
   "outputs": [
    {
     "data": {
      "application/vnd.plotly.v1+json": {
       "config": {
        "plotlyServerURL": "https://plot.ly"
       },
       "data": [
        {
         "customdata": [
          [
           "Kid Cudi",
           "Pursuit Of Happiness (nightmare)"
          ],
          [
           "Drake Bell",
           "I Found A Way"
          ],
          [
           "David Guetta",
           "I'm Good (Blue)"
          ],
          [
           "Vampire Weekend",
           "This Life"
          ],
          [
           "Jack Johnson",
           "Upside Down"
          ],
          [
           "mxmtoon",
           "quiet motions"
          ],
          [
           "Cast - Liv and Maddie",
           "Better in Stereo - Theme Song Version"
          ],
          [
           "Thundercat",
           "Them Changes"
          ],
          [
           "Joe Hisaishi",
           "Merry-Go-Round of Life - from 'Howl's Moving Castle'"
          ],
          [
           "Taylor Swift",
           "august"
          ],
          [
           "Rick Astley",
           "Never Gonna Give You Up"
          ],
          [
           "MicroDragon",
           "Bill Nye The Science Guy"
          ],
          [
           "Inhaler",
           "These Are The Days"
          ],
          [
           "Mac Miller",
           "The Spins"
          ],
          [
           "Fall Out Boy",
           "We Didn’t Start The Fire"
          ],
          [
           "Tame Impala",
           "One More Year"
          ],
          [
           "Dominic Fike",
           "Dancing In The Courthouse"
          ],
          [
           "Amaarae",
           "SAD GIRLZ LUV MONEY Remix (feat. Kali Uchis and Moliy)"
          ],
          [
           "Vaundy",
           "life hack"
          ],
          [
           "RAYE",
           "Escapism."
          ],
          [
           "Rose Betts",
           "Driving Myself Home"
          ],
          [
           "Jonathan Wolff",
           "Seinfeld Theme"
          ],
          [
           "Billy Joel",
           "Vienna"
          ],
          [
           "Kanye West",
           "I Wonder"
          ],
          [
           "The Front Bottoms",
           "Peace Sign"
          ],
          [
           "Doja Cat",
           "Boss Bitch"
          ],
          [
           "(G)I-DLE",
           "Queencard"
          ],
          [
           "Steve Jablonsky",
           "Friday The 13th Main Theme (feat. Jason Voorhees) - From Friday The 13th"
          ],
          [
           "Frank Ocean",
           "Pink + White"
          ],
          [
           "will.i.am",
           "Hot Wings (I Wanna Party)"
          ],
          [
           "Pharrell Williams",
           "Happy"
          ],
          [
           "Drake",
           "Sticky"
          ],
          [
           "Led Zeppelin",
           "D'yer Mak'er - Remaster"
          ],
          [
           "Will Smith",
           "Gettin' Jiggy Wit It"
          ],
          [
           "Lana Del Rey",
           "Happiness is a butterfly"
          ],
          [
           "it's murph",
           "Food for the Soul"
          ],
          [
           "bunny pineda",
           "Loud And Fast"
          ],
          [
           "Zach Bryan",
           "Heading South"
          ],
          [
           "Paul Simon",
           "The Coast"
          ],
          [
           "Canned Heat",
           "Going Up The Country"
          ],
          [
           "Faces",
           "Ooh La La"
          ],
          [
           "carwash",
           "striptease"
          ],
          [
           "Bruno Mars",
           "Finesse"
          ],
          [
           "Giveon",
           "july 16th"
          ],
          [
           "Rascal Flatts",
           "Life is a Highway"
          ],
          [
           "Justin Timberlake",
           "CAN'T STOP THE FEELING! (from DreamWorks Animation's \"TROLLS\")"
          ],
          [
           "John Coltrane",
           "Giant Steps - 2020 Remaster"
          ],
          [
           "The Rembrandts",
           "I'll Be There for You - Theme From \"Friends\""
          ],
          [
           "上海アリス幻樂団",
           "ハートフェルトファンシー"
          ],
          [
           "Kinneret",
           "No Wind Resistance!"
          ],
          [
           "Pink Floyd",
           "Breathe (In the Air)"
          ],
          [
           "Mac DeMarco",
           "Chamber Of Reflection"
          ],
          [
           "Kid Cudi",
           "Day ‘n’ Nite"
          ],
          [
           "Lorenzo Ferrara",
           "Girei (Pain's Theme)"
          ],
          [
           "P!nk",
           "Hustle"
          ],
          [
           "Kanye West",
           "All Of The Lights"
          ],
          [
           "Yoko",
           "ブルーアーカイブ (Blue Archive OST 59 Soundtrack)"
          ],
          [
           "Deftones",
           "Cherry Waves"
          ],
          [
           "Taylor Swift",
           "Wildest Dreams"
          ],
          [
           "Pharrell Williams",
           "That Girl"
          ],
          [
           "The Neighbourhood",
           "Stargazing"
          ],
          [
           "Dua Lipa",
           "Future Nostalgia"
          ],
          [
           "Ethel Cain",
           "American Teenager"
          ],
          [
           "Red Hot Chili Peppers",
           "Road Trippin'"
          ],
          [
           "Julie Andrews",
           "My Favorite Things"
          ],
          [
           "Empire of the Sun",
           "Walking On A Dream"
          ],
          [
           "Dua Lipa",
           "Levitating"
          ],
          [
           "Blood Orange",
           "Champagne Coast"
          ],
          [
           "Cyndi Lauper",
           "Time After Time"
          ],
          [
           "Aliotta Haynes Jeremiah",
           "Lake Shore Drive"
          ],
          [
           "Worn-Tin",
           "Bitter"
          ],
          [
           "Shelly",
           "Natural"
          ],
          [
           "Justin Timberlake",
           "Suit & Tie (feat. Jay-Z)"
          ],
          [
           "Taylor Swift",
           "You're On Your Own, Kid"
          ],
          [
           "Rema",
           "Calm Down"
          ],
          [
           "The Rocket Summer",
           "Break It Out"
          ],
          [
           "Goth Babe",
           "Alone in the Mountains"
          ],
          [
           "Ritt Momney",
           "Put Your Records On"
          ],
          [
           "The Backseat Lovers",
           "Out of Tune"
          ],
          [
           "Mike Posner",
           "I Took A Pill In Ibiza - Seeb Remix"
          ],
          [
           "BTS",
           "Take Two"
          ],
          [
           "Tevvez",
           "Pressure"
          ],
          [
           "John Lennon",
           "Imagine - Remastered 2010"
          ],
          [
           "Sarah Kinsley",
           "The King"
          ],
          [
           "ABBA",
           "Honey, Honey"
          ],
          [
           "Christina Milian",
           "Call Me, Beep Me! (The Kim Possible Song)"
          ],
          [
           "Mac Miller",
           "Good News"
          ],
          [
           "Nicholas Britell",
           "Succession (Main Title Theme)"
          ],
          [
           "Noah Kahan",
           "All My Love"
          ],
          [
           "Wolf Alice",
           "Don't Delete The Kisses"
          ],
          [
           "Khalid",
           "Bad Luck"
          ],
          [
           "Kanye West",
           "Homecoming"
          ],
          [
           "Dreamcatcher",
           "BONVOYAGE"
          ],
          [
           "LAVE",
           "Washed Wine"
          ],
          [
           "Blur",
           "Song 2"
          ],
          [
           "Lord Kael",
           "Sweetly"
          ],
          [
           "Eurythmics",
           "Sweet Dreams (Are Made of This) - Remastered"
          ],
          [
           "Kanye West",
           "Good Life"
          ],
          [
           "Surfaces",
           "Sunday Best"
          ],
          [
           "Frank Sinatra",
           "That's Life"
          ]
         ],
         "hovertemplate": "acousticness=%{x}<br>loudness=%{y}<br>artist_name=%{customdata[0]}<br>song_title=%{customdata[1]}<extra></extra>",
         "legendgroup": "",
         "marker": {
          "color": "#636efa",
          "symbol": "circle"
         },
         "mode": "markers",
         "name": "",
         "orientation": "v",
         "showlegend": false,
         "type": "scatter",
         "x": [
          0.453,
          0.0056,
          0.00383,
          0.228,
          0.238,
          0.309,
          0.222,
          0.54,
          0.876,
          0.538,
          0.115,
          0.0207,
          0.00935,
          0.0135,
          0.00139,
          0.057,
          0.187,
          0.433,
          0.0233,
          0.138,
          0.73,
          0.208,
          0.659,
          0.125,
          0.00161,
          0.127,
          0.0327,
          0.245,
          0.667,
          0.00507,
          0.726,
          0.13,
          0.262,
          0.0175,
          0.969,
          0.0512,
          0.138,
          0.783,
          0.864,
          0.806,
          0.579,
          0.124,
          0.00781,
          0.931,
          0.00324,
          0.0111,
          0.186,
          0.0717,
          0.354,
          0.234,
          0.389,
          0.262,
          0.753,
          0.881,
          0.0802,
          0.0796,
          0.000286,
          0.000362,
          0.0702,
          0.311,
          0.00304,
          0.00618,
          0.00305,
          0.28,
          0.87,
          0.257,
          0.0561,
          0.0203,
          0.487,
          0.204,
          0.463,
          0.429,
          0.103,
          0.401,
          0.365,
          0.0186,
          0.159,
          0.0563,
          0.0111,
          0.0353,
          0.0268,
          0.00318,
          0.907,
          0.078,
          0.309,
          0.089,
          0.853,
          0.000226,
          0.32,
          0.0011,
          0.277,
          0.337,
          0.00417,
          0.00644,
          0.00188,
          0.612,
          0.225,
          0.00305,
          0.183,
          0.55
         ],
         "xaxis": "x",
         "y": [
          -8.73,
          -7.692,
          -3.673,
          -6.434,
          -8.339,
          -8.287,
          -3.469,
          -8.6,
          -12.565,
          -9.208,
          -11.823,
          -7.769,
          -5.64,
          -3.894,
          -4.084,
          -5.414,
          -4.479,
          -8.052,
          -5.987,
          -5.355,
          -5.57,
          -10.339,
          -6.662,
          -8.562,
          -5.119,
          -4.593,
          -2.828,
          -15.266,
          -7.362,
          -6.386,
          -18.813,
          -14.779,
          -8.56,
          -4.505,
          -10.99,
          -7.78,
          -7.3,
          -14.112,
          -14.987,
          -18.54,
          -8.166,
          -8.887,
          -5.342,
          -13.034,
          -3.848,
          -8.215,
          -13.046,
          -5.903,
          -7.625,
          -12.199,
          -15.142,
          -8.678,
          -5.791,
          -14.152,
          -5.138,
          -3.284,
          -3.676,
          -3.663,
          -7.414,
          -5.588,
          -7.798,
          -4.502,
          -5.008,
          -8.202,
          -12.472,
          -5.594,
          -2.278,
          -12.626,
          -9.206,
          -7.367,
          -5.899,
          -10.241,
          -3.799,
          -10.289,
          -6.29,
          -1.893,
          -9.894,
          -10.778,
          -8.621,
          -6.645,
          -5.978,
          -8.127,
          -12.358,
          -6.196,
          -7.763,
          -5.027,
          -12.92,
          -6.369,
          -7.089,
          -6.259,
          -5.515,
          -7.059,
          -3.915,
          -5.428,
          -6.736,
          -13.28,
          -7.498,
          -6.881,
          -6.832,
          -14.151
         ],
         "yaxis": "y"
        }
       ],
       "layout": {
        "legend": {
         "tracegroupgap": 0
        },
        "margin": {
         "t": 60
        },
        "template": {
         "data": {
          "bar": [
           {
            "error_x": {
             "color": "#2a3f5f"
            },
            "error_y": {
             "color": "#2a3f5f"
            },
            "marker": {
             "line": {
              "color": "#E5ECF6",
              "width": 0.5
             },
             "pattern": {
              "fillmode": "overlay",
              "size": 10,
              "solidity": 0.2
             }
            },
            "type": "bar"
           }
          ],
          "barpolar": [
           {
            "marker": {
             "line": {
              "color": "#E5ECF6",
              "width": 0.5
             },
             "pattern": {
              "fillmode": "overlay",
              "size": 10,
              "solidity": 0.2
             }
            },
            "type": "barpolar"
           }
          ],
          "carpet": [
           {
            "aaxis": {
             "endlinecolor": "#2a3f5f",
             "gridcolor": "white",
             "linecolor": "white",
             "minorgridcolor": "white",
             "startlinecolor": "#2a3f5f"
            },
            "baxis": {
             "endlinecolor": "#2a3f5f",
             "gridcolor": "white",
             "linecolor": "white",
             "minorgridcolor": "white",
             "startlinecolor": "#2a3f5f"
            },
            "type": "carpet"
           }
          ],
          "choropleth": [
           {
            "colorbar": {
             "outlinewidth": 0,
             "ticks": ""
            },
            "type": "choropleth"
           }
          ],
          "contour": [
           {
            "colorbar": {
             "outlinewidth": 0,
             "ticks": ""
            },
            "colorscale": [
             [
              0,
              "#0d0887"
             ],
             [
              0.1111111111111111,
              "#46039f"
             ],
             [
              0.2222222222222222,
              "#7201a8"
             ],
             [
              0.3333333333333333,
              "#9c179e"
             ],
             [
              0.4444444444444444,
              "#bd3786"
             ],
             [
              0.5555555555555556,
              "#d8576b"
             ],
             [
              0.6666666666666666,
              "#ed7953"
             ],
             [
              0.7777777777777778,
              "#fb9f3a"
             ],
             [
              0.8888888888888888,
              "#fdca26"
             ],
             [
              1,
              "#f0f921"
             ]
            ],
            "type": "contour"
           }
          ],
          "contourcarpet": [
           {
            "colorbar": {
             "outlinewidth": 0,
             "ticks": ""
            },
            "type": "contourcarpet"
           }
          ],
          "heatmap": [
           {
            "colorbar": {
             "outlinewidth": 0,
             "ticks": ""
            },
            "colorscale": [
             [
              0,
              "#0d0887"
             ],
             [
              0.1111111111111111,
              "#46039f"
             ],
             [
              0.2222222222222222,
              "#7201a8"
             ],
             [
              0.3333333333333333,
              "#9c179e"
             ],
             [
              0.4444444444444444,
              "#bd3786"
             ],
             [
              0.5555555555555556,
              "#d8576b"
             ],
             [
              0.6666666666666666,
              "#ed7953"
             ],
             [
              0.7777777777777778,
              "#fb9f3a"
             ],
             [
              0.8888888888888888,
              "#fdca26"
             ],
             [
              1,
              "#f0f921"
             ]
            ],
            "type": "heatmap"
           }
          ],
          "heatmapgl": [
           {
            "colorbar": {
             "outlinewidth": 0,
             "ticks": ""
            },
            "colorscale": [
             [
              0,
              "#0d0887"
             ],
             [
              0.1111111111111111,
              "#46039f"
             ],
             [
              0.2222222222222222,
              "#7201a8"
             ],
             [
              0.3333333333333333,
              "#9c179e"
             ],
             [
              0.4444444444444444,
              "#bd3786"
             ],
             [
              0.5555555555555556,
              "#d8576b"
             ],
             [
              0.6666666666666666,
              "#ed7953"
             ],
             [
              0.7777777777777778,
              "#fb9f3a"
             ],
             [
              0.8888888888888888,
              "#fdca26"
             ],
             [
              1,
              "#f0f921"
             ]
            ],
            "type": "heatmapgl"
           }
          ],
          "histogram": [
           {
            "marker": {
             "pattern": {
              "fillmode": "overlay",
              "size": 10,
              "solidity": 0.2
             }
            },
            "type": "histogram"
           }
          ],
          "histogram2d": [
           {
            "colorbar": {
             "outlinewidth": 0,
             "ticks": ""
            },
            "colorscale": [
             [
              0,
              "#0d0887"
             ],
             [
              0.1111111111111111,
              "#46039f"
             ],
             [
              0.2222222222222222,
              "#7201a8"
             ],
             [
              0.3333333333333333,
              "#9c179e"
             ],
             [
              0.4444444444444444,
              "#bd3786"
             ],
             [
              0.5555555555555556,
              "#d8576b"
             ],
             [
              0.6666666666666666,
              "#ed7953"
             ],
             [
              0.7777777777777778,
              "#fb9f3a"
             ],
             [
              0.8888888888888888,
              "#fdca26"
             ],
             [
              1,
              "#f0f921"
             ]
            ],
            "type": "histogram2d"
           }
          ],
          "histogram2dcontour": [
           {
            "colorbar": {
             "outlinewidth": 0,
             "ticks": ""
            },
            "colorscale": [
             [
              0,
              "#0d0887"
             ],
             [
              0.1111111111111111,
              "#46039f"
             ],
             [
              0.2222222222222222,
              "#7201a8"
             ],
             [
              0.3333333333333333,
              "#9c179e"
             ],
             [
              0.4444444444444444,
              "#bd3786"
             ],
             [
              0.5555555555555556,
              "#d8576b"
             ],
             [
              0.6666666666666666,
              "#ed7953"
             ],
             [
              0.7777777777777778,
              "#fb9f3a"
             ],
             [
              0.8888888888888888,
              "#fdca26"
             ],
             [
              1,
              "#f0f921"
             ]
            ],
            "type": "histogram2dcontour"
           }
          ],
          "mesh3d": [
           {
            "colorbar": {
             "outlinewidth": 0,
             "ticks": ""
            },
            "type": "mesh3d"
           }
          ],
          "parcoords": [
           {
            "line": {
             "colorbar": {
              "outlinewidth": 0,
              "ticks": ""
             }
            },
            "type": "parcoords"
           }
          ],
          "pie": [
           {
            "automargin": true,
            "type": "pie"
           }
          ],
          "scatter": [
           {
            "fillpattern": {
             "fillmode": "overlay",
             "size": 10,
             "solidity": 0.2
            },
            "type": "scatter"
           }
          ],
          "scatter3d": [
           {
            "line": {
             "colorbar": {
              "outlinewidth": 0,
              "ticks": ""
             }
            },
            "marker": {
             "colorbar": {
              "outlinewidth": 0,
              "ticks": ""
             }
            },
            "type": "scatter3d"
           }
          ],
          "scattercarpet": [
           {
            "marker": {
             "colorbar": {
              "outlinewidth": 0,
              "ticks": ""
             }
            },
            "type": "scattercarpet"
           }
          ],
          "scattergeo": [
           {
            "marker": {
             "colorbar": {
              "outlinewidth": 0,
              "ticks": ""
             }
            },
            "type": "scattergeo"
           }
          ],
          "scattergl": [
           {
            "marker": {
             "colorbar": {
              "outlinewidth": 0,
              "ticks": ""
             }
            },
            "type": "scattergl"
           }
          ],
          "scattermapbox": [
           {
            "marker": {
             "colorbar": {
              "outlinewidth": 0,
              "ticks": ""
             }
            },
            "type": "scattermapbox"
           }
          ],
          "scatterpolar": [
           {
            "marker": {
             "colorbar": {
              "outlinewidth": 0,
              "ticks": ""
             }
            },
            "type": "scatterpolar"
           }
          ],
          "scatterpolargl": [
           {
            "marker": {
             "colorbar": {
              "outlinewidth": 0,
              "ticks": ""
             }
            },
            "type": "scatterpolargl"
           }
          ],
          "scatterternary": [
           {
            "marker": {
             "colorbar": {
              "outlinewidth": 0,
              "ticks": ""
             }
            },
            "type": "scatterternary"
           }
          ],
          "surface": [
           {
            "colorbar": {
             "outlinewidth": 0,
             "ticks": ""
            },
            "colorscale": [
             [
              0,
              "#0d0887"
             ],
             [
              0.1111111111111111,
              "#46039f"
             ],
             [
              0.2222222222222222,
              "#7201a8"
             ],
             [
              0.3333333333333333,
              "#9c179e"
             ],
             [
              0.4444444444444444,
              "#bd3786"
             ],
             [
              0.5555555555555556,
              "#d8576b"
             ],
             [
              0.6666666666666666,
              "#ed7953"
             ],
             [
              0.7777777777777778,
              "#fb9f3a"
             ],
             [
              0.8888888888888888,
              "#fdca26"
             ],
             [
              1,
              "#f0f921"
             ]
            ],
            "type": "surface"
           }
          ],
          "table": [
           {
            "cells": {
             "fill": {
              "color": "#EBF0F8"
             },
             "line": {
              "color": "white"
             }
            },
            "header": {
             "fill": {
              "color": "#C8D4E3"
             },
             "line": {
              "color": "white"
             }
            },
            "type": "table"
           }
          ]
         },
         "layout": {
          "annotationdefaults": {
           "arrowcolor": "#2a3f5f",
           "arrowhead": 0,
           "arrowwidth": 1
          },
          "autotypenumbers": "strict",
          "coloraxis": {
           "colorbar": {
            "outlinewidth": 0,
            "ticks": ""
           }
          },
          "colorscale": {
           "diverging": [
            [
             0,
             "#8e0152"
            ],
            [
             0.1,
             "#c51b7d"
            ],
            [
             0.2,
             "#de77ae"
            ],
            [
             0.3,
             "#f1b6da"
            ],
            [
             0.4,
             "#fde0ef"
            ],
            [
             0.5,
             "#f7f7f7"
            ],
            [
             0.6,
             "#e6f5d0"
            ],
            [
             0.7,
             "#b8e186"
            ],
            [
             0.8,
             "#7fbc41"
            ],
            [
             0.9,
             "#4d9221"
            ],
            [
             1,
             "#276419"
            ]
           ],
           "sequential": [
            [
             0,
             "#0d0887"
            ],
            [
             0.1111111111111111,
             "#46039f"
            ],
            [
             0.2222222222222222,
             "#7201a8"
            ],
            [
             0.3333333333333333,
             "#9c179e"
            ],
            [
             0.4444444444444444,
             "#bd3786"
            ],
            [
             0.5555555555555556,
             "#d8576b"
            ],
            [
             0.6666666666666666,
             "#ed7953"
            ],
            [
             0.7777777777777778,
             "#fb9f3a"
            ],
            [
             0.8888888888888888,
             "#fdca26"
            ],
            [
             1,
             "#f0f921"
            ]
           ],
           "sequentialminus": [
            [
             0,
             "#0d0887"
            ],
            [
             0.1111111111111111,
             "#46039f"
            ],
            [
             0.2222222222222222,
             "#7201a8"
            ],
            [
             0.3333333333333333,
             "#9c179e"
            ],
            [
             0.4444444444444444,
             "#bd3786"
            ],
            [
             0.5555555555555556,
             "#d8576b"
            ],
            [
             0.6666666666666666,
             "#ed7953"
            ],
            [
             0.7777777777777778,
             "#fb9f3a"
            ],
            [
             0.8888888888888888,
             "#fdca26"
            ],
            [
             1,
             "#f0f921"
            ]
           ]
          },
          "colorway": [
           "#636efa",
           "#EF553B",
           "#00cc96",
           "#ab63fa",
           "#FFA15A",
           "#19d3f3",
           "#FF6692",
           "#B6E880",
           "#FF97FF",
           "#FECB52"
          ],
          "font": {
           "color": "#2a3f5f"
          },
          "geo": {
           "bgcolor": "white",
           "lakecolor": "white",
           "landcolor": "#E5ECF6",
           "showlakes": true,
           "showland": true,
           "subunitcolor": "white"
          },
          "hoverlabel": {
           "align": "left"
          },
          "hovermode": "closest",
          "mapbox": {
           "style": "light"
          },
          "paper_bgcolor": "white",
          "plot_bgcolor": "#E5ECF6",
          "polar": {
           "angularaxis": {
            "gridcolor": "white",
            "linecolor": "white",
            "ticks": ""
           },
           "bgcolor": "#E5ECF6",
           "radialaxis": {
            "gridcolor": "white",
            "linecolor": "white",
            "ticks": ""
           }
          },
          "scene": {
           "xaxis": {
            "backgroundcolor": "#E5ECF6",
            "gridcolor": "white",
            "gridwidth": 2,
            "linecolor": "white",
            "showbackground": true,
            "ticks": "",
            "zerolinecolor": "white"
           },
           "yaxis": {
            "backgroundcolor": "#E5ECF6",
            "gridcolor": "white",
            "gridwidth": 2,
            "linecolor": "white",
            "showbackground": true,
            "ticks": "",
            "zerolinecolor": "white"
           },
           "zaxis": {
            "backgroundcolor": "#E5ECF6",
            "gridcolor": "white",
            "gridwidth": 2,
            "linecolor": "white",
            "showbackground": true,
            "ticks": "",
            "zerolinecolor": "white"
           }
          },
          "shapedefaults": {
           "line": {
            "color": "#2a3f5f"
           }
          },
          "ternary": {
           "aaxis": {
            "gridcolor": "white",
            "linecolor": "white",
            "ticks": ""
           },
           "baxis": {
            "gridcolor": "white",
            "linecolor": "white",
            "ticks": ""
           },
           "bgcolor": "#E5ECF6",
           "caxis": {
            "gridcolor": "white",
            "linecolor": "white",
            "ticks": ""
           }
          },
          "title": {
           "x": 0.05
          },
          "xaxis": {
           "automargin": true,
           "gridcolor": "white",
           "linecolor": "white",
           "ticks": "",
           "title": {
            "standoff": 15
           },
           "zerolinecolor": "white",
           "zerolinewidth": 2
          },
          "yaxis": {
           "automargin": true,
           "gridcolor": "white",
           "linecolor": "white",
           "ticks": "",
           "title": {
            "standoff": 15
           },
           "zerolinecolor": "white",
           "zerolinewidth": 2
          }
         }
        },
        "xaxis": {
         "anchor": "y",
         "domain": [
          0,
          1
         ],
         "title": {
          "text": "acousticness"
         }
        },
        "yaxis": {
         "anchor": "x",
         "domain": [
          0,
          1
         ],
         "title": {
          "text": "loudness"
         }
        }
       }
      },
      "text/html": [
       "<div>                            <div id=\"172daaee-15e8-4c10-89ba-9671b3120629\" class=\"plotly-graph-div\" style=\"height:525px; width:100%;\"></div>            <script type=\"text/javascript\">                require([\"plotly\"], function(Plotly) {                    window.PLOTLYENV=window.PLOTLYENV || {};                                    if (document.getElementById(\"172daaee-15e8-4c10-89ba-9671b3120629\")) {                    Plotly.newPlot(                        \"172daaee-15e8-4c10-89ba-9671b3120629\",                        [{\"customdata\":[[\"Kid Cudi\",\"Pursuit Of Happiness (nightmare)\"],[\"Drake Bell\",\"I Found A Way\"],[\"David Guetta\",\"I'm Good (Blue)\"],[\"Vampire Weekend\",\"This Life\"],[\"Jack Johnson\",\"Upside Down\"],[\"mxmtoon\",\"quiet motions\"],[\"Cast - Liv and Maddie\",\"Better in Stereo - Theme Song Version\"],[\"Thundercat\",\"Them Changes\"],[\"Joe Hisaishi\",\"Merry-Go-Round of Life - from 'Howl's Moving Castle'\"],[\"Taylor Swift\",\"august\"],[\"Rick Astley\",\"Never Gonna Give You Up\"],[\"MicroDragon\",\"Bill Nye The Science Guy\"],[\"Inhaler\",\"These Are The Days\"],[\"Mac Miller\",\"The Spins\"],[\"Fall Out Boy\",\"We Didn\\u2019t Start The Fire\"],[\"Tame Impala\",\"One More Year\"],[\"Dominic Fike\",\"Dancing In The Courthouse\"],[\"Amaarae\",\"SAD GIRLZ LUV MONEY Remix (feat. Kali Uchis and Moliy)\"],[\"Vaundy\",\"life hack\"],[\"RAYE\",\"Escapism.\"],[\"Rose Betts\",\"Driving Myself Home\"],[\"Jonathan Wolff\",\"Seinfeld Theme\"],[\"Billy Joel\",\"Vienna\"],[\"Kanye West\",\"I Wonder\"],[\"The Front Bottoms\",\"Peace Sign\"],[\"Doja Cat\",\"Boss Bitch\"],[\"(G)I-DLE\",\"Queencard\"],[\"Steve Jablonsky\",\"Friday The 13th Main Theme (feat. Jason Voorhees) - From Friday The 13th\"],[\"Frank Ocean\",\"Pink + White\"],[\"will.i.am\",\"Hot Wings (I Wanna Party)\"],[\"Pharrell Williams\",\"Happy\"],[\"Drake\",\"Sticky\"],[\"Led Zeppelin\",\"D'yer Mak'er - Remaster\"],[\"Will Smith\",\"Gettin' Jiggy Wit It\"],[\"Lana Del Rey\",\"Happiness is a butterfly\"],[\"it's murph\",\"Food for the Soul\"],[\"bunny pineda\",\"Loud And Fast\"],[\"Zach Bryan\",\"Heading South\"],[\"Paul Simon\",\"The Coast\"],[\"Canned Heat\",\"Going Up The Country\"],[\"Faces\",\"Ooh La La\"],[\"carwash\",\"striptease\"],[\"Bruno Mars\",\"Finesse\"],[\"Giveon\",\"july 16th\"],[\"Rascal Flatts\",\"Life is a Highway\"],[\"Justin Timberlake\",\"CAN'T STOP THE FEELING! (from DreamWorks Animation's \\\"TROLLS\\\")\"],[\"John Coltrane\",\"Giant Steps - 2020 Remaster\"],[\"The Rembrandts\",\"I'll Be There for You - Theme From \\\"Friends\\\"\"],[\"\\u4e0a\\u6d77\\u30a2\\u30ea\\u30b9\\u5e7b\\u6a02\\u56e3\",\"\\u30cf\\u30fc\\u30c8\\u30d5\\u30a7\\u30eb\\u30c8\\u30d5\\u30a1\\u30f3\\u30b7\\u30fc\"],[\"Kinneret\",\"No Wind Resistance!\"],[\"Pink Floyd\",\"Breathe (In the Air)\"],[\"Mac DeMarco\",\"Chamber Of Reflection\"],[\"Kid Cudi\",\"Day \\u2018n\\u2019 Nite\"],[\"Lorenzo Ferrara\",\"Girei (Pain's Theme)\"],[\"P!nk\",\"Hustle\"],[\"Kanye West\",\"All Of The Lights\"],[\"Yoko\",\"\\u30d6\\u30eb\\u30fc\\u30a2\\u30fc\\u30ab\\u30a4\\u30d6 (Blue Archive OST 59 Soundtrack)\"],[\"Deftones\",\"Cherry Waves\"],[\"Taylor Swift\",\"Wildest Dreams\"],[\"Pharrell Williams\",\"That Girl\"],[\"The Neighbourhood\",\"Stargazing\"],[\"Dua Lipa\",\"Future Nostalgia\"],[\"Ethel Cain\",\"American Teenager\"],[\"Red Hot Chili Peppers\",\"Road Trippin'\"],[\"Julie Andrews\",\"My Favorite Things\"],[\"Empire of the Sun\",\"Walking On A Dream\"],[\"Dua Lipa\",\"Levitating\"],[\"Blood Orange\",\"Champagne Coast\"],[\"Cyndi Lauper\",\"Time After Time\"],[\"Aliotta Haynes Jeremiah\",\"Lake Shore Drive\"],[\"Worn-Tin\",\"Bitter\"],[\"Shelly\",\"Natural\"],[\"Justin Timberlake\",\"Suit & Tie (feat. Jay-Z)\"],[\"Taylor Swift\",\"You're On Your Own, Kid\"],[\"Rema\",\"Calm Down\"],[\"The Rocket Summer\",\"Break It Out\"],[\"Goth Babe\",\"Alone in the Mountains\"],[\"Ritt Momney\",\"Put Your Records On\"],[\"The Backseat Lovers\",\"Out of Tune\"],[\"Mike Posner\",\"I Took A Pill In Ibiza - Seeb Remix\"],[\"BTS\",\"Take Two\"],[\"Tevvez\",\"Pressure\"],[\"John Lennon\",\"Imagine - Remastered 2010\"],[\"Sarah Kinsley\",\"The King\"],[\"ABBA\",\"Honey, Honey\"],[\"Christina Milian\",\"Call Me, Beep Me! (The Kim Possible Song)\"],[\"Mac Miller\",\"Good News\"],[\"Nicholas Britell\",\"Succession (Main Title Theme)\"],[\"Noah Kahan\",\"All My Love\"],[\"Wolf Alice\",\"Don't Delete The Kisses\"],[\"Khalid\",\"Bad Luck\"],[\"Kanye West\",\"Homecoming\"],[\"Dreamcatcher\",\"BONVOYAGE\"],[\"LAVE\",\"Washed Wine\"],[\"Blur\",\"Song 2\"],[\"Lord Kael\",\"Sweetly\"],[\"Eurythmics\",\"Sweet Dreams (Are Made of This) - Remastered\"],[\"Kanye West\",\"Good Life\"],[\"Surfaces\",\"Sunday Best\"],[\"Frank Sinatra\",\"That's Life\"]],\"hovertemplate\":\"acousticness=%{x}<br>loudness=%{y}<br>artist_name=%{customdata[0]}<br>song_title=%{customdata[1]}<extra></extra>\",\"legendgroup\":\"\",\"marker\":{\"color\":\"#636efa\",\"symbol\":\"circle\"},\"mode\":\"markers\",\"name\":\"\",\"orientation\":\"v\",\"showlegend\":false,\"x\":[0.453,0.0056,0.00383,0.228,0.238,0.309,0.222,0.54,0.876,0.538,0.115,0.0207,0.00935,0.0135,0.00139,0.057,0.187,0.433,0.0233,0.138,0.73,0.208,0.659,0.125,0.00161,0.127,0.0327,0.245,0.667,0.00507,0.726,0.13,0.262,0.0175,0.969,0.0512,0.138,0.783,0.864,0.806,0.579,0.124,0.00781,0.931,0.00324,0.0111,0.186,0.0717,0.354,0.234,0.389,0.262,0.753,0.881,0.0802,0.0796,0.000286,0.000362,0.0702,0.311,0.00304,0.00618,0.00305,0.28,0.87,0.257,0.0561,0.0203,0.487,0.204,0.463,0.429,0.103,0.401,0.365,0.0186,0.159,0.0563,0.0111,0.0353,0.0268,0.00318,0.907,0.078,0.309,0.089,0.853,0.000226,0.32,0.0011,0.277,0.337,0.00417,0.00644,0.00188,0.612,0.225,0.00305,0.183,0.55],\"xaxis\":\"x\",\"y\":[-8.73,-7.692,-3.673,-6.434,-8.339,-8.287,-3.469,-8.6,-12.565,-9.208,-11.823,-7.769,-5.64,-3.894,-4.084,-5.414,-4.479,-8.052,-5.987,-5.355,-5.57,-10.339,-6.662,-8.562,-5.119,-4.593,-2.828,-15.266,-7.362,-6.386,-18.813,-14.779,-8.56,-4.505,-10.99,-7.78,-7.3,-14.112,-14.987,-18.54,-8.166,-8.887,-5.342,-13.034,-3.848,-8.215,-13.046,-5.903,-7.625,-12.199,-15.142,-8.678,-5.791,-14.152,-5.138,-3.284,-3.676,-3.663,-7.414,-5.588,-7.798,-4.502,-5.008,-8.202,-12.472,-5.594,-2.278,-12.626,-9.206,-7.367,-5.899,-10.241,-3.799,-10.289,-6.29,-1.893,-9.894,-10.778,-8.621,-6.645,-5.978,-8.127,-12.358,-6.196,-7.763,-5.027,-12.92,-6.369,-7.089,-6.259,-5.515,-7.059,-3.915,-5.428,-6.736,-13.28,-7.498,-6.881,-6.832,-14.151],\"yaxis\":\"y\",\"type\":\"scatter\"}],                        {\"template\":{\"data\":{\"histogram2dcontour\":[{\"type\":\"histogram2dcontour\",\"colorbar\":{\"outlinewidth\":0,\"ticks\":\"\"},\"colorscale\":[[0.0,\"#0d0887\"],[0.1111111111111111,\"#46039f\"],[0.2222222222222222,\"#7201a8\"],[0.3333333333333333,\"#9c179e\"],[0.4444444444444444,\"#bd3786\"],[0.5555555555555556,\"#d8576b\"],[0.6666666666666666,\"#ed7953\"],[0.7777777777777778,\"#fb9f3a\"],[0.8888888888888888,\"#fdca26\"],[1.0,\"#f0f921\"]]}],\"choropleth\":[{\"type\":\"choropleth\",\"colorbar\":{\"outlinewidth\":0,\"ticks\":\"\"}}],\"histogram2d\":[{\"type\":\"histogram2d\",\"colorbar\":{\"outlinewidth\":0,\"ticks\":\"\"},\"colorscale\":[[0.0,\"#0d0887\"],[0.1111111111111111,\"#46039f\"],[0.2222222222222222,\"#7201a8\"],[0.3333333333333333,\"#9c179e\"],[0.4444444444444444,\"#bd3786\"],[0.5555555555555556,\"#d8576b\"],[0.6666666666666666,\"#ed7953\"],[0.7777777777777778,\"#fb9f3a\"],[0.8888888888888888,\"#fdca26\"],[1.0,\"#f0f921\"]]}],\"heatmap\":[{\"type\":\"heatmap\",\"colorbar\":{\"outlinewidth\":0,\"ticks\":\"\"},\"colorscale\":[[0.0,\"#0d0887\"],[0.1111111111111111,\"#46039f\"],[0.2222222222222222,\"#7201a8\"],[0.3333333333333333,\"#9c179e\"],[0.4444444444444444,\"#bd3786\"],[0.5555555555555556,\"#d8576b\"],[0.6666666666666666,\"#ed7953\"],[0.7777777777777778,\"#fb9f3a\"],[0.8888888888888888,\"#fdca26\"],[1.0,\"#f0f921\"]]}],\"heatmapgl\":[{\"type\":\"heatmapgl\",\"colorbar\":{\"outlinewidth\":0,\"ticks\":\"\"},\"colorscale\":[[0.0,\"#0d0887\"],[0.1111111111111111,\"#46039f\"],[0.2222222222222222,\"#7201a8\"],[0.3333333333333333,\"#9c179e\"],[0.4444444444444444,\"#bd3786\"],[0.5555555555555556,\"#d8576b\"],[0.6666666666666666,\"#ed7953\"],[0.7777777777777778,\"#fb9f3a\"],[0.8888888888888888,\"#fdca26\"],[1.0,\"#f0f921\"]]}],\"contourcarpet\":[{\"type\":\"contourcarpet\",\"colorbar\":{\"outlinewidth\":0,\"ticks\":\"\"}}],\"contour\":[{\"type\":\"contour\",\"colorbar\":{\"outlinewidth\":0,\"ticks\":\"\"},\"colorscale\":[[0.0,\"#0d0887\"],[0.1111111111111111,\"#46039f\"],[0.2222222222222222,\"#7201a8\"],[0.3333333333333333,\"#9c179e\"],[0.4444444444444444,\"#bd3786\"],[0.5555555555555556,\"#d8576b\"],[0.6666666666666666,\"#ed7953\"],[0.7777777777777778,\"#fb9f3a\"],[0.8888888888888888,\"#fdca26\"],[1.0,\"#f0f921\"]]}],\"surface\":[{\"type\":\"surface\",\"colorbar\":{\"outlinewidth\":0,\"ticks\":\"\"},\"colorscale\":[[0.0,\"#0d0887\"],[0.1111111111111111,\"#46039f\"],[0.2222222222222222,\"#7201a8\"],[0.3333333333333333,\"#9c179e\"],[0.4444444444444444,\"#bd3786\"],[0.5555555555555556,\"#d8576b\"],[0.6666666666666666,\"#ed7953\"],[0.7777777777777778,\"#fb9f3a\"],[0.8888888888888888,\"#fdca26\"],[1.0,\"#f0f921\"]]}],\"mesh3d\":[{\"type\":\"mesh3d\",\"colorbar\":{\"outlinewidth\":0,\"ticks\":\"\"}}],\"scatter\":[{\"fillpattern\":{\"fillmode\":\"overlay\",\"size\":10,\"solidity\":0.2},\"type\":\"scatter\"}],\"parcoords\":[{\"type\":\"parcoords\",\"line\":{\"colorbar\":{\"outlinewidth\":0,\"ticks\":\"\"}}}],\"scatterpolargl\":[{\"type\":\"scatterpolargl\",\"marker\":{\"colorbar\":{\"outlinewidth\":0,\"ticks\":\"\"}}}],\"bar\":[{\"error_x\":{\"color\":\"#2a3f5f\"},\"error_y\":{\"color\":\"#2a3f5f\"},\"marker\":{\"line\":{\"color\":\"#E5ECF6\",\"width\":0.5},\"pattern\":{\"fillmode\":\"overlay\",\"size\":10,\"solidity\":0.2}},\"type\":\"bar\"}],\"scattergeo\":[{\"type\":\"scattergeo\",\"marker\":{\"colorbar\":{\"outlinewidth\":0,\"ticks\":\"\"}}}],\"scatterpolar\":[{\"type\":\"scatterpolar\",\"marker\":{\"colorbar\":{\"outlinewidth\":0,\"ticks\":\"\"}}}],\"histogram\":[{\"marker\":{\"pattern\":{\"fillmode\":\"overlay\",\"size\":10,\"solidity\":0.2}},\"type\":\"histogram\"}],\"scattergl\":[{\"type\":\"scattergl\",\"marker\":{\"colorbar\":{\"outlinewidth\":0,\"ticks\":\"\"}}}],\"scatter3d\":[{\"type\":\"scatter3d\",\"line\":{\"colorbar\":{\"outlinewidth\":0,\"ticks\":\"\"}},\"marker\":{\"colorbar\":{\"outlinewidth\":0,\"ticks\":\"\"}}}],\"scattermapbox\":[{\"type\":\"scattermapbox\",\"marker\":{\"colorbar\":{\"outlinewidth\":0,\"ticks\":\"\"}}}],\"scatterternary\":[{\"type\":\"scatterternary\",\"marker\":{\"colorbar\":{\"outlinewidth\":0,\"ticks\":\"\"}}}],\"scattercarpet\":[{\"type\":\"scattercarpet\",\"marker\":{\"colorbar\":{\"outlinewidth\":0,\"ticks\":\"\"}}}],\"carpet\":[{\"aaxis\":{\"endlinecolor\":\"#2a3f5f\",\"gridcolor\":\"white\",\"linecolor\":\"white\",\"minorgridcolor\":\"white\",\"startlinecolor\":\"#2a3f5f\"},\"baxis\":{\"endlinecolor\":\"#2a3f5f\",\"gridcolor\":\"white\",\"linecolor\":\"white\",\"minorgridcolor\":\"white\",\"startlinecolor\":\"#2a3f5f\"},\"type\":\"carpet\"}],\"table\":[{\"cells\":{\"fill\":{\"color\":\"#EBF0F8\"},\"line\":{\"color\":\"white\"}},\"header\":{\"fill\":{\"color\":\"#C8D4E3\"},\"line\":{\"color\":\"white\"}},\"type\":\"table\"}],\"barpolar\":[{\"marker\":{\"line\":{\"color\":\"#E5ECF6\",\"width\":0.5},\"pattern\":{\"fillmode\":\"overlay\",\"size\":10,\"solidity\":0.2}},\"type\":\"barpolar\"}],\"pie\":[{\"automargin\":true,\"type\":\"pie\"}]},\"layout\":{\"autotypenumbers\":\"strict\",\"colorway\":[\"#636efa\",\"#EF553B\",\"#00cc96\",\"#ab63fa\",\"#FFA15A\",\"#19d3f3\",\"#FF6692\",\"#B6E880\",\"#FF97FF\",\"#FECB52\"],\"font\":{\"color\":\"#2a3f5f\"},\"hovermode\":\"closest\",\"hoverlabel\":{\"align\":\"left\"},\"paper_bgcolor\":\"white\",\"plot_bgcolor\":\"#E5ECF6\",\"polar\":{\"bgcolor\":\"#E5ECF6\",\"angularaxis\":{\"gridcolor\":\"white\",\"linecolor\":\"white\",\"ticks\":\"\"},\"radialaxis\":{\"gridcolor\":\"white\",\"linecolor\":\"white\",\"ticks\":\"\"}},\"ternary\":{\"bgcolor\":\"#E5ECF6\",\"aaxis\":{\"gridcolor\":\"white\",\"linecolor\":\"white\",\"ticks\":\"\"},\"baxis\":{\"gridcolor\":\"white\",\"linecolor\":\"white\",\"ticks\":\"\"},\"caxis\":{\"gridcolor\":\"white\",\"linecolor\":\"white\",\"ticks\":\"\"}},\"coloraxis\":{\"colorbar\":{\"outlinewidth\":0,\"ticks\":\"\"}},\"colorscale\":{\"sequential\":[[0.0,\"#0d0887\"],[0.1111111111111111,\"#46039f\"],[0.2222222222222222,\"#7201a8\"],[0.3333333333333333,\"#9c179e\"],[0.4444444444444444,\"#bd3786\"],[0.5555555555555556,\"#d8576b\"],[0.6666666666666666,\"#ed7953\"],[0.7777777777777778,\"#fb9f3a\"],[0.8888888888888888,\"#fdca26\"],[1.0,\"#f0f921\"]],\"sequentialminus\":[[0.0,\"#0d0887\"],[0.1111111111111111,\"#46039f\"],[0.2222222222222222,\"#7201a8\"],[0.3333333333333333,\"#9c179e\"],[0.4444444444444444,\"#bd3786\"],[0.5555555555555556,\"#d8576b\"],[0.6666666666666666,\"#ed7953\"],[0.7777777777777778,\"#fb9f3a\"],[0.8888888888888888,\"#fdca26\"],[1.0,\"#f0f921\"]],\"diverging\":[[0,\"#8e0152\"],[0.1,\"#c51b7d\"],[0.2,\"#de77ae\"],[0.3,\"#f1b6da\"],[0.4,\"#fde0ef\"],[0.5,\"#f7f7f7\"],[0.6,\"#e6f5d0\"],[0.7,\"#b8e186\"],[0.8,\"#7fbc41\"],[0.9,\"#4d9221\"],[1,\"#276419\"]]},\"xaxis\":{\"gridcolor\":\"white\",\"linecolor\":\"white\",\"ticks\":\"\",\"title\":{\"standoff\":15},\"zerolinecolor\":\"white\",\"automargin\":true,\"zerolinewidth\":2},\"yaxis\":{\"gridcolor\":\"white\",\"linecolor\":\"white\",\"ticks\":\"\",\"title\":{\"standoff\":15},\"zerolinecolor\":\"white\",\"automargin\":true,\"zerolinewidth\":2},\"scene\":{\"xaxis\":{\"backgroundcolor\":\"#E5ECF6\",\"gridcolor\":\"white\",\"linecolor\":\"white\",\"showbackground\":true,\"ticks\":\"\",\"zerolinecolor\":\"white\",\"gridwidth\":2},\"yaxis\":{\"backgroundcolor\":\"#E5ECF6\",\"gridcolor\":\"white\",\"linecolor\":\"white\",\"showbackground\":true,\"ticks\":\"\",\"zerolinecolor\":\"white\",\"gridwidth\":2},\"zaxis\":{\"backgroundcolor\":\"#E5ECF6\",\"gridcolor\":\"white\",\"linecolor\":\"white\",\"showbackground\":true,\"ticks\":\"\",\"zerolinecolor\":\"white\",\"gridwidth\":2}},\"shapedefaults\":{\"line\":{\"color\":\"#2a3f5f\"}},\"annotationdefaults\":{\"arrowcolor\":\"#2a3f5f\",\"arrowhead\":0,\"arrowwidth\":1},\"geo\":{\"bgcolor\":\"white\",\"landcolor\":\"#E5ECF6\",\"subunitcolor\":\"white\",\"showland\":true,\"showlakes\":true,\"lakecolor\":\"white\"},\"title\":{\"x\":0.05},\"mapbox\":{\"style\":\"light\"}}},\"xaxis\":{\"anchor\":\"y\",\"domain\":[0.0,1.0],\"title\":{\"text\":\"acousticness\"}},\"yaxis\":{\"anchor\":\"x\",\"domain\":[0.0,1.0],\"title\":{\"text\":\"loudness\"}},\"legend\":{\"tracegroupgap\":0},\"margin\":{\"t\":60}},                        {\"responsive\": true}                    ).then(function(){\n",
       "                            \n",
       "var gd = document.getElementById('172daaee-15e8-4c10-89ba-9671b3120629');\n",
       "var x = new MutationObserver(function (mutations, observer) {{\n",
       "        var display = window.getComputedStyle(gd).display;\n",
       "        if (!display || display === 'none') {{\n",
       "            console.log([gd, 'removed!']);\n",
       "            Plotly.purge(gd);\n",
       "            observer.disconnect();\n",
       "        }}\n",
       "}});\n",
       "\n",
       "// Listen for the removal of the full notebook cells\n",
       "var notebookContainer = gd.closest('#notebook-container');\n",
       "if (notebookContainer) {{\n",
       "    x.observe(notebookContainer, {childList: true});\n",
       "}}\n",
       "\n",
       "// Listen for the clearing of the current output cell\n",
       "var outputEl = gd.closest('.output');\n",
       "if (outputEl) {{\n",
       "    x.observe(outputEl, {childList: true});\n",
       "}}\n",
       "\n",
       "                        })                };                });            </script>        </div>"
      ]
     },
     "metadata": {},
     "output_type": "display_data"
    }
   ],
   "source": [
    "fig = px.scatter(spotify_df, x='acousticness', y='loudness', hover_data=['artist_name', 'song_title'])\n",
    "fig.show()"
   ]
  },
  {
   "cell_type": "markdown",
   "id": "62f2a9a1",
   "metadata": {},
   "source": [
    "I chose acousticness and loudness as my variables because I'm interested in seeing if we can predict the loudness of a song by using its acousticness. This makes intuitive sense to me since non-acoustic songs (low acousticness) tend to be louder (more electronic songs). Based on the scatterplot I can see that loudness tends to decrease as acousticness increases and I can visualize a negatively sloped line fitting these points nicely. Hence, I think Linear Regression would be a decent fit for this data."
   ]
  },
  {
   "cell_type": "markdown",
   "id": "0f529864",
   "metadata": {},
   "source": [
    "$y = X\\beta + \\varepsilon$ \n",
    "\n",
    "Where y is the loudness level, X is the matrix with first col of 1's for the intercept coefs. and the other col is for the acousticness level, and $\\varepsilon$ is the noise from each of our predictions (compared to the true values)."
   ]
  },
  {
   "cell_type": "markdown",
   "id": "d1aac814-940d-4a04-9614-48af99c4b92a",
   "metadata": {},
   "source": [
    "# Part 2: Simple Linear Regression\n",
    "\n",
    "Now, using the two features you chose in Part 1, you will implement a simple linear regression model and determine if it is adequate for predicting your chosen outcome feature with your chosen input feature."
   ]
  },
  {
   "cell_type": "markdown",
   "id": "76cd53bc-accb-4033-9536-53a1719d7847",
   "metadata": {},
   "source": [
    "## Part 2.1: Cross Validate, Assess Model Performance and Interpret the Full Line (40 points)\n",
    "\n",
    "Use Leave One Out Cross Validation (LOO-CV) to fit the simple linear regression model and return the cross validated $MSE$ and $R^2$ for the model. **In a markdown cell**, interpret what the $R^2$ value represents, and discuss whether you think it is a good value. **Then**, fit the model to the full data set (i.e., do not cross validate) and return the estimated regression coefficients (intercept and slope). **In a markdown cell**, interpret what the slope and intercept mean, and discuss if their values make sense to you.\n",
    "\n",
    "**Do all of this using `numpy` and linear algebra/math.** Do *not* use any pre-built functions."
   ]
  },
  {
   "cell_type": "code",
   "execution_count": 58,
   "id": "faca4b79-ec2a-4556-9511-ab7019bb0360",
   "metadata": {},
   "outputs": [
    {
     "name": "stdout",
     "output_type": "stream",
     "text": [
      "The MSE for the Linear Regression Model is:  8.251\n",
      "The R^2 coef. for the Linear Regression Model is:  0.356\n"
     ]
    }
   ],
   "source": [
    "X = spotify_df.acousticness\n",
    "X = np.array(pd.DataFrame({'Ones': 1, 'acousticness': X}))\n",
    "\n",
    "y = spotify_df.loudness\n",
    "y_preds = np.empty(len(X))\n",
    "\n",
    "# LOO-CV\n",
    "# loop through each observation\n",
    "for obs in range(len(X)):\n",
    "    \n",
    "    # the below excludes the single row/true y belonging to obs as well as the bias column\n",
    "    X_train = np.concatenate((X[:obs, :], X[obs+1:, :]))\n",
    "    y_train = np.concatenate((y[:obs], y[obs+1:]))\n",
    "    \n",
    "    # then train/fit the model\n",
    "    LSS_sol = np.matmul(np.linalg.inv(np.matmul(X_train.T, X_train)), np.matmul(X_train.T, y_train))\n",
    "    \n",
    "    # and predict the held out observation (and store it)\n",
    "    y_preds[obs] = np.matmul(X[obs,:], LSS_sol)\n",
    "    \n",
    "mse = np.mean((y_preds - y) ** 2)\n",
    "print(\"The MSE for the Linear Regression Model is: \", round(mse, 3))\n",
    "r2 = 1 - (mse / (y.var()))\n",
    "print(\"The R^2 coef. for the Linear Regression Model is: \", round(r2, 3))\n"
   ]
  },
  {
   "cell_type": "markdown",
   "id": "491e47d9-1967-4192-9e4a-a4c6188e33af",
   "metadata": {},
   "source": [
    "The R^2 coef. represents the percent of variance of loudness (y) explained by acousticness (X). In this case, we have a value of 0.356 which means acousticness represents about 40% of loudness' variance which is alright since there's some relationship between y and X but we would like to see a R^2 value close to 1."
   ]
  },
  {
   "cell_type": "code",
   "execution_count": 64,
   "id": "59cac409-b9a1-470b-b766-75305e14ecd2",
   "metadata": {
    "scrolled": true
   },
   "outputs": [
    {
     "name": "stdout",
     "output_type": "stream",
     "text": [
      "The estimate regression coefficients are:  [-5.93277862 -7.7120616 ]\n"
     ]
    }
   ],
   "source": [
    "LSS_sol = np.matmul(np.linalg.inv(np.matmul(X.T, X)), np.matmul(X.T, y))\n",
    "# y_preds_full_data = [np.matmul(X[i,:], LSS_sol) for i in range(len(y_preds_full_data))]\n",
    "print(\"The estimate regression coefficients are: \", LSS_sol)"
   ]
  },
  {
   "cell_type": "markdown",
   "id": "ee3f6e42-8281-4811-b23f-8a035d40503c",
   "metadata": {},
   "source": [
    "We have an intercept coef. of about -5.933 which means that our model predicts a song to have a loudness level of roughly -5.933 if the acousticness level for that song is 0. The second coef. (-7.712) means that if we increase the acousticness level of a song by 1 unit, the loudness will decrease by 7.712 units (negatively correlated). These coefs. make sense to me since I expected to see a negatively sloped line fitting these points because loudness seems to decrease as acousticness increases."
   ]
  },
  {
   "cell_type": "markdown",
   "id": "835ab1c8-50b5-4de0-aa8f-77e5b3707edd",
   "metadata": {},
   "source": [
    "## Part 2.2: Checking Model Diagnostics (30 points)\n",
    "\n",
    "Use the residuals that you created in the previous part after doing LOO-CV to check the assumptions of the model. Do this using three plots:\n",
    "\n",
    "1. A plot of the residuals in the order of the data, to check independence.\n",
    "2. A plot of the residuals against your chosen $x$ feature, to check constant variance (and help re-assess linearity).\n",
    "3. A normal probability (QQ) plot of the residuals, to check normality.\n",
    "\n",
    "Then, **in a markdown cell**, provide a *detailed* discussion of if you believe the assumptions of the model are met and, either way, how you know and what that means for the utility of your model."
   ]
  },
  {
   "cell_type": "code",
   "execution_count": 66,
   "id": "00052e1d-bc83-49dc-9746-1aa95456a52d",
   "metadata": {},
   "outputs": [
    {
     "data": {
      "image/png": "[encoded data removed]",
      "text/plain": [
       "<Figure size 640x480 with 1 Axes>"
      ]
     },
     "metadata": {},
     "output_type": "display_data"
    }
   ],
   "source": [
    "# plot a scatter plot of the errors in order\n",
    "residuals = y_preds - y \n",
    "plt.scatter(x = range(len(y)), y = residuals)\n",
    "plt.xlabel('index')\n",
    "plt.ylabel('residuals');"
   ]
  },
  {
   "cell_type": "code",
   "execution_count": 72,
   "id": "03b3e2f0-8a88-49a9-8f68-b94be9a52940",
   "metadata": {},
   "outputs": [
    {
     "data": {
      "image/png": "[encoded data removed]",
      "text/plain": [
       "<Figure size 640x480 with 1 Axes>"
      ]
     },
     "metadata": {},
     "output_type": "display_data"
    }
   ],
   "source": [
    "plt.scatter(x=X[:,1], y=residuals)\n",
    "plt.xlabel('acousticness')\n",
    "plt.ylabel('residuals');"
   ]
  },
  {
   "cell_type": "code",
   "execution_count": 73,
   "id": "1ec6cbd8-e29c-461f-9f9f-80e0856576be",
   "metadata": {},
   "outputs": [
    {
     "data": {
      "image/png": "[encoded data removed]",
      "text/plain": [
       "<Figure size 640x480 with 1 Axes>"
      ]
     },
     "metadata": {},
     "output_type": "display_data"
    }
   ],
   "source": [
    "stats.probplot(residuals, dist=\"norm\", plot=py)\n",
    "py.show()"
   ]
  },
  {
   "cell_type": "markdown",
   "id": "31e5b04c-e81e-48fb-bfa9-5b173017a67c",
   "metadata": {},
   "source": [
    "We use the first plot above to check independence of our residuals. Since we don't see any patterns between the residuals, it suggests they are independent, meeting the first assumption for our Linear Regression model.\n",
    "From the second plot we check if our variances have constant variance. We see that there seems to be a fairly random scatter as we move from left to right, without much curving/funneling/tunneling. Hence, our second assumption is met.\n",
    "Lastly, the third plot lets us check if our errors are normally distributed. Since we see an approximately straight, 45 degree line, it means our errors are normal. We conclude that all of our assumptions are met and we can say the Linear Regression model is a valid tool to analyze the relationship between a song's loudness level and its acousticness level."
   ]
  },
  {
   "cell_type": "markdown",
   "id": "f0732994-333f-4192-9690-ddae0b79681f",
   "metadata": {},
   "source": [
    "## Part 2.3: Summarize and Outline Future Steps (10 points)\n",
    "\n",
    "Bring your thoughts together from all the previous parts of this lab and write a **detailed** paragraph or two of **at least five sentences** which discusses:\n",
    "\n",
    "- Did you find that the simple linear regression model does a good job of predicting your chosen $y$ feature?\n",
    "  - If so, how could this model be used practically? What were the key takeaways that you would use to summarize the results to someone interested in music?\n",
    "  - If not, why isn't it an adequate model? Do you think there is still promise/things you can do to adjust the model so that it does a better job or is more adequate for predicting $y$?\n",
    "- Regardless of your answer to the previous question, also reflect upon:\n",
    "  - (a) If you were to do it over again, would you choose different features? Was there another question you feel you could have answered using these data?\n",
    "  - (b) If you were to move forward, how would you improve upon the model you built? Whether you think it is already useful or not, remember that it could *always* be made better in some way."
   ]
  },
  {
   "cell_type": "markdown",
   "id": "32075a9a-3f32-4267-94b6-aae9b12d3ab7",
   "metadata": {},
   "source": [
    "I'd say that the simple linear regression model does a decent job at predicting a song's loudness level. To use this model practically I would ask a user to give me a song which I can find its acousticness level using the SpotifyAPI, then use my regressor to predict the acousticness level for their given song, and finally ask them if they agree on that value based on their music knowledge. I'd then explain to them that I saw a possible negative correlation between acousticness and loudness of a song which led to choose those particular features for my linear regressor.\n",
    "\n",
    "If I were to do this over again, I would still choose acousticness to predict loudness but I'd choose one more numerical feature such as instrumentalness to help with our predictions. I was also thinking about studying the relationships between a song's energy and danceability levels since I believe those should have some relationship. If I were to continue with this lab, the next thing I would do is create a pairplot for all numerical features to see which ones seem to have correlations between them, and then picking those correlated features as my features to predict another variable of interest. In other words, if I were to move forward I would not do simple linear regression and instead I would use the more general model to include more than one predictor variable. I could also just use all numerical features as predictors and use Lasso regularization to do feature selection and then do linear regression with the selected features."
   ]
  }
 ],
 "metadata": {
  "kernelspec": {
   "display_name": "Python 3 (ipykernel)",
   "language": "python",
   "name": "python3"
  },
  "language_info": {
   "codemirror_mode": {
    "name": "ipython",
    "version": 3
   },
   "file_extension": ".py",
   "mimetype": "text/x-python",
   "name": "python",
   "nbconvert_exporter": "python",
   "pygments_lexer": "ipython3",
   "version": "3.10.13"
  }
 },
 "nbformat": 4,
 "nbformat_minor": 5
}
