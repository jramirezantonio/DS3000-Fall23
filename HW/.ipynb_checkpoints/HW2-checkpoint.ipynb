{
 "cells": [
  {
   "cell_type": "markdown",
   "metadata": {},
   "source": [
    "# DS 3000 HW 2\n",
    "\n",
    "Due: Tuesday Oct 10 @ 11:59 PM EST\n",
    "\n",
    "### Submission Instructions\n",
    "Submit this `ipynb` file to Gradescope (this can also be done via the assignment on Canvas).  To ensure that your submitted `ipynb` file represents your latest code, make sure to give a fresh `Kernel > Restart & Run All` just before uploading the `ipynb` file to gradescope.\n",
    "\n",
    "### Tips for success\n",
    "- Start early\n",
    "- Make use of Piazza (also accessible through Canvas)\n",
    "- Make use of Office Hours\n",
    "- Remember to use cells and headings to make the notebook easy to read (if a grader cannot find the answer to a problem, you will receive no points for it)\n",
    "- Under no circumstances may one student view or share their ungraded homework or quiz with another student [(see also)](http://www.northeastern.edu/osccr/academic-integrity), though you are welcome to **talk about** (*not* show each other your answers to) the problems.\n",
    "\n",
    "### Finally:\n",
    "\n",
    "I designed this homework to provide **less** guidance in each subsequent part; this is on purpose, so that you slowly get used to thinking more critically about how to approach the various tasks. If you are confused as you are working, especially with the later parts, please don't hesitate to reach out for help."
   ]
  },
  {
   "cell_type": "markdown",
   "metadata": {},
   "source": [
    "# Part 1: Sunrise-Sunset API\n",
    "\n",
    "This first part of the homework asks you to complete the pipeline which, given the lattitude / longitude and timezone of some cities:\n",
    "\n",
    "``` python\n",
    "loc_dict = {'Boston': (42.3601, -71.0589, 'US/Eastern'),\n",
    "            'Lusaka': (-15.3875, 28.3228, 'Africa/Lusaka'),\n",
    "            'Sydney': (-33.8688, 151.2093, 'Australia/Sydney')}\n",
    "```\n",
    "\n",
    "the keys are the `name` of the city and the values are tuples of `lat, lon, timezone_name\n",
    "\n",
    "is able to:\n",
    "- query a sunrise / sunset API\n",
    "- clean and process data (timezone management & building `datetime` objects)\n",
    "- For extra credit: produce the a graph of daylight through the year like this:\n",
    "\n",
    "<img src=\"https://i.ibb.co/CBhWtCY/newdaylight.png\" alt=\"newdaylight\" style=\"width: 500px;\"/>"
   ]
  },
  {
   "cell_type": "markdown",
   "metadata": {},
   "source": [
    "## Part 1.1: Getting Sunrise Sunset via API (5 points)\n",
    "Write the `get_sunrise_sunset()` function below so that it uses [this sunrise sunset API](https://sunrise-sunset.org/api) to produce the output (the dictionary) shown in the test case below so that it passes the case.\n",
    "\n",
    "It may be helpful to know that this particular API...\n",
    "- requires no api key\n",
    "- returns about 2.5 queries per second\n",
    "- did not block me when I tried to make 100 consecutive calls as quickly as possible"
   ]
  },
  {
   "cell_type": "code",
   "execution_count": 1,
   "metadata": {},
   "outputs": [],
   "source": [
    "# make sure you have these modules installed\n",
    "import requests\n",
    "import json"
   ]
  },
  {
   "cell_type": "code",
   "execution_count": 45,
   "metadata": {},
   "outputs": [],
   "source": [
    "def get_sunrise_sunset(lat, lng, date):\n",
    "    \"\"\" Extract dictionary from Sunrise Sunset API for a given location (lat, long) and date\n",
    "        Args: latitude (lat) float, longitude (lng) float, and date ('YYYY-MM-DD' format)\n",
    "        Returns: sunrise_dict dictionary containing sunrise/sunset info for the give location\n",
    "        Format url from user input, request and load html saving info in a dict, return dict\n",
    "    \"\"\"   \n",
    "    url = f\"https://api.sunrise-sunset.org/json?lat={lat}&lng={lng}&date={date}\"\n",
    "    html = requests.get(url).text\n",
    "    sunrise_dict = json.loads(html)\n",
    "    sunrise_dict['lat-lng'] = (lat, lng)\n",
    "    sunrise_dict['date'] = date\n",
    "    \n",
    "    return sunrise_dict"
   ]
  },
  {
   "cell_type": "code",
   "execution_count": 46,
   "metadata": {},
   "outputs": [],
   "source": [
    "sun_dict = get_sunrise_sunset(lat=42.3601, lng=-71.0589, date='2022-02-15')\n",
    "sun_dict_expected = \\\n",
    "{'results': {'sunrise': '11:38:48 AM',\n",
    "            'sunset': '10:17:50 PM',\n",
    "            'solar_noon': '4:58:19 PM',\n",
    "            'day_length': '10:39:02',\n",
    "            'civil_twilight_begin': '11:11:30 AM',\n",
    "            'civil_twilight_end': '10:45:08 PM',\n",
    "            'nautical_twilight_begin': '10:38:37 AM',\n",
    "            'nautical_twilight_end': '11:18:00 PM',\n",
    "            'astronomical_twilight_begin': '10:06:05 AM',\n",
    "            'astronomical_twilight_end': '11:50:33 PM'},\n",
    " 'status': 'OK',\n",
    " 'lat-lng': (42.3601, -71.0589),\n",
    " 'date': '2022-02-15'}\n",
    "\n",
    "assert sun_dict == sun_dict_expected, 'get_sunrise_sunset() error'"
   ]
  },
  {
   "cell_type": "markdown",
   "metadata": {},
   "source": [
    "## Part 1.2 Timezone Considerations: (5 points)\n",
    "\n",
    "It may appear the test case above works, but a look at the API's documentation reminds us: \n",
    "\n",
    "    \"NOTE: All times are in UTC and summer time adjustments are not included in the returned data.\"\n",
    "    \n",
    "Meaning that we would need to change the timezone ourself if comparing different locations. \n",
    "\n",
    "Complete the `change_tz()` below so that it passes the given test case. "
   ]
  },
  {
   "cell_type": "code",
   "execution_count": 4,
   "metadata": {},
   "outputs": [],
   "source": [
    "# you will need these\n",
    "import pytz\n",
    "from datetime import datetime"
   ]
  },
  {
   "cell_type": "code",
   "execution_count": 5,
   "metadata": {},
   "outputs": [],
   "source": [
    "def change_tz(dt, timezone_from, timezone_to):\n",
    "    \"\"\" converts timezone of a timezone naive datetime object\n",
    "    \n",
    "    Args:\n",
    "        dt (datetime): datetime (or time) object without timezone\n",
    "        timezone_from (str): timezone of input\n",
    "        timezone_to (str): timezone of output datetime\n",
    "        \n",
    "    Returns:\n",
    "        dt (datetime): datetime object corresponding to \n",
    "            unix_time\n",
    "    \"\"\"\n",
    "    \n",
    "    # Create Source Time Zone Object\n",
    "    dt_timezone = pytz.timezone(timezone_from)\n",
    "    \n",
    "    # Assign Source Time Zone to Created Date Time Object\n",
    "    dt_from = dt_timezone.localize(dt)\n",
    "    \n",
    "    # Create Target Time Zone Object\n",
    "    dt_to = pytz.timezone(timezone_to)\n",
    "    \n",
    "    # Convert Source Time Zone to Target Time Zone\n",
    "    dt = dt_from.astimezone(dt_to)\n",
    "    \n",
    "    return dt"
   ]
  },
  {
   "cell_type": "code",
   "execution_count": 6,
   "metadata": {},
   "outputs": [],
   "source": [
    "# build test case input / output\n",
    "dt_no_tz = datetime(2021, 2, 13, 9, 54, 4, 270088)\n",
    "dt_expect = datetime(2021, 2, 13, 14, 54, 4, 270088, tzinfo=pytz.timezone('GMT'))\n",
    "\n",
    "# compute actual output\n",
    "dt = change_tz(dt_no_tz, timezone_from='US/Eastern', timezone_to='GMT')\n",
    "\n",
    "assert dt == dt_expect, 'change_tz() error'"
   ]
  },
  {
   "cell_type": "code",
   "execution_count": 7,
   "metadata": {},
   "outputs": [],
   "source": [
    "# build test case input / output\n",
    "dt_no_tz = datetime(2021, 2, 13, 9, 54, 4, 270088)\n",
    "dt_expect = datetime(2021, 2, 13, 9, 54, 4, 270088, tzinfo=pytz.timezone('GMT'))\n",
    "\n",
    "# compute actual output\n",
    "dt = change_tz(dt_no_tz, timezone_from='GMT', timezone_to='GMT')\n",
    "\n",
    "assert dt == dt_expect, 'change_tz() error'"
   ]
  },
  {
   "cell_type": "markdown",
   "metadata": {},
   "source": [
    "## Part 1.3: Turning the dictionary into a Series (5 points)\n",
    "Build `clean_sun_dict()` to pass each of the two test cases below.  Note that:\n",
    "- sunrise and sunset are `time` objects which account for daylight's saving:\n",
    "    - include the date when building these objects\n",
    "    - use `change_tz()` above to cast them to the proper timezone\n",
    "    - build `time` objects by calling `datetime.time()` to discard the date of a `datetime`\n",
    "    - importing `pandas as pd` and using `pd.to_datetime` may also be helpful\n",
    "- `sunrise_hr` and `sunset_hr` are the hours since the day began in local timezone (more easily graphed)\n",
    "    - you may use `.strftime()` and `int()` to cast time objects to strings and then integers (which may be helpful) \n",
    "    \n",
    "**NOTE:** There may be more than one way to accomplish writing this function; as long as the function passes both `assert` test cases, you may continue. Just do be sure to comment and present your code as cleanly as possible. **NOTE ALSO** that because of the way *I* made the solution, the `sunrise_hr` and `sunset_hr` values are rounded strangely. If you are getting something *close*, you **may** change the test case to match your so that the `assert` works."
   ]
  },
  {
   "cell_type": "code",
   "execution_count": 8,
   "metadata": {},
   "outputs": [],
   "source": [
    "from datetime import datetime, time\n",
    "import pandas as pd"
   ]
  },
  {
   "cell_type": "code",
   "execution_count": 9,
   "metadata": {},
   "outputs": [],
   "source": [
    "def clean_sun_dict(sun_dict, timezone_to):\n",
    "    \"\"\" builds pandas series and cleans output of API\n",
    "    \n",
    "    Args:\n",
    "        sun_dict (dict): dict of json (see ex below)\n",
    "        timezone_to (str): timezone of outputs (API returns\n",
    "            UTC times)\n",
    "            \n",
    "    Returns:\n",
    "        sun_series (pd.Series): all times converted to\n",
    "            time objects\n",
    "    \n",
    "    example sun_series:\n",
    "    \n",
    "    date            2021-02-13 00:00:00\n",
    "    lat-lng        (36.72016, -4.42034)\n",
    "    sunrise                    02:11:06\n",
    "    sunrise_hr                    2.185\n",
    "    sunset                     13:00:34\n",
    "    sunset_hr                   13.0094\n",
    "    dtype: object\n",
    "    \"\"\"\n",
    "    date = datetime.strptime(sun_dict['date'], '%Y-%m-%d')\n",
    "    lat_long = sun_dict['lat-lng']\n",
    "    \n",
    "    # Create sunrise string and create time object from string\n",
    "    sunrise = sun_dict['date'] + ' ' + sun_dict['results']['sunrise']\n",
    "    rise_time_obj = datetime.strptime(sunrise, '%Y-%m-%d %I:%M:%S %p')\n",
    "    \n",
    "    # Change timezone of sunrise time object\n",
    "    rise_time_obj = change_tz(rise_time_obj, 'UTC', timezone_to)\n",
    "    \n",
    "    # Get time (as string) from sunrise time object\n",
    "    rise_formatted_time = rise_time_obj.time()\n",
    "    \n",
    "    # Get hours (as int) from sunrise time object \n",
    "    rise_hours = rise_time_obj.hour + rise_time_obj.minute / 60 + rise_time_obj.second / 3600\n",
    "    \n",
    "    \n",
    "    # Create sunset string and create time object from string\n",
    "    sunset = sun_dict['date'] + ' ' + sun_dict['results']['sunset']\n",
    "    set_time_obj = datetime.strptime(sunset, '%Y-%m-%d %I:%M:%S %p')\n",
    "    \n",
    "    # Change timezone of sunset time object\n",
    "    set_time_obj = change_tz(set_time_obj, 'UTC', timezone_to)  \n",
    "    \n",
    "    # Get time (as string) from sunset time object\n",
    "    set_formatted_time = set_time_obj.time()    \n",
    "    \n",
    "    # Get hours (as int) from sunset time object \n",
    "    set_hours = set_time_obj.hour + set_time_obj.minute / 60 + set_time_obj.second / 3600\n",
    "    \n",
    "    series_dict = {'date': date, 'lat-lng': lat_long, 'sunrise': rise_formatted_time,\n",
    "                    'sunrise_hr': rise_hours, 'sunset': set_formatted_time, 'sunset_hr': set_hours}\n",
    "    return pd.Series(series_dict)"
   ]
  },
  {
   "cell_type": "code",
   "execution_count": 10,
   "metadata": {},
   "outputs": [],
   "source": [
    "sun_dict = {'results': {'sunrise': '11:38:48 AM',\n",
    "                        'sunset': '10:17:50 PM',\n",
    "                        'solar_noon': '4:58:19 PM',\n",
    "                        'day_length': '10:39:02',\n",
    "                        'civil_twilight_begin': '11:11:30 AM',\n",
    "                        'civil_twilight_end': '10:45:08 PM',\n",
    "                        'nautical_twilight_begin': '10:38:37 AM',\n",
    "                        'nautical_twilight_end': '11:18:00 PM',\n",
    "                        'astronomical_twilight_begin': '10:06:05 AM',\n",
    "                        'astronomical_twilight_end': '11:50:33 PM'},\n",
    "             'status': 'OK',\n",
    "             'lat-lng': (42.3601, -71.0589),\n",
    "             'date': '2022-02-15'}\n",
    "\n",
    "# test without timezone conversion\n",
    "sun_series = clean_sun_dict(sun_dict, timezone_to='GMT')\n",
    "\n",
    "sun_series_exp = pd.Series(\n",
    "{'date': datetime(year=2022, month=2, day=15),\n",
    "'lat-lng': (42.3601, -71.0589),\n",
    "'sunrise': time(hour=11, minute=38, second=48),\n",
    "'sunrise_hr': 11.646666666666667,\n",
    "'sunset': time(hour=22, minute=17, second=50),\n",
    "'sunset_hr': 22.297222222222224})\n",
    "\n",
    "assert sun_series.eq(sun_series_exp).all(), 'clean_sun_dict() error (GMT)'"
   ]
  },
  {
   "cell_type": "code",
   "execution_count": 11,
   "metadata": {},
   "outputs": [],
   "source": [
    "# test with timezone conversion\n",
    "sun_series = clean_sun_dict(sun_dict, timezone_to='US/Eastern',)\n",
    "\n",
    "sun_series_exp = pd.Series(\n",
    "{'date': datetime(year=2022, month=2, day=15),\n",
    "'lat-lng': (42.3601, -71.0589),\n",
    "'sunrise': time(hour=6, minute=38, second=48),\n",
    "'sunrise_hr': 6.6466666666666665,\n",
    "'sunset': time(hour=17, minute=17, second=50),\n",
    "'sunset_hr': 17.297222222222224})\n",
    "\n",
    "assert sun_series.eq(sun_series_exp).all(), 'clean_sun_dict() error (EST)'"
   ]
  },
  {
   "cell_type": "markdown",
   "metadata": {},
   "source": [
    "## Part 1.4: Getting our Data Frame (5 points)\n",
    "\n",
    "Write the `get_annual_sun_data()` function so that it produces the outputs shown below.  This function should make use of:\n",
    " - `get_sunrise_sunset()`\n",
    " - `clean_sun_dict()`\n",
    "   \n",
    "as built above. I will start the function for you to help!"
   ]
  },
  {
   "cell_type": "markdown",
   "metadata": {},
   "source": [
    "The following snippet:\n",
    "\n",
    "```python\n",
    "loc_dict = {'Boston': (42.3601, -71.0589, 'US/Eastern'),\n",
    "            'Lusaka': (-15.3875, 28.3228, 'Africa/Lusaka'),\n",
    "            'Sydney': (-33.8688, 151.2093, 'Australia/Sydney')}\n",
    "df_annual_sun = get_annual_sun_data(loc_dict, year=2021, period_day=30)\n",
    "df_annual_sun.head(6)\n",
    "```\n",
    "\n",
    "should generate:\n",
    "\n",
    "|    |   city |       date |              lat-lng |  sunrise | sunrise_hr |   sunset | sunset_hr |\n",
    "|---:|-------:|-----------:|---------------------:|---------:|-----------:|---------:|----------:|\n",
    "|  0 | Boston | 2021-01-01 |  (42.3601, -71.0589) | 07:11:49 |   7.196944 | 16:24:12 | 16.403333 |\n",
    "|  1 | Lusaka | 2021-01-01 |  (-15.3875, 28.3228) | 05:38:33 |   5.642500 | 18:42:09 | 18.702500 |\n",
    "|  2 | Sydney | 2021-01-01 | (-33.8688, 151.2093) | 05:46:24 |   5.773333 | 20:10:53 | 20.181389 |\n",
    "|  3 | Boston | 2021-01-31 |  (42.3601, -71.0589) | 06:56:43 |   6.945278 | 16:58:42 | 16.978333 |\n",
    "|  4 | Lusaka | 2021-01-31 |  (-15.3875, 28.3228) | 05:55:43 |   5.928611 | 18:44:35 | 18.743056 |\n",
    "|  5 | Sydney | 2021-01-31 | (-33.8688, 151.2093) | 06:14:24 |   6.240000 | 20:02:42 | 20.045000 |"
   ]
  },
  {
   "cell_type": "code",
   "execution_count": 12,
   "metadata": {},
   "outputs": [],
   "source": [
    "# could be useful\n",
    "from datetime import timedelta"
   ]
  },
  {
   "cell_type": "code",
   "execution_count": 13,
   "metadata": {},
   "outputs": [],
   "source": [
    "def get_annual_sun_data(loc_dict, year=2021, period_day=30): \n",
    "    \"\"\" pulls evenly spaced sunrise / sunsets from API over year per city\n",
    "    \n",
    "    Args:\n",
    "        loc_dict (dict): keys are cities, values are tuples of \n",
    "            (lat, lon, tz_str) where tz_str is a timezone\n",
    "            string included in pytz.all_timezones\n",
    "        year (int): year to query\n",
    "        period_day (int): how many days between data queries\n",
    "            (i.e. period_day=1 will get every day for the year)\n",
    "            \n",
    "    Returns:\n",
    "        df_annual_sun (DataFrame): each row represents a \n",
    "            sunrise / sunset datapoint, see get_sunrise_sunset()\n",
    "    \"\"\"\n",
    "    data = []\n",
    "    date = pd.to_datetime(f'{year}-01-01')\n",
    "    \n",
    "    # Loop through each loc in loc_dict, extract sunset/sunrise dict for each location \n",
    "    # and save it in the data list \n",
    "    while date.year == year:\n",
    "        for city, (lat, lon, timezone) in loc_dict.items():\n",
    "            sunrise_sunset = get_sunrise_sunset(lat, lon, date.strftime('%Y-%m-%d'))\n",
    "            sun_series = clean_sun_dict(sunrise_sunset, timezone)\n",
    "            sun_series['city'] = city\n",
    "            data.append(sun_series.to_dict())\n",
    "\n",
    "        # Move to the next date based on the specified period_day\n",
    "        date += timedelta(days=period_day)\n",
    "\n",
    "    # Create df from data list and rearrange order of the 'city' column so that it\n",
    "    # gets displayed first\n",
    "    df_annual_sun = pd.DataFrame(data)\n",
    "    city_col = df_annual_sun.pop('city')\n",
    "    df_annual_sun.insert(0, 'city', city_col)\n",
    "    \n",
    "    return df_annual_sun"
   ]
  },
  {
   "cell_type": "code",
   "execution_count": 14,
   "metadata": {},
   "outputs": [],
   "source": [
    "loc_dict = {'Boston': (42.3601, -71.0589, 'US/Eastern'),\n",
    "            'Lusaka': (-15.3875, 28.3228, 'Africa/Lusaka'),\n",
    "            'Sydney': (-33.8688, 151.2093, 'Australia/Sydney')}\n",
    "\n",
    "# you may find that setting period_day to a larger value is quicker for debug\n",
    "# period_day=5 takes about a minute or so given the API does 2-3 requests / sec\n",
    "df_annual_sun = get_annual_sun_data(loc_dict, year=2021, period_day=30)"
   ]
  },
  {
   "cell_type": "code",
   "execution_count": 15,
   "metadata": {},
   "outputs": [
    {
     "data": {
      "text/html": [
       "<div>\n",
       "<style scoped>\n",
       "    .dataframe tbody tr th:only-of-type {\n",
       "        vertical-align: middle;\n",
       "    }\n",
       "\n",
       "    .dataframe tbody tr th {\n",
       "        vertical-align: top;\n",
       "    }\n",
       "\n",
       "    .dataframe thead th {\n",
       "        text-align: right;\n",
       "    }\n",
       "</style>\n",
       "<table border=\"1\" class=\"dataframe\">\n",
       "  <thead>\n",
       "    <tr style=\"text-align: right;\">\n",
       "      <th></th>\n",
       "      <th>city</th>\n",
       "      <th>date</th>\n",
       "      <th>lat-lng</th>\n",
       "      <th>sunrise</th>\n",
       "      <th>sunrise_hr</th>\n",
       "      <th>sunset</th>\n",
       "      <th>sunset_hr</th>\n",
       "    </tr>\n",
       "  </thead>\n",
       "  <tbody>\n",
       "    <tr>\n",
       "      <th>0</th>\n",
       "      <td>Boston</td>\n",
       "      <td>2021-01-01</td>\n",
       "      <td>(42.3601, -71.0589)</td>\n",
       "      <td>07:11:49</td>\n",
       "      <td>7.196944</td>\n",
       "      <td>16:24:12</td>\n",
       "      <td>16.403333</td>\n",
       "    </tr>\n",
       "    <tr>\n",
       "      <th>1</th>\n",
       "      <td>Lusaka</td>\n",
       "      <td>2021-01-01</td>\n",
       "      <td>(-15.3875, 28.3228)</td>\n",
       "      <td>05:38:33</td>\n",
       "      <td>5.642500</td>\n",
       "      <td>18:42:09</td>\n",
       "      <td>18.702500</td>\n",
       "    </tr>\n",
       "    <tr>\n",
       "      <th>2</th>\n",
       "      <td>Sydney</td>\n",
       "      <td>2021-01-01</td>\n",
       "      <td>(-33.8688, 151.2093)</td>\n",
       "      <td>05:46:24</td>\n",
       "      <td>5.773333</td>\n",
       "      <td>20:10:53</td>\n",
       "      <td>20.181389</td>\n",
       "    </tr>\n",
       "    <tr>\n",
       "      <th>3</th>\n",
       "      <td>Boston</td>\n",
       "      <td>2021-01-31</td>\n",
       "      <td>(42.3601, -71.0589)</td>\n",
       "      <td>06:56:43</td>\n",
       "      <td>6.945278</td>\n",
       "      <td>16:58:42</td>\n",
       "      <td>16.978333</td>\n",
       "    </tr>\n",
       "    <tr>\n",
       "      <th>4</th>\n",
       "      <td>Lusaka</td>\n",
       "      <td>2021-01-31</td>\n",
       "      <td>(-15.3875, 28.3228)</td>\n",
       "      <td>05:55:43</td>\n",
       "      <td>5.928611</td>\n",
       "      <td>18:44:35</td>\n",
       "      <td>18.743056</td>\n",
       "    </tr>\n",
       "    <tr>\n",
       "      <th>5</th>\n",
       "      <td>Sydney</td>\n",
       "      <td>2021-01-31</td>\n",
       "      <td>(-33.8688, 151.2093)</td>\n",
       "      <td>06:14:24</td>\n",
       "      <td>6.240000</td>\n",
       "      <td>20:02:42</td>\n",
       "      <td>20.045000</td>\n",
       "    </tr>\n",
       "  </tbody>\n",
       "</table>\n",
       "</div>"
      ],
      "text/plain": [
       "     city       date               lat-lng   sunrise  sunrise_hr    sunset  \\\n",
       "0  Boston 2021-01-01   (42.3601, -71.0589)  07:11:49    7.196944  16:24:12   \n",
       "1  Lusaka 2021-01-01   (-15.3875, 28.3228)  05:38:33    5.642500  18:42:09   \n",
       "2  Sydney 2021-01-01  (-33.8688, 151.2093)  05:46:24    5.773333  20:10:53   \n",
       "3  Boston 2021-01-31   (42.3601, -71.0589)  06:56:43    6.945278  16:58:42   \n",
       "4  Lusaka 2021-01-31   (-15.3875, 28.3228)  05:55:43    5.928611  18:44:35   \n",
       "5  Sydney 2021-01-31  (-33.8688, 151.2093)  06:14:24    6.240000  20:02:42   \n",
       "\n",
       "   sunset_hr  \n",
       "0  16.403333  \n",
       "1  18.702500  \n",
       "2  20.181389  \n",
       "3  16.978333  \n",
       "4  18.743056  \n",
       "5  20.045000  "
      ]
     },
     "execution_count": 15,
     "metadata": {},
     "output_type": "execute_result"
    }
   ],
   "source": [
    "df_annual_sun.head(6)"
   ]
  },
  {
   "cell_type": "markdown",
   "metadata": {},
   "source": [
    "## Part 1.5: Plotting the data (5 points)\n",
    "\n",
    "Using [plt.fillbetween()](https://matplotlib.org/3.1.1/api/_as_gen/matplotlib.pyplot.fill_between.html), like [this example](https://colab.research.google.com/drive/1eYuuwGwQKEa6x84fqpdVlf46sXLDmhCZ?usp=sharing), write the `plot_daylight()` function so that:\n",
    "\n",
    "``` python\n",
    "plot_daylight(df_annual_sun)\n",
    "```\n",
    "\n",
    "produces a similar graph to:\n",
    "\n",
    "<img src=\"https://i.ibb.co/CBhWtCY/newdaylight.png\" alt=\"newdaylight\" style=\"width: 500px;\"/>\n",
    "\n",
    "Be sure that your graph displays in Jupyter notebook (no need to save it in another form)."
   ]
  },
  {
   "cell_type": "code",
   "execution_count": 16,
   "metadata": {},
   "outputs": [],
   "source": [
    "# modules you might use\n",
    "import seaborn as sns\n",
    "import matplotlib.pyplot as plt"
   ]
  },
  {
   "cell_type": "code",
   "execution_count": 17,
   "metadata": {},
   "outputs": [],
   "source": [
    "sns.set(font_scale=1.2)\n",
    "\n",
    "def plot_daylight(df_annual_sun, cities):\n",
    "    \"\"\" produces a plot of daylight seen across cities\n",
    "    \n",
    "    Args:\n",
    "        df_annual_sun (DataFrame): each row represents a \n",
    "            sunrise / sunset datapoint, see get_sunrise_sunset()\n",
    "    \"\"\"\n",
    "\n",
    "    for city in cities:\n",
    "        boolean = df_annual_sun['city'] == city\n",
    "        plt.fill_between(x=df_annual_sun['date'][boolean], y1=df_annual_sun['sunrise_hr'][boolean],\n",
    "                     y2=df_annual_sun['sunset_hr'][boolean], alpha=.4, label=city)\n",
    "    plt.xlabel('Date')\n",
    "    plt.ylabel('Local Military Time')\n",
    "    plt.title('Daylight in each Location')\n",
    "    plt.legend()\n",
    "    plt.show()"
   ]
  },
  {
   "cell_type": "code",
   "execution_count": 18,
   "metadata": {},
   "outputs": [],
   "source": [
    "# takes about a minute to run with period_day=7, worth the wait to characterize\n",
    "# the sudden jumps due to daylight savings times\n",
    "df_annual_sun = get_annual_sun_data(loc_dict, year=2021, period_day=7)"
   ]
  },
  {
   "cell_type": "code",
   "execution_count": 19,
   "metadata": {},
   "outputs": [
    {
     "data": {
      "image/png": "[encoded data removed]",
      "text/plain": [
       "<Figure size 640x480 with 1 Axes>"
      ]
     },
     "metadata": {},
     "output_type": "display_data"
    }
   ],
   "source": [
    "plot_daylight(df_annual_sun, ['Boston', 'Lusaka', 'Sydney'])"
   ]
  },
  {
   "cell_type": "markdown",
   "metadata": {},
   "source": [
    "# Part 2: Spotify API (Spotipy)\n",
    "\n",
    "**Note**: The following is copied verbatim from the end of Day2_APIs on Canvas.\n",
    "\n",
    "The Spotify API is quite powerful and gives us access to any song/artist in its libraries, plus even more information that you might not have thought of. There is also a module that has been created to access the API within python. Open up a terminal (or do it in jupyter notebook; this is a magic module) and run:\n",
    "\n",
    "`pip install spotipy`"
   ]
  },
  {
   "cell_type": "code",
   "execution_count": 20,
   "metadata": {},
   "outputs": [],
   "source": [
    "# after installation\n",
    "import spotipy\n",
    "from spotipy.oauth2 import SpotifyClientCredentials"
   ]
  },
  {
   "cell_type": "markdown",
   "metadata": {},
   "source": [
    "Just like with OpenWeather, we need to make an account [here](https://developer.spotify.com/) (this is essentially the same as making a regular Spotify account) and then get an API key (Spotify requires two things, actually, a Client ID and a secret key). At the above website, go to:\n",
    "\n",
    "- Dashboard\n",
    "- Log into your Spotify account (make one if you don't have one)\n",
    "- Accept the terms of using the API\n",
    "- Create an app (you can call it anything, I called mine `DS3000_Spotify`)\n",
    "- Get a client ID (mine is `592acf2d2dc84d94bbc652f2f1d72375`, though it is usually good practice to **not** share this) and a client secret (**never share this with anyone**: save it in a separate file like we did with our OpenWeather API key earlier)"
   ]
  },
  {
   "cell_type": "markdown",
   "metadata": {},
   "source": [
    "There exists a file `spotify_secret.py` in same directory as this jupyter notebook which contains:\n",
    "    \n",
    "    secret = 'professorgerberssecretspotify'"
   ]
  },
  {
   "cell_type": "code",
   "execution_count": 21,
   "metadata": {},
   "outputs": [],
   "source": [
    "# make sure you have named your file spotify_secret.py\n",
    "from spotify_secret import secret"
   ]
  },
  {
   "cell_type": "code",
   "execution_count": 22,
   "metadata": {},
   "outputs": [],
   "source": [
    "# Authentication\n",
    "# Make sure you use your OWN client ID (DO NOT leave mine in there!!)\n",
    "cid = '34e50fc970c84719bb9084217e00cf85'\n",
    "\n",
    "client_credentials_manager = SpotifyClientCredentials(client_id=cid, client_secret=secret)\n",
    "sp = spotipy.Spotify(client_credentials_manager = client_credentials_manager)"
   ]
  },
  {
   "cell_type": "markdown",
   "metadata": {},
   "source": [
    "## Part 2.1: Uniform Resource Identifiers (URI) (5 points)\n",
    "\n",
    "An important component of using the Spotify API is the use of the uniform resource identifiers, pointing at each object in the API. We need a URI to perform any function with the API referring to an object in Spotify. The URI of any Spotify object is contained in its shareable link. For example, the link to the Global top songs playlist, when found from the Spotify desktop application, is:"
   ]
  },
  {
   "cell_type": "code",
   "execution_count": 23,
   "metadata": {},
   "outputs": [],
   "source": [
    "# if you receive a couldn't read cache or write token error, it should simply be a warning and not be a problem\n",
    "playlist_link = \"https://open.spotify.com/playlist/37i9dQZF1DXcBWIGoYBM5M\"\n",
    "playlist_URI = playlist_link.split(\"/\")[-1].split(\"?\")[0]\n",
    "track_uris = [x[\"track\"][\"uri\"] for x in sp.playlist_tracks(playlist_URI)[\"items\"]]"
   ]
  },
  {
   "cell_type": "markdown",
   "metadata": {},
   "source": [
    "On the Getting to Know You form, I asked what the theme song for the TV show of your life would be. Below is the url for the Spotify playlist created from those songs. Read it into python the way we did the above playlist.\n",
    "\n",
    "`playlist_link = \"https://open.spotify.com/playlist/6Bl2siSxFI0mmdzOwy562o\"`"
   ]
  },
  {
   "cell_type": "code",
   "execution_count": 26,
   "metadata": {},
   "outputs": [],
   "source": [
    "playlist_link = \"https://open.spotify.com/playlist/6Bl2siSxFI0mmdzOwy562o\"\n",
    "playlist_URI = playlist_link.split(\"/\")[-1].split(\"?\")[0]\n",
    "track_uris = [x[\"track\"][\"uri\"] for x in sp.playlist_tracks(playlist_URI)[\"items\"]]\n",
    "# sp.playlist_tracks(playlist_URI)[\"items\"][0]"
   ]
  },
  {
   "cell_type": "markdown",
   "metadata": {},
   "source": [
    "## Part 2.2: Build a dictionary of track info (5 points)\n",
    "\n",
    "I have initialized the `playlist_dict` dictionary for you below, complete with keys and empty lists. Use a for loop to loop through the tracks in our class's playlist and `.append()` the associated values for each track to each of the lists, building out the dictionary. You may write a function to do this, but you don't have to. **Note**: if you know of a faster way to do this than with a for loop, you are welcome to use it."
   ]
  },
  {
   "cell_type": "code",
   "execution_count": 27,
   "metadata": {},
   "outputs": [],
   "source": [
    "playlist_dict = {'track_uri': list(),\n",
    "                'track_name': list(),\n",
    "                'artist_uri': list(),\n",
    "                'artist_name': list(),\n",
    "                'artist_pop': list(),\n",
    "                'artist_genres': list(),\n",
    "                'album': list(),\n",
    "                'track_pop': list()}\n",
    "\n",
    "tracks = sp.playlist_tracks(playlist_URI)[\"items\"]\n",
    "for track in tracks:\n",
    "    playlist_dict['track_uri'].append(track['track']['uri'])\n",
    "    playlist_dict['track_name'].append(track['track']['name'])\n",
    "    playlist_dict['artist_uri'].append(track['track']['artists'][0]['uri'])\n",
    "    artist_info = sp.artist(track['track']['artists'][0]['uri'])\n",
    "    playlist_dict['artist_name'].append(track['track']['artists'][0]['name'])\n",
    "    playlist_dict['artist_pop'].append(artist_info['popularity'])\n",
    "    playlist_dict['artist_genres'].append(artist_info['genres'])\n",
    "    playlist_dict['album'].append(track['track']['album']['name'])\n",
    "    playlist_dict['track_pop'].append(track['track']['popularity'])"
   ]
  },
  {
   "cell_type": "markdown",
   "metadata": {},
   "source": [
    "## Part 2.3: Extracting Features from Tracks (5 points)\n",
    "\n",
    "Now that we have a list of track URIs, we can extract features from these tracks. Spotify has a list of these features for each of its tracks, from analysis of the audio. We can access these with a single method of the spotify object `audio_features(uri)`. This gives us a list of mostly numerical features that we can use for analysis."
   ]
  },
  {
   "cell_type": "code",
   "execution_count": 28,
   "metadata": {},
   "outputs": [
    {
     "data": {
      "text/plain": [
       "[{'danceability': 0.631,\n",
       "  'energy': 0.605,\n",
       "  'key': 0,\n",
       "  'loudness': -8.73,\n",
       "  'mode': 1,\n",
       "  'speechiness': 0.0386,\n",
       "  'acousticness': 0.453,\n",
       "  'instrumentalness': 0.000184,\n",
       "  'liveness': 0.291,\n",
       "  'valence': 0.25,\n",
       "  'tempo': 115.281,\n",
       "  'type': 'audio_features',\n",
       "  'id': '4LVDnRxfljiEerC26z3JW4',\n",
       "  'uri': 'spotify:track:4LVDnRxfljiEerC26z3JW4',\n",
       "  'track_href': 'https://api.spotify.com/v1/tracks/4LVDnRxfljiEerC26z3JW4',\n",
       "  'analysis_url': 'https://api.spotify.com/v1/audio-analysis/4LVDnRxfljiEerC26z3JW4',\n",
       "  'duration_ms': 295293,\n",
       "  'time_signature': 4}]"
      ]
     },
     "execution_count": 28,
     "metadata": {},
     "output_type": "execute_result"
    }
   ],
   "source": [
    "# note that .audio_features returns a dictionary in a list of 1\n",
    "sp.audio_features(playlist_dict['track_uri'][0])"
   ]
  },
  {
   "cell_type": "markdown",
   "metadata": {},
   "source": [
    "I have initiated an empty `song_dict` for you below. Loop through the track URIs of our `playlist_dict` from the previous part then for each song, loop through the audio features and add corresponding key-value pairs to the dictionary. Finally, after you have created the dictionary, cast it to a Data Frame called `song_df` using pandas. **Note**: if you know of a faster way to do this than with a nested for loop, you are welcome to use it."
   ]
  },
  {
   "cell_type": "code",
   "execution_count": 29,
   "metadata": {},
   "outputs": [],
   "source": [
    "from collections import defaultdict\n",
    "import pandas as pd\n",
    "\n",
    "song_dict = defaultdict(list)\n",
    "\n",
    "for uri in playlist_dict['track_uri']:\n",
    "    audio_lst = sp.audio_features(uri)\n",
    "    for feat in audio_lst[0]:\n",
    "        song_dict[feat].append(audio_lst[0][feat])"
   ]
  },
  {
   "cell_type": "code",
   "execution_count": 30,
   "metadata": {},
   "outputs": [],
   "source": [
    "song_df = pd.DataFrame(song_dict)"
   ]
  },
  {
   "cell_type": "code",
   "execution_count": 31,
   "metadata": {},
   "outputs": [
    {
     "data": {
      "text/html": [
       "<div>\n",
       "<style scoped>\n",
       "    .dataframe tbody tr th:only-of-type {\n",
       "        vertical-align: middle;\n",
       "    }\n",
       "\n",
       "    .dataframe tbody tr th {\n",
       "        vertical-align: top;\n",
       "    }\n",
       "\n",
       "    .dataframe thead th {\n",
       "        text-align: right;\n",
       "    }\n",
       "</style>\n",
       "<table border=\"1\" class=\"dataframe\">\n",
       "  <thead>\n",
       "    <tr style=\"text-align: right;\">\n",
       "      <th></th>\n",
       "      <th>danceability</th>\n",
       "      <th>energy</th>\n",
       "      <th>key</th>\n",
       "      <th>loudness</th>\n",
       "      <th>mode</th>\n",
       "      <th>speechiness</th>\n",
       "      <th>acousticness</th>\n",
       "      <th>instrumentalness</th>\n",
       "      <th>liveness</th>\n",
       "      <th>valence</th>\n",
       "      <th>tempo</th>\n",
       "      <th>type</th>\n",
       "      <th>id</th>\n",
       "      <th>uri</th>\n",
       "      <th>track_href</th>\n",
       "      <th>analysis_url</th>\n",
       "      <th>duration_ms</th>\n",
       "      <th>time_signature</th>\n",
       "    </tr>\n",
       "  </thead>\n",
       "  <tbody>\n",
       "    <tr>\n",
       "      <th>0</th>\n",
       "      <td>0.631</td>\n",
       "      <td>0.605</td>\n",
       "      <td>0</td>\n",
       "      <td>-8.730</td>\n",
       "      <td>1</td>\n",
       "      <td>0.0386</td>\n",
       "      <td>0.45300</td>\n",
       "      <td>0.000184</td>\n",
       "      <td>0.2910</td>\n",
       "      <td>0.250</td>\n",
       "      <td>115.281</td>\n",
       "      <td>audio_features</td>\n",
       "      <td>4LVDnRxfljiEerC26z3JW4</td>\n",
       "      <td>spotify:track:4LVDnRxfljiEerC26z3JW4</td>\n",
       "      <td>https://api.spotify.com/v1/tracks/4LVDnRxfljiE...</td>\n",
       "      <td>https://api.spotify.com/v1/audio-analysis/4LVD...</td>\n",
       "      <td>295293</td>\n",
       "      <td>4</td>\n",
       "    </tr>\n",
       "    <tr>\n",
       "      <th>1</th>\n",
       "      <td>0.531</td>\n",
       "      <td>0.766</td>\n",
       "      <td>8</td>\n",
       "      <td>-7.692</td>\n",
       "      <td>1</td>\n",
       "      <td>0.0582</td>\n",
       "      <td>0.00560</td>\n",
       "      <td>0.000000</td>\n",
       "      <td>0.2010</td>\n",
       "      <td>0.532</td>\n",
       "      <td>130.048</td>\n",
       "      <td>audio_features</td>\n",
       "      <td>1rS3J4u1G8f6hbmTosa8Nf</td>\n",
       "      <td>spotify:track:1rS3J4u1G8f6hbmTosa8Nf</td>\n",
       "      <td>https://api.spotify.com/v1/tracks/1rS3J4u1G8f6...</td>\n",
       "      <td>https://api.spotify.com/v1/audio-analysis/1rS3...</td>\n",
       "      <td>179493</td>\n",
       "      <td>4</td>\n",
       "    </tr>\n",
       "    <tr>\n",
       "      <th>2</th>\n",
       "      <td>0.561</td>\n",
       "      <td>0.965</td>\n",
       "      <td>7</td>\n",
       "      <td>-3.673</td>\n",
       "      <td>0</td>\n",
       "      <td>0.0343</td>\n",
       "      <td>0.00383</td>\n",
       "      <td>0.000007</td>\n",
       "      <td>0.3710</td>\n",
       "      <td>0.304</td>\n",
       "      <td>128.040</td>\n",
       "      <td>audio_features</td>\n",
       "      <td>4uUG5RXrOk84mYEfFvj3cK</td>\n",
       "      <td>spotify:track:4uUG5RXrOk84mYEfFvj3cK</td>\n",
       "      <td>https://api.spotify.com/v1/tracks/4uUG5RXrOk84...</td>\n",
       "      <td>https://api.spotify.com/v1/audio-analysis/4uUG...</td>\n",
       "      <td>175238</td>\n",
       "      <td>4</td>\n",
       "    </tr>\n",
       "    <tr>\n",
       "      <th>3</th>\n",
       "      <td>0.620</td>\n",
       "      <td>0.712</td>\n",
       "      <td>9</td>\n",
       "      <td>-6.434</td>\n",
       "      <td>1</td>\n",
       "      <td>0.1000</td>\n",
       "      <td>0.22800</td>\n",
       "      <td>0.000003</td>\n",
       "      <td>0.0561</td>\n",
       "      <td>0.830</td>\n",
       "      <td>170.234</td>\n",
       "      <td>audio_features</td>\n",
       "      <td>4dRqYKhLVujxiBXcq50YzG</td>\n",
       "      <td>spotify:track:4dRqYKhLVujxiBXcq50YzG</td>\n",
       "      <td>https://api.spotify.com/v1/tracks/4dRqYKhLVujx...</td>\n",
       "      <td>https://api.spotify.com/v1/audio-analysis/4dRq...</td>\n",
       "      <td>268600</td>\n",
       "      <td>4</td>\n",
       "    </tr>\n",
       "    <tr>\n",
       "      <th>4</th>\n",
       "      <td>0.787</td>\n",
       "      <td>0.655</td>\n",
       "      <td>6</td>\n",
       "      <td>-8.339</td>\n",
       "      <td>0</td>\n",
       "      <td>0.0431</td>\n",
       "      <td>0.23800</td>\n",
       "      <td>0.000171</td>\n",
       "      <td>0.1380</td>\n",
       "      <td>0.650</td>\n",
       "      <td>102.485</td>\n",
       "      <td>audio_features</td>\n",
       "      <td>6shRGWCtBUOPFLFTTqXZIC</td>\n",
       "      <td>spotify:track:6shRGWCtBUOPFLFTTqXZIC</td>\n",
       "      <td>https://api.spotify.com/v1/tracks/6shRGWCtBUOP...</td>\n",
       "      <td>https://api.spotify.com/v1/audio-analysis/6shR...</td>\n",
       "      <td>208653</td>\n",
       "      <td>4</td>\n",
       "    </tr>\n",
       "  </tbody>\n",
       "</table>\n",
       "</div>"
      ],
      "text/plain": [
       "   danceability  energy  key  loudness  mode  speechiness  acousticness  \\\n",
       "0         0.631   0.605    0    -8.730     1       0.0386       0.45300   \n",
       "1         0.531   0.766    8    -7.692     1       0.0582       0.00560   \n",
       "2         0.561   0.965    7    -3.673     0       0.0343       0.00383   \n",
       "3         0.620   0.712    9    -6.434     1       0.1000       0.22800   \n",
       "4         0.787   0.655    6    -8.339     0       0.0431       0.23800   \n",
       "\n",
       "   instrumentalness  liveness  valence    tempo            type  \\\n",
       "0          0.000184    0.2910    0.250  115.281  audio_features   \n",
       "1          0.000000    0.2010    0.532  130.048  audio_features   \n",
       "2          0.000007    0.3710    0.304  128.040  audio_features   \n",
       "3          0.000003    0.0561    0.830  170.234  audio_features   \n",
       "4          0.000171    0.1380    0.650  102.485  audio_features   \n",
       "\n",
       "                       id                                   uri  \\\n",
       "0  4LVDnRxfljiEerC26z3JW4  spotify:track:4LVDnRxfljiEerC26z3JW4   \n",
       "1  1rS3J4u1G8f6hbmTosa8Nf  spotify:track:1rS3J4u1G8f6hbmTosa8Nf   \n",
       "2  4uUG5RXrOk84mYEfFvj3cK  spotify:track:4uUG5RXrOk84mYEfFvj3cK   \n",
       "3  4dRqYKhLVujxiBXcq50YzG  spotify:track:4dRqYKhLVujxiBXcq50YzG   \n",
       "4  6shRGWCtBUOPFLFTTqXZIC  spotify:track:6shRGWCtBUOPFLFTTqXZIC   \n",
       "\n",
       "                                          track_href  \\\n",
       "0  https://api.spotify.com/v1/tracks/4LVDnRxfljiE...   \n",
       "1  https://api.spotify.com/v1/tracks/1rS3J4u1G8f6...   \n",
       "2  https://api.spotify.com/v1/tracks/4uUG5RXrOk84...   \n",
       "3  https://api.spotify.com/v1/tracks/4dRqYKhLVujx...   \n",
       "4  https://api.spotify.com/v1/tracks/6shRGWCtBUOP...   \n",
       "\n",
       "                                        analysis_url  duration_ms  \\\n",
       "0  https://api.spotify.com/v1/audio-analysis/4LVD...       295293   \n",
       "1  https://api.spotify.com/v1/audio-analysis/1rS3...       179493   \n",
       "2  https://api.spotify.com/v1/audio-analysis/4uUG...       175238   \n",
       "3  https://api.spotify.com/v1/audio-analysis/4dRq...       268600   \n",
       "4  https://api.spotify.com/v1/audio-analysis/6shR...       208653   \n",
       "\n",
       "   time_signature  \n",
       "0               4  \n",
       "1               4  \n",
       "2               4  \n",
       "3               4  \n",
       "4               4  "
      ]
     },
     "execution_count": 31,
     "metadata": {},
     "output_type": "execute_result"
    }
   ],
   "source": [
    "# uncomment the below to see if you completed your task\n",
    "song_df.head()"
   ]
  },
  {
   "cell_type": "markdown",
   "metadata": {},
   "source": [
    "## Part 2.4: Cleaning/manipulating (5 points)\n",
    "\n",
    "Look at the information in `playlist_dict` and the information in `song_df`. What information would you like to add to `song_df` from `playlist_dict`? What information is in `song_df` that is not very useful?\n",
    "\n",
    "**Briefly discuss** your answers to those two questions in a markdown cell, then make the changes to `song_df`. That is: add the columns to the Data Frame that you wish to add, and delete the columns that are not useful. Keep in mind that there are many \"correct\" answers here."
   ]
  },
  {
   "cell_type": "markdown",
   "metadata": {},
   "source": []
  },
  {
   "cell_type": "markdown",
   "metadata": {},
   "source": [
    "I would like to add the following columns to the song df: track_name, artist_uri, and album\n",
    "By adding these, our df will clearly display audio features for specific songs (thanks to track_name), we'd\n",
    "able to find the artist info (through using sp.artist on the artist_uri), and we'd able to find the track's album\n",
    "\n",
    "I would like to remove the following columns from the song_df: type, and time_signature\n",
    "since I'm not entirely sure what they represent and that's why I'll get rid of them"
   ]
  },
  {
   "cell_type": "code",
   "execution_count": 32,
   "metadata": {
    "scrolled": true
   },
   "outputs": [
    {
     "data": {
      "text/html": [
       "<div>\n",
       "<style scoped>\n",
       "    .dataframe tbody tr th:only-of-type {\n",
       "        vertical-align: middle;\n",
       "    }\n",
       "\n",
       "    .dataframe tbody tr th {\n",
       "        vertical-align: top;\n",
       "    }\n",
       "\n",
       "    .dataframe thead th {\n",
       "        text-align: right;\n",
       "    }\n",
       "</style>\n",
       "<table border=\"1\" class=\"dataframe\">\n",
       "  <thead>\n",
       "    <tr style=\"text-align: right;\">\n",
       "      <th></th>\n",
       "      <th>danceability</th>\n",
       "      <th>energy</th>\n",
       "      <th>key</th>\n",
       "      <th>loudness</th>\n",
       "      <th>mode</th>\n",
       "      <th>speechiness</th>\n",
       "      <th>acousticness</th>\n",
       "      <th>instrumentalness</th>\n",
       "      <th>liveness</th>\n",
       "      <th>valence</th>\n",
       "      <th>tempo</th>\n",
       "      <th>id</th>\n",
       "      <th>uri</th>\n",
       "      <th>track_href</th>\n",
       "      <th>analysis_url</th>\n",
       "      <th>duration_ms</th>\n",
       "      <th>track_name</th>\n",
       "      <th>artist_uri</th>\n",
       "      <th>album</th>\n",
       "    </tr>\n",
       "  </thead>\n",
       "  <tbody>\n",
       "    <tr>\n",
       "      <th>0</th>\n",
       "      <td>0.631</td>\n",
       "      <td>0.605</td>\n",
       "      <td>0</td>\n",
       "      <td>-8.730</td>\n",
       "      <td>1</td>\n",
       "      <td>0.0386</td>\n",
       "      <td>0.45300</td>\n",
       "      <td>0.000184</td>\n",
       "      <td>0.2910</td>\n",
       "      <td>0.250</td>\n",
       "      <td>115.281</td>\n",
       "      <td>4LVDnRxfljiEerC26z3JW4</td>\n",
       "      <td>spotify:track:4LVDnRxfljiEerC26z3JW4</td>\n",
       "      <td>https://api.spotify.com/v1/tracks/4LVDnRxfljiE...</td>\n",
       "      <td>https://api.spotify.com/v1/audio-analysis/4LVD...</td>\n",
       "      <td>295293</td>\n",
       "      <td>Pursuit Of Happiness (nightmare)</td>\n",
       "      <td>spotify:artist:0fA0VVWsXO9YnASrzqfmYu</td>\n",
       "      <td>Man On The Moon: The End Of Day (Deluxe)</td>\n",
       "    </tr>\n",
       "    <tr>\n",
       "      <th>1</th>\n",
       "      <td>0.531</td>\n",
       "      <td>0.766</td>\n",
       "      <td>8</td>\n",
       "      <td>-7.692</td>\n",
       "      <td>1</td>\n",
       "      <td>0.0582</td>\n",
       "      <td>0.00560</td>\n",
       "      <td>0.000000</td>\n",
       "      <td>0.2010</td>\n",
       "      <td>0.532</td>\n",
       "      <td>130.048</td>\n",
       "      <td>1rS3J4u1G8f6hbmTosa8Nf</td>\n",
       "      <td>spotify:track:1rS3J4u1G8f6hbmTosa8Nf</td>\n",
       "      <td>https://api.spotify.com/v1/tracks/1rS3J4u1G8f6...</td>\n",
       "      <td>https://api.spotify.com/v1/audio-analysis/1rS3...</td>\n",
       "      <td>179493</td>\n",
       "      <td>I Found A Way</td>\n",
       "      <td>spotify:artist:03ilIKH0i08IxmjKcn63ne</td>\n",
       "      <td>Drake &amp; Josh: Songs From &amp; Inspired By The Hit...</td>\n",
       "    </tr>\n",
       "    <tr>\n",
       "      <th>2</th>\n",
       "      <td>0.561</td>\n",
       "      <td>0.965</td>\n",
       "      <td>7</td>\n",
       "      <td>-3.673</td>\n",
       "      <td>0</td>\n",
       "      <td>0.0343</td>\n",
       "      <td>0.00383</td>\n",
       "      <td>0.000007</td>\n",
       "      <td>0.3710</td>\n",
       "      <td>0.304</td>\n",
       "      <td>128.040</td>\n",
       "      <td>4uUG5RXrOk84mYEfFvj3cK</td>\n",
       "      <td>spotify:track:4uUG5RXrOk84mYEfFvj3cK</td>\n",
       "      <td>https://api.spotify.com/v1/tracks/4uUG5RXrOk84...</td>\n",
       "      <td>https://api.spotify.com/v1/audio-analysis/4uUG...</td>\n",
       "      <td>175238</td>\n",
       "      <td>I'm Good (Blue)</td>\n",
       "      <td>spotify:artist:1Cs0zKBU1kc0i8ypK3B9ai</td>\n",
       "      <td>I'm Good (Blue)</td>\n",
       "    </tr>\n",
       "    <tr>\n",
       "      <th>3</th>\n",
       "      <td>0.620</td>\n",
       "      <td>0.712</td>\n",
       "      <td>9</td>\n",
       "      <td>-6.434</td>\n",
       "      <td>1</td>\n",
       "      <td>0.1000</td>\n",
       "      <td>0.22800</td>\n",
       "      <td>0.000003</td>\n",
       "      <td>0.0561</td>\n",
       "      <td>0.830</td>\n",
       "      <td>170.234</td>\n",
       "      <td>4dRqYKhLVujxiBXcq50YzG</td>\n",
       "      <td>spotify:track:4dRqYKhLVujxiBXcq50YzG</td>\n",
       "      <td>https://api.spotify.com/v1/tracks/4dRqYKhLVujx...</td>\n",
       "      <td>https://api.spotify.com/v1/audio-analysis/4dRq...</td>\n",
       "      <td>268600</td>\n",
       "      <td>This Life</td>\n",
       "      <td>spotify:artist:5BvJzeQpmsdsFp4HGUYUEx</td>\n",
       "      <td>Father of the Bride</td>\n",
       "    </tr>\n",
       "    <tr>\n",
       "      <th>4</th>\n",
       "      <td>0.787</td>\n",
       "      <td>0.655</td>\n",
       "      <td>6</td>\n",
       "      <td>-8.339</td>\n",
       "      <td>0</td>\n",
       "      <td>0.0431</td>\n",
       "      <td>0.23800</td>\n",
       "      <td>0.000171</td>\n",
       "      <td>0.1380</td>\n",
       "      <td>0.650</td>\n",
       "      <td>102.485</td>\n",
       "      <td>6shRGWCtBUOPFLFTTqXZIC</td>\n",
       "      <td>spotify:track:6shRGWCtBUOPFLFTTqXZIC</td>\n",
       "      <td>https://api.spotify.com/v1/tracks/6shRGWCtBUOP...</td>\n",
       "      <td>https://api.spotify.com/v1/audio-analysis/6shR...</td>\n",
       "      <td>208653</td>\n",
       "      <td>Upside Down</td>\n",
       "      <td>spotify:artist:3GBPw9NK25X1Wt2OUvOwY3</td>\n",
       "      <td>Jack Johnson And Friends: Sing-A-Longs And Lul...</td>\n",
       "    </tr>\n",
       "    <tr>\n",
       "      <th>...</th>\n",
       "      <td>...</td>\n",
       "      <td>...</td>\n",
       "      <td>...</td>\n",
       "      <td>...</td>\n",
       "      <td>...</td>\n",
       "      <td>...</td>\n",
       "      <td>...</td>\n",
       "      <td>...</td>\n",
       "      <td>...</td>\n",
       "      <td>...</td>\n",
       "      <td>...</td>\n",
       "      <td>...</td>\n",
       "      <td>...</td>\n",
       "      <td>...</td>\n",
       "      <td>...</td>\n",
       "      <td>...</td>\n",
       "      <td>...</td>\n",
       "      <td>...</td>\n",
       "      <td>...</td>\n",
       "    </tr>\n",
       "    <tr>\n",
       "      <th>95</th>\n",
       "      <td>0.803</td>\n",
       "      <td>0.401</td>\n",
       "      <td>3</td>\n",
       "      <td>-13.280</td>\n",
       "      <td>0</td>\n",
       "      <td>0.2870</td>\n",
       "      <td>0.61200</td>\n",
       "      <td>0.763000</td>\n",
       "      <td>0.2440</td>\n",
       "      <td>0.592</td>\n",
       "      <td>125.872</td>\n",
       "      <td>32TW5KGM1UqTzkTOkcNITt</td>\n",
       "      <td>spotify:track:32TW5KGM1UqTzkTOkcNITt</td>\n",
       "      <td>https://api.spotify.com/v1/tracks/32TW5KGM1UqT...</td>\n",
       "      <td>https://api.spotify.com/v1/audio-analysis/32TW...</td>\n",
       "      <td>135516</td>\n",
       "      <td>Sweetly</td>\n",
       "      <td>spotify:artist:0RLNRNxmEHZN7EStjBf0O4</td>\n",
       "      <td>Sweetly</td>\n",
       "    </tr>\n",
       "    <tr>\n",
       "      <th>96</th>\n",
       "      <td>0.692</td>\n",
       "      <td>0.711</td>\n",
       "      <td>0</td>\n",
       "      <td>-7.498</td>\n",
       "      <td>0</td>\n",
       "      <td>0.0317</td>\n",
       "      <td>0.22500</td>\n",
       "      <td>0.000000</td>\n",
       "      <td>0.1200</td>\n",
       "      <td>0.875</td>\n",
       "      <td>125.135</td>\n",
       "      <td>1TfqLAPs4K3s2rJMoCokcS</td>\n",
       "      <td>spotify:track:1TfqLAPs4K3s2rJMoCokcS</td>\n",
       "      <td>https://api.spotify.com/v1/tracks/1TfqLAPs4K3s...</td>\n",
       "      <td>https://api.spotify.com/v1/audio-analysis/1Tfq...</td>\n",
       "      <td>216933</td>\n",
       "      <td>Sweet Dreams (Are Made of This) - Remastered</td>\n",
       "      <td>spotify:artist:0NKDgy9j66h3DLnN8qu1bB</td>\n",
       "      <td>Sweet Dreams (Are Made Of This)</td>\n",
       "    </tr>\n",
       "    <tr>\n",
       "      <th>97</th>\n",
       "      <td>0.439</td>\n",
       "      <td>0.808</td>\n",
       "      <td>1</td>\n",
       "      <td>-6.881</td>\n",
       "      <td>1</td>\n",
       "      <td>0.3460</td>\n",
       "      <td>0.00305</td>\n",
       "      <td>0.000000</td>\n",
       "      <td>0.4390</td>\n",
       "      <td>0.487</td>\n",
       "      <td>82.962</td>\n",
       "      <td>4ZPdLEztrlZqbJkgHNw54L</td>\n",
       "      <td>spotify:track:4ZPdLEztrlZqbJkgHNw54L</td>\n",
       "      <td>https://api.spotify.com/v1/tracks/4ZPdLEztrlZq...</td>\n",
       "      <td>https://api.spotify.com/v1/audio-analysis/4ZPd...</td>\n",
       "      <td>207000</td>\n",
       "      <td>Good Life</td>\n",
       "      <td>spotify:artist:5K4W6rqBFWDnAN6FQUkS6x</td>\n",
       "      <td>Graduation</td>\n",
       "    </tr>\n",
       "    <tr>\n",
       "      <th>98</th>\n",
       "      <td>0.878</td>\n",
       "      <td>0.525</td>\n",
       "      <td>5</td>\n",
       "      <td>-6.832</td>\n",
       "      <td>1</td>\n",
       "      <td>0.0578</td>\n",
       "      <td>0.18300</td>\n",
       "      <td>0.000000</td>\n",
       "      <td>0.0714</td>\n",
       "      <td>0.694</td>\n",
       "      <td>112.022</td>\n",
       "      <td>1Cv1YLb4q0RzL6pybtaMLo</td>\n",
       "      <td>spotify:track:1Cv1YLb4q0RzL6pybtaMLo</td>\n",
       "      <td>https://api.spotify.com/v1/tracks/1Cv1YLb4q0Rz...</td>\n",
       "      <td>https://api.spotify.com/v1/audio-analysis/1Cv1...</td>\n",
       "      <td>158571</td>\n",
       "      <td>Sunday Best</td>\n",
       "      <td>spotify:artist:4ETSs924pXMzjIeD6E9b4u</td>\n",
       "      <td>Where the Light Is</td>\n",
       "    </tr>\n",
       "    <tr>\n",
       "      <th>99</th>\n",
       "      <td>0.560</td>\n",
       "      <td>0.434</td>\n",
       "      <td>4</td>\n",
       "      <td>-14.151</td>\n",
       "      <td>0</td>\n",
       "      <td>0.0729</td>\n",
       "      <td>0.55000</td>\n",
       "      <td>0.000000</td>\n",
       "      <td>0.3460</td>\n",
       "      <td>0.664</td>\n",
       "      <td>112.803</td>\n",
       "      <td>4FmCUATNIarCQh72JYdvnm</td>\n",
       "      <td>spotify:track:4FmCUATNIarCQh72JYdvnm</td>\n",
       "      <td>https://api.spotify.com/v1/tracks/4FmCUATNIarC...</td>\n",
       "      <td>https://api.spotify.com/v1/audio-analysis/4FmC...</td>\n",
       "      <td>187040</td>\n",
       "      <td>That's Life</td>\n",
       "      <td>spotify:artist:1Mxqyy3pSjf8kZZL4QVxS0</td>\n",
       "      <td>That's Life</td>\n",
       "    </tr>\n",
       "  </tbody>\n",
       "</table>\n",
       "<p>100 rows × 19 columns</p>\n",
       "</div>"
      ],
      "text/plain": [
       "    danceability  energy  key  loudness  mode  speechiness  acousticness  \\\n",
       "0          0.631   0.605    0    -8.730     1       0.0386       0.45300   \n",
       "1          0.531   0.766    8    -7.692     1       0.0582       0.00560   \n",
       "2          0.561   0.965    7    -3.673     0       0.0343       0.00383   \n",
       "3          0.620   0.712    9    -6.434     1       0.1000       0.22800   \n",
       "4          0.787   0.655    6    -8.339     0       0.0431       0.23800   \n",
       "..           ...     ...  ...       ...   ...          ...           ...   \n",
       "95         0.803   0.401    3   -13.280     0       0.2870       0.61200   \n",
       "96         0.692   0.711    0    -7.498     0       0.0317       0.22500   \n",
       "97         0.439   0.808    1    -6.881     1       0.3460       0.00305   \n",
       "98         0.878   0.525    5    -6.832     1       0.0578       0.18300   \n",
       "99         0.560   0.434    4   -14.151     0       0.0729       0.55000   \n",
       "\n",
       "    instrumentalness  liveness  valence    tempo                      id  \\\n",
       "0           0.000184    0.2910    0.250  115.281  4LVDnRxfljiEerC26z3JW4   \n",
       "1           0.000000    0.2010    0.532  130.048  1rS3J4u1G8f6hbmTosa8Nf   \n",
       "2           0.000007    0.3710    0.304  128.040  4uUG5RXrOk84mYEfFvj3cK   \n",
       "3           0.000003    0.0561    0.830  170.234  4dRqYKhLVujxiBXcq50YzG   \n",
       "4           0.000171    0.1380    0.650  102.485  6shRGWCtBUOPFLFTTqXZIC   \n",
       "..               ...       ...      ...      ...                     ...   \n",
       "95          0.763000    0.2440    0.592  125.872  32TW5KGM1UqTzkTOkcNITt   \n",
       "96          0.000000    0.1200    0.875  125.135  1TfqLAPs4K3s2rJMoCokcS   \n",
       "97          0.000000    0.4390    0.487   82.962  4ZPdLEztrlZqbJkgHNw54L   \n",
       "98          0.000000    0.0714    0.694  112.022  1Cv1YLb4q0RzL6pybtaMLo   \n",
       "99          0.000000    0.3460    0.664  112.803  4FmCUATNIarCQh72JYdvnm   \n",
       "\n",
       "                                     uri  \\\n",
       "0   spotify:track:4LVDnRxfljiEerC26z3JW4   \n",
       "1   spotify:track:1rS3J4u1G8f6hbmTosa8Nf   \n",
       "2   spotify:track:4uUG5RXrOk84mYEfFvj3cK   \n",
       "3   spotify:track:4dRqYKhLVujxiBXcq50YzG   \n",
       "4   spotify:track:6shRGWCtBUOPFLFTTqXZIC   \n",
       "..                                   ...   \n",
       "95  spotify:track:32TW5KGM1UqTzkTOkcNITt   \n",
       "96  spotify:track:1TfqLAPs4K3s2rJMoCokcS   \n",
       "97  spotify:track:4ZPdLEztrlZqbJkgHNw54L   \n",
       "98  spotify:track:1Cv1YLb4q0RzL6pybtaMLo   \n",
       "99  spotify:track:4FmCUATNIarCQh72JYdvnm   \n",
       "\n",
       "                                           track_href  \\\n",
       "0   https://api.spotify.com/v1/tracks/4LVDnRxfljiE...   \n",
       "1   https://api.spotify.com/v1/tracks/1rS3J4u1G8f6...   \n",
       "2   https://api.spotify.com/v1/tracks/4uUG5RXrOk84...   \n",
       "3   https://api.spotify.com/v1/tracks/4dRqYKhLVujx...   \n",
       "4   https://api.spotify.com/v1/tracks/6shRGWCtBUOP...   \n",
       "..                                                ...   \n",
       "95  https://api.spotify.com/v1/tracks/32TW5KGM1UqT...   \n",
       "96  https://api.spotify.com/v1/tracks/1TfqLAPs4K3s...   \n",
       "97  https://api.spotify.com/v1/tracks/4ZPdLEztrlZq...   \n",
       "98  https://api.spotify.com/v1/tracks/1Cv1YLb4q0Rz...   \n",
       "99  https://api.spotify.com/v1/tracks/4FmCUATNIarC...   \n",
       "\n",
       "                                         analysis_url  duration_ms  \\\n",
       "0   https://api.spotify.com/v1/audio-analysis/4LVD...       295293   \n",
       "1   https://api.spotify.com/v1/audio-analysis/1rS3...       179493   \n",
       "2   https://api.spotify.com/v1/audio-analysis/4uUG...       175238   \n",
       "3   https://api.spotify.com/v1/audio-analysis/4dRq...       268600   \n",
       "4   https://api.spotify.com/v1/audio-analysis/6shR...       208653   \n",
       "..                                                ...          ...   \n",
       "95  https://api.spotify.com/v1/audio-analysis/32TW...       135516   \n",
       "96  https://api.spotify.com/v1/audio-analysis/1Tfq...       216933   \n",
       "97  https://api.spotify.com/v1/audio-analysis/4ZPd...       207000   \n",
       "98  https://api.spotify.com/v1/audio-analysis/1Cv1...       158571   \n",
       "99  https://api.spotify.com/v1/audio-analysis/4FmC...       187040   \n",
       "\n",
       "                                      track_name  \\\n",
       "0               Pursuit Of Happiness (nightmare)   \n",
       "1                                  I Found A Way   \n",
       "2                                I'm Good (Blue)   \n",
       "3                                      This Life   \n",
       "4                                    Upside Down   \n",
       "..                                           ...   \n",
       "95                                       Sweetly   \n",
       "96  Sweet Dreams (Are Made of This) - Remastered   \n",
       "97                                     Good Life   \n",
       "98                                   Sunday Best   \n",
       "99                                   That's Life   \n",
       "\n",
       "                               artist_uri  \\\n",
       "0   spotify:artist:0fA0VVWsXO9YnASrzqfmYu   \n",
       "1   spotify:artist:03ilIKH0i08IxmjKcn63ne   \n",
       "2   spotify:artist:1Cs0zKBU1kc0i8ypK3B9ai   \n",
       "3   spotify:artist:5BvJzeQpmsdsFp4HGUYUEx   \n",
       "4   spotify:artist:3GBPw9NK25X1Wt2OUvOwY3   \n",
       "..                                    ...   \n",
       "95  spotify:artist:0RLNRNxmEHZN7EStjBf0O4   \n",
       "96  spotify:artist:0NKDgy9j66h3DLnN8qu1bB   \n",
       "97  spotify:artist:5K4W6rqBFWDnAN6FQUkS6x   \n",
       "98  spotify:artist:4ETSs924pXMzjIeD6E9b4u   \n",
       "99  spotify:artist:1Mxqyy3pSjf8kZZL4QVxS0   \n",
       "\n",
       "                                                album  \n",
       "0            Man On The Moon: The End Of Day (Deluxe)  \n",
       "1   Drake & Josh: Songs From & Inspired By The Hit...  \n",
       "2                                     I'm Good (Blue)  \n",
       "3                                 Father of the Bride  \n",
       "4   Jack Johnson And Friends: Sing-A-Longs And Lul...  \n",
       "..                                                ...  \n",
       "95                                            Sweetly  \n",
       "96                    Sweet Dreams (Are Made Of This)  \n",
       "97                                         Graduation  \n",
       "98                                 Where the Light Is  \n",
       "99                                        That's Life  \n",
       "\n",
       "[100 rows x 19 columns]"
      ]
     },
     "execution_count": 32,
     "metadata": {},
     "output_type": "execute_result"
    }
   ],
   "source": [
    "song_df.drop(['type', 'time_signature'], axis=1, inplace=True)\n",
    "new_cols = {key: playlist_dict[key] for key in ['track_name', 'artist_uri', 'album']}\n",
    "song_df = pd.concat([song_df, pd.DataFrame(new_cols)], ignore_index=False, axis=1)\n",
    "song_df"
   ]
  },
  {
   "cell_type": "markdown",
   "metadata": {},
   "source": [
    "## Part 2.5: Plotting (5 points)\n",
    "\n",
    "Using plotly, make two plots (in separate code cells):\n",
    "- of energy (x-axis) versus danceability (y-axis) that has the song title as hover data.\n",
    "- of acousticness (x-axis) versus loudness (y-axis) that has the song title as hover data.\n",
    "\n",
    "**Then**, in a markdown cell, discuss the relationships (if any) you see in these plots and whether those relationships make sense to you/what you would have expected to see."
   ]
  },
  {
   "cell_type": "code",
   "execution_count": 47,
   "metadata": {
    "scrolled": false
   },
   "outputs": [
    {
     "data": {
      "application/vnd.plotly.v1+json": {
       "config": {
        "plotlyServerURL": "https://plot.ly"
       },
       "data": [
        {
         "customdata": [
          [
           "Pursuit Of Happiness (nightmare)"
          ],
          [
           "I Found A Way"
          ],
          [
           "I'm Good (Blue)"
          ],
          [
           "This Life"
          ],
          [
           "Upside Down"
          ],
          [
           "quiet motions"
          ],
          [
           "Better in Stereo - Theme Song Version"
          ],
          [
           "Them Changes"
          ],
          [
           "Merry-Go-Round of Life - from 'Howl's Moving Castle'"
          ],
          [
           "august"
          ],
          [
           "Never Gonna Give You Up"
          ],
          [
           "Bill Nye The Science Guy"
          ],
          [
           "These Are The Days"
          ],
          [
           "The Spins"
          ],
          [
           "We Didn’t Start The Fire"
          ],
          [
           "One More Year"
          ],
          [
           "Dancing In The Courthouse"
          ],
          [
           "SAD GIRLZ LUV MONEY Remix (feat. Kali Uchis and Moliy)"
          ],
          [
           "life hack"
          ],
          [
           "Escapism."
          ],
          [
           "Driving Myself Home"
          ],
          [
           "Seinfeld Theme"
          ],
          [
           "Vienna"
          ],
          [
           "I Wonder"
          ],
          [
           "Peace Sign"
          ],
          [
           "Boss Bitch"
          ],
          [
           "Queencard"
          ],
          [
           "Friday The 13th Main Theme (feat. Jason Voorhees) - From Friday The 13th"
          ],
          [
           "Pink + White"
          ],
          [
           "Hot Wings (I Wanna Party)"
          ],
          [
           "Happy"
          ],
          [
           "Sticky"
          ],
          [
           "D'yer Mak'er - Remaster"
          ],
          [
           "Gettin' Jiggy Wit It"
          ],
          [
           "Happiness is a butterfly"
          ],
          [
           "Food for the Soul"
          ],
          [
           "Loud And Fast"
          ],
          [
           "Heading South"
          ],
          [
           "The Coast"
          ],
          [
           "Going Up The Country"
          ],
          [
           "Ooh La La"
          ],
          [
           "striptease"
          ],
          [
           "Finesse"
          ],
          [
           "july 16th"
          ],
          [
           "Life is a Highway"
          ],
          [
           "CAN'T STOP THE FEELING! (from DreamWorks Animation's \"TROLLS\")"
          ],
          [
           "Giant Steps - 2020 Remaster"
          ],
          [
           "I'll Be There for You - Theme From \"Friends\""
          ],
          [
           "ハートフェルトファンシー"
          ],
          [
           "No Wind Resistance!"
          ],
          [
           "Breathe (In the Air)"
          ],
          [
           "Chamber Of Reflection"
          ],
          [
           "Day ‘n’ Nite"
          ],
          [
           "Girei (Pain's Theme)"
          ],
          [
           "Hustle"
          ],
          [
           "All Of The Lights"
          ],
          [
           "ブルーアーカイブ (Blue Archive OST 59 Soundtrack)"
          ],
          [
           "Cherry Waves"
          ],
          [
           "Wildest Dreams"
          ],
          [
           "That Girl"
          ],
          [
           "Stargazing"
          ],
          [
           "Future Nostalgia"
          ],
          [
           "American Teenager"
          ],
          [
           "Road Trippin'"
          ],
          [
           "My Favorite Things"
          ],
          [
           "Walking On A Dream"
          ],
          [
           "Levitating"
          ],
          [
           "Champagne Coast"
          ],
          [
           "Time After Time"
          ],
          [
           "Lake Shore Drive"
          ],
          [
           "Bitter"
          ],
          [
           "Natural"
          ],
          [
           "Suit & Tie (feat. Jay-Z)"
          ],
          [
           "You're On Your Own, Kid"
          ],
          [
           "Calm Down"
          ],
          [
           "Break It Out"
          ],
          [
           "Alone in the Mountains"
          ],
          [
           "Put Your Records On"
          ],
          [
           "Out of Tune"
          ],
          [
           "I Took A Pill In Ibiza - Seeb Remix"
          ],
          [
           "Take Two"
          ],
          [
           "Pressure"
          ],
          [
           "Imagine - Remastered 2010"
          ],
          [
           "The King"
          ],
          [
           "Honey, Honey"
          ],
          [
           "Call Me, Beep Me! (The Kim Possible Song)"
          ],
          [
           "Good News"
          ],
          [
           "Succession (Main Title Theme)"
          ],
          [
           "All My Love"
          ],
          [
           "Don't Delete The Kisses"
          ],
          [
           "Bad Luck"
          ],
          [
           "Homecoming"
          ],
          [
           "BONVOYAGE"
          ],
          [
           "Washed Wine"
          ],
          [
           "Song 2"
          ],
          [
           "Sweetly"
          ],
          [
           "Sweet Dreams (Are Made of This) - Remastered"
          ],
          [
           "Good Life"
          ],
          [
           "Sunday Best"
          ],
          [
           "That's Life"
          ]
         ],
         "hovertemplate": "energy=%{x}<br>danceability=%{y}<br>track_name=%{customdata[0]}<extra></extra>",
         "legendgroup": "",
         "marker": {
          "color": "#636efa",
          "symbol": "circle"
         },
         "mode": "markers",
         "name": "",
         "orientation": "v",
         "showlegend": false,
         "type": "scatter",
         "x": [
          0.605,
          0.766,
          0.965,
          0.712,
          0.655,
          0.614,
          0.827,
          0.562,
          0.287,
          0.623,
          0.939,
          0.655,
          0.955,
          0.766,
          0.961,
          0.88,
          0.741,
          0.523,
          0.655,
          0.742,
          0.491,
          0.884,
          0.495,
          0.465,
          0.79,
          0.955,
          0.834,
          0.317,
          0.545,
          0.686,
          0.439,
          0.492,
          0.929,
          0.874,
          0.119,
          0.714,
          0.73,
          0.246,
          0.535,
          0.239,
          0.574,
          0.575,
          0.798,
          0.213,
          0.952,
          0.744,
          0.42,
          0.917,
          0.777,
          0.496,
          0.373,
          0.557,
          0.477,
          0.37,
          0.794,
          0.803,
          0.985,
          0.859,
          0.666,
          0.797,
          0.483,
          0.813,
          0.748,
          0.474,
          0.247,
          0.701,
          0.884,
          0.406,
          0.449,
          0.885,
          0.672,
          0.6,
          0.596,
          0.396,
          0.789,
          0.952,
          0.686,
          0.491,
          0.526,
          0.714,
          0.589,
          0.56,
          0.257,
          0.668,
          0.804,
          0.795,
          0.32,
          0.471,
          0.651,
          0.789,
          0.52,
          0.747,
          0.858,
          0.486,
          0.709,
          0.401,
          0.711,
          0.808,
          0.525,
          0.434
         ],
         "xaxis": "x",
         "y": [
          0.631,
          0.531,
          0.561,
          0.62,
          0.787,
          0.52,
          0.699,
          0.657,
          0.239,
          0.532,
          0.721,
          0.632,
          0.51,
          0.794,
          0.567,
          0.602,
          0.621,
          0.87,
          0.711,
          0.538,
          0.575,
          0.791,
          0.532,
          0.541,
          0.403,
          0.707,
          0.815,
          0.233,
          0.545,
          0.739,
          0.792,
          0.854,
          0.525,
          0.881,
          0.467,
          0.655,
          0.646,
          0.68,
          0.667,
          0.653,
          0.601,
          0.693,
          0.741,
          0.373,
          0.582,
          0.671,
          0.417,
          0.32,
          0.444,
          0.695,
          0.431,
          0.538,
          0.883,
          0.209,
          0.716,
          0.531,
          0.353,
          0.47,
          0.554,
          0.643,
          0.512,
          0.875,
          0.415,
          0.378,
          0.622,
          0.871,
          0.695,
          0.813,
          0.726,
          0.434,
          0.833,
          0.538,
          0.795,
          0.696,
          0.814,
          0.571,
          0.713,
          0.399,
          0.435,
          0.664,
          0.617,
          0.277,
          0.547,
          0.632,
          0.474,
          0.885,
          0.794,
          0.366,
          0.637,
          0.604,
          0.432,
          0.667,
          0.487,
          0.746,
          0.658,
          0.803,
          0.692,
          0.439,
          0.878,
          0.56
         ],
         "yaxis": "y"
        }
       ],
       "layout": {
        "legend": {
         "tracegroupgap": 0
        },
        "margin": {
         "t": 60
        },
        "template": {
         "data": {
          "bar": [
           {
            "error_x": {
             "color": "#2a3f5f"
            },
            "error_y": {
             "color": "#2a3f5f"
            },
            "marker": {
             "line": {
              "color": "#E5ECF6",
              "width": 0.5
             },
             "pattern": {
              "fillmode": "overlay",
              "size": 10,
              "solidity": 0.2
             }
            },
            "type": "bar"
           }
          ],
          "barpolar": [
           {
            "marker": {
             "line": {
              "color": "#E5ECF6",
              "width": 0.5
             },
             "pattern": {
              "fillmode": "overlay",
              "size": 10,
              "solidity": 0.2
             }
            },
            "type": "barpolar"
           }
          ],
          "carpet": [
           {
            "aaxis": {
             "endlinecolor": "#2a3f5f",
             "gridcolor": "white",
             "linecolor": "white",
             "minorgridcolor": "white",
             "startlinecolor": "#2a3f5f"
            },
            "baxis": {
             "endlinecolor": "#2a3f5f",
             "gridcolor": "white",
             "linecolor": "white",
             "minorgridcolor": "white",
             "startlinecolor": "#2a3f5f"
            },
            "type": "carpet"
           }
          ],
          "choropleth": [
           {
            "colorbar": {
             "outlinewidth": 0,
             "ticks": ""
            },
            "type": "choropleth"
           }
          ],
          "contour": [
           {
            "colorbar": {
             "outlinewidth": 0,
             "ticks": ""
            },
            "colorscale": [
             [
              0,
              "#0d0887"
             ],
             [
              0.1111111111111111,
              "#46039f"
             ],
             [
              0.2222222222222222,
              "#7201a8"
             ],
             [
              0.3333333333333333,
              "#9c179e"
             ],
             [
              0.4444444444444444,
              "#bd3786"
             ],
             [
              0.5555555555555556,
              "#d8576b"
             ],
             [
              0.6666666666666666,
              "#ed7953"
             ],
             [
              0.7777777777777778,
              "#fb9f3a"
             ],
             [
              0.8888888888888888,
              "#fdca26"
             ],
             [
              1,
              "#f0f921"
             ]
            ],
            "type": "contour"
           }
          ],
          "contourcarpet": [
           {
            "colorbar": {
             "outlinewidth": 0,
             "ticks": ""
            },
            "type": "contourcarpet"
           }
          ],
          "heatmap": [
           {
            "colorbar": {
             "outlinewidth": 0,
             "ticks": ""
            },
            "colorscale": [
             [
              0,
              "#0d0887"
             ],
             [
              0.1111111111111111,
              "#46039f"
             ],
             [
              0.2222222222222222,
              "#7201a8"
             ],
             [
              0.3333333333333333,
              "#9c179e"
             ],
             [
              0.4444444444444444,
              "#bd3786"
             ],
             [
              0.5555555555555556,
              "#d8576b"
             ],
             [
              0.6666666666666666,
              "#ed7953"
             ],
             [
              0.7777777777777778,
              "#fb9f3a"
             ],
             [
              0.8888888888888888,
              "#fdca26"
             ],
             [
              1,
              "#f0f921"
             ]
            ],
            "type": "heatmap"
           }
          ],
          "heatmapgl": [
           {
            "colorbar": {
             "outlinewidth": 0,
             "ticks": ""
            },
            "colorscale": [
             [
              0,
              "#0d0887"
             ],
             [
              0.1111111111111111,
              "#46039f"
             ],
             [
              0.2222222222222222,
              "#7201a8"
             ],
             [
              0.3333333333333333,
              "#9c179e"
             ],
             [
              0.4444444444444444,
              "#bd3786"
             ],
             [
              0.5555555555555556,
              "#d8576b"
             ],
             [
              0.6666666666666666,
              "#ed7953"
             ],
             [
              0.7777777777777778,
              "#fb9f3a"
             ],
             [
              0.8888888888888888,
              "#fdca26"
             ],
             [
              1,
              "#f0f921"
             ]
            ],
            "type": "heatmapgl"
           }
          ],
          "histogram": [
           {
            "marker": {
             "pattern": {
              "fillmode": "overlay",
              "size": 10,
              "solidity": 0.2
             }
            },
            "type": "histogram"
           }
          ],
          "histogram2d": [
           {
            "colorbar": {
             "outlinewidth": 0,
             "ticks": ""
            },
            "colorscale": [
             [
              0,
              "#0d0887"
             ],
             [
              0.1111111111111111,
              "#46039f"
             ],
             [
              0.2222222222222222,
              "#7201a8"
             ],
             [
              0.3333333333333333,
              "#9c179e"
             ],
             [
              0.4444444444444444,
              "#bd3786"
             ],
             [
              0.5555555555555556,
              "#d8576b"
             ],
             [
              0.6666666666666666,
              "#ed7953"
             ],
             [
              0.7777777777777778,
              "#fb9f3a"
             ],
             [
              0.8888888888888888,
              "#fdca26"
             ],
             [
              1,
              "#f0f921"
             ]
            ],
            "type": "histogram2d"
           }
          ],
          "histogram2dcontour": [
           {
            "colorbar": {
             "outlinewidth": 0,
             "ticks": ""
            },
            "colorscale": [
             [
              0,
              "#0d0887"
             ],
             [
              0.1111111111111111,
              "#46039f"
             ],
             [
              0.2222222222222222,
              "#7201a8"
             ],
             [
              0.3333333333333333,
              "#9c179e"
             ],
             [
              0.4444444444444444,
              "#bd3786"
             ],
             [
              0.5555555555555556,
              "#d8576b"
             ],
             [
              0.6666666666666666,
              "#ed7953"
             ],
             [
              0.7777777777777778,
              "#fb9f3a"
             ],
             [
              0.8888888888888888,
              "#fdca26"
             ],
             [
              1,
              "#f0f921"
             ]
            ],
            "type": "histogram2dcontour"
           }
          ],
          "mesh3d": [
           {
            "colorbar": {
             "outlinewidth": 0,
             "ticks": ""
            },
            "type": "mesh3d"
           }
          ],
          "parcoords": [
           {
            "line": {
             "colorbar": {
              "outlinewidth": 0,
              "ticks": ""
             }
            },
            "type": "parcoords"
           }
          ],
          "pie": [
           {
            "automargin": true,
            "type": "pie"
           }
          ],
          "scatter": [
           {
            "fillpattern": {
             "fillmode": "overlay",
             "size": 10,
             "solidity": 0.2
            },
            "type": "scatter"
           }
          ],
          "scatter3d": [
           {
            "line": {
             "colorbar": {
              "outlinewidth": 0,
              "ticks": ""
             }
            },
            "marker": {
             "colorbar": {
              "outlinewidth": 0,
              "ticks": ""
             }
            },
            "type": "scatter3d"
           }
          ],
          "scattercarpet": [
           {
            "marker": {
             "colorbar": {
              "outlinewidth": 0,
              "ticks": ""
             }
            },
            "type": "scattercarpet"
           }
          ],
          "scattergeo": [
           {
            "marker": {
             "colorbar": {
              "outlinewidth": 0,
              "ticks": ""
             }
            },
            "type": "scattergeo"
           }
          ],
          "scattergl": [
           {
            "marker": {
             "colorbar": {
              "outlinewidth": 0,
              "ticks": ""
             }
            },
            "type": "scattergl"
           }
          ],
          "scattermapbox": [
           {
            "marker": {
             "colorbar": {
              "outlinewidth": 0,
              "ticks": ""
             }
            },
            "type": "scattermapbox"
           }
          ],
          "scatterpolar": [
           {
            "marker": {
             "colorbar": {
              "outlinewidth": 0,
              "ticks": ""
             }
            },
            "type": "scatterpolar"
           }
          ],
          "scatterpolargl": [
           {
            "marker": {
             "colorbar": {
              "outlinewidth": 0,
              "ticks": ""
             }
            },
            "type": "scatterpolargl"
           }
          ],
          "scatterternary": [
           {
            "marker": {
             "colorbar": {
              "outlinewidth": 0,
              "ticks": ""
             }
            },
            "type": "scatterternary"
           }
          ],
          "surface": [
           {
            "colorbar": {
             "outlinewidth": 0,
             "ticks": ""
            },
            "colorscale": [
             [
              0,
              "#0d0887"
             ],
             [
              0.1111111111111111,
              "#46039f"
             ],
             [
              0.2222222222222222,
              "#7201a8"
             ],
             [
              0.3333333333333333,
              "#9c179e"
             ],
             [
              0.4444444444444444,
              "#bd3786"
             ],
             [
              0.5555555555555556,
              "#d8576b"
             ],
             [
              0.6666666666666666,
              "#ed7953"
             ],
             [
              0.7777777777777778,
              "#fb9f3a"
             ],
             [
              0.8888888888888888,
              "#fdca26"
             ],
             [
              1,
              "#f0f921"
             ]
            ],
            "type": "surface"
           }
          ],
          "table": [
           {
            "cells": {
             "fill": {
              "color": "#EBF0F8"
             },
             "line": {
              "color": "white"
             }
            },
            "header": {
             "fill": {
              "color": "#C8D4E3"
             },
             "line": {
              "color": "white"
             }
            },
            "type": "table"
           }
          ]
         },
         "layout": {
          "annotationdefaults": {
           "arrowcolor": "#2a3f5f",
           "arrowhead": 0,
           "arrowwidth": 1
          },
          "autotypenumbers": "strict",
          "coloraxis": {
           "colorbar": {
            "outlinewidth": 0,
            "ticks": ""
           }
          },
          "colorscale": {
           "diverging": [
            [
             0,
             "#8e0152"
            ],
            [
             0.1,
             "#c51b7d"
            ],
            [
             0.2,
             "#de77ae"
            ],
            [
             0.3,
             "#f1b6da"
            ],
            [
             0.4,
             "#fde0ef"
            ],
            [
             0.5,
             "#f7f7f7"
            ],
            [
             0.6,
             "#e6f5d0"
            ],
            [
             0.7,
             "#b8e186"
            ],
            [
             0.8,
             "#7fbc41"
            ],
            [
             0.9,
             "#4d9221"
            ],
            [
             1,
             "#276419"
            ]
           ],
           "sequential": [
            [
             0,
             "#0d0887"
            ],
            [
             0.1111111111111111,
             "#46039f"
            ],
            [
             0.2222222222222222,
             "#7201a8"
            ],
            [
             0.3333333333333333,
             "#9c179e"
            ],
            [
             0.4444444444444444,
             "#bd3786"
            ],
            [
             0.5555555555555556,
             "#d8576b"
            ],
            [
             0.6666666666666666,
             "#ed7953"
            ],
            [
             0.7777777777777778,
             "#fb9f3a"
            ],
            [
             0.8888888888888888,
             "#fdca26"
            ],
            [
             1,
             "#f0f921"
            ]
           ],
           "sequentialminus": [
            [
             0,
             "#0d0887"
            ],
            [
             0.1111111111111111,
             "#46039f"
            ],
            [
             0.2222222222222222,
             "#7201a8"
            ],
            [
             0.3333333333333333,
             "#9c179e"
            ],
            [
             0.4444444444444444,
             "#bd3786"
            ],
            [
             0.5555555555555556,
             "#d8576b"
            ],
            [
             0.6666666666666666,
             "#ed7953"
            ],
            [
             0.7777777777777778,
             "#fb9f3a"
            ],
            [
             0.8888888888888888,
             "#fdca26"
            ],
            [
             1,
             "#f0f921"
            ]
           ]
          },
          "colorway": [
           "#636efa",
           "#EF553B",
           "#00cc96",
           "#ab63fa",
           "#FFA15A",
           "#19d3f3",
           "#FF6692",
           "#B6E880",
           "#FF97FF",
           "#FECB52"
          ],
          "font": {
           "color": "#2a3f5f"
          },
          "geo": {
           "bgcolor": "white",
           "lakecolor": "white",
           "landcolor": "#E5ECF6",
           "showlakes": true,
           "showland": true,
           "subunitcolor": "white"
          },
          "hoverlabel": {
           "align": "left"
          },
          "hovermode": "closest",
          "mapbox": {
           "style": "light"
          },
          "paper_bgcolor": "white",
          "plot_bgcolor": "#E5ECF6",
          "polar": {
           "angularaxis": {
            "gridcolor": "white",
            "linecolor": "white",
            "ticks": ""
           },
           "bgcolor": "#E5ECF6",
           "radialaxis": {
            "gridcolor": "white",
            "linecolor": "white",
            "ticks": ""
           }
          },
          "scene": {
           "xaxis": {
            "backgroundcolor": "#E5ECF6",
            "gridcolor": "white",
            "gridwidth": 2,
            "linecolor": "white",
            "showbackground": true,
            "ticks": "",
            "zerolinecolor": "white"
           },
           "yaxis": {
            "backgroundcolor": "#E5ECF6",
            "gridcolor": "white",
            "gridwidth": 2,
            "linecolor": "white",
            "showbackground": true,
            "ticks": "",
            "zerolinecolor": "white"
           },
           "zaxis": {
            "backgroundcolor": "#E5ECF6",
            "gridcolor": "white",
            "gridwidth": 2,
            "linecolor": "white",
            "showbackground": true,
            "ticks": "",
            "zerolinecolor": "white"
           }
          },
          "shapedefaults": {
           "line": {
            "color": "#2a3f5f"
           }
          },
          "ternary": {
           "aaxis": {
            "gridcolor": "white",
            "linecolor": "white",
            "ticks": ""
           },
           "baxis": {
            "gridcolor": "white",
            "linecolor": "white",
            "ticks": ""
           },
           "bgcolor": "#E5ECF6",
           "caxis": {
            "gridcolor": "white",
            "linecolor": "white",
            "ticks": ""
           }
          },
          "title": {
           "x": 0.05
          },
          "xaxis": {
           "automargin": true,
           "gridcolor": "white",
           "linecolor": "white",
           "ticks": "",
           "title": {
            "standoff": 15
           },
           "zerolinecolor": "white",
           "zerolinewidth": 2
          },
          "yaxis": {
           "automargin": true,
           "gridcolor": "white",
           "linecolor": "white",
           "ticks": "",
           "title": {
            "standoff": 15
           },
           "zerolinecolor": "white",
           "zerolinewidth": 2
          }
         }
        },
        "title": {
         "text": "Energy vs. Danceability",
         "x": 0.5
        },
        "xaxis": {
         "anchor": "y",
         "domain": [
          0,
          1
         ],
         "title": {
          "text": "energy"
         }
        },
        "yaxis": {
         "anchor": "x",
         "domain": [
          0,
          1
         ],
         "title": {
          "text": "danceability"
         }
        }
       }
      },
      "text/html": [
       "<div>                            <div id=\"df01070a-6c1b-4151-869d-0babe95fa078\" class=\"plotly-graph-div\" style=\"height:525px; width:100%;\"></div>            <script type=\"text/javascript\">                require([\"plotly\"], function(Plotly) {                    window.PLOTLYENV=window.PLOTLYENV || {};                                    if (document.getElementById(\"df01070a-6c1b-4151-869d-0babe95fa078\")) {                    Plotly.newPlot(                        \"df01070a-6c1b-4151-869d-0babe95fa078\",                        [{\"customdata\":[[\"Pursuit Of Happiness (nightmare)\"],[\"I Found A Way\"],[\"I'm Good (Blue)\"],[\"This Life\"],[\"Upside Down\"],[\"quiet motions\"],[\"Better in Stereo - Theme Song Version\"],[\"Them Changes\"],[\"Merry-Go-Round of Life - from 'Howl's Moving Castle'\"],[\"august\"],[\"Never Gonna Give You Up\"],[\"Bill Nye The Science Guy\"],[\"These Are The Days\"],[\"The Spins\"],[\"We Didn\\u2019t Start The Fire\"],[\"One More Year\"],[\"Dancing In The Courthouse\"],[\"SAD GIRLZ LUV MONEY Remix (feat. Kali Uchis and Moliy)\"],[\"life hack\"],[\"Escapism.\"],[\"Driving Myself Home\"],[\"Seinfeld Theme\"],[\"Vienna\"],[\"I Wonder\"],[\"Peace Sign\"],[\"Boss Bitch\"],[\"Queencard\"],[\"Friday The 13th Main Theme (feat. Jason Voorhees) - From Friday The 13th\"],[\"Pink + White\"],[\"Hot Wings (I Wanna Party)\"],[\"Happy\"],[\"Sticky\"],[\"D'yer Mak'er - Remaster\"],[\"Gettin' Jiggy Wit It\"],[\"Happiness is a butterfly\"],[\"Food for the Soul\"],[\"Loud And Fast\"],[\"Heading South\"],[\"The Coast\"],[\"Going Up The Country\"],[\"Ooh La La\"],[\"striptease\"],[\"Finesse\"],[\"july 16th\"],[\"Life is a Highway\"],[\"CAN'T STOP THE FEELING! (from DreamWorks Animation's \\\"TROLLS\\\")\"],[\"Giant Steps - 2020 Remaster\"],[\"I'll Be There for You - Theme From \\\"Friends\\\"\"],[\"\\u30cf\\u30fc\\u30c8\\u30d5\\u30a7\\u30eb\\u30c8\\u30d5\\u30a1\\u30f3\\u30b7\\u30fc\"],[\"No Wind Resistance!\"],[\"Breathe (In the Air)\"],[\"Chamber Of Reflection\"],[\"Day \\u2018n\\u2019 Nite\"],[\"Girei (Pain's Theme)\"],[\"Hustle\"],[\"All Of The Lights\"],[\"\\u30d6\\u30eb\\u30fc\\u30a2\\u30fc\\u30ab\\u30a4\\u30d6 (Blue Archive OST 59 Soundtrack)\"],[\"Cherry Waves\"],[\"Wildest Dreams\"],[\"That Girl\"],[\"Stargazing\"],[\"Future Nostalgia\"],[\"American Teenager\"],[\"Road Trippin'\"],[\"My Favorite Things\"],[\"Walking On A Dream\"],[\"Levitating\"],[\"Champagne Coast\"],[\"Time After Time\"],[\"Lake Shore Drive\"],[\"Bitter\"],[\"Natural\"],[\"Suit & Tie (feat. Jay-Z)\"],[\"You're On Your Own, Kid\"],[\"Calm Down\"],[\"Break It Out\"],[\"Alone in the Mountains\"],[\"Put Your Records On\"],[\"Out of Tune\"],[\"I Took A Pill In Ibiza - Seeb Remix\"],[\"Take Two\"],[\"Pressure\"],[\"Imagine - Remastered 2010\"],[\"The King\"],[\"Honey, Honey\"],[\"Call Me, Beep Me! (The Kim Possible Song)\"],[\"Good News\"],[\"Succession (Main Title Theme)\"],[\"All My Love\"],[\"Don't Delete The Kisses\"],[\"Bad Luck\"],[\"Homecoming\"],[\"BONVOYAGE\"],[\"Washed Wine\"],[\"Song 2\"],[\"Sweetly\"],[\"Sweet Dreams (Are Made of This) - Remastered\"],[\"Good Life\"],[\"Sunday Best\"],[\"That's Life\"]],\"hovertemplate\":\"energy=%{x}<br>danceability=%{y}<br>track_name=%{customdata[0]}<extra></extra>\",\"legendgroup\":\"\",\"marker\":{\"color\":\"#636efa\",\"symbol\":\"circle\"},\"mode\":\"markers\",\"name\":\"\",\"orientation\":\"v\",\"showlegend\":false,\"x\":[0.605,0.766,0.965,0.712,0.655,0.614,0.827,0.562,0.287,0.623,0.939,0.655,0.955,0.766,0.961,0.88,0.741,0.523,0.655,0.742,0.491,0.884,0.495,0.465,0.79,0.955,0.834,0.317,0.545,0.686,0.439,0.492,0.929,0.874,0.119,0.714,0.73,0.246,0.535,0.239,0.574,0.575,0.798,0.213,0.952,0.744,0.42,0.917,0.777,0.496,0.373,0.557,0.477,0.37,0.794,0.803,0.985,0.859,0.666,0.797,0.483,0.813,0.748,0.474,0.247,0.701,0.884,0.406,0.449,0.885,0.672,0.6,0.596,0.396,0.789,0.952,0.686,0.491,0.526,0.714,0.589,0.56,0.257,0.668,0.804,0.795,0.32,0.471,0.651,0.789,0.52,0.747,0.858,0.486,0.709,0.401,0.711,0.808,0.525,0.434],\"xaxis\":\"x\",\"y\":[0.631,0.531,0.561,0.62,0.787,0.52,0.699,0.657,0.239,0.532,0.721,0.632,0.51,0.794,0.567,0.602,0.621,0.87,0.711,0.538,0.575,0.791,0.532,0.541,0.403,0.707,0.815,0.233,0.545,0.739,0.792,0.854,0.525,0.881,0.467,0.655,0.646,0.68,0.667,0.653,0.601,0.693,0.741,0.373,0.582,0.671,0.417,0.32,0.444,0.695,0.431,0.538,0.883,0.209,0.716,0.531,0.353,0.47,0.554,0.643,0.512,0.875,0.415,0.378,0.622,0.871,0.695,0.813,0.726,0.434,0.833,0.538,0.795,0.696,0.814,0.571,0.713,0.399,0.435,0.664,0.617,0.277,0.547,0.632,0.474,0.885,0.794,0.366,0.637,0.604,0.432,0.667,0.487,0.746,0.658,0.803,0.692,0.439,0.878,0.56],\"yaxis\":\"y\",\"type\":\"scatter\"}],                        {\"template\":{\"data\":{\"histogram2dcontour\":[{\"type\":\"histogram2dcontour\",\"colorbar\":{\"outlinewidth\":0,\"ticks\":\"\"},\"colorscale\":[[0.0,\"#0d0887\"],[0.1111111111111111,\"#46039f\"],[0.2222222222222222,\"#7201a8\"],[0.3333333333333333,\"#9c179e\"],[0.4444444444444444,\"#bd3786\"],[0.5555555555555556,\"#d8576b\"],[0.6666666666666666,\"#ed7953\"],[0.7777777777777778,\"#fb9f3a\"],[0.8888888888888888,\"#fdca26\"],[1.0,\"#f0f921\"]]}],\"choropleth\":[{\"type\":\"choropleth\",\"colorbar\":{\"outlinewidth\":0,\"ticks\":\"\"}}],\"histogram2d\":[{\"type\":\"histogram2d\",\"colorbar\":{\"outlinewidth\":0,\"ticks\":\"\"},\"colorscale\":[[0.0,\"#0d0887\"],[0.1111111111111111,\"#46039f\"],[0.2222222222222222,\"#7201a8\"],[0.3333333333333333,\"#9c179e\"],[0.4444444444444444,\"#bd3786\"],[0.5555555555555556,\"#d8576b\"],[0.6666666666666666,\"#ed7953\"],[0.7777777777777778,\"#fb9f3a\"],[0.8888888888888888,\"#fdca26\"],[1.0,\"#f0f921\"]]}],\"heatmap\":[{\"type\":\"heatmap\",\"colorbar\":{\"outlinewidth\":0,\"ticks\":\"\"},\"colorscale\":[[0.0,\"#0d0887\"],[0.1111111111111111,\"#46039f\"],[0.2222222222222222,\"#7201a8\"],[0.3333333333333333,\"#9c179e\"],[0.4444444444444444,\"#bd3786\"],[0.5555555555555556,\"#d8576b\"],[0.6666666666666666,\"#ed7953\"],[0.7777777777777778,\"#fb9f3a\"],[0.8888888888888888,\"#fdca26\"],[1.0,\"#f0f921\"]]}],\"heatmapgl\":[{\"type\":\"heatmapgl\",\"colorbar\":{\"outlinewidth\":0,\"ticks\":\"\"},\"colorscale\":[[0.0,\"#0d0887\"],[0.1111111111111111,\"#46039f\"],[0.2222222222222222,\"#7201a8\"],[0.3333333333333333,\"#9c179e\"],[0.4444444444444444,\"#bd3786\"],[0.5555555555555556,\"#d8576b\"],[0.6666666666666666,\"#ed7953\"],[0.7777777777777778,\"#fb9f3a\"],[0.8888888888888888,\"#fdca26\"],[1.0,\"#f0f921\"]]}],\"contourcarpet\":[{\"type\":\"contourcarpet\",\"colorbar\":{\"outlinewidth\":0,\"ticks\":\"\"}}],\"contour\":[{\"type\":\"contour\",\"colorbar\":{\"outlinewidth\":0,\"ticks\":\"\"},\"colorscale\":[[0.0,\"#0d0887\"],[0.1111111111111111,\"#46039f\"],[0.2222222222222222,\"#7201a8\"],[0.3333333333333333,\"#9c179e\"],[0.4444444444444444,\"#bd3786\"],[0.5555555555555556,\"#d8576b\"],[0.6666666666666666,\"#ed7953\"],[0.7777777777777778,\"#fb9f3a\"],[0.8888888888888888,\"#fdca26\"],[1.0,\"#f0f921\"]]}],\"surface\":[{\"type\":\"surface\",\"colorbar\":{\"outlinewidth\":0,\"ticks\":\"\"},\"colorscale\":[[0.0,\"#0d0887\"],[0.1111111111111111,\"#46039f\"],[0.2222222222222222,\"#7201a8\"],[0.3333333333333333,\"#9c179e\"],[0.4444444444444444,\"#bd3786\"],[0.5555555555555556,\"#d8576b\"],[0.6666666666666666,\"#ed7953\"],[0.7777777777777778,\"#fb9f3a\"],[0.8888888888888888,\"#fdca26\"],[1.0,\"#f0f921\"]]}],\"mesh3d\":[{\"type\":\"mesh3d\",\"colorbar\":{\"outlinewidth\":0,\"ticks\":\"\"}}],\"scatter\":[{\"fillpattern\":{\"fillmode\":\"overlay\",\"size\":10,\"solidity\":0.2},\"type\":\"scatter\"}],\"parcoords\":[{\"type\":\"parcoords\",\"line\":{\"colorbar\":{\"outlinewidth\":0,\"ticks\":\"\"}}}],\"scatterpolargl\":[{\"type\":\"scatterpolargl\",\"marker\":{\"colorbar\":{\"outlinewidth\":0,\"ticks\":\"\"}}}],\"bar\":[{\"error_x\":{\"color\":\"#2a3f5f\"},\"error_y\":{\"color\":\"#2a3f5f\"},\"marker\":{\"line\":{\"color\":\"#E5ECF6\",\"width\":0.5},\"pattern\":{\"fillmode\":\"overlay\",\"size\":10,\"solidity\":0.2}},\"type\":\"bar\"}],\"scattergeo\":[{\"type\":\"scattergeo\",\"marker\":{\"colorbar\":{\"outlinewidth\":0,\"ticks\":\"\"}}}],\"scatterpolar\":[{\"type\":\"scatterpolar\",\"marker\":{\"colorbar\":{\"outlinewidth\":0,\"ticks\":\"\"}}}],\"histogram\":[{\"marker\":{\"pattern\":{\"fillmode\":\"overlay\",\"size\":10,\"solidity\":0.2}},\"type\":\"histogram\"}],\"scattergl\":[{\"type\":\"scattergl\",\"marker\":{\"colorbar\":{\"outlinewidth\":0,\"ticks\":\"\"}}}],\"scatter3d\":[{\"type\":\"scatter3d\",\"line\":{\"colorbar\":{\"outlinewidth\":0,\"ticks\":\"\"}},\"marker\":{\"colorbar\":{\"outlinewidth\":0,\"ticks\":\"\"}}}],\"scattermapbox\":[{\"type\":\"scattermapbox\",\"marker\":{\"colorbar\":{\"outlinewidth\":0,\"ticks\":\"\"}}}],\"scatterternary\":[{\"type\":\"scatterternary\",\"marker\":{\"colorbar\":{\"outlinewidth\":0,\"ticks\":\"\"}}}],\"scattercarpet\":[{\"type\":\"scattercarpet\",\"marker\":{\"colorbar\":{\"outlinewidth\":0,\"ticks\":\"\"}}}],\"carpet\":[{\"aaxis\":{\"endlinecolor\":\"#2a3f5f\",\"gridcolor\":\"white\",\"linecolor\":\"white\",\"minorgridcolor\":\"white\",\"startlinecolor\":\"#2a3f5f\"},\"baxis\":{\"endlinecolor\":\"#2a3f5f\",\"gridcolor\":\"white\",\"linecolor\":\"white\",\"minorgridcolor\":\"white\",\"startlinecolor\":\"#2a3f5f\"},\"type\":\"carpet\"}],\"table\":[{\"cells\":{\"fill\":{\"color\":\"#EBF0F8\"},\"line\":{\"color\":\"white\"}},\"header\":{\"fill\":{\"color\":\"#C8D4E3\"},\"line\":{\"color\":\"white\"}},\"type\":\"table\"}],\"barpolar\":[{\"marker\":{\"line\":{\"color\":\"#E5ECF6\",\"width\":0.5},\"pattern\":{\"fillmode\":\"overlay\",\"size\":10,\"solidity\":0.2}},\"type\":\"barpolar\"}],\"pie\":[{\"automargin\":true,\"type\":\"pie\"}]},\"layout\":{\"autotypenumbers\":\"strict\",\"colorway\":[\"#636efa\",\"#EF553B\",\"#00cc96\",\"#ab63fa\",\"#FFA15A\",\"#19d3f3\",\"#FF6692\",\"#B6E880\",\"#FF97FF\",\"#FECB52\"],\"font\":{\"color\":\"#2a3f5f\"},\"hovermode\":\"closest\",\"hoverlabel\":{\"align\":\"left\"},\"paper_bgcolor\":\"white\",\"plot_bgcolor\":\"#E5ECF6\",\"polar\":{\"bgcolor\":\"#E5ECF6\",\"angularaxis\":{\"gridcolor\":\"white\",\"linecolor\":\"white\",\"ticks\":\"\"},\"radialaxis\":{\"gridcolor\":\"white\",\"linecolor\":\"white\",\"ticks\":\"\"}},\"ternary\":{\"bgcolor\":\"#E5ECF6\",\"aaxis\":{\"gridcolor\":\"white\",\"linecolor\":\"white\",\"ticks\":\"\"},\"baxis\":{\"gridcolor\":\"white\",\"linecolor\":\"white\",\"ticks\":\"\"},\"caxis\":{\"gridcolor\":\"white\",\"linecolor\":\"white\",\"ticks\":\"\"}},\"coloraxis\":{\"colorbar\":{\"outlinewidth\":0,\"ticks\":\"\"}},\"colorscale\":{\"sequential\":[[0.0,\"#0d0887\"],[0.1111111111111111,\"#46039f\"],[0.2222222222222222,\"#7201a8\"],[0.3333333333333333,\"#9c179e\"],[0.4444444444444444,\"#bd3786\"],[0.5555555555555556,\"#d8576b\"],[0.6666666666666666,\"#ed7953\"],[0.7777777777777778,\"#fb9f3a\"],[0.8888888888888888,\"#fdca26\"],[1.0,\"#f0f921\"]],\"sequentialminus\":[[0.0,\"#0d0887\"],[0.1111111111111111,\"#46039f\"],[0.2222222222222222,\"#7201a8\"],[0.3333333333333333,\"#9c179e\"],[0.4444444444444444,\"#bd3786\"],[0.5555555555555556,\"#d8576b\"],[0.6666666666666666,\"#ed7953\"],[0.7777777777777778,\"#fb9f3a\"],[0.8888888888888888,\"#fdca26\"],[1.0,\"#f0f921\"]],\"diverging\":[[0,\"#8e0152\"],[0.1,\"#c51b7d\"],[0.2,\"#de77ae\"],[0.3,\"#f1b6da\"],[0.4,\"#fde0ef\"],[0.5,\"#f7f7f7\"],[0.6,\"#e6f5d0\"],[0.7,\"#b8e186\"],[0.8,\"#7fbc41\"],[0.9,\"#4d9221\"],[1,\"#276419\"]]},\"xaxis\":{\"gridcolor\":\"white\",\"linecolor\":\"white\",\"ticks\":\"\",\"title\":{\"standoff\":15},\"zerolinecolor\":\"white\",\"automargin\":true,\"zerolinewidth\":2},\"yaxis\":{\"gridcolor\":\"white\",\"linecolor\":\"white\",\"ticks\":\"\",\"title\":{\"standoff\":15},\"zerolinecolor\":\"white\",\"automargin\":true,\"zerolinewidth\":2},\"scene\":{\"xaxis\":{\"backgroundcolor\":\"#E5ECF6\",\"gridcolor\":\"white\",\"linecolor\":\"white\",\"showbackground\":true,\"ticks\":\"\",\"zerolinecolor\":\"white\",\"gridwidth\":2},\"yaxis\":{\"backgroundcolor\":\"#E5ECF6\",\"gridcolor\":\"white\",\"linecolor\":\"white\",\"showbackground\":true,\"ticks\":\"\",\"zerolinecolor\":\"white\",\"gridwidth\":2},\"zaxis\":{\"backgroundcolor\":\"#E5ECF6\",\"gridcolor\":\"white\",\"linecolor\":\"white\",\"showbackground\":true,\"ticks\":\"\",\"zerolinecolor\":\"white\",\"gridwidth\":2}},\"shapedefaults\":{\"line\":{\"color\":\"#2a3f5f\"}},\"annotationdefaults\":{\"arrowcolor\":\"#2a3f5f\",\"arrowhead\":0,\"arrowwidth\":1},\"geo\":{\"bgcolor\":\"white\",\"landcolor\":\"#E5ECF6\",\"subunitcolor\":\"white\",\"showland\":true,\"showlakes\":true,\"lakecolor\":\"white\"},\"title\":{\"x\":0.05},\"mapbox\":{\"style\":\"light\"}}},\"xaxis\":{\"anchor\":\"y\",\"domain\":[0.0,1.0],\"title\":{\"text\":\"energy\"}},\"yaxis\":{\"anchor\":\"x\",\"domain\":[0.0,1.0],\"title\":{\"text\":\"danceability\"}},\"legend\":{\"tracegroupgap\":0},\"margin\":{\"t\":60},\"title\":{\"text\":\"Energy vs. Danceability\",\"x\":0.5}},                        {\"responsive\": true}                    ).then(function(){\n",
       "                            \n",
       "var gd = document.getElementById('df01070a-6c1b-4151-869d-0babe95fa078');\n",
       "var x = new MutationObserver(function (mutations, observer) {{\n",
       "        var display = window.getComputedStyle(gd).display;\n",
       "        if (!display || display === 'none') {{\n",
       "            console.log([gd, 'removed!']);\n",
       "            Plotly.purge(gd);\n",
       "            observer.disconnect();\n",
       "        }}\n",
       "}});\n",
       "\n",
       "// Listen for the removal of the full notebook cells\n",
       "var notebookContainer = gd.closest('#notebook-container');\n",
       "if (notebookContainer) {{\n",
       "    x.observe(notebookContainer, {childList: true});\n",
       "}}\n",
       "\n",
       "// Listen for the clearing of the current output cell\n",
       "var outputEl = gd.closest('.output');\n",
       "if (outputEl) {{\n",
       "    x.observe(outputEl, {childList: true});\n",
       "}}\n",
       "\n",
       "                        })                };                });            </script>        </div>"
      ]
     },
     "metadata": {},
     "output_type": "display_data"
    }
   ],
   "source": [
    "import plotly.express as px\n",
    "fig = px.scatter(song_df, x='energy', y='danceability', hover_data=['track_name'])\n",
    "fig.update_layout(title='Energy vs. Danceability', title_x=0.5)\n",
    "fig.show()"
   ]
  },
  {
   "cell_type": "markdown",
   "metadata": {},
   "source": [
    "I don't think much can be said from this plot. The relationship I was expecting to see is that of a linear trend that shows danceability score going up as energy goes up, i.e., positive correlation between the variables.\n",
    "The data doesn't seem to have a (positive) linear trend since we can see low energy tracks with a high danceability score (e.g. 'Good News'), and high energy songs with a low danceability score (e.g. 'I'll be there for you (Friends)'."
   ]
  },
  {
   "cell_type": "code",
   "execution_count": 48,
   "metadata": {},
   "outputs": [
    {
     "data": {
      "application/vnd.plotly.v1+json": {
       "config": {
        "plotlyServerURL": "https://plot.ly"
       },
       "data": [
        {
         "customdata": [
          [
           "Pursuit Of Happiness (nightmare)"
          ],
          [
           "I Found A Way"
          ],
          [
           "I'm Good (Blue)"
          ],
          [
           "This Life"
          ],
          [
           "Upside Down"
          ],
          [
           "quiet motions"
          ],
          [
           "Better in Stereo - Theme Song Version"
          ],
          [
           "Them Changes"
          ],
          [
           "Merry-Go-Round of Life - from 'Howl's Moving Castle'"
          ],
          [
           "august"
          ],
          [
           "Never Gonna Give You Up"
          ],
          [
           "Bill Nye The Science Guy"
          ],
          [
           "These Are The Days"
          ],
          [
           "The Spins"
          ],
          [
           "We Didn’t Start The Fire"
          ],
          [
           "One More Year"
          ],
          [
           "Dancing In The Courthouse"
          ],
          [
           "SAD GIRLZ LUV MONEY Remix (feat. Kali Uchis and Moliy)"
          ],
          [
           "life hack"
          ],
          [
           "Escapism."
          ],
          [
           "Driving Myself Home"
          ],
          [
           "Seinfeld Theme"
          ],
          [
           "Vienna"
          ],
          [
           "I Wonder"
          ],
          [
           "Peace Sign"
          ],
          [
           "Boss Bitch"
          ],
          [
           "Queencard"
          ],
          [
           "Friday The 13th Main Theme (feat. Jason Voorhees) - From Friday The 13th"
          ],
          [
           "Pink + White"
          ],
          [
           "Hot Wings (I Wanna Party)"
          ],
          [
           "Happy"
          ],
          [
           "Sticky"
          ],
          [
           "D'yer Mak'er - Remaster"
          ],
          [
           "Gettin' Jiggy Wit It"
          ],
          [
           "Happiness is a butterfly"
          ],
          [
           "Food for the Soul"
          ],
          [
           "Loud And Fast"
          ],
          [
           "Heading South"
          ],
          [
           "The Coast"
          ],
          [
           "Going Up The Country"
          ],
          [
           "Ooh La La"
          ],
          [
           "striptease"
          ],
          [
           "Finesse"
          ],
          [
           "july 16th"
          ],
          [
           "Life is a Highway"
          ],
          [
           "CAN'T STOP THE FEELING! (from DreamWorks Animation's \"TROLLS\")"
          ],
          [
           "Giant Steps - 2020 Remaster"
          ],
          [
           "I'll Be There for You - Theme From \"Friends\""
          ],
          [
           "ハートフェルトファンシー"
          ],
          [
           "No Wind Resistance!"
          ],
          [
           "Breathe (In the Air)"
          ],
          [
           "Chamber Of Reflection"
          ],
          [
           "Day ‘n’ Nite"
          ],
          [
           "Girei (Pain's Theme)"
          ],
          [
           "Hustle"
          ],
          [
           "All Of The Lights"
          ],
          [
           "ブルーアーカイブ (Blue Archive OST 59 Soundtrack)"
          ],
          [
           "Cherry Waves"
          ],
          [
           "Wildest Dreams"
          ],
          [
           "That Girl"
          ],
          [
           "Stargazing"
          ],
          [
           "Future Nostalgia"
          ],
          [
           "American Teenager"
          ],
          [
           "Road Trippin'"
          ],
          [
           "My Favorite Things"
          ],
          [
           "Walking On A Dream"
          ],
          [
           "Levitating"
          ],
          [
           "Champagne Coast"
          ],
          [
           "Time After Time"
          ],
          [
           "Lake Shore Drive"
          ],
          [
           "Bitter"
          ],
          [
           "Natural"
          ],
          [
           "Suit & Tie (feat. Jay-Z)"
          ],
          [
           "You're On Your Own, Kid"
          ],
          [
           "Calm Down"
          ],
          [
           "Break It Out"
          ],
          [
           "Alone in the Mountains"
          ],
          [
           "Put Your Records On"
          ],
          [
           "Out of Tune"
          ],
          [
           "I Took A Pill In Ibiza - Seeb Remix"
          ],
          [
           "Take Two"
          ],
          [
           "Pressure"
          ],
          [
           "Imagine - Remastered 2010"
          ],
          [
           "The King"
          ],
          [
           "Honey, Honey"
          ],
          [
           "Call Me, Beep Me! (The Kim Possible Song)"
          ],
          [
           "Good News"
          ],
          [
           "Succession (Main Title Theme)"
          ],
          [
           "All My Love"
          ],
          [
           "Don't Delete The Kisses"
          ],
          [
           "Bad Luck"
          ],
          [
           "Homecoming"
          ],
          [
           "BONVOYAGE"
          ],
          [
           "Washed Wine"
          ],
          [
           "Song 2"
          ],
          [
           "Sweetly"
          ],
          [
           "Sweet Dreams (Are Made of This) - Remastered"
          ],
          [
           "Good Life"
          ],
          [
           "Sunday Best"
          ],
          [
           "That's Life"
          ]
         ],
         "hovertemplate": "acousticness=%{x}<br>loudness=%{y}<br>track_name=%{customdata[0]}<extra></extra>",
         "legendgroup": "",
         "marker": {
          "color": "#636efa",
          "symbol": "circle"
         },
         "mode": "markers",
         "name": "",
         "orientation": "v",
         "showlegend": false,
         "type": "scatter",
         "x": [
          0.453,
          0.0056,
          0.00383,
          0.228,
          0.238,
          0.309,
          0.222,
          0.54,
          0.876,
          0.538,
          0.115,
          0.0207,
          0.00935,
          0.0135,
          0.00139,
          0.057,
          0.187,
          0.433,
          0.0233,
          0.138,
          0.73,
          0.208,
          0.659,
          0.125,
          0.00161,
          0.127,
          0.0327,
          0.245,
          0.667,
          0.00507,
          0.726,
          0.13,
          0.262,
          0.0175,
          0.969,
          0.0512,
          0.138,
          0.783,
          0.864,
          0.806,
          0.579,
          0.124,
          0.00781,
          0.931,
          0.00324,
          0.0111,
          0.186,
          0.0717,
          0.354,
          0.234,
          0.389,
          0.262,
          0.753,
          0.881,
          0.0802,
          0.0796,
          0.000286,
          0.000362,
          0.0702,
          0.311,
          0.00304,
          0.00618,
          0.00305,
          0.28,
          0.87,
          0.257,
          0.0561,
          0.0203,
          0.487,
          0.204,
          0.463,
          0.429,
          0.103,
          0.401,
          0.365,
          0.0186,
          0.159,
          0.0563,
          0.0111,
          0.0353,
          0.0268,
          0.00318,
          0.907,
          0.078,
          0.309,
          0.089,
          0.853,
          0.000226,
          0.32,
          0.0011,
          0.277,
          0.337,
          0.00417,
          0.00644,
          0.00188,
          0.612,
          0.225,
          0.00305,
          0.183,
          0.55
         ],
         "xaxis": "x",
         "y": [
          -8.73,
          -7.692,
          -3.673,
          -6.434,
          -8.339,
          -8.287,
          -3.469,
          -8.6,
          -12.565,
          -9.208,
          -11.823,
          -7.769,
          -5.64,
          -3.894,
          -4.084,
          -5.414,
          -4.479,
          -8.052,
          -5.987,
          -5.355,
          -5.57,
          -10.339,
          -6.662,
          -8.562,
          -5.119,
          -4.593,
          -2.828,
          -15.266,
          -7.362,
          -6.386,
          -18.813,
          -14.779,
          -8.56,
          -4.505,
          -10.99,
          -7.78,
          -7.3,
          -14.112,
          -14.987,
          -18.54,
          -8.166,
          -8.887,
          -5.342,
          -13.034,
          -3.848,
          -8.215,
          -13.046,
          -5.903,
          -7.625,
          -12.199,
          -15.142,
          -8.678,
          -5.791,
          -14.152,
          -5.138,
          -3.284,
          -3.676,
          -3.663,
          -7.414,
          -5.588,
          -7.798,
          -4.502,
          -5.008,
          -8.202,
          -12.472,
          -5.594,
          -2.278,
          -12.626,
          -9.206,
          -7.367,
          -5.899,
          -10.241,
          -3.799,
          -10.289,
          -6.29,
          -1.893,
          -9.894,
          -10.778,
          -8.621,
          -6.645,
          -5.978,
          -8.127,
          -12.358,
          -6.196,
          -7.763,
          -5.027,
          -12.92,
          -6.369,
          -7.089,
          -6.259,
          -5.515,
          -7.059,
          -3.915,
          -5.428,
          -6.736,
          -13.28,
          -7.498,
          -6.881,
          -6.832,
          -14.151
         ],
         "yaxis": "y"
        }
       ],
       "layout": {
        "legend": {
         "tracegroupgap": 0
        },
        "margin": {
         "t": 60
        },
        "template": {
         "data": {
          "bar": [
           {
            "error_x": {
             "color": "#2a3f5f"
            },
            "error_y": {
             "color": "#2a3f5f"
            },
            "marker": {
             "line": {
              "color": "#E5ECF6",
              "width": 0.5
             },
             "pattern": {
              "fillmode": "overlay",
              "size": 10,
              "solidity": 0.2
             }
            },
            "type": "bar"
           }
          ],
          "barpolar": [
           {
            "marker": {
             "line": {
              "color": "#E5ECF6",
              "width": 0.5
             },
             "pattern": {
              "fillmode": "overlay",
              "size": 10,
              "solidity": 0.2
             }
            },
            "type": "barpolar"
           }
          ],
          "carpet": [
           {
            "aaxis": {
             "endlinecolor": "#2a3f5f",
             "gridcolor": "white",
             "linecolor": "white",
             "minorgridcolor": "white",
             "startlinecolor": "#2a3f5f"
            },
            "baxis": {
             "endlinecolor": "#2a3f5f",
             "gridcolor": "white",
             "linecolor": "white",
             "minorgridcolor": "white",
             "startlinecolor": "#2a3f5f"
            },
            "type": "carpet"
           }
          ],
          "choropleth": [
           {
            "colorbar": {
             "outlinewidth": 0,
             "ticks": ""
            },
            "type": "choropleth"
           }
          ],
          "contour": [
           {
            "colorbar": {
             "outlinewidth": 0,
             "ticks": ""
            },
            "colorscale": [
             [
              0,
              "#0d0887"
             ],
             [
              0.1111111111111111,
              "#46039f"
             ],
             [
              0.2222222222222222,
              "#7201a8"
             ],
             [
              0.3333333333333333,
              "#9c179e"
             ],
             [
              0.4444444444444444,
              "#bd3786"
             ],
             [
              0.5555555555555556,
              "#d8576b"
             ],
             [
              0.6666666666666666,
              "#ed7953"
             ],
             [
              0.7777777777777778,
              "#fb9f3a"
             ],
             [
              0.8888888888888888,
              "#fdca26"
             ],
             [
              1,
              "#f0f921"
             ]
            ],
            "type": "contour"
           }
          ],
          "contourcarpet": [
           {
            "colorbar": {
             "outlinewidth": 0,
             "ticks": ""
            },
            "type": "contourcarpet"
           }
          ],
          "heatmap": [
           {
            "colorbar": {
             "outlinewidth": 0,
             "ticks": ""
            },
            "colorscale": [
             [
              0,
              "#0d0887"
             ],
             [
              0.1111111111111111,
              "#46039f"
             ],
             [
              0.2222222222222222,
              "#7201a8"
             ],
             [
              0.3333333333333333,
              "#9c179e"
             ],
             [
              0.4444444444444444,
              "#bd3786"
             ],
             [
              0.5555555555555556,
              "#d8576b"
             ],
             [
              0.6666666666666666,
              "#ed7953"
             ],
             [
              0.7777777777777778,
              "#fb9f3a"
             ],
             [
              0.8888888888888888,
              "#fdca26"
             ],
             [
              1,
              "#f0f921"
             ]
            ],
            "type": "heatmap"
           }
          ],
          "heatmapgl": [
           {
            "colorbar": {
             "outlinewidth": 0,
             "ticks": ""
            },
            "colorscale": [
             [
              0,
              "#0d0887"
             ],
             [
              0.1111111111111111,
              "#46039f"
             ],
             [
              0.2222222222222222,
              "#7201a8"
             ],
             [
              0.3333333333333333,
              "#9c179e"
             ],
             [
              0.4444444444444444,
              "#bd3786"
             ],
             [
              0.5555555555555556,
              "#d8576b"
             ],
             [
              0.6666666666666666,
              "#ed7953"
             ],
             [
              0.7777777777777778,
              "#fb9f3a"
             ],
             [
              0.8888888888888888,
              "#fdca26"
             ],
             [
              1,
              "#f0f921"
             ]
            ],
            "type": "heatmapgl"
           }
          ],
          "histogram": [
           {
            "marker": {
             "pattern": {
              "fillmode": "overlay",
              "size": 10,
              "solidity": 0.2
             }
            },
            "type": "histogram"
           }
          ],
          "histogram2d": [
           {
            "colorbar": {
             "outlinewidth": 0,
             "ticks": ""
            },
            "colorscale": [
             [
              0,
              "#0d0887"
             ],
             [
              0.1111111111111111,
              "#46039f"
             ],
             [
              0.2222222222222222,
              "#7201a8"
             ],
             [
              0.3333333333333333,
              "#9c179e"
             ],
             [
              0.4444444444444444,
              "#bd3786"
             ],
             [
              0.5555555555555556,
              "#d8576b"
             ],
             [
              0.6666666666666666,
              "#ed7953"
             ],
             [
              0.7777777777777778,
              "#fb9f3a"
             ],
             [
              0.8888888888888888,
              "#fdca26"
             ],
             [
              1,
              "#f0f921"
             ]
            ],
            "type": "histogram2d"
           }
          ],
          "histogram2dcontour": [
           {
            "colorbar": {
             "outlinewidth": 0,
             "ticks": ""
            },
            "colorscale": [
             [
              0,
              "#0d0887"
             ],
             [
              0.1111111111111111,
              "#46039f"
             ],
             [
              0.2222222222222222,
              "#7201a8"
             ],
             [
              0.3333333333333333,
              "#9c179e"
             ],
             [
              0.4444444444444444,
              "#bd3786"
             ],
             [
              0.5555555555555556,
              "#d8576b"
             ],
             [
              0.6666666666666666,
              "#ed7953"
             ],
             [
              0.7777777777777778,
              "#fb9f3a"
             ],
             [
              0.8888888888888888,
              "#fdca26"
             ],
             [
              1,
              "#f0f921"
             ]
            ],
            "type": "histogram2dcontour"
           }
          ],
          "mesh3d": [
           {
            "colorbar": {
             "outlinewidth": 0,
             "ticks": ""
            },
            "type": "mesh3d"
           }
          ],
          "parcoords": [
           {
            "line": {
             "colorbar": {
              "outlinewidth": 0,
              "ticks": ""
             }
            },
            "type": "parcoords"
           }
          ],
          "pie": [
           {
            "automargin": true,
            "type": "pie"
           }
          ],
          "scatter": [
           {
            "fillpattern": {
             "fillmode": "overlay",
             "size": 10,
             "solidity": 0.2
            },
            "type": "scatter"
           }
          ],
          "scatter3d": [
           {
            "line": {
             "colorbar": {
              "outlinewidth": 0,
              "ticks": ""
             }
            },
            "marker": {
             "colorbar": {
              "outlinewidth": 0,
              "ticks": ""
             }
            },
            "type": "scatter3d"
           }
          ],
          "scattercarpet": [
           {
            "marker": {
             "colorbar": {
              "outlinewidth": 0,
              "ticks": ""
             }
            },
            "type": "scattercarpet"
           }
          ],
          "scattergeo": [
           {
            "marker": {
             "colorbar": {
              "outlinewidth": 0,
              "ticks": ""
             }
            },
            "type": "scattergeo"
           }
          ],
          "scattergl": [
           {
            "marker": {
             "colorbar": {
              "outlinewidth": 0,
              "ticks": ""
             }
            },
            "type": "scattergl"
           }
          ],
          "scattermapbox": [
           {
            "marker": {
             "colorbar": {
              "outlinewidth": 0,
              "ticks": ""
             }
            },
            "type": "scattermapbox"
           }
          ],
          "scatterpolar": [
           {
            "marker": {
             "colorbar": {
              "outlinewidth": 0,
              "ticks": ""
             }
            },
            "type": "scatterpolar"
           }
          ],
          "scatterpolargl": [
           {
            "marker": {
             "colorbar": {
              "outlinewidth": 0,
              "ticks": ""
             }
            },
            "type": "scatterpolargl"
           }
          ],
          "scatterternary": [
           {
            "marker": {
             "colorbar": {
              "outlinewidth": 0,
              "ticks": ""
             }
            },
            "type": "scatterternary"
           }
          ],
          "surface": [
           {
            "colorbar": {
             "outlinewidth": 0,
             "ticks": ""
            },
            "colorscale": [
             [
              0,
              "#0d0887"
             ],
             [
              0.1111111111111111,
              "#46039f"
             ],
             [
              0.2222222222222222,
              "#7201a8"
             ],
             [
              0.3333333333333333,
              "#9c179e"
             ],
             [
              0.4444444444444444,
              "#bd3786"
             ],
             [
              0.5555555555555556,
              "#d8576b"
             ],
             [
              0.6666666666666666,
              "#ed7953"
             ],
             [
              0.7777777777777778,
              "#fb9f3a"
             ],
             [
              0.8888888888888888,
              "#fdca26"
             ],
             [
              1,
              "#f0f921"
             ]
            ],
            "type": "surface"
           }
          ],
          "table": [
           {
            "cells": {
             "fill": {
              "color": "#EBF0F8"
             },
             "line": {
              "color": "white"
             }
            },
            "header": {
             "fill": {
              "color": "#C8D4E3"
             },
             "line": {
              "color": "white"
             }
            },
            "type": "table"
           }
          ]
         },
         "layout": {
          "annotationdefaults": {
           "arrowcolor": "#2a3f5f",
           "arrowhead": 0,
           "arrowwidth": 1
          },
          "autotypenumbers": "strict",
          "coloraxis": {
           "colorbar": {
            "outlinewidth": 0,
            "ticks": ""
           }
          },
          "colorscale": {
           "diverging": [
            [
             0,
             "#8e0152"
            ],
            [
             0.1,
             "#c51b7d"
            ],
            [
             0.2,
             "#de77ae"
            ],
            [
             0.3,
             "#f1b6da"
            ],
            [
             0.4,
             "#fde0ef"
            ],
            [
             0.5,
             "#f7f7f7"
            ],
            [
             0.6,
             "#e6f5d0"
            ],
            [
             0.7,
             "#b8e186"
            ],
            [
             0.8,
             "#7fbc41"
            ],
            [
             0.9,
             "#4d9221"
            ],
            [
             1,
             "#276419"
            ]
           ],
           "sequential": [
            [
             0,
             "#0d0887"
            ],
            [
             0.1111111111111111,
             "#46039f"
            ],
            [
             0.2222222222222222,
             "#7201a8"
            ],
            [
             0.3333333333333333,
             "#9c179e"
            ],
            [
             0.4444444444444444,
             "#bd3786"
            ],
            [
             0.5555555555555556,
             "#d8576b"
            ],
            [
             0.6666666666666666,
             "#ed7953"
            ],
            [
             0.7777777777777778,
             "#fb9f3a"
            ],
            [
             0.8888888888888888,
             "#fdca26"
            ],
            [
             1,
             "#f0f921"
            ]
           ],
           "sequentialminus": [
            [
             0,
             "#0d0887"
            ],
            [
             0.1111111111111111,
             "#46039f"
            ],
            [
             0.2222222222222222,
             "#7201a8"
            ],
            [
             0.3333333333333333,
             "#9c179e"
            ],
            [
             0.4444444444444444,
             "#bd3786"
            ],
            [
             0.5555555555555556,
             "#d8576b"
            ],
            [
             0.6666666666666666,
             "#ed7953"
            ],
            [
             0.7777777777777778,
             "#fb9f3a"
            ],
            [
             0.8888888888888888,
             "#fdca26"
            ],
            [
             1,
             "#f0f921"
            ]
           ]
          },
          "colorway": [
           "#636efa",
           "#EF553B",
           "#00cc96",
           "#ab63fa",
           "#FFA15A",
           "#19d3f3",
           "#FF6692",
           "#B6E880",
           "#FF97FF",
           "#FECB52"
          ],
          "font": {
           "color": "#2a3f5f"
          },
          "geo": {
           "bgcolor": "white",
           "lakecolor": "white",
           "landcolor": "#E5ECF6",
           "showlakes": true,
           "showland": true,
           "subunitcolor": "white"
          },
          "hoverlabel": {
           "align": "left"
          },
          "hovermode": "closest",
          "mapbox": {
           "style": "light"
          },
          "paper_bgcolor": "white",
          "plot_bgcolor": "#E5ECF6",
          "polar": {
           "angularaxis": {
            "gridcolor": "white",
            "linecolor": "white",
            "ticks": ""
           },
           "bgcolor": "#E5ECF6",
           "radialaxis": {
            "gridcolor": "white",
            "linecolor": "white",
            "ticks": ""
           }
          },
          "scene": {
           "xaxis": {
            "backgroundcolor": "#E5ECF6",
            "gridcolor": "white",
            "gridwidth": 2,
            "linecolor": "white",
            "showbackground": true,
            "ticks": "",
            "zerolinecolor": "white"
           },
           "yaxis": {
            "backgroundcolor": "#E5ECF6",
            "gridcolor": "white",
            "gridwidth": 2,
            "linecolor": "white",
            "showbackground": true,
            "ticks": "",
            "zerolinecolor": "white"
           },
           "zaxis": {
            "backgroundcolor": "#E5ECF6",
            "gridcolor": "white",
            "gridwidth": 2,
            "linecolor": "white",
            "showbackground": true,
            "ticks": "",
            "zerolinecolor": "white"
           }
          },
          "shapedefaults": {
           "line": {
            "color": "#2a3f5f"
           }
          },
          "ternary": {
           "aaxis": {
            "gridcolor": "white",
            "linecolor": "white",
            "ticks": ""
           },
           "baxis": {
            "gridcolor": "white",
            "linecolor": "white",
            "ticks": ""
           },
           "bgcolor": "#E5ECF6",
           "caxis": {
            "gridcolor": "white",
            "linecolor": "white",
            "ticks": ""
           }
          },
          "title": {
           "x": 0.05
          },
          "xaxis": {
           "automargin": true,
           "gridcolor": "white",
           "linecolor": "white",
           "ticks": "",
           "title": {
            "standoff": 15
           },
           "zerolinecolor": "white",
           "zerolinewidth": 2
          },
          "yaxis": {
           "automargin": true,
           "gridcolor": "white",
           "linecolor": "white",
           "ticks": "",
           "title": {
            "standoff": 15
           },
           "zerolinecolor": "white",
           "zerolinewidth": 2
          }
         }
        },
        "title": {
         "text": "Acousticness vs. Loudness",
         "x": 0.5
        },
        "xaxis": {
         "anchor": "y",
         "domain": [
          0,
          1
         ],
         "title": {
          "text": "acousticness"
         }
        },
        "yaxis": {
         "anchor": "x",
         "domain": [
          0,
          1
         ],
         "title": {
          "text": "loudness"
         }
        }
       }
      },
      "text/html": [
       "<div>                            <div id=\"1ecab401-14e3-4f70-a5eb-c360df470a15\" class=\"plotly-graph-div\" style=\"height:525px; width:100%;\"></div>            <script type=\"text/javascript\">                require([\"plotly\"], function(Plotly) {                    window.PLOTLYENV=window.PLOTLYENV || {};                                    if (document.getElementById(\"1ecab401-14e3-4f70-a5eb-c360df470a15\")) {                    Plotly.newPlot(                        \"1ecab401-14e3-4f70-a5eb-c360df470a15\",                        [{\"customdata\":[[\"Pursuit Of Happiness (nightmare)\"],[\"I Found A Way\"],[\"I'm Good (Blue)\"],[\"This Life\"],[\"Upside Down\"],[\"quiet motions\"],[\"Better in Stereo - Theme Song Version\"],[\"Them Changes\"],[\"Merry-Go-Round of Life - from 'Howl's Moving Castle'\"],[\"august\"],[\"Never Gonna Give You Up\"],[\"Bill Nye The Science Guy\"],[\"These Are The Days\"],[\"The Spins\"],[\"We Didn\\u2019t Start The Fire\"],[\"One More Year\"],[\"Dancing In The Courthouse\"],[\"SAD GIRLZ LUV MONEY Remix (feat. Kali Uchis and Moliy)\"],[\"life hack\"],[\"Escapism.\"],[\"Driving Myself Home\"],[\"Seinfeld Theme\"],[\"Vienna\"],[\"I Wonder\"],[\"Peace Sign\"],[\"Boss Bitch\"],[\"Queencard\"],[\"Friday The 13th Main Theme (feat. Jason Voorhees) - From Friday The 13th\"],[\"Pink + White\"],[\"Hot Wings (I Wanna Party)\"],[\"Happy\"],[\"Sticky\"],[\"D'yer Mak'er - Remaster\"],[\"Gettin' Jiggy Wit It\"],[\"Happiness is a butterfly\"],[\"Food for the Soul\"],[\"Loud And Fast\"],[\"Heading South\"],[\"The Coast\"],[\"Going Up The Country\"],[\"Ooh La La\"],[\"striptease\"],[\"Finesse\"],[\"july 16th\"],[\"Life is a Highway\"],[\"CAN'T STOP THE FEELING! (from DreamWorks Animation's \\\"TROLLS\\\")\"],[\"Giant Steps - 2020 Remaster\"],[\"I'll Be There for You - Theme From \\\"Friends\\\"\"],[\"\\u30cf\\u30fc\\u30c8\\u30d5\\u30a7\\u30eb\\u30c8\\u30d5\\u30a1\\u30f3\\u30b7\\u30fc\"],[\"No Wind Resistance!\"],[\"Breathe (In the Air)\"],[\"Chamber Of Reflection\"],[\"Day \\u2018n\\u2019 Nite\"],[\"Girei (Pain's Theme)\"],[\"Hustle\"],[\"All Of The Lights\"],[\"\\u30d6\\u30eb\\u30fc\\u30a2\\u30fc\\u30ab\\u30a4\\u30d6 (Blue Archive OST 59 Soundtrack)\"],[\"Cherry Waves\"],[\"Wildest Dreams\"],[\"That Girl\"],[\"Stargazing\"],[\"Future Nostalgia\"],[\"American Teenager\"],[\"Road Trippin'\"],[\"My Favorite Things\"],[\"Walking On A Dream\"],[\"Levitating\"],[\"Champagne Coast\"],[\"Time After Time\"],[\"Lake Shore Drive\"],[\"Bitter\"],[\"Natural\"],[\"Suit & Tie (feat. Jay-Z)\"],[\"You're On Your Own, Kid\"],[\"Calm Down\"],[\"Break It Out\"],[\"Alone in the Mountains\"],[\"Put Your Records On\"],[\"Out of Tune\"],[\"I Took A Pill In Ibiza - Seeb Remix\"],[\"Take Two\"],[\"Pressure\"],[\"Imagine - Remastered 2010\"],[\"The King\"],[\"Honey, Honey\"],[\"Call Me, Beep Me! (The Kim Possible Song)\"],[\"Good News\"],[\"Succession (Main Title Theme)\"],[\"All My Love\"],[\"Don't Delete The Kisses\"],[\"Bad Luck\"],[\"Homecoming\"],[\"BONVOYAGE\"],[\"Washed Wine\"],[\"Song 2\"],[\"Sweetly\"],[\"Sweet Dreams (Are Made of This) - Remastered\"],[\"Good Life\"],[\"Sunday Best\"],[\"That's Life\"]],\"hovertemplate\":\"acousticness=%{x}<br>loudness=%{y}<br>track_name=%{customdata[0]}<extra></extra>\",\"legendgroup\":\"\",\"marker\":{\"color\":\"#636efa\",\"symbol\":\"circle\"},\"mode\":\"markers\",\"name\":\"\",\"orientation\":\"v\",\"showlegend\":false,\"x\":[0.453,0.0056,0.00383,0.228,0.238,0.309,0.222,0.54,0.876,0.538,0.115,0.0207,0.00935,0.0135,0.00139,0.057,0.187,0.433,0.0233,0.138,0.73,0.208,0.659,0.125,0.00161,0.127,0.0327,0.245,0.667,0.00507,0.726,0.13,0.262,0.0175,0.969,0.0512,0.138,0.783,0.864,0.806,0.579,0.124,0.00781,0.931,0.00324,0.0111,0.186,0.0717,0.354,0.234,0.389,0.262,0.753,0.881,0.0802,0.0796,0.000286,0.000362,0.0702,0.311,0.00304,0.00618,0.00305,0.28,0.87,0.257,0.0561,0.0203,0.487,0.204,0.463,0.429,0.103,0.401,0.365,0.0186,0.159,0.0563,0.0111,0.0353,0.0268,0.00318,0.907,0.078,0.309,0.089,0.853,0.000226,0.32,0.0011,0.277,0.337,0.00417,0.00644,0.00188,0.612,0.225,0.00305,0.183,0.55],\"xaxis\":\"x\",\"y\":[-8.73,-7.692,-3.673,-6.434,-8.339,-8.287,-3.469,-8.6,-12.565,-9.208,-11.823,-7.769,-5.64,-3.894,-4.084,-5.414,-4.479,-8.052,-5.987,-5.355,-5.57,-10.339,-6.662,-8.562,-5.119,-4.593,-2.828,-15.266,-7.362,-6.386,-18.813,-14.779,-8.56,-4.505,-10.99,-7.78,-7.3,-14.112,-14.987,-18.54,-8.166,-8.887,-5.342,-13.034,-3.848,-8.215,-13.046,-5.903,-7.625,-12.199,-15.142,-8.678,-5.791,-14.152,-5.138,-3.284,-3.676,-3.663,-7.414,-5.588,-7.798,-4.502,-5.008,-8.202,-12.472,-5.594,-2.278,-12.626,-9.206,-7.367,-5.899,-10.241,-3.799,-10.289,-6.29,-1.893,-9.894,-10.778,-8.621,-6.645,-5.978,-8.127,-12.358,-6.196,-7.763,-5.027,-12.92,-6.369,-7.089,-6.259,-5.515,-7.059,-3.915,-5.428,-6.736,-13.28,-7.498,-6.881,-6.832,-14.151],\"yaxis\":\"y\",\"type\":\"scatter\"}],                        {\"template\":{\"data\":{\"histogram2dcontour\":[{\"type\":\"histogram2dcontour\",\"colorbar\":{\"outlinewidth\":0,\"ticks\":\"\"},\"colorscale\":[[0.0,\"#0d0887\"],[0.1111111111111111,\"#46039f\"],[0.2222222222222222,\"#7201a8\"],[0.3333333333333333,\"#9c179e\"],[0.4444444444444444,\"#bd3786\"],[0.5555555555555556,\"#d8576b\"],[0.6666666666666666,\"#ed7953\"],[0.7777777777777778,\"#fb9f3a\"],[0.8888888888888888,\"#fdca26\"],[1.0,\"#f0f921\"]]}],\"choropleth\":[{\"type\":\"choropleth\",\"colorbar\":{\"outlinewidth\":0,\"ticks\":\"\"}}],\"histogram2d\":[{\"type\":\"histogram2d\",\"colorbar\":{\"outlinewidth\":0,\"ticks\":\"\"},\"colorscale\":[[0.0,\"#0d0887\"],[0.1111111111111111,\"#46039f\"],[0.2222222222222222,\"#7201a8\"],[0.3333333333333333,\"#9c179e\"],[0.4444444444444444,\"#bd3786\"],[0.5555555555555556,\"#d8576b\"],[0.6666666666666666,\"#ed7953\"],[0.7777777777777778,\"#fb9f3a\"],[0.8888888888888888,\"#fdca26\"],[1.0,\"#f0f921\"]]}],\"heatmap\":[{\"type\":\"heatmap\",\"colorbar\":{\"outlinewidth\":0,\"ticks\":\"\"},\"colorscale\":[[0.0,\"#0d0887\"],[0.1111111111111111,\"#46039f\"],[0.2222222222222222,\"#7201a8\"],[0.3333333333333333,\"#9c179e\"],[0.4444444444444444,\"#bd3786\"],[0.5555555555555556,\"#d8576b\"],[0.6666666666666666,\"#ed7953\"],[0.7777777777777778,\"#fb9f3a\"],[0.8888888888888888,\"#fdca26\"],[1.0,\"#f0f921\"]]}],\"heatmapgl\":[{\"type\":\"heatmapgl\",\"colorbar\":{\"outlinewidth\":0,\"ticks\":\"\"},\"colorscale\":[[0.0,\"#0d0887\"],[0.1111111111111111,\"#46039f\"],[0.2222222222222222,\"#7201a8\"],[0.3333333333333333,\"#9c179e\"],[0.4444444444444444,\"#bd3786\"],[0.5555555555555556,\"#d8576b\"],[0.6666666666666666,\"#ed7953\"],[0.7777777777777778,\"#fb9f3a\"],[0.8888888888888888,\"#fdca26\"],[1.0,\"#f0f921\"]]}],\"contourcarpet\":[{\"type\":\"contourcarpet\",\"colorbar\":{\"outlinewidth\":0,\"ticks\":\"\"}}],\"contour\":[{\"type\":\"contour\",\"colorbar\":{\"outlinewidth\":0,\"ticks\":\"\"},\"colorscale\":[[0.0,\"#0d0887\"],[0.1111111111111111,\"#46039f\"],[0.2222222222222222,\"#7201a8\"],[0.3333333333333333,\"#9c179e\"],[0.4444444444444444,\"#bd3786\"],[0.5555555555555556,\"#d8576b\"],[0.6666666666666666,\"#ed7953\"],[0.7777777777777778,\"#fb9f3a\"],[0.8888888888888888,\"#fdca26\"],[1.0,\"#f0f921\"]]}],\"surface\":[{\"type\":\"surface\",\"colorbar\":{\"outlinewidth\":0,\"ticks\":\"\"},\"colorscale\":[[0.0,\"#0d0887\"],[0.1111111111111111,\"#46039f\"],[0.2222222222222222,\"#7201a8\"],[0.3333333333333333,\"#9c179e\"],[0.4444444444444444,\"#bd3786\"],[0.5555555555555556,\"#d8576b\"],[0.6666666666666666,\"#ed7953\"],[0.7777777777777778,\"#fb9f3a\"],[0.8888888888888888,\"#fdca26\"],[1.0,\"#f0f921\"]]}],\"mesh3d\":[{\"type\":\"mesh3d\",\"colorbar\":{\"outlinewidth\":0,\"ticks\":\"\"}}],\"scatter\":[{\"fillpattern\":{\"fillmode\":\"overlay\",\"size\":10,\"solidity\":0.2},\"type\":\"scatter\"}],\"parcoords\":[{\"type\":\"parcoords\",\"line\":{\"colorbar\":{\"outlinewidth\":0,\"ticks\":\"\"}}}],\"scatterpolargl\":[{\"type\":\"scatterpolargl\",\"marker\":{\"colorbar\":{\"outlinewidth\":0,\"ticks\":\"\"}}}],\"bar\":[{\"error_x\":{\"color\":\"#2a3f5f\"},\"error_y\":{\"color\":\"#2a3f5f\"},\"marker\":{\"line\":{\"color\":\"#E5ECF6\",\"width\":0.5},\"pattern\":{\"fillmode\":\"overlay\",\"size\":10,\"solidity\":0.2}},\"type\":\"bar\"}],\"scattergeo\":[{\"type\":\"scattergeo\",\"marker\":{\"colorbar\":{\"outlinewidth\":0,\"ticks\":\"\"}}}],\"scatterpolar\":[{\"type\":\"scatterpolar\",\"marker\":{\"colorbar\":{\"outlinewidth\":0,\"ticks\":\"\"}}}],\"histogram\":[{\"marker\":{\"pattern\":{\"fillmode\":\"overlay\",\"size\":10,\"solidity\":0.2}},\"type\":\"histogram\"}],\"scattergl\":[{\"type\":\"scattergl\",\"marker\":{\"colorbar\":{\"outlinewidth\":0,\"ticks\":\"\"}}}],\"scatter3d\":[{\"type\":\"scatter3d\",\"line\":{\"colorbar\":{\"outlinewidth\":0,\"ticks\":\"\"}},\"marker\":{\"colorbar\":{\"outlinewidth\":0,\"ticks\":\"\"}}}],\"scattermapbox\":[{\"type\":\"scattermapbox\",\"marker\":{\"colorbar\":{\"outlinewidth\":0,\"ticks\":\"\"}}}],\"scatterternary\":[{\"type\":\"scatterternary\",\"marker\":{\"colorbar\":{\"outlinewidth\":0,\"ticks\":\"\"}}}],\"scattercarpet\":[{\"type\":\"scattercarpet\",\"marker\":{\"colorbar\":{\"outlinewidth\":0,\"ticks\":\"\"}}}],\"carpet\":[{\"aaxis\":{\"endlinecolor\":\"#2a3f5f\",\"gridcolor\":\"white\",\"linecolor\":\"white\",\"minorgridcolor\":\"white\",\"startlinecolor\":\"#2a3f5f\"},\"baxis\":{\"endlinecolor\":\"#2a3f5f\",\"gridcolor\":\"white\",\"linecolor\":\"white\",\"minorgridcolor\":\"white\",\"startlinecolor\":\"#2a3f5f\"},\"type\":\"carpet\"}],\"table\":[{\"cells\":{\"fill\":{\"color\":\"#EBF0F8\"},\"line\":{\"color\":\"white\"}},\"header\":{\"fill\":{\"color\":\"#C8D4E3\"},\"line\":{\"color\":\"white\"}},\"type\":\"table\"}],\"barpolar\":[{\"marker\":{\"line\":{\"color\":\"#E5ECF6\",\"width\":0.5},\"pattern\":{\"fillmode\":\"overlay\",\"size\":10,\"solidity\":0.2}},\"type\":\"barpolar\"}],\"pie\":[{\"automargin\":true,\"type\":\"pie\"}]},\"layout\":{\"autotypenumbers\":\"strict\",\"colorway\":[\"#636efa\",\"#EF553B\",\"#00cc96\",\"#ab63fa\",\"#FFA15A\",\"#19d3f3\",\"#FF6692\",\"#B6E880\",\"#FF97FF\",\"#FECB52\"],\"font\":{\"color\":\"#2a3f5f\"},\"hovermode\":\"closest\",\"hoverlabel\":{\"align\":\"left\"},\"paper_bgcolor\":\"white\",\"plot_bgcolor\":\"#E5ECF6\",\"polar\":{\"bgcolor\":\"#E5ECF6\",\"angularaxis\":{\"gridcolor\":\"white\",\"linecolor\":\"white\",\"ticks\":\"\"},\"radialaxis\":{\"gridcolor\":\"white\",\"linecolor\":\"white\",\"ticks\":\"\"}},\"ternary\":{\"bgcolor\":\"#E5ECF6\",\"aaxis\":{\"gridcolor\":\"white\",\"linecolor\":\"white\",\"ticks\":\"\"},\"baxis\":{\"gridcolor\":\"white\",\"linecolor\":\"white\",\"ticks\":\"\"},\"caxis\":{\"gridcolor\":\"white\",\"linecolor\":\"white\",\"ticks\":\"\"}},\"coloraxis\":{\"colorbar\":{\"outlinewidth\":0,\"ticks\":\"\"}},\"colorscale\":{\"sequential\":[[0.0,\"#0d0887\"],[0.1111111111111111,\"#46039f\"],[0.2222222222222222,\"#7201a8\"],[0.3333333333333333,\"#9c179e\"],[0.4444444444444444,\"#bd3786\"],[0.5555555555555556,\"#d8576b\"],[0.6666666666666666,\"#ed7953\"],[0.7777777777777778,\"#fb9f3a\"],[0.8888888888888888,\"#fdca26\"],[1.0,\"#f0f921\"]],\"sequentialminus\":[[0.0,\"#0d0887\"],[0.1111111111111111,\"#46039f\"],[0.2222222222222222,\"#7201a8\"],[0.3333333333333333,\"#9c179e\"],[0.4444444444444444,\"#bd3786\"],[0.5555555555555556,\"#d8576b\"],[0.6666666666666666,\"#ed7953\"],[0.7777777777777778,\"#fb9f3a\"],[0.8888888888888888,\"#fdca26\"],[1.0,\"#f0f921\"]],\"diverging\":[[0,\"#8e0152\"],[0.1,\"#c51b7d\"],[0.2,\"#de77ae\"],[0.3,\"#f1b6da\"],[0.4,\"#fde0ef\"],[0.5,\"#f7f7f7\"],[0.6,\"#e6f5d0\"],[0.7,\"#b8e186\"],[0.8,\"#7fbc41\"],[0.9,\"#4d9221\"],[1,\"#276419\"]]},\"xaxis\":{\"gridcolor\":\"white\",\"linecolor\":\"white\",\"ticks\":\"\",\"title\":{\"standoff\":15},\"zerolinecolor\":\"white\",\"automargin\":true,\"zerolinewidth\":2},\"yaxis\":{\"gridcolor\":\"white\",\"linecolor\":\"white\",\"ticks\":\"\",\"title\":{\"standoff\":15},\"zerolinecolor\":\"white\",\"automargin\":true,\"zerolinewidth\":2},\"scene\":{\"xaxis\":{\"backgroundcolor\":\"#E5ECF6\",\"gridcolor\":\"white\",\"linecolor\":\"white\",\"showbackground\":true,\"ticks\":\"\",\"zerolinecolor\":\"white\",\"gridwidth\":2},\"yaxis\":{\"backgroundcolor\":\"#E5ECF6\",\"gridcolor\":\"white\",\"linecolor\":\"white\",\"showbackground\":true,\"ticks\":\"\",\"zerolinecolor\":\"white\",\"gridwidth\":2},\"zaxis\":{\"backgroundcolor\":\"#E5ECF6\",\"gridcolor\":\"white\",\"linecolor\":\"white\",\"showbackground\":true,\"ticks\":\"\",\"zerolinecolor\":\"white\",\"gridwidth\":2}},\"shapedefaults\":{\"line\":{\"color\":\"#2a3f5f\"}},\"annotationdefaults\":{\"arrowcolor\":\"#2a3f5f\",\"arrowhead\":0,\"arrowwidth\":1},\"geo\":{\"bgcolor\":\"white\",\"landcolor\":\"#E5ECF6\",\"subunitcolor\":\"white\",\"showland\":true,\"showlakes\":true,\"lakecolor\":\"white\"},\"title\":{\"x\":0.05},\"mapbox\":{\"style\":\"light\"}}},\"xaxis\":{\"anchor\":\"y\",\"domain\":[0.0,1.0],\"title\":{\"text\":\"acousticness\"}},\"yaxis\":{\"anchor\":\"x\",\"domain\":[0.0,1.0],\"title\":{\"text\":\"loudness\"}},\"legend\":{\"tracegroupgap\":0},\"margin\":{\"t\":60},\"title\":{\"text\":\"Acousticness vs. Loudness\",\"x\":0.5}},                        {\"responsive\": true}                    ).then(function(){\n",
       "                            \n",
       "var gd = document.getElementById('1ecab401-14e3-4f70-a5eb-c360df470a15');\n",
       "var x = new MutationObserver(function (mutations, observer) {{\n",
       "        var display = window.getComputedStyle(gd).display;\n",
       "        if (!display || display === 'none') {{\n",
       "            console.log([gd, 'removed!']);\n",
       "            Plotly.purge(gd);\n",
       "            observer.disconnect();\n",
       "        }}\n",
       "}});\n",
       "\n",
       "// Listen for the removal of the full notebook cells\n",
       "var notebookContainer = gd.closest('#notebook-container');\n",
       "if (notebookContainer) {{\n",
       "    x.observe(notebookContainer, {childList: true});\n",
       "}}\n",
       "\n",
       "// Listen for the clearing of the current output cell\n",
       "var outputEl = gd.closest('.output');\n",
       "if (outputEl) {{\n",
       "    x.observe(outputEl, {childList: true});\n",
       "}}\n",
       "\n",
       "                        })                };                });            </script>        </div>"
      ]
     },
     "metadata": {},
     "output_type": "display_data"
    }
   ],
   "source": [
    "fig = px.scatter(song_df, x='acousticness', y='loudness', hover_data=['track_name'])\n",
    "fig.update_layout(title='Acousticness vs. Loudness', title_x=0.5)\n",
    "fig.show()"
   ]
  },
  {
   "cell_type": "markdown",
   "metadata": {},
   "source": [
    "From this plot we can see that the loudness of a track generally goes down as the acousticness score increases. In other words, it's likely there's a negative correlation between loudness and acousticness. This is exactly what I was expecting since electronic music (non-acoustic) tends to be louder compared to acoustic songs. I think a linear model would be a good choice for this data."
   ]
  },
  {
   "cell_type": "markdown",
   "metadata": {},
   "source": [
    "# Part 3: Web Scraping Fantasy Football\n",
    "\n",
    "## Part 3.1: Get a table (5 points)\n",
    "\n",
    "In Fantasy Football, real NFL players gain points for fans at home based on some scoring criteria (which differs based on the website, but in all cases more points is better). Use the `pd.read_html` function to pull in the table located at the following url from Week 1 of current Yahoo Fantasy Football season: https://football.fantasysports.yahoo.com/f1/whoshot?pos=ALL&week=1"
   ]
  },
  {
   "cell_type": "code",
   "execution_count": 50,
   "metadata": {},
   "outputs": [],
   "source": [
    "html = pd.read_html('https://football.fantasysports.yahoo.com/f1/whoshot?pos=ALL&week=1')\n",
    "df_FF = html[0]"
   ]
  },
  {
   "cell_type": "markdown",
   "metadata": {},
   "source": [
    "## Part 3.2: Build a clean Data Frame (10 points)\n",
    "\n",
    "Write a function `clean_nfl_df()` which takes the table from Part 3.1 as input and :\n",
    "\n",
    "- breaks up the `Name` column into three columns: `Name`, `Team`, `Pos` (position). For example, the first couple observations under the `Name` column as it is read in by default should be:\n",
    "\n",
    "| Name                                                      |\n",
    "|----------------------------------------------------------:|\n",
    "| New Player Note  Tyreek Hill Mia - WR Final W 36-34 @ LAC |\n",
    "| No new player Notes Dallas Dal - DEF Final W 40-0 @ NYG   |\n",
    "\n",
    "    this should be replaced with three columns:\n",
    "\n",
    "| Name             | Team | Pos |\n",
    "|-----------------:|-----:|----:|\n",
    "| Tyreek Hill      | Mia  | WR  |\n",
    "| Dallas           | Dal  | DEF |\n",
    "\n",
    "- breaks up the `Stats` column into different numeric columns based on the statistics. There should be:\n",
    "    * `Pass Yds`\n",
    "    * `Rec Yds`\n",
    "    * `Rush Yds`\n",
    "    * `Pass TD`\n",
    "    * `Rec TD`\n",
    "    * `Rush TD`\n",
    "    * `Rec`\n",
    "    * `Sack`\n",
    "    * `Int`\n",
    "    * `Fum Rec`\n",
    "    \n",
    "    so that the first couple observations:\n",
    "    \n",
    "| Stats                               |\n",
    "|------------------------------------:|\n",
    "| 11 Rec, 215 Rec Yds, 2 Rec TD       |\n",
    "| 7 Sack, 2 Int, 1 Fum Rec            |\n",
    "\n",
    "    becomes\n",
    "    \n",
    "| Pass Yds | Rec Yds | Rush Yds | Pass TD | Rec TD | Rush TD | Rec | Sack | Int | Fum Rec |\n",
    "|---------:|--------:|---------:|--------:|-------:|--------:|----:|-----:|----:|--------:|\n",
    "|   NaN    |  215    |    NaN   |   NaN   | 2      | NaN     | 11  | NaN  | NaN | NaN     |\n",
    "|   NaN    |  NaN    |    NaN   |   NaN   | NaN    | NaN     | NaN | 7    | 2   | 1       |\n",
    "\n",
    "- produces the final clean data frame whose first two rows look like:\n",
    "\n",
    "| Name             | Team | Pos | Pass Yds | Rec Yds | Rush Yds | Pass TD | Rec TD | Rush TD | Rec | Sack | Int | Fum Rec | Fan Pts   |\n",
    "|-----------------:|-----:|----:|---------:|--------:|---------:|--------:|-------:|--------:|----:|-----:|----:|--------:|----------:|\n",
    "| Tyreek Hill      | Mia  | WR  |   NaN    |  215    |    NaN   |   NaN   | 2      | NaN     | 11  | NaN  | NaN | NaN     | 39.00 |\n",
    "| Dallas           | Dal  | DEF |   NaN    |  NaN    |    NaN   |   NaN   | NaN    | NaN     | NaN | 7    | 2   | 1       | 37.00 |"
   ]
  },
  {
   "cell_type": "code",
   "execution_count": 51,
   "metadata": {
    "scrolled": true
   },
   "outputs": [
    {
     "data": {
      "text/html": [
       "<div>\n",
       "<style scoped>\n",
       "    .dataframe tbody tr th:only-of-type {\n",
       "        vertical-align: middle;\n",
       "    }\n",
       "\n",
       "    .dataframe tbody tr th {\n",
       "        vertical-align: top;\n",
       "    }\n",
       "\n",
       "    .dataframe thead th {\n",
       "        text-align: right;\n",
       "    }\n",
       "</style>\n",
       "<table border=\"1\" class=\"dataframe\">\n",
       "  <thead>\n",
       "    <tr style=\"text-align: right;\">\n",
       "      <th></th>\n",
       "      <th>Name</th>\n",
       "      <th>Team</th>\n",
       "      <th>Pos</th>\n",
       "      <th>Pass Yds</th>\n",
       "      <th>Rec Yds</th>\n",
       "      <th>Rush Yds</th>\n",
       "      <th>Pass TD</th>\n",
       "      <th>Rec TD</th>\n",
       "      <th>Rush TD</th>\n",
       "      <th>Rec</th>\n",
       "      <th>Sack</th>\n",
       "      <th>Int</th>\n",
       "      <th>Fum Rec</th>\n",
       "      <th>Fan Pts</th>\n",
       "    </tr>\n",
       "  </thead>\n",
       "  <tbody>\n",
       "    <tr>\n",
       "      <th>0</th>\n",
       "      <td>Tyreek Hill</td>\n",
       "      <td>Mia</td>\n",
       "      <td>WR</td>\n",
       "      <td>NaN</td>\n",
       "      <td>215.0</td>\n",
       "      <td>NaN</td>\n",
       "      <td>NaN</td>\n",
       "      <td>2.0</td>\n",
       "      <td>NaN</td>\n",
       "      <td>11.0</td>\n",
       "      <td>NaN</td>\n",
       "      <td>NaN</td>\n",
       "      <td>NaN</td>\n",
       "      <td>39.00</td>\n",
       "    </tr>\n",
       "    <tr>\n",
       "      <th>1</th>\n",
       "      <td>Dallas</td>\n",
       "      <td>Dal</td>\n",
       "      <td>DEF</td>\n",
       "      <td>NaN</td>\n",
       "      <td>NaN</td>\n",
       "      <td>NaN</td>\n",
       "      <td>NaN</td>\n",
       "      <td>NaN</td>\n",
       "      <td>NaN</td>\n",
       "      <td>NaN</td>\n",
       "      <td>7.0</td>\n",
       "      <td>2.0</td>\n",
       "      <td>1.0</td>\n",
       "      <td>37.00</td>\n",
       "    </tr>\n",
       "    <tr>\n",
       "      <th>2</th>\n",
       "      <td>Brandon Aiyuk</td>\n",
       "      <td>SF</td>\n",
       "      <td>WR</td>\n",
       "      <td>NaN</td>\n",
       "      <td>129.0</td>\n",
       "      <td>NaN</td>\n",
       "      <td>NaN</td>\n",
       "      <td>2.0</td>\n",
       "      <td>NaN</td>\n",
       "      <td>8.0</td>\n",
       "      <td>NaN</td>\n",
       "      <td>NaN</td>\n",
       "      <td>NaN</td>\n",
       "      <td>28.90</td>\n",
       "    </tr>\n",
       "    <tr>\n",
       "      <th>3</th>\n",
       "      <td>Tua Tagovailoa</td>\n",
       "      <td>Mia</td>\n",
       "      <td>QB</td>\n",
       "      <td>466.0</td>\n",
       "      <td>NaN</td>\n",
       "      <td>NaN</td>\n",
       "      <td>3.0</td>\n",
       "      <td>NaN</td>\n",
       "      <td>NaN</td>\n",
       "      <td>NaN</td>\n",
       "      <td>NaN</td>\n",
       "      <td>1.0</td>\n",
       "      <td>NaN</td>\n",
       "      <td>28.14</td>\n",
       "    </tr>\n",
       "    <tr>\n",
       "      <th>4</th>\n",
       "      <td>Aaron Jones</td>\n",
       "      <td>GB</td>\n",
       "      <td>RB</td>\n",
       "      <td>NaN</td>\n",
       "      <td>NaN</td>\n",
       "      <td>41.0</td>\n",
       "      <td>NaN</td>\n",
       "      <td>NaN</td>\n",
       "      <td>1.0</td>\n",
       "      <td>2.0</td>\n",
       "      <td>NaN</td>\n",
       "      <td>NaN</td>\n",
       "      <td>NaN</td>\n",
       "      <td>25.70</td>\n",
       "    </tr>\n",
       "    <tr>\n",
       "      <th>5</th>\n",
       "      <td>Mac Jones</td>\n",
       "      <td>NE</td>\n",
       "      <td>QB</td>\n",
       "      <td>316.0</td>\n",
       "      <td>NaN</td>\n",
       "      <td>NaN</td>\n",
       "      <td>3.0</td>\n",
       "      <td>NaN</td>\n",
       "      <td>NaN</td>\n",
       "      <td>NaN</td>\n",
       "      <td>NaN</td>\n",
       "      <td>1.0</td>\n",
       "      <td>NaN</td>\n",
       "      <td>25.14</td>\n",
       "    </tr>\n",
       "    <tr>\n",
       "      <th>6</th>\n",
       "      <td>Jakobi Meyers</td>\n",
       "      <td>LV</td>\n",
       "      <td>WR</td>\n",
       "      <td>NaN</td>\n",
       "      <td>81.0</td>\n",
       "      <td>NaN</td>\n",
       "      <td>NaN</td>\n",
       "      <td>2.0</td>\n",
       "      <td>NaN</td>\n",
       "      <td>9.0</td>\n",
       "      <td>NaN</td>\n",
       "      <td>NaN</td>\n",
       "      <td>NaN</td>\n",
       "      <td>24.60</td>\n",
       "    </tr>\n",
       "    <tr>\n",
       "      <th>7</th>\n",
       "      <td>Austin Ekeler</td>\n",
       "      <td>LAC</td>\n",
       "      <td>RB</td>\n",
       "      <td>NaN</td>\n",
       "      <td>NaN</td>\n",
       "      <td>117.0</td>\n",
       "      <td>NaN</td>\n",
       "      <td>NaN</td>\n",
       "      <td>1.0</td>\n",
       "      <td>4.0</td>\n",
       "      <td>NaN</td>\n",
       "      <td>NaN</td>\n",
       "      <td>NaN</td>\n",
       "      <td>24.40</td>\n",
       "    </tr>\n",
       "    <tr>\n",
       "      <th>8</th>\n",
       "      <td>Christian McCaffrey</td>\n",
       "      <td>SF</td>\n",
       "      <td>RB</td>\n",
       "      <td>NaN</td>\n",
       "      <td>NaN</td>\n",
       "      <td>152.0</td>\n",
       "      <td>NaN</td>\n",
       "      <td>NaN</td>\n",
       "      <td>1.0</td>\n",
       "      <td>3.0</td>\n",
       "      <td>NaN</td>\n",
       "      <td>NaN</td>\n",
       "      <td>NaN</td>\n",
       "      <td>24.40</td>\n",
       "    </tr>\n",
       "    <tr>\n",
       "      <th>9</th>\n",
       "      <td>Jordan Love</td>\n",
       "      <td>GB</td>\n",
       "      <td>QB</td>\n",
       "      <td>245.0</td>\n",
       "      <td>NaN</td>\n",
       "      <td>12.0</td>\n",
       "      <td>3.0</td>\n",
       "      <td>NaN</td>\n",
       "      <td>NaN</td>\n",
       "      <td>NaN</td>\n",
       "      <td>NaN</td>\n",
       "      <td>NaN</td>\n",
       "      <td>NaN</td>\n",
       "      <td>23.00</td>\n",
       "    </tr>\n",
       "    <tr>\n",
       "      <th>10</th>\n",
       "      <td>Tyler Allgeier</td>\n",
       "      <td>Atl</td>\n",
       "      <td>RB</td>\n",
       "      <td>NaN</td>\n",
       "      <td>NaN</td>\n",
       "      <td>75.0</td>\n",
       "      <td>NaN</td>\n",
       "      <td>NaN</td>\n",
       "      <td>2.0</td>\n",
       "      <td>3.0</td>\n",
       "      <td>NaN</td>\n",
       "      <td>NaN</td>\n",
       "      <td>NaN</td>\n",
       "      <td>22.90</td>\n",
       "    </tr>\n",
       "    <tr>\n",
       "      <th>11</th>\n",
       "      <td>Anthony Richardson</td>\n",
       "      <td>Ind</td>\n",
       "      <td>QB</td>\n",
       "      <td>223.0</td>\n",
       "      <td>NaN</td>\n",
       "      <td>NaN</td>\n",
       "      <td>1.0</td>\n",
       "      <td>NaN</td>\n",
       "      <td>NaN</td>\n",
       "      <td>NaN</td>\n",
       "      <td>NaN</td>\n",
       "      <td>1.0</td>\n",
       "      <td>NaN</td>\n",
       "      <td>21.92</td>\n",
       "    </tr>\n",
       "    <tr>\n",
       "      <th>12</th>\n",
       "      <td>Deshaun Watson</td>\n",
       "      <td>Cle</td>\n",
       "      <td>QB</td>\n",
       "      <td>154.0</td>\n",
       "      <td>NaN</td>\n",
       "      <td>NaN</td>\n",
       "      <td>1.0</td>\n",
       "      <td>NaN</td>\n",
       "      <td>NaN</td>\n",
       "      <td>NaN</td>\n",
       "      <td>NaN</td>\n",
       "      <td>1.0</td>\n",
       "      <td>NaN</td>\n",
       "      <td>21.66</td>\n",
       "    </tr>\n",
       "    <tr>\n",
       "      <th>13</th>\n",
       "      <td>Kendrick Bourne</td>\n",
       "      <td>NE</td>\n",
       "      <td>WR</td>\n",
       "      <td>NaN</td>\n",
       "      <td>64.0</td>\n",
       "      <td>NaN</td>\n",
       "      <td>NaN</td>\n",
       "      <td>2.0</td>\n",
       "      <td>NaN</td>\n",
       "      <td>6.0</td>\n",
       "      <td>NaN</td>\n",
       "      <td>NaN</td>\n",
       "      <td>NaN</td>\n",
       "      <td>21.40</td>\n",
       "    </tr>\n",
       "    <tr>\n",
       "      <th>14</th>\n",
       "      <td>Tony Pollard</td>\n",
       "      <td>Dal</td>\n",
       "      <td>RB</td>\n",
       "      <td>NaN</td>\n",
       "      <td>NaN</td>\n",
       "      <td>70.0</td>\n",
       "      <td>NaN</td>\n",
       "      <td>NaN</td>\n",
       "      <td>2.0</td>\n",
       "      <td>2.0</td>\n",
       "      <td>NaN</td>\n",
       "      <td>NaN</td>\n",
       "      <td>NaN</td>\n",
       "      <td>21.20</td>\n",
       "    </tr>\n",
       "    <tr>\n",
       "      <th>15</th>\n",
       "      <td>Stefon Diggs</td>\n",
       "      <td>Buf</td>\n",
       "      <td>WR</td>\n",
       "      <td>NaN</td>\n",
       "      <td>102.0</td>\n",
       "      <td>NaN</td>\n",
       "      <td>NaN</td>\n",
       "      <td>1.0</td>\n",
       "      <td>NaN</td>\n",
       "      <td>10.0</td>\n",
       "      <td>NaN</td>\n",
       "      <td>NaN</td>\n",
       "      <td>NaN</td>\n",
       "      <td>21.20</td>\n",
       "    </tr>\n",
       "    <tr>\n",
       "      <th>16</th>\n",
       "      <td>Justin Herbert</td>\n",
       "      <td>LAC</td>\n",
       "      <td>QB</td>\n",
       "      <td>229.0</td>\n",
       "      <td>NaN</td>\n",
       "      <td>17.0</td>\n",
       "      <td>1.0</td>\n",
       "      <td>NaN</td>\n",
       "      <td>NaN</td>\n",
       "      <td>NaN</td>\n",
       "      <td>NaN</td>\n",
       "      <td>NaN</td>\n",
       "      <td>NaN</td>\n",
       "      <td>20.86</td>\n",
       "    </tr>\n",
       "    <tr>\n",
       "      <th>17</th>\n",
       "      <td>Patrick Mahomes</td>\n",
       "      <td>KC</td>\n",
       "      <td>QB</td>\n",
       "      <td>226.0</td>\n",
       "      <td>NaN</td>\n",
       "      <td>NaN</td>\n",
       "      <td>2.0</td>\n",
       "      <td>NaN</td>\n",
       "      <td>NaN</td>\n",
       "      <td>NaN</td>\n",
       "      <td>NaN</td>\n",
       "      <td>1.0</td>\n",
       "      <td>NaN</td>\n",
       "      <td>20.54</td>\n",
       "    </tr>\n",
       "    <tr>\n",
       "      <th>18</th>\n",
       "      <td>Calvin Ridley</td>\n",
       "      <td>Jax</td>\n",
       "      <td>WR</td>\n",
       "      <td>NaN</td>\n",
       "      <td>101.0</td>\n",
       "      <td>NaN</td>\n",
       "      <td>NaN</td>\n",
       "      <td>1.0</td>\n",
       "      <td>NaN</td>\n",
       "      <td>8.0</td>\n",
       "      <td>NaN</td>\n",
       "      <td>NaN</td>\n",
       "      <td>NaN</td>\n",
       "      <td>20.10</td>\n",
       "    </tr>\n",
       "    <tr>\n",
       "      <th>19</th>\n",
       "      <td>New York</td>\n",
       "      <td>NYJ</td>\n",
       "      <td>DEF</td>\n",
       "      <td>NaN</td>\n",
       "      <td>NaN</td>\n",
       "      <td>NaN</td>\n",
       "      <td>NaN</td>\n",
       "      <td>NaN</td>\n",
       "      <td>NaN</td>\n",
       "      <td>NaN</td>\n",
       "      <td>5.0</td>\n",
       "      <td>3.0</td>\n",
       "      <td>1.0</td>\n",
       "      <td>20.00</td>\n",
       "    </tr>\n",
       "    <tr>\n",
       "      <th>20</th>\n",
       "      <td>Michael Pittman Jr.</td>\n",
       "      <td>Ind</td>\n",
       "      <td>WR</td>\n",
       "      <td>NaN</td>\n",
       "      <td>97.0</td>\n",
       "      <td>NaN</td>\n",
       "      <td>NaN</td>\n",
       "      <td>1.0</td>\n",
       "      <td>NaN</td>\n",
       "      <td>8.0</td>\n",
       "      <td>NaN</td>\n",
       "      <td>NaN</td>\n",
       "      <td>NaN</td>\n",
       "      <td>19.70</td>\n",
       "    </tr>\n",
       "    <tr>\n",
       "      <th>21</th>\n",
       "      <td>Justin Jefferson</td>\n",
       "      <td>Min</td>\n",
       "      <td>WR</td>\n",
       "      <td>NaN</td>\n",
       "      <td>150.0</td>\n",
       "      <td>NaN</td>\n",
       "      <td>NaN</td>\n",
       "      <td>NaN</td>\n",
       "      <td>NaN</td>\n",
       "      <td>9.0</td>\n",
       "      <td>NaN</td>\n",
       "      <td>NaN</td>\n",
       "      <td>NaN</td>\n",
       "      <td>19.50</td>\n",
       "    </tr>\n",
       "    <tr>\n",
       "      <th>22</th>\n",
       "      <td>Arizona</td>\n",
       "      <td>Ari</td>\n",
       "      <td>DEF</td>\n",
       "      <td>NaN</td>\n",
       "      <td>NaN</td>\n",
       "      <td>NaN</td>\n",
       "      <td>NaN</td>\n",
       "      <td>NaN</td>\n",
       "      <td>NaN</td>\n",
       "      <td>NaN</td>\n",
       "      <td>6.0</td>\n",
       "      <td>1.0</td>\n",
       "      <td>2.0</td>\n",
       "      <td>19.00</td>\n",
       "    </tr>\n",
       "    <tr>\n",
       "      <th>23</th>\n",
       "      <td>Travis Etienne Jr.</td>\n",
       "      <td>Jax</td>\n",
       "      <td>RB</td>\n",
       "      <td>NaN</td>\n",
       "      <td>NaN</td>\n",
       "      <td>77.0</td>\n",
       "      <td>NaN</td>\n",
       "      <td>NaN</td>\n",
       "      <td>1.0</td>\n",
       "      <td>5.0</td>\n",
       "      <td>NaN</td>\n",
       "      <td>NaN</td>\n",
       "      <td>NaN</td>\n",
       "      <td>18.90</td>\n",
       "    </tr>\n",
       "    <tr>\n",
       "      <th>24</th>\n",
       "      <td>Trevor Lawrence</td>\n",
       "      <td>Jax</td>\n",
       "      <td>QB</td>\n",
       "      <td>241.0</td>\n",
       "      <td>NaN</td>\n",
       "      <td>NaN</td>\n",
       "      <td>2.0</td>\n",
       "      <td>NaN</td>\n",
       "      <td>NaN</td>\n",
       "      <td>NaN</td>\n",
       "      <td>NaN</td>\n",
       "      <td>1.0</td>\n",
       "      <td>NaN</td>\n",
       "      <td>18.74</td>\n",
       "    </tr>\n",
       "  </tbody>\n",
       "</table>\n",
       "</div>"
      ],
      "text/plain": [
       "                   Name Team  Pos  Pass Yds  Rec Yds  Rush Yds  Pass TD  \\\n",
       "0           Tyreek Hill  Mia   WR       NaN    215.0       NaN      NaN   \n",
       "1                Dallas  Dal  DEF       NaN      NaN       NaN      NaN   \n",
       "2         Brandon Aiyuk   SF   WR       NaN    129.0       NaN      NaN   \n",
       "3        Tua Tagovailoa  Mia   QB     466.0      NaN       NaN      3.0   \n",
       "4           Aaron Jones   GB   RB       NaN      NaN      41.0      NaN   \n",
       "5             Mac Jones   NE   QB     316.0      NaN       NaN      3.0   \n",
       "6         Jakobi Meyers   LV   WR       NaN     81.0       NaN      NaN   \n",
       "7         Austin Ekeler  LAC   RB       NaN      NaN     117.0      NaN   \n",
       "8   Christian McCaffrey   SF   RB       NaN      NaN     152.0      NaN   \n",
       "9           Jordan Love   GB   QB     245.0      NaN      12.0      3.0   \n",
       "10       Tyler Allgeier  Atl   RB       NaN      NaN      75.0      NaN   \n",
       "11   Anthony Richardson  Ind   QB     223.0      NaN       NaN      1.0   \n",
       "12       Deshaun Watson  Cle   QB     154.0      NaN       NaN      1.0   \n",
       "13      Kendrick Bourne   NE   WR       NaN     64.0       NaN      NaN   \n",
       "14         Tony Pollard  Dal   RB       NaN      NaN      70.0      NaN   \n",
       "15         Stefon Diggs  Buf   WR       NaN    102.0       NaN      NaN   \n",
       "16       Justin Herbert  LAC   QB     229.0      NaN      17.0      1.0   \n",
       "17      Patrick Mahomes   KC   QB     226.0      NaN       NaN      2.0   \n",
       "18        Calvin Ridley  Jax   WR       NaN    101.0       NaN      NaN   \n",
       "19             New York  NYJ  DEF       NaN      NaN       NaN      NaN   \n",
       "20  Michael Pittman Jr.  Ind   WR       NaN     97.0       NaN      NaN   \n",
       "21     Justin Jefferson  Min   WR       NaN    150.0       NaN      NaN   \n",
       "22              Arizona  Ari  DEF       NaN      NaN       NaN      NaN   \n",
       "23   Travis Etienne Jr.  Jax   RB       NaN      NaN      77.0      NaN   \n",
       "24      Trevor Lawrence  Jax   QB     241.0      NaN       NaN      2.0   \n",
       "\n",
       "    Rec TD  Rush TD   Rec  Sack  Int  Fum Rec  Fan Pts  \n",
       "0      2.0      NaN  11.0   NaN  NaN      NaN    39.00  \n",
       "1      NaN      NaN   NaN   7.0  2.0      1.0    37.00  \n",
       "2      2.0      NaN   8.0   NaN  NaN      NaN    28.90  \n",
       "3      NaN      NaN   NaN   NaN  1.0      NaN    28.14  \n",
       "4      NaN      1.0   2.0   NaN  NaN      NaN    25.70  \n",
       "5      NaN      NaN   NaN   NaN  1.0      NaN    25.14  \n",
       "6      2.0      NaN   9.0   NaN  NaN      NaN    24.60  \n",
       "7      NaN      1.0   4.0   NaN  NaN      NaN    24.40  \n",
       "8      NaN      1.0   3.0   NaN  NaN      NaN    24.40  \n",
       "9      NaN      NaN   NaN   NaN  NaN      NaN    23.00  \n",
       "10     NaN      2.0   3.0   NaN  NaN      NaN    22.90  \n",
       "11     NaN      NaN   NaN   NaN  1.0      NaN    21.92  \n",
       "12     NaN      NaN   NaN   NaN  1.0      NaN    21.66  \n",
       "13     2.0      NaN   6.0   NaN  NaN      NaN    21.40  \n",
       "14     NaN      2.0   2.0   NaN  NaN      NaN    21.20  \n",
       "15     1.0      NaN  10.0   NaN  NaN      NaN    21.20  \n",
       "16     NaN      NaN   NaN   NaN  NaN      NaN    20.86  \n",
       "17     NaN      NaN   NaN   NaN  1.0      NaN    20.54  \n",
       "18     1.0      NaN   8.0   NaN  NaN      NaN    20.10  \n",
       "19     NaN      NaN   NaN   5.0  3.0      1.0    20.00  \n",
       "20     1.0      NaN   8.0   NaN  NaN      NaN    19.70  \n",
       "21     NaN      NaN   9.0   NaN  NaN      NaN    19.50  \n",
       "22     NaN      NaN   NaN   6.0  1.0      2.0    19.00  \n",
       "23     NaN      1.0   5.0   NaN  NaN      NaN    18.90  \n",
       "24     NaN      NaN   NaN   NaN  1.0      NaN    18.74  "
      ]
     },
     "execution_count": 51,
     "metadata": {},
     "output_type": "execute_result"
    }
   ],
   "source": [
    "import numpy as np\n",
    "from pandas.core.common import flatten\n",
    "\n",
    "def clean_nfl_df(df):\n",
    "    ''' Takes nfl df and formats it by splitting the 'Name' col into 'Name,' 'Team,' and 'Pos' cols,\n",
    "        and by splitting the 'Stats' col into the different numeric cols based on the stats\n",
    "        Args: raw df from using pd.read_html\n",
    "        Returns: clean_df (formatted df)\n",
    "        For each row of raw df: \n",
    "            - extract the name, team, and position using string manipulations, and concatenate raw df\n",
    "              with df created from the extracted values\n",
    "            - extract the numeric cols with their respective score assigned to the col (based on the \n",
    "              stats for that given row), and concatenate previous df with df created from the extracted\n",
    "              values                    \n",
    "    '''\n",
    "    \n",
    "    name_dict = {'Name': [] , 'Team': [], 'Pos': []}\n",
    "    stats_dict = {'Pass Yds': [], 'Rec Yds': [], 'Rush Yds': [], 'Pass TD': [], 'Rec TD': [], 'Rush TD': [],\n",
    "                  'Rec': [], 'Sack': [], 'Int': [], 'Fum Rec': []}\n",
    "    \n",
    "    for row in df['Name']:\n",
    "        row_split = row.split('-')\n",
    "        team = row_split[0][-4:].strip()\n",
    "        row_split[0] = row_split[0][:-4]\n",
    "        position = row_split[1][:4].strip()\n",
    "        \n",
    "        prefixes = ['Player Note', 'No new player Notes', 'New Player Note']\n",
    "        name = ''\n",
    "        \n",
    "        # Strip prefixes from each string containing name to extract player name\n",
    "        for _ in prefixes:\n",
    "            if row_split[0].startswith(_):\n",
    "                name = row_split[0][len(_):].strip()\n",
    "\n",
    "        name_dict['Name'].append(name)\n",
    "        name_dict['Team'].append(team)\n",
    "        name_dict['Pos'].append(position)\n",
    "    \n",
    "    # Drop original name column and concatenate raw df with df generated by the name's split columns\n",
    "    name_df = pd.DataFrame(name_dict)\n",
    "    df.drop('Name', inplace=True, axis=1)  \n",
    "    df = pd.concat([name_df, df], ignore_index=False, axis=1)\n",
    "    \n",
    "    for row in df['Stats']:\n",
    "        stats_split = row.split(', ')\n",
    "        \n",
    "        # Get 1D list of all stats (including score) for a given row\n",
    "        stats_list = list(flatten([stats_split[i].split(' ', 1) for i in range(len(stats_split))]))\n",
    "        \n",
    "        # Fill stats_dict where (stat_name, score) are the (key, value) pairs\n",
    "        for _ in stats_dict.keys():\n",
    "            if _ in stats_list:\n",
    "                idx = stats_list.index(_)\n",
    "                number = int(stats_list[idx - 1])\n",
    "                stats_dict[_].append(number)\n",
    "            else:\n",
    "                stats_dict[_].append(np.nan)\n",
    "                \n",
    "    # Create df from stats_dict and concatenate it to the previous df\n",
    "    clean_df = pd.concat([df, pd.DataFrame(stats_dict)], ignore_index=False, axis=1)\n",
    "    \n",
    "    # Drop original 'Stats' column\n",
    "    clean_df.drop('Stats', inplace=True, axis=1)\n",
    "    \n",
    "    # Rearrange order of columns to match desired df format\n",
    "    clean_df = clean_df[['Name', 'Team', 'Pos', 'Pass Yds', 'Rec Yds','Rush Yds', 'Pass TD',\n",
    "                          'Rec TD', 'Rush TD', 'Rec', 'Sack', 'Int', 'Fum Rec', 'Fan Pts']]\n",
    "    \n",
    "    return clean_df\n",
    "\n",
    "clean_nfl = clean_nfl_df(df_FF)\n",
    "clean_nfl"
   ]
  },
  {
   "cell_type": "markdown",
   "metadata": {},
   "source": [
    "### Part 3.3: More Cleaning (5 points)\n",
    "\n",
    "Go to the url from Part 2.1 in the browser and examine how the url changes when different positions or weeks are selected. Then, write the function `weekly_nfl_df()` which takes two arguments `pos` and `week`, and which uses your `clean_nfl_df()` function from Part 2.1 to produce a clean data frame for any position and any week (depending on when you complete this, there have only been 2-5 weeks so far; thus when you test this function only use 1 or 2 to be safe)."
   ]
  },
  {
   "cell_type": "code",
   "execution_count": 37,
   "metadata": {},
   "outputs": [],
   "source": [
    "def weekly_nfl_df(pos, week):\n",
    "    \"\"\" Retrieve nfl df for a given position and week from the Fantasy Football API\n",
    "        Args: player position (pos) -- string, week of the NFL (week) -- int from 1 to 5\n",
    "        Returns: formatted nfl df for the given input\n",
    "        Create url specific for given input, request html from url, grab df from html,\n",
    "        clean df using previous function, and return it\n",
    "    \"\"\"\n",
    "    url = f\"https://football.fantasysports.yahoo.com/f1/whoshot?pos={pos}&week={week}\"\n",
    "    html = pd.read_html(url)\n",
    "    df_FF = html[0]\n",
    "    clean_df = clean_nfl_df(df_FF)\n",
    "    \n",
    "    return clean_df"
   ]
  },
  {
   "cell_type": "markdown",
   "metadata": {},
   "source": [
    "### Part 3.4: Using the function (5 points)\n",
    "\n",
    "Use your `weekly_nfl_df()` function from Part 2.3 to create a single data frame that includes the top fantasy Quarterbacks (`pos = 'QB'`) for the first 3 weeks of this season. **Note**: there may be multiple ways to do this, and you **must** wait until the morning of September 26 to be able to do all three weeks."
   ]
  },
  {
   "cell_type": "code",
   "execution_count": 38,
   "metadata": {},
   "outputs": [
    {
     "data": {
      "text/html": [
       "<div>\n",
       "<style scoped>\n",
       "    .dataframe tbody tr th:only-of-type {\n",
       "        vertical-align: middle;\n",
       "    }\n",
       "\n",
       "    .dataframe tbody tr th {\n",
       "        vertical-align: top;\n",
       "    }\n",
       "\n",
       "    .dataframe thead th {\n",
       "        text-align: right;\n",
       "    }\n",
       "</style>\n",
       "<table border=\"1\" class=\"dataframe\">\n",
       "  <thead>\n",
       "    <tr style=\"text-align: right;\">\n",
       "      <th></th>\n",
       "      <th>Name</th>\n",
       "      <th>Team</th>\n",
       "      <th>Pos</th>\n",
       "      <th>Pass Yds</th>\n",
       "      <th>Rec Yds</th>\n",
       "      <th>Rush Yds</th>\n",
       "      <th>Pass TD</th>\n",
       "      <th>Rec TD</th>\n",
       "      <th>Rush TD</th>\n",
       "      <th>Rec</th>\n",
       "      <th>Sack</th>\n",
       "      <th>Int</th>\n",
       "      <th>Fum Rec</th>\n",
       "      <th>Fan Pts</th>\n",
       "    </tr>\n",
       "  </thead>\n",
       "  <tbody>\n",
       "    <tr>\n",
       "      <th>0</th>\n",
       "      <td>Tua Tagovailoa</td>\n",
       "      <td>Mia</td>\n",
       "      <td>QB</td>\n",
       "      <td>466</td>\n",
       "      <td>NaN</td>\n",
       "      <td>NaN</td>\n",
       "      <td>3.0</td>\n",
       "      <td>NaN</td>\n",
       "      <td>NaN</td>\n",
       "      <td>NaN</td>\n",
       "      <td>NaN</td>\n",
       "      <td>1.0</td>\n",
       "      <td>NaN</td>\n",
       "      <td>28.14</td>\n",
       "    </tr>\n",
       "    <tr>\n",
       "      <th>1</th>\n",
       "      <td>Mac Jones</td>\n",
       "      <td>NE</td>\n",
       "      <td>QB</td>\n",
       "      <td>316</td>\n",
       "      <td>NaN</td>\n",
       "      <td>NaN</td>\n",
       "      <td>3.0</td>\n",
       "      <td>NaN</td>\n",
       "      <td>NaN</td>\n",
       "      <td>NaN</td>\n",
       "      <td>NaN</td>\n",
       "      <td>1.0</td>\n",
       "      <td>NaN</td>\n",
       "      <td>25.14</td>\n",
       "    </tr>\n",
       "    <tr>\n",
       "      <th>2</th>\n",
       "      <td>Jordan Love</td>\n",
       "      <td>GB</td>\n",
       "      <td>QB</td>\n",
       "      <td>245</td>\n",
       "      <td>NaN</td>\n",
       "      <td>12.0</td>\n",
       "      <td>3.0</td>\n",
       "      <td>NaN</td>\n",
       "      <td>NaN</td>\n",
       "      <td>NaN</td>\n",
       "      <td>NaN</td>\n",
       "      <td>NaN</td>\n",
       "      <td>NaN</td>\n",
       "      <td>23.00</td>\n",
       "    </tr>\n",
       "    <tr>\n",
       "      <th>3</th>\n",
       "      <td>Anthony Richardson</td>\n",
       "      <td>Ind</td>\n",
       "      <td>QB</td>\n",
       "      <td>223</td>\n",
       "      <td>NaN</td>\n",
       "      <td>NaN</td>\n",
       "      <td>1.0</td>\n",
       "      <td>NaN</td>\n",
       "      <td>NaN</td>\n",
       "      <td>NaN</td>\n",
       "      <td>NaN</td>\n",
       "      <td>1.0</td>\n",
       "      <td>NaN</td>\n",
       "      <td>21.92</td>\n",
       "    </tr>\n",
       "    <tr>\n",
       "      <th>4</th>\n",
       "      <td>Deshaun Watson</td>\n",
       "      <td>Cle</td>\n",
       "      <td>QB</td>\n",
       "      <td>154</td>\n",
       "      <td>NaN</td>\n",
       "      <td>NaN</td>\n",
       "      <td>1.0</td>\n",
       "      <td>NaN</td>\n",
       "      <td>NaN</td>\n",
       "      <td>NaN</td>\n",
       "      <td>NaN</td>\n",
       "      <td>1.0</td>\n",
       "      <td>NaN</td>\n",
       "      <td>21.66</td>\n",
       "    </tr>\n",
       "    <tr>\n",
       "      <th>...</th>\n",
       "      <td>...</td>\n",
       "      <td>...</td>\n",
       "      <td>...</td>\n",
       "      <td>...</td>\n",
       "      <td>...</td>\n",
       "      <td>...</td>\n",
       "      <td>...</td>\n",
       "      <td>...</td>\n",
       "      <td>...</td>\n",
       "      <td>...</td>\n",
       "      <td>...</td>\n",
       "      <td>...</td>\n",
       "      <td>...</td>\n",
       "      <td>...</td>\n",
       "    </tr>\n",
       "    <tr>\n",
       "      <th>20</th>\n",
       "      <td>Matthew Stafford</td>\n",
       "      <td>LAR</td>\n",
       "      <td>QB</td>\n",
       "      <td>269</td>\n",
       "      <td>NaN</td>\n",
       "      <td>NaN</td>\n",
       "      <td>1.0</td>\n",
       "      <td>NaN</td>\n",
       "      <td>NaN</td>\n",
       "      <td>NaN</td>\n",
       "      <td>NaN</td>\n",
       "      <td>2.0</td>\n",
       "      <td>NaN</td>\n",
       "      <td>13.46</td>\n",
       "    </tr>\n",
       "    <tr>\n",
       "      <th>21</th>\n",
       "      <td>Mac Jones</td>\n",
       "      <td>NE</td>\n",
       "      <td>QB</td>\n",
       "      <td>201</td>\n",
       "      <td>NaN</td>\n",
       "      <td>13.0</td>\n",
       "      <td>1.0</td>\n",
       "      <td>NaN</td>\n",
       "      <td>NaN</td>\n",
       "      <td>NaN</td>\n",
       "      <td>NaN</td>\n",
       "      <td>NaN</td>\n",
       "      <td>NaN</td>\n",
       "      <td>13.34</td>\n",
       "    </tr>\n",
       "    <tr>\n",
       "      <th>22</th>\n",
       "      <td>Gardner Minshew</td>\n",
       "      <td>Ind</td>\n",
       "      <td>QB</td>\n",
       "      <td>227</td>\n",
       "      <td>NaN</td>\n",
       "      <td>NaN</td>\n",
       "      <td>1.0</td>\n",
       "      <td>NaN</td>\n",
       "      <td>NaN</td>\n",
       "      <td>NaN</td>\n",
       "      <td>NaN</td>\n",
       "      <td>NaN</td>\n",
       "      <td>NaN</td>\n",
       "      <td>13.08</td>\n",
       "    </tr>\n",
       "    <tr>\n",
       "      <th>23</th>\n",
       "      <td>Justin Fields</td>\n",
       "      <td>Chi</td>\n",
       "      <td>QB</td>\n",
       "      <td>99</td>\n",
       "      <td>NaN</td>\n",
       "      <td>NaN</td>\n",
       "      <td>1.0</td>\n",
       "      <td>NaN</td>\n",
       "      <td>NaN</td>\n",
       "      <td>NaN</td>\n",
       "      <td>NaN</td>\n",
       "      <td>1.0</td>\n",
       "      <td>NaN</td>\n",
       "      <td>11.66</td>\n",
       "    </tr>\n",
       "    <tr>\n",
       "      <th>24</th>\n",
       "      <td>Baker Mayfield</td>\n",
       "      <td>TB</td>\n",
       "      <td>QB</td>\n",
       "      <td>146</td>\n",
       "      <td>NaN</td>\n",
       "      <td>NaN</td>\n",
       "      <td>1.0</td>\n",
       "      <td>NaN</td>\n",
       "      <td>NaN</td>\n",
       "      <td>NaN</td>\n",
       "      <td>NaN</td>\n",
       "      <td>1.0</td>\n",
       "      <td>NaN</td>\n",
       "      <td>11.04</td>\n",
       "    </tr>\n",
       "  </tbody>\n",
       "</table>\n",
       "<p>75 rows × 14 columns</p>\n",
       "</div>"
      ],
      "text/plain": [
       "                  Name Team Pos  Pass Yds  Rec Yds  Rush Yds  Pass TD  Rec TD  \\\n",
       "0       Tua Tagovailoa  Mia  QB       466      NaN       NaN      3.0     NaN   \n",
       "1            Mac Jones   NE  QB       316      NaN       NaN      3.0     NaN   \n",
       "2          Jordan Love   GB  QB       245      NaN      12.0      3.0     NaN   \n",
       "3   Anthony Richardson  Ind  QB       223      NaN       NaN      1.0     NaN   \n",
       "4       Deshaun Watson  Cle  QB       154      NaN       NaN      1.0     NaN   \n",
       "..                 ...  ...  ..       ...      ...       ...      ...     ...   \n",
       "20    Matthew Stafford  LAR  QB       269      NaN       NaN      1.0     NaN   \n",
       "21           Mac Jones   NE  QB       201      NaN      13.0      1.0     NaN   \n",
       "22     Gardner Minshew  Ind  QB       227      NaN       NaN      1.0     NaN   \n",
       "23       Justin Fields  Chi  QB        99      NaN       NaN      1.0     NaN   \n",
       "24      Baker Mayfield   TB  QB       146      NaN       NaN      1.0     NaN   \n",
       "\n",
       "    Rush TD  Rec  Sack  Int  Fum Rec  Fan Pts  \n",
       "0       NaN  NaN   NaN  1.0      NaN    28.14  \n",
       "1       NaN  NaN   NaN  1.0      NaN    25.14  \n",
       "2       NaN  NaN   NaN  NaN      NaN    23.00  \n",
       "3       NaN  NaN   NaN  1.0      NaN    21.92  \n",
       "4       NaN  NaN   NaN  1.0      NaN    21.66  \n",
       "..      ...  ...   ...  ...      ...      ...  \n",
       "20      NaN  NaN   NaN  2.0      NaN    13.46  \n",
       "21      NaN  NaN   NaN  NaN      NaN    13.34  \n",
       "22      NaN  NaN   NaN  NaN      NaN    13.08  \n",
       "23      NaN  NaN   NaN  1.0      NaN    11.66  \n",
       "24      NaN  NaN   NaN  1.0      NaN    11.04  \n",
       "\n",
       "[75 rows x 14 columns]"
      ]
     },
     "execution_count": 38,
     "metadata": {},
     "output_type": "execute_result"
    }
   ],
   "source": [
    "def nfl_df(pos, week):\n",
    "    \"\"\" Create stacked df for a given player position including info from week 1 to provided week number\n",
    "        Args: position (string), week (int from 1 to 5)\n",
    "        Returns df_week -- stacked df \n",
    "        Generate clean nfl df for week 1 for given position, and stack the other df's from the following \n",
    "        weeks to have a cummulative df that gets returned\n",
    "    \"\"\"\n",
    "    \n",
    "    df_week = weekly_nfl_df(pos, 1)\n",
    "    weeks = [i for i in range(2, week + 1)]\n",
    "    \n",
    "    for week in weeks:\n",
    "        df = weekly_nfl_df(pos, week)\n",
    "        df_week = pd.concat([df_week, df], ignore_index=False)\n",
    "        \n",
    "    return df_week\n",
    "\n",
    "three_weeks_QB_df = nfl_df('QB', 3)\n",
    "three_weeks_QB_df"
   ]
  },
  {
   "cell_type": "markdown",
   "metadata": {},
   "source": [
    "### Part 3.5: Plotting and Interpretation (5 points)\n",
    "\n",
    "Make a graph which plots `Pass Yds` on the x-axis against `Fan Pts` on the y-axis, and colors the points based on `Pass TD`. Use `plotly` and include the `Name` and `Team` as `hover_data`. Make sure the graph is well labeled, titled, and includes a legend. Then, in a Markdown cell, discuss in **at least 3** sentences your interpretation of the graph.\n",
    "\n",
    "- **Note**: if you are not an american football fan, in brief the Quarterback's role is to throw the ball to other players in the hopes of scoring a touchdown (if you want a much more technical description, you may also read a bit [here](https://en.wikipedia.org/wiki/Quarterback))."
   ]
  },
  {
   "cell_type": "code",
   "execution_count": 39,
   "metadata": {},
   "outputs": [],
   "source": [
    "import plotly.express as px"
   ]
  },
  {
   "cell_type": "code",
   "execution_count": 40,
   "metadata": {},
   "outputs": [
    {
     "data": {
      "application/vnd.plotly.v1+json": {
       "config": {
        "plotlyServerURL": "https://plot.ly"
       },
       "data": [
        {
         "customdata": [
          [
           "Tua Tagovailoa",
           "Mia"
          ],
          [
           "Mac Jones",
           "NE"
          ],
          [
           "Jordan Love",
           "GB"
          ],
          [
           "Anthony Richardson",
           "Ind"
          ],
          [
           "Deshaun Watson",
           "Cle"
          ],
          [
           "Justin Herbert",
           "LAC"
          ],
          [
           "Patrick Mahomes",
           "KC"
          ],
          [
           "Trevor Lawrence",
           "Jax"
          ],
          [
           "Kirk Cousins",
           "Min"
          ],
          [
           "Brock Purdy",
           "SF"
          ],
          [
           "Sam Howell",
           "Was"
          ],
          [
           "Jimmy Garoppolo",
           "LV"
          ],
          [
           "Baker Mayfield",
           "TB"
          ],
          [
           "Derek Carr",
           "NO"
          ],
          [
           "Justin Fields",
           "Chi"
          ],
          [
           "Russell Wilson",
           "Den"
          ],
          [
           "Matthew Stafford",
           "LAR"
          ],
          [
           "Jared Goff",
           "Det"
          ],
          [
           "Jalen Hurts",
           "Phi"
          ],
          [
           "Josh Allen",
           "Buf"
          ],
          [
           "Kenny Pickett",
           "Pit"
          ],
          [
           "C.J. Stroud",
           "Hou"
          ],
          [
           "Bryce Young",
           "Car"
          ],
          [
           "Zach Wilson",
           "NYJ"
          ],
          [
           "Geno Smith",
           "Sea"
          ],
          [
           "Daniel Jones",
           "NYG"
          ],
          [
           "Kirk Cousins",
           "Min"
          ],
          [
           "Russell Wilson",
           "Den"
          ],
          [
           "Jalen Hurts",
           "Phi"
          ],
          [
           "Joshua Dobbs",
           "Ari"
          ],
          [
           "Jared Goff",
           "Det"
          ],
          [
           "Josh Allen",
           "Buf"
          ],
          [
           "Geno Smith",
           "Sea"
          ],
          [
           "Lamar Jackson",
           "Bal"
          ],
          [
           "Desmond Ridder",
           "Atl"
          ],
          [
           "Patrick Mahomes",
           "KC"
          ],
          [
           "Justin Herbert",
           "LAC"
          ],
          [
           "C.J. Stroud",
           "Hou"
          ],
          [
           "Sam Howell",
           "Was"
          ],
          [
           "Ryan Tannehill",
           "Ten"
          ],
          [
           "Jordan Love",
           "GB"
          ],
          [
           "Dak Prescott",
           "Dal"
          ],
          [
           "Baker Mayfield",
           "TB"
          ],
          [
           "Anthony Richardson",
           "Ind"
          ],
          [
           "Justin Fields",
           "Chi"
          ],
          [
           "Joe Burrow",
           "Cin"
          ],
          [
           "Matthew Stafford",
           "LAR"
          ],
          [
           "Brock Purdy",
           "SF"
          ],
          [
           "Mac Jones",
           "NE"
          ],
          [
           "Bryce Young",
           "Car"
          ],
          [
           "Justin Herbert",
           "LAC"
          ],
          [
           "Tua Tagovailoa",
           "Mia"
          ],
          [
           "Lamar Jackson",
           "Bal"
          ],
          [
           "Kirk Cousins",
           "Min"
          ],
          [
           "Patrick Mahomes",
           "KC"
          ],
          [
           "Jordan Love",
           "GB"
          ],
          [
           "Andy Dalton",
           "Car"
          ],
          [
           "Josh Allen",
           "Buf"
          ],
          [
           "Jalen Hurts",
           "Phi"
          ],
          [
           "Deshaun Watson",
           "Cle"
          ],
          [
           "Jimmy Garoppolo",
           "LV"
          ],
          [
           "C.J. Stroud",
           "Hou"
          ],
          [
           "Brock Purdy",
           "SF"
          ],
          [
           "Jared Goff",
           "Det"
          ],
          [
           "Kenny Pickett",
           "Pit"
          ],
          [
           "Joshua Dobbs",
           "Ari"
          ],
          [
           "Geno Smith",
           "Sea"
          ],
          [
           "Trevor Lawrence",
           "Jax"
          ],
          [
           "Dak Prescott",
           "Dal"
          ],
          [
           "Russell Wilson",
           "Den"
          ],
          [
           "Matthew Stafford",
           "LAR"
          ],
          [
           "Mac Jones",
           "NE"
          ],
          [
           "Gardner Minshew",
           "Ind"
          ],
          [
           "Justin Fields",
           "Chi"
          ],
          [
           "Baker Mayfield",
           "TB"
          ]
         ],
         "hovertemplate": "Pass Yds=%{x}<br>Fan Pts=%{y}<br>Name=%{customdata[0]}<br>Team=%{customdata[1]}<br>Pass TD=%{marker.color}<extra></extra>",
         "legendgroup": "",
         "marker": {
          "color": [
           3,
           3,
           3,
           1,
           1,
           1,
           2,
           2,
           2,
           2,
           1,
           2,
           2,
           1,
           1,
           2,
           null,
           1,
           1,
           1,
           1,
           null,
           1,
           1,
           1,
           2,
           4,
           3,
           1,
           1,
           3,
           3,
           2,
           2,
           1,
           2,
           2,
           2,
           2,
           1,
           3,
           2,
           1,
           null,
           1,
           2,
           1,
           null,
           1,
           1,
           3,
           4,
           null,
           3,
           3,
           1,
           2,
           1,
           1,
           2,
           2,
           2,
           2,
           1,
           2,
           1,
           1,
           1,
           1,
           1,
           1,
           1,
           1,
           1,
           1
          ],
          "coloraxis": "coloraxis",
          "symbol": "circle"
         },
         "mode": "markers",
         "name": "",
         "orientation": "v",
         "showlegend": false,
         "type": "scatter",
         "x": [
          466,
          316,
          245,
          223,
          154,
          229,
          226,
          241,
          344,
          220,
          202,
          200,
          173,
          305,
          216,
          177,
          334,
          253,
          170,
          236,
          232,
          242,
          146,
          140,
          112,
          321,
          364,
          308,
          193,
          228,
          323,
          274,
          328,
          237,
          237,
          305,
          305,
          384,
          299,
          246,
          151,
          255,
          317,
          56,
          211,
          222,
          307,
          206,
          231,
          153,
          405,
          309,
          202,
          367,
          272,
          259,
          361,
          218,
          277,
          289,
          324,
          280,
          310,
          243,
          235,
          189,
          296,
          279,
          249,
          306,
          269,
          201,
          227,
          99,
          146
         ],
         "xaxis": "x",
         "y": [
          28.14,
          25.14,
          23,
          21.92,
          21.66,
          20.86,
          20.54,
          18.74,
          17.46,
          16.8,
          16.18,
          16.1,
          16.02,
          15.6,
          15.54,
          15.18,
          14.46,
          14.02,
          12.5,
          12.04,
          11.68,
          10.18,
          9.54,
          9.2,
          9.08,
          31.74,
          28.56,
          26.92,
          26.22,
          25.22,
          23.92,
          23.66,
          23.12,
          22.88,
          22.38,
          22.2,
          22.2,
          21.46,
          21.26,
          21.04,
          20.34,
          19.6,
          18.38,
          17.74,
          16.74,
          16.38,
          15.98,
          14.74,
          14.74,
          13.52,
          29.3,
          28.36,
          28.18,
          26.68,
          25.68,
          25.26,
          23.54,
          22.32,
          21.88,
          21.16,
          20.66,
          20.6,
          20.3,
          19.02,
          18.5,
          17.06,
          16.44,
          15.36,
          15.36,
          15.24,
          13.46,
          13.34,
          13.08,
          11.66,
          11.04
         ],
         "yaxis": "y"
        }
       ],
       "layout": {
        "coloraxis": {
         "colorbar": {
          "title": {
           "text": "Pass TD"
          }
         },
         "colorscale": [
          [
           0,
           "#0d0887"
          ],
          [
           0.1111111111111111,
           "#46039f"
          ],
          [
           0.2222222222222222,
           "#7201a8"
          ],
          [
           0.3333333333333333,
           "#9c179e"
          ],
          [
           0.4444444444444444,
           "#bd3786"
          ],
          [
           0.5555555555555556,
           "#d8576b"
          ],
          [
           0.6666666666666666,
           "#ed7953"
          ],
          [
           0.7777777777777778,
           "#fb9f3a"
          ],
          [
           0.8888888888888888,
           "#fdca26"
          ],
          [
           1,
           "#f0f921"
          ]
         ]
        },
        "legend": {
         "tracegroupgap": 0
        },
        "margin": {
         "t": 60
        },
        "template": {
         "data": {
          "bar": [
           {
            "error_x": {
             "color": "#2a3f5f"
            },
            "error_y": {
             "color": "#2a3f5f"
            },
            "marker": {
             "line": {
              "color": "#E5ECF6",
              "width": 0.5
             },
             "pattern": {
              "fillmode": "overlay",
              "size": 10,
              "solidity": 0.2
             }
            },
            "type": "bar"
           }
          ],
          "barpolar": [
           {
            "marker": {
             "line": {
              "color": "#E5ECF6",
              "width": 0.5
             },
             "pattern": {
              "fillmode": "overlay",
              "size": 10,
              "solidity": 0.2
             }
            },
            "type": "barpolar"
           }
          ],
          "carpet": [
           {
            "aaxis": {
             "endlinecolor": "#2a3f5f",
             "gridcolor": "white",
             "linecolor": "white",
             "minorgridcolor": "white",
             "startlinecolor": "#2a3f5f"
            },
            "baxis": {
             "endlinecolor": "#2a3f5f",
             "gridcolor": "white",
             "linecolor": "white",
             "minorgridcolor": "white",
             "startlinecolor": "#2a3f5f"
            },
            "type": "carpet"
           }
          ],
          "choropleth": [
           {
            "colorbar": {
             "outlinewidth": 0,
             "ticks": ""
            },
            "type": "choropleth"
           }
          ],
          "contour": [
           {
            "colorbar": {
             "outlinewidth": 0,
             "ticks": ""
            },
            "colorscale": [
             [
              0,
              "#0d0887"
             ],
             [
              0.1111111111111111,
              "#46039f"
             ],
             [
              0.2222222222222222,
              "#7201a8"
             ],
             [
              0.3333333333333333,
              "#9c179e"
             ],
             [
              0.4444444444444444,
              "#bd3786"
             ],
             [
              0.5555555555555556,
              "#d8576b"
             ],
             [
              0.6666666666666666,
              "#ed7953"
             ],
             [
              0.7777777777777778,
              "#fb9f3a"
             ],
             [
              0.8888888888888888,
              "#fdca26"
             ],
             [
              1,
              "#f0f921"
             ]
            ],
            "type": "contour"
           }
          ],
          "contourcarpet": [
           {
            "colorbar": {
             "outlinewidth": 0,
             "ticks": ""
            },
            "type": "contourcarpet"
           }
          ],
          "heatmap": [
           {
            "colorbar": {
             "outlinewidth": 0,
             "ticks": ""
            },
            "colorscale": [
             [
              0,
              "#0d0887"
             ],
             [
              0.1111111111111111,
              "#46039f"
             ],
             [
              0.2222222222222222,
              "#7201a8"
             ],
             [
              0.3333333333333333,
              "#9c179e"
             ],
             [
              0.4444444444444444,
              "#bd3786"
             ],
             [
              0.5555555555555556,
              "#d8576b"
             ],
             [
              0.6666666666666666,
              "#ed7953"
             ],
             [
              0.7777777777777778,
              "#fb9f3a"
             ],
             [
              0.8888888888888888,
              "#fdca26"
             ],
             [
              1,
              "#f0f921"
             ]
            ],
            "type": "heatmap"
           }
          ],
          "heatmapgl": [
           {
            "colorbar": {
             "outlinewidth": 0,
             "ticks": ""
            },
            "colorscale": [
             [
              0,
              "#0d0887"
             ],
             [
              0.1111111111111111,
              "#46039f"
             ],
             [
              0.2222222222222222,
              "#7201a8"
             ],
             [
              0.3333333333333333,
              "#9c179e"
             ],
             [
              0.4444444444444444,
              "#bd3786"
             ],
             [
              0.5555555555555556,
              "#d8576b"
             ],
             [
              0.6666666666666666,
              "#ed7953"
             ],
             [
              0.7777777777777778,
              "#fb9f3a"
             ],
             [
              0.8888888888888888,
              "#fdca26"
             ],
             [
              1,
              "#f0f921"
             ]
            ],
            "type": "heatmapgl"
           }
          ],
          "histogram": [
           {
            "marker": {
             "pattern": {
              "fillmode": "overlay",
              "size": 10,
              "solidity": 0.2
             }
            },
            "type": "histogram"
           }
          ],
          "histogram2d": [
           {
            "colorbar": {
             "outlinewidth": 0,
             "ticks": ""
            },
            "colorscale": [
             [
              0,
              "#0d0887"
             ],
             [
              0.1111111111111111,
              "#46039f"
             ],
             [
              0.2222222222222222,
              "#7201a8"
             ],
             [
              0.3333333333333333,
              "#9c179e"
             ],
             [
              0.4444444444444444,
              "#bd3786"
             ],
             [
              0.5555555555555556,
              "#d8576b"
             ],
             [
              0.6666666666666666,
              "#ed7953"
             ],
             [
              0.7777777777777778,
              "#fb9f3a"
             ],
             [
              0.8888888888888888,
              "#fdca26"
             ],
             [
              1,
              "#f0f921"
             ]
            ],
            "type": "histogram2d"
           }
          ],
          "histogram2dcontour": [
           {
            "colorbar": {
             "outlinewidth": 0,
             "ticks": ""
            },
            "colorscale": [
             [
              0,
              "#0d0887"
             ],
             [
              0.1111111111111111,
              "#46039f"
             ],
             [
              0.2222222222222222,
              "#7201a8"
             ],
             [
              0.3333333333333333,
              "#9c179e"
             ],
             [
              0.4444444444444444,
              "#bd3786"
             ],
             [
              0.5555555555555556,
              "#d8576b"
             ],
             [
              0.6666666666666666,
              "#ed7953"
             ],
             [
              0.7777777777777778,
              "#fb9f3a"
             ],
             [
              0.8888888888888888,
              "#fdca26"
             ],
             [
              1,
              "#f0f921"
             ]
            ],
            "type": "histogram2dcontour"
           }
          ],
          "mesh3d": [
           {
            "colorbar": {
             "outlinewidth": 0,
             "ticks": ""
            },
            "type": "mesh3d"
           }
          ],
          "parcoords": [
           {
            "line": {
             "colorbar": {
              "outlinewidth": 0,
              "ticks": ""
             }
            },
            "type": "parcoords"
           }
          ],
          "pie": [
           {
            "automargin": true,
            "type": "pie"
           }
          ],
          "scatter": [
           {
            "fillpattern": {
             "fillmode": "overlay",
             "size": 10,
             "solidity": 0.2
            },
            "type": "scatter"
           }
          ],
          "scatter3d": [
           {
            "line": {
             "colorbar": {
              "outlinewidth": 0,
              "ticks": ""
             }
            },
            "marker": {
             "colorbar": {
              "outlinewidth": 0,
              "ticks": ""
             }
            },
            "type": "scatter3d"
           }
          ],
          "scattercarpet": [
           {
            "marker": {
             "colorbar": {
              "outlinewidth": 0,
              "ticks": ""
             }
            },
            "type": "scattercarpet"
           }
          ],
          "scattergeo": [
           {
            "marker": {
             "colorbar": {
              "outlinewidth": 0,
              "ticks": ""
             }
            },
            "type": "scattergeo"
           }
          ],
          "scattergl": [
           {
            "marker": {
             "colorbar": {
              "outlinewidth": 0,
              "ticks": ""
             }
            },
            "type": "scattergl"
           }
          ],
          "scattermapbox": [
           {
            "marker": {
             "colorbar": {
              "outlinewidth": 0,
              "ticks": ""
             }
            },
            "type": "scattermapbox"
           }
          ],
          "scatterpolar": [
           {
            "marker": {
             "colorbar": {
              "outlinewidth": 0,
              "ticks": ""
             }
            },
            "type": "scatterpolar"
           }
          ],
          "scatterpolargl": [
           {
            "marker": {
             "colorbar": {
              "outlinewidth": 0,
              "ticks": ""
             }
            },
            "type": "scatterpolargl"
           }
          ],
          "scatterternary": [
           {
            "marker": {
             "colorbar": {
              "outlinewidth": 0,
              "ticks": ""
             }
            },
            "type": "scatterternary"
           }
          ],
          "surface": [
           {
            "colorbar": {
             "outlinewidth": 0,
             "ticks": ""
            },
            "colorscale": [
             [
              0,
              "#0d0887"
             ],
             [
              0.1111111111111111,
              "#46039f"
             ],
             [
              0.2222222222222222,
              "#7201a8"
             ],
             [
              0.3333333333333333,
              "#9c179e"
             ],
             [
              0.4444444444444444,
              "#bd3786"
             ],
             [
              0.5555555555555556,
              "#d8576b"
             ],
             [
              0.6666666666666666,
              "#ed7953"
             ],
             [
              0.7777777777777778,
              "#fb9f3a"
             ],
             [
              0.8888888888888888,
              "#fdca26"
             ],
             [
              1,
              "#f0f921"
             ]
            ],
            "type": "surface"
           }
          ],
          "table": [
           {
            "cells": {
             "fill": {
              "color": "#EBF0F8"
             },
             "line": {
              "color": "white"
             }
            },
            "header": {
             "fill": {
              "color": "#C8D4E3"
             },
             "line": {
              "color": "white"
             }
            },
            "type": "table"
           }
          ]
         },
         "layout": {
          "annotationdefaults": {
           "arrowcolor": "#2a3f5f",
           "arrowhead": 0,
           "arrowwidth": 1
          },
          "autotypenumbers": "strict",
          "coloraxis": {
           "colorbar": {
            "outlinewidth": 0,
            "ticks": ""
           }
          },
          "colorscale": {
           "diverging": [
            [
             0,
             "#8e0152"
            ],
            [
             0.1,
             "#c51b7d"
            ],
            [
             0.2,
             "#de77ae"
            ],
            [
             0.3,
             "#f1b6da"
            ],
            [
             0.4,
             "#fde0ef"
            ],
            [
             0.5,
             "#f7f7f7"
            ],
            [
             0.6,
             "#e6f5d0"
            ],
            [
             0.7,
             "#b8e186"
            ],
            [
             0.8,
             "#7fbc41"
            ],
            [
             0.9,
             "#4d9221"
            ],
            [
             1,
             "#276419"
            ]
           ],
           "sequential": [
            [
             0,
             "#0d0887"
            ],
            [
             0.1111111111111111,
             "#46039f"
            ],
            [
             0.2222222222222222,
             "#7201a8"
            ],
            [
             0.3333333333333333,
             "#9c179e"
            ],
            [
             0.4444444444444444,
             "#bd3786"
            ],
            [
             0.5555555555555556,
             "#d8576b"
            ],
            [
             0.6666666666666666,
             "#ed7953"
            ],
            [
             0.7777777777777778,
             "#fb9f3a"
            ],
            [
             0.8888888888888888,
             "#fdca26"
            ],
            [
             1,
             "#f0f921"
            ]
           ],
           "sequentialminus": [
            [
             0,
             "#0d0887"
            ],
            [
             0.1111111111111111,
             "#46039f"
            ],
            [
             0.2222222222222222,
             "#7201a8"
            ],
            [
             0.3333333333333333,
             "#9c179e"
            ],
            [
             0.4444444444444444,
             "#bd3786"
            ],
            [
             0.5555555555555556,
             "#d8576b"
            ],
            [
             0.6666666666666666,
             "#ed7953"
            ],
            [
             0.7777777777777778,
             "#fb9f3a"
            ],
            [
             0.8888888888888888,
             "#fdca26"
            ],
            [
             1,
             "#f0f921"
            ]
           ]
          },
          "colorway": [
           "#636efa",
           "#EF553B",
           "#00cc96",
           "#ab63fa",
           "#FFA15A",
           "#19d3f3",
           "#FF6692",
           "#B6E880",
           "#FF97FF",
           "#FECB52"
          ],
          "font": {
           "color": "#2a3f5f"
          },
          "geo": {
           "bgcolor": "white",
           "lakecolor": "white",
           "landcolor": "#E5ECF6",
           "showlakes": true,
           "showland": true,
           "subunitcolor": "white"
          },
          "hoverlabel": {
           "align": "left"
          },
          "hovermode": "closest",
          "mapbox": {
           "style": "light"
          },
          "paper_bgcolor": "white",
          "plot_bgcolor": "#E5ECF6",
          "polar": {
           "angularaxis": {
            "gridcolor": "white",
            "linecolor": "white",
            "ticks": ""
           },
           "bgcolor": "#E5ECF6",
           "radialaxis": {
            "gridcolor": "white",
            "linecolor": "white",
            "ticks": ""
           }
          },
          "scene": {
           "xaxis": {
            "backgroundcolor": "#E5ECF6",
            "gridcolor": "white",
            "gridwidth": 2,
            "linecolor": "white",
            "showbackground": true,
            "ticks": "",
            "zerolinecolor": "white"
           },
           "yaxis": {
            "backgroundcolor": "#E5ECF6",
            "gridcolor": "white",
            "gridwidth": 2,
            "linecolor": "white",
            "showbackground": true,
            "ticks": "",
            "zerolinecolor": "white"
           },
           "zaxis": {
            "backgroundcolor": "#E5ECF6",
            "gridcolor": "white",
            "gridwidth": 2,
            "linecolor": "white",
            "showbackground": true,
            "ticks": "",
            "zerolinecolor": "white"
           }
          },
          "shapedefaults": {
           "line": {
            "color": "#2a3f5f"
           }
          },
          "ternary": {
           "aaxis": {
            "gridcolor": "white",
            "linecolor": "white",
            "ticks": ""
           },
           "baxis": {
            "gridcolor": "white",
            "linecolor": "white",
            "ticks": ""
           },
           "bgcolor": "#E5ECF6",
           "caxis": {
            "gridcolor": "white",
            "linecolor": "white",
            "ticks": ""
           }
          },
          "title": {
           "x": 0.05
          },
          "xaxis": {
           "automargin": true,
           "gridcolor": "white",
           "linecolor": "white",
           "ticks": "",
           "title": {
            "standoff": 15
           },
           "zerolinecolor": "white",
           "zerolinewidth": 2
          },
          "yaxis": {
           "automargin": true,
           "gridcolor": "white",
           "linecolor": "white",
           "ticks": "",
           "title": {
            "standoff": 15
           },
           "zerolinecolor": "white",
           "zerolinewidth": 2
          }
         }
        },
        "title": {
         "text": "Pass Yards vs. Fan Points  for QB's",
         "x": 0.5
        },
        "xaxis": {
         "anchor": "y",
         "domain": [
          0,
          1
         ],
         "title": {
          "text": "Pass Yds"
         }
        },
        "yaxis": {
         "anchor": "x",
         "domain": [
          0,
          1
         ],
         "title": {
          "text": "Fan Pts"
         }
        }
       }
      },
      "text/html": [
       "<div>                            <div id=\"3628c423-779a-46b6-97e4-594c8f57aad9\" class=\"plotly-graph-div\" style=\"height:525px; width:100%;\"></div>            <script type=\"text/javascript\">                require([\"plotly\"], function(Plotly) {                    window.PLOTLYENV=window.PLOTLYENV || {};                                    if (document.getElementById(\"3628c423-779a-46b6-97e4-594c8f57aad9\")) {                    Plotly.newPlot(                        \"3628c423-779a-46b6-97e4-594c8f57aad9\",                        [{\"customdata\":[[\"Tua Tagovailoa\",\"Mia\"],[\"Mac Jones\",\"NE\"],[\"Jordan Love\",\"GB\"],[\"Anthony Richardson\",\"Ind\"],[\"Deshaun Watson\",\"Cle\"],[\"Justin Herbert\",\"LAC\"],[\"Patrick Mahomes\",\"KC\"],[\"Trevor Lawrence\",\"Jax\"],[\"Kirk Cousins\",\"Min\"],[\"Brock Purdy\",\"SF\"],[\"Sam Howell\",\"Was\"],[\"Jimmy Garoppolo\",\"LV\"],[\"Baker Mayfield\",\"TB\"],[\"Derek Carr\",\"NO\"],[\"Justin Fields\",\"Chi\"],[\"Russell Wilson\",\"Den\"],[\"Matthew Stafford\",\"LAR\"],[\"Jared Goff\",\"Det\"],[\"Jalen Hurts\",\"Phi\"],[\"Josh Allen\",\"Buf\"],[\"Kenny Pickett\",\"Pit\"],[\"C.J. Stroud\",\"Hou\"],[\"Bryce Young\",\"Car\"],[\"Zach Wilson\",\"NYJ\"],[\"Geno Smith\",\"Sea\"],[\"Daniel Jones\",\"NYG\"],[\"Kirk Cousins\",\"Min\"],[\"Russell Wilson\",\"Den\"],[\"Jalen Hurts\",\"Phi\"],[\"Joshua Dobbs\",\"Ari\"],[\"Jared Goff\",\"Det\"],[\"Josh Allen\",\"Buf\"],[\"Geno Smith\",\"Sea\"],[\"Lamar Jackson\",\"Bal\"],[\"Desmond Ridder\",\"Atl\"],[\"Patrick Mahomes\",\"KC\"],[\"Justin Herbert\",\"LAC\"],[\"C.J. Stroud\",\"Hou\"],[\"Sam Howell\",\"Was\"],[\"Ryan Tannehill\",\"Ten\"],[\"Jordan Love\",\"GB\"],[\"Dak Prescott\",\"Dal\"],[\"Baker Mayfield\",\"TB\"],[\"Anthony Richardson\",\"Ind\"],[\"Justin Fields\",\"Chi\"],[\"Joe Burrow\",\"Cin\"],[\"Matthew Stafford\",\"LAR\"],[\"Brock Purdy\",\"SF\"],[\"Mac Jones\",\"NE\"],[\"Bryce Young\",\"Car\"],[\"Justin Herbert\",\"LAC\"],[\"Tua Tagovailoa\",\"Mia\"],[\"Lamar Jackson\",\"Bal\"],[\"Kirk Cousins\",\"Min\"],[\"Patrick Mahomes\",\"KC\"],[\"Jordan Love\",\"GB\"],[\"Andy Dalton\",\"Car\"],[\"Josh Allen\",\"Buf\"],[\"Jalen Hurts\",\"Phi\"],[\"Deshaun Watson\",\"Cle\"],[\"Jimmy Garoppolo\",\"LV\"],[\"C.J. Stroud\",\"Hou\"],[\"Brock Purdy\",\"SF\"],[\"Jared Goff\",\"Det\"],[\"Kenny Pickett\",\"Pit\"],[\"Joshua Dobbs\",\"Ari\"],[\"Geno Smith\",\"Sea\"],[\"Trevor Lawrence\",\"Jax\"],[\"Dak Prescott\",\"Dal\"],[\"Russell Wilson\",\"Den\"],[\"Matthew Stafford\",\"LAR\"],[\"Mac Jones\",\"NE\"],[\"Gardner Minshew\",\"Ind\"],[\"Justin Fields\",\"Chi\"],[\"Baker Mayfield\",\"TB\"]],\"hovertemplate\":\"Pass Yds=%{x}<br>Fan Pts=%{y}<br>Name=%{customdata[0]}<br>Team=%{customdata[1]}<br>Pass TD=%{marker.color}<extra></extra>\",\"legendgroup\":\"\",\"marker\":{\"color\":[3.0,3.0,3.0,1.0,1.0,1.0,2.0,2.0,2.0,2.0,1.0,2.0,2.0,1.0,1.0,2.0,null,1.0,1.0,1.0,1.0,null,1.0,1.0,1.0,2.0,4.0,3.0,1.0,1.0,3.0,3.0,2.0,2.0,1.0,2.0,2.0,2.0,2.0,1.0,3.0,2.0,1.0,null,1.0,2.0,1.0,null,1.0,1.0,3.0,4.0,null,3.0,3.0,1.0,2.0,1.0,1.0,2.0,2.0,2.0,2.0,1.0,2.0,1.0,1.0,1.0,1.0,1.0,1.0,1.0,1.0,1.0,1.0],\"coloraxis\":\"coloraxis\",\"symbol\":\"circle\"},\"mode\":\"markers\",\"name\":\"\",\"orientation\":\"v\",\"showlegend\":false,\"x\":[466,316,245,223,154,229,226,241,344,220,202,200,173,305,216,177,334,253,170,236,232,242,146,140,112,321,364,308,193,228,323,274,328,237,237,305,305,384,299,246,151,255,317,56,211,222,307,206,231,153,405,309,202,367,272,259,361,218,277,289,324,280,310,243,235,189,296,279,249,306,269,201,227,99,146],\"xaxis\":\"x\",\"y\":[28.14,25.14,23.0,21.92,21.66,20.86,20.54,18.74,17.46,16.8,16.18,16.1,16.02,15.6,15.54,15.18,14.46,14.02,12.5,12.04,11.68,10.18,9.54,9.2,9.08,31.74,28.56,26.92,26.22,25.22,23.92,23.66,23.12,22.88,22.38,22.2,22.2,21.46,21.26,21.04,20.34,19.6,18.38,17.74,16.74,16.38,15.98,14.74,14.74,13.52,29.3,28.36,28.18,26.68,25.68,25.26,23.54,22.32,21.88,21.16,20.66,20.6,20.3,19.02,18.5,17.06,16.44,15.36,15.36,15.24,13.46,13.34,13.08,11.66,11.04],\"yaxis\":\"y\",\"type\":\"scatter\"}],                        {\"template\":{\"data\":{\"histogram2dcontour\":[{\"type\":\"histogram2dcontour\",\"colorbar\":{\"outlinewidth\":0,\"ticks\":\"\"},\"colorscale\":[[0.0,\"#0d0887\"],[0.1111111111111111,\"#46039f\"],[0.2222222222222222,\"#7201a8\"],[0.3333333333333333,\"#9c179e\"],[0.4444444444444444,\"#bd3786\"],[0.5555555555555556,\"#d8576b\"],[0.6666666666666666,\"#ed7953\"],[0.7777777777777778,\"#fb9f3a\"],[0.8888888888888888,\"#fdca26\"],[1.0,\"#f0f921\"]]}],\"choropleth\":[{\"type\":\"choropleth\",\"colorbar\":{\"outlinewidth\":0,\"ticks\":\"\"}}],\"histogram2d\":[{\"type\":\"histogram2d\",\"colorbar\":{\"outlinewidth\":0,\"ticks\":\"\"},\"colorscale\":[[0.0,\"#0d0887\"],[0.1111111111111111,\"#46039f\"],[0.2222222222222222,\"#7201a8\"],[0.3333333333333333,\"#9c179e\"],[0.4444444444444444,\"#bd3786\"],[0.5555555555555556,\"#d8576b\"],[0.6666666666666666,\"#ed7953\"],[0.7777777777777778,\"#fb9f3a\"],[0.8888888888888888,\"#fdca26\"],[1.0,\"#f0f921\"]]}],\"heatmap\":[{\"type\":\"heatmap\",\"colorbar\":{\"outlinewidth\":0,\"ticks\":\"\"},\"colorscale\":[[0.0,\"#0d0887\"],[0.1111111111111111,\"#46039f\"],[0.2222222222222222,\"#7201a8\"],[0.3333333333333333,\"#9c179e\"],[0.4444444444444444,\"#bd3786\"],[0.5555555555555556,\"#d8576b\"],[0.6666666666666666,\"#ed7953\"],[0.7777777777777778,\"#fb9f3a\"],[0.8888888888888888,\"#fdca26\"],[1.0,\"#f0f921\"]]}],\"heatmapgl\":[{\"type\":\"heatmapgl\",\"colorbar\":{\"outlinewidth\":0,\"ticks\":\"\"},\"colorscale\":[[0.0,\"#0d0887\"],[0.1111111111111111,\"#46039f\"],[0.2222222222222222,\"#7201a8\"],[0.3333333333333333,\"#9c179e\"],[0.4444444444444444,\"#bd3786\"],[0.5555555555555556,\"#d8576b\"],[0.6666666666666666,\"#ed7953\"],[0.7777777777777778,\"#fb9f3a\"],[0.8888888888888888,\"#fdca26\"],[1.0,\"#f0f921\"]]}],\"contourcarpet\":[{\"type\":\"contourcarpet\",\"colorbar\":{\"outlinewidth\":0,\"ticks\":\"\"}}],\"contour\":[{\"type\":\"contour\",\"colorbar\":{\"outlinewidth\":0,\"ticks\":\"\"},\"colorscale\":[[0.0,\"#0d0887\"],[0.1111111111111111,\"#46039f\"],[0.2222222222222222,\"#7201a8\"],[0.3333333333333333,\"#9c179e\"],[0.4444444444444444,\"#bd3786\"],[0.5555555555555556,\"#d8576b\"],[0.6666666666666666,\"#ed7953\"],[0.7777777777777778,\"#fb9f3a\"],[0.8888888888888888,\"#fdca26\"],[1.0,\"#f0f921\"]]}],\"surface\":[{\"type\":\"surface\",\"colorbar\":{\"outlinewidth\":0,\"ticks\":\"\"},\"colorscale\":[[0.0,\"#0d0887\"],[0.1111111111111111,\"#46039f\"],[0.2222222222222222,\"#7201a8\"],[0.3333333333333333,\"#9c179e\"],[0.4444444444444444,\"#bd3786\"],[0.5555555555555556,\"#d8576b\"],[0.6666666666666666,\"#ed7953\"],[0.7777777777777778,\"#fb9f3a\"],[0.8888888888888888,\"#fdca26\"],[1.0,\"#f0f921\"]]}],\"mesh3d\":[{\"type\":\"mesh3d\",\"colorbar\":{\"outlinewidth\":0,\"ticks\":\"\"}}],\"scatter\":[{\"fillpattern\":{\"fillmode\":\"overlay\",\"size\":10,\"solidity\":0.2},\"type\":\"scatter\"}],\"parcoords\":[{\"type\":\"parcoords\",\"line\":{\"colorbar\":{\"outlinewidth\":0,\"ticks\":\"\"}}}],\"scatterpolargl\":[{\"type\":\"scatterpolargl\",\"marker\":{\"colorbar\":{\"outlinewidth\":0,\"ticks\":\"\"}}}],\"bar\":[{\"error_x\":{\"color\":\"#2a3f5f\"},\"error_y\":{\"color\":\"#2a3f5f\"},\"marker\":{\"line\":{\"color\":\"#E5ECF6\",\"width\":0.5},\"pattern\":{\"fillmode\":\"overlay\",\"size\":10,\"solidity\":0.2}},\"type\":\"bar\"}],\"scattergeo\":[{\"type\":\"scattergeo\",\"marker\":{\"colorbar\":{\"outlinewidth\":0,\"ticks\":\"\"}}}],\"scatterpolar\":[{\"type\":\"scatterpolar\",\"marker\":{\"colorbar\":{\"outlinewidth\":0,\"ticks\":\"\"}}}],\"histogram\":[{\"marker\":{\"pattern\":{\"fillmode\":\"overlay\",\"size\":10,\"solidity\":0.2}},\"type\":\"histogram\"}],\"scattergl\":[{\"type\":\"scattergl\",\"marker\":{\"colorbar\":{\"outlinewidth\":0,\"ticks\":\"\"}}}],\"scatter3d\":[{\"type\":\"scatter3d\",\"line\":{\"colorbar\":{\"outlinewidth\":0,\"ticks\":\"\"}},\"marker\":{\"colorbar\":{\"outlinewidth\":0,\"ticks\":\"\"}}}],\"scattermapbox\":[{\"type\":\"scattermapbox\",\"marker\":{\"colorbar\":{\"outlinewidth\":0,\"ticks\":\"\"}}}],\"scatterternary\":[{\"type\":\"scatterternary\",\"marker\":{\"colorbar\":{\"outlinewidth\":0,\"ticks\":\"\"}}}],\"scattercarpet\":[{\"type\":\"scattercarpet\",\"marker\":{\"colorbar\":{\"outlinewidth\":0,\"ticks\":\"\"}}}],\"carpet\":[{\"aaxis\":{\"endlinecolor\":\"#2a3f5f\",\"gridcolor\":\"white\",\"linecolor\":\"white\",\"minorgridcolor\":\"white\",\"startlinecolor\":\"#2a3f5f\"},\"baxis\":{\"endlinecolor\":\"#2a3f5f\",\"gridcolor\":\"white\",\"linecolor\":\"white\",\"minorgridcolor\":\"white\",\"startlinecolor\":\"#2a3f5f\"},\"type\":\"carpet\"}],\"table\":[{\"cells\":{\"fill\":{\"color\":\"#EBF0F8\"},\"line\":{\"color\":\"white\"}},\"header\":{\"fill\":{\"color\":\"#C8D4E3\"},\"line\":{\"color\":\"white\"}},\"type\":\"table\"}],\"barpolar\":[{\"marker\":{\"line\":{\"color\":\"#E5ECF6\",\"width\":0.5},\"pattern\":{\"fillmode\":\"overlay\",\"size\":10,\"solidity\":0.2}},\"type\":\"barpolar\"}],\"pie\":[{\"automargin\":true,\"type\":\"pie\"}]},\"layout\":{\"autotypenumbers\":\"strict\",\"colorway\":[\"#636efa\",\"#EF553B\",\"#00cc96\",\"#ab63fa\",\"#FFA15A\",\"#19d3f3\",\"#FF6692\",\"#B6E880\",\"#FF97FF\",\"#FECB52\"],\"font\":{\"color\":\"#2a3f5f\"},\"hovermode\":\"closest\",\"hoverlabel\":{\"align\":\"left\"},\"paper_bgcolor\":\"white\",\"plot_bgcolor\":\"#E5ECF6\",\"polar\":{\"bgcolor\":\"#E5ECF6\",\"angularaxis\":{\"gridcolor\":\"white\",\"linecolor\":\"white\",\"ticks\":\"\"},\"radialaxis\":{\"gridcolor\":\"white\",\"linecolor\":\"white\",\"ticks\":\"\"}},\"ternary\":{\"bgcolor\":\"#E5ECF6\",\"aaxis\":{\"gridcolor\":\"white\",\"linecolor\":\"white\",\"ticks\":\"\"},\"baxis\":{\"gridcolor\":\"white\",\"linecolor\":\"white\",\"ticks\":\"\"},\"caxis\":{\"gridcolor\":\"white\",\"linecolor\":\"white\",\"ticks\":\"\"}},\"coloraxis\":{\"colorbar\":{\"outlinewidth\":0,\"ticks\":\"\"}},\"colorscale\":{\"sequential\":[[0.0,\"#0d0887\"],[0.1111111111111111,\"#46039f\"],[0.2222222222222222,\"#7201a8\"],[0.3333333333333333,\"#9c179e\"],[0.4444444444444444,\"#bd3786\"],[0.5555555555555556,\"#d8576b\"],[0.6666666666666666,\"#ed7953\"],[0.7777777777777778,\"#fb9f3a\"],[0.8888888888888888,\"#fdca26\"],[1.0,\"#f0f921\"]],\"sequentialminus\":[[0.0,\"#0d0887\"],[0.1111111111111111,\"#46039f\"],[0.2222222222222222,\"#7201a8\"],[0.3333333333333333,\"#9c179e\"],[0.4444444444444444,\"#bd3786\"],[0.5555555555555556,\"#d8576b\"],[0.6666666666666666,\"#ed7953\"],[0.7777777777777778,\"#fb9f3a\"],[0.8888888888888888,\"#fdca26\"],[1.0,\"#f0f921\"]],\"diverging\":[[0,\"#8e0152\"],[0.1,\"#c51b7d\"],[0.2,\"#de77ae\"],[0.3,\"#f1b6da\"],[0.4,\"#fde0ef\"],[0.5,\"#f7f7f7\"],[0.6,\"#e6f5d0\"],[0.7,\"#b8e186\"],[0.8,\"#7fbc41\"],[0.9,\"#4d9221\"],[1,\"#276419\"]]},\"xaxis\":{\"gridcolor\":\"white\",\"linecolor\":\"white\",\"ticks\":\"\",\"title\":{\"standoff\":15},\"zerolinecolor\":\"white\",\"automargin\":true,\"zerolinewidth\":2},\"yaxis\":{\"gridcolor\":\"white\",\"linecolor\":\"white\",\"ticks\":\"\",\"title\":{\"standoff\":15},\"zerolinecolor\":\"white\",\"automargin\":true,\"zerolinewidth\":2},\"scene\":{\"xaxis\":{\"backgroundcolor\":\"#E5ECF6\",\"gridcolor\":\"white\",\"linecolor\":\"white\",\"showbackground\":true,\"ticks\":\"\",\"zerolinecolor\":\"white\",\"gridwidth\":2},\"yaxis\":{\"backgroundcolor\":\"#E5ECF6\",\"gridcolor\":\"white\",\"linecolor\":\"white\",\"showbackground\":true,\"ticks\":\"\",\"zerolinecolor\":\"white\",\"gridwidth\":2},\"zaxis\":{\"backgroundcolor\":\"#E5ECF6\",\"gridcolor\":\"white\",\"linecolor\":\"white\",\"showbackground\":true,\"ticks\":\"\",\"zerolinecolor\":\"white\",\"gridwidth\":2}},\"shapedefaults\":{\"line\":{\"color\":\"#2a3f5f\"}},\"annotationdefaults\":{\"arrowcolor\":\"#2a3f5f\",\"arrowhead\":0,\"arrowwidth\":1},\"geo\":{\"bgcolor\":\"white\",\"landcolor\":\"#E5ECF6\",\"subunitcolor\":\"white\",\"showland\":true,\"showlakes\":true,\"lakecolor\":\"white\"},\"title\":{\"x\":0.05},\"mapbox\":{\"style\":\"light\"}}},\"xaxis\":{\"anchor\":\"y\",\"domain\":[0.0,1.0],\"title\":{\"text\":\"Pass Yds\"}},\"yaxis\":{\"anchor\":\"x\",\"domain\":[0.0,1.0],\"title\":{\"text\":\"Fan Pts\"}},\"coloraxis\":{\"colorbar\":{\"title\":{\"text\":\"Pass TD\"}},\"colorscale\":[[0.0,\"#0d0887\"],[0.1111111111111111,\"#46039f\"],[0.2222222222222222,\"#7201a8\"],[0.3333333333333333,\"#9c179e\"],[0.4444444444444444,\"#bd3786\"],[0.5555555555555556,\"#d8576b\"],[0.6666666666666666,\"#ed7953\"],[0.7777777777777778,\"#fb9f3a\"],[0.8888888888888888,\"#fdca26\"],[1.0,\"#f0f921\"]]},\"legend\":{\"tracegroupgap\":0},\"margin\":{\"t\":60},\"title\":{\"text\":\"Pass Yards vs. Fan Points  for QB's\",\"x\":0.5}},                        {\"responsive\": true}                    ).then(function(){\n",
       "                            \n",
       "var gd = document.getElementById('3628c423-779a-46b6-97e4-594c8f57aad9');\n",
       "var x = new MutationObserver(function (mutations, observer) {{\n",
       "        var display = window.getComputedStyle(gd).display;\n",
       "        if (!display || display === 'none') {{\n",
       "            console.log([gd, 'removed!']);\n",
       "            Plotly.purge(gd);\n",
       "            observer.disconnect();\n",
       "        }}\n",
       "}});\n",
       "\n",
       "// Listen for the removal of the full notebook cells\n",
       "var notebookContainer = gd.closest('#notebook-container');\n",
       "if (notebookContainer) {{\n",
       "    x.observe(notebookContainer, {childList: true});\n",
       "}}\n",
       "\n",
       "// Listen for the clearing of the current output cell\n",
       "var outputEl = gd.closest('.output');\n",
       "if (outputEl) {{\n",
       "    x.observe(outputEl, {childList: true});\n",
       "}}\n",
       "\n",
       "                        })                };                });            </script>        </div>"
      ]
     },
     "metadata": {},
     "output_type": "display_data"
    }
   ],
   "source": [
    "fig = px.scatter(three_weeks_QB_df, x='Pass Yds', y='Fan Pts', color='Pass TD',\n",
    "                 hover_data=['Name', 'Team'])\n",
    "fig.update_layout(title='Pass Yards vs. Fan Points  for QB\\'s', title_x=0.5)\n",
    "fig.show()"
   ]
  },
  {
   "cell_type": "markdown",
   "metadata": {},
   "source": [
    "I believe this data has a linear trend and moreover, I believe Pass Yds and Fan Pts are positively correlated since as the former increases, the latter also increases (generally, with exception of some outliers). This makes sense since the QB's job\n",
    "is to make long passes with the hopes of resulting in a touchdown (TD). Hence, QB's that make long passes tend to have a higher fan score. Moreover, we also see that high scored players have more pass touchdowns than lower scored players, which is no suprise."
   ]
  },
  {
   "cell_type": "markdown",
   "metadata": {},
   "source": [
    "### Part 3.6: More Plotting and Interpretation(5 points)\n",
    "\n",
    "Use the `weekly_nfl_df()` function to create data frames for each of the four main offensive positions (QB, WR, RB, TE) **for the first four weeks** and then create, using subplots in a single plot, histograms for each positions' `Fan Pts`. Make sure the subplots are on the same scale, well labeled, and titled. Discuss the results in a few short sentences."
   ]
  },
  {
   "cell_type": "code",
   "execution_count": 41,
   "metadata": {},
   "outputs": [],
   "source": [
    "four_weeks_QB_df = nfl_df('QB', 4)\n",
    "four_weeks_WR_df = nfl_df('WR', 4)\n",
    "four_weeks_RB_df = nfl_df('RB', 4)\n",
    "four_weeks_TE_df = nfl_df('TE', 4)"
   ]
  },
  {
   "cell_type": "code",
   "execution_count": 42,
   "metadata": {},
   "outputs": [
    {
     "data": {
      "image/png": "[encoded data removed]",
      "text/plain": [
       "<Figure size 1600x600 with 4 Axes>"
      ]
     },
     "metadata": {},
     "output_type": "display_data"
    }
   ],
   "source": [
    "import matplotlib.pyplot as plt\n",
    "import seaborn as sns\n",
    "sns.set(font_scale=1.5)\n",
    "\n",
    "df_list = [four_weeks_QB_df, four_weeks_WR_df, four_weeks_RB_df, four_weeks_TE_df]\n",
    "\n",
    "f, ax = plt.subplots(1, 4, sharey=True)\n",
    "for i in range(len(ax)):\n",
    "    ax[i].hist(df_list[i]['Fan Pts'], bins='auto')\n",
    "    ax[i].set_xlabel('Fan Points')\n",
    "    ax[i].set_title(df_list[i]['Pos'].iloc[0])\n",
    "    \n",
    "f.suptitle(\"Fan Points Distribution\", fontsize=16)\n",
    "ax[0].set_ylabel('Frequency')\n",
    "f.set_size_inches(16, 6)"
   ]
  },
  {
   "cell_type": "markdown",
   "metadata": {},
   "source": [
    "The first thing I noticed from this plot is that WR and RB positions have players with higher fan points since we can see bins near the 40 points mark for these positions (thing we don't see for QB and TE). Another thing to note is that all four of these distributions are slighlty right-skewed, which indicates the mean is likely greater than the median. Moreover, I noticed that the fan pts for QB's are more \"evenly distributed\" in the sense that the bins' heights are closer (numerically) than the bins' heights for the other positions. Lastly, for the WR plot, there's an unusual high frequency for fan points of about 18 pts."
   ]
  },
  {
   "cell_type": "markdown",
   "metadata": {},
   "source": [
    "# Part 4: Sketch and Begin Implementing a Pipeline\n",
    "\n",
    "We wish to create a data frame that includes all the spells for each class (a \"class\" is something like a \"wizard\", or a \"bard\") in Dungeons and Dragons 5th Edition, which you can find [here](http://dnd5e.wikidot.com/). Your final data frame would look something like:\n",
    "\n",
    "| Class     | Level     | Spell Name    | School      | Casting Time | Range                | Duration      | Components |\n",
    "|----------:|----------:|--------------:|------------:|-------------:|---------------------:|--------------:|-----------:|\n",
    "| Artificer | Cantrip   | Acid Splash   | Conjuration | 1 Action     | 60 Feet              | Instantaneous | V, S       |\n",
    "| Artificer | Cantrip   | Booming Blade | Evocation   | 1 Action     | Self (5-foot radius) | 1 Round       | S, M       |\n",
    "| ...       | ...       | ...           | ...         | ...          | ...                  | ...           | ...        |\n",
    "| Wizard    | 9th Level | Wish          | Conjuration | 1 Action     | Self                 | Instantaneous | V          |"
   ]
  },
  {
   "cell_type": "markdown",
   "metadata": {},
   "source": [
    "## Part 4.1: Poking Around (5 points)\n",
    "\n",
    "Go to the D&D 5th Edition linked above. Scroll down to the \"All Spells\" list and click on \"Artificer Spells\", spend a moment looking around at the page, then \"Bard Spells\" to do the same, and make note of the url of each. What do you note about the pages and url that should be pretty convenient for scraping the data we are interested in for all different types of spells? Discuss anything else you might notice about the pages that may be either tricky or convenient to deal with. Note that in our desired data frame, we include the \"Class\" and \"Level\" for each spell."
   ]
  },
  {
   "cell_type": "markdown",
   "metadata": {},
   "source": [
    "The first thing I noticed is that the url for the spells has this format: \"http://dnd5e.wikidot.com/spells:{spell_class}\"\n",
    "This is very convenient as we just need to modify the url string by changing one word.\n",
    "I also noticed that there are different levels for each type of spell, i.e., for the artificer spells there are 6 levels, 10 levels for the bard spells, etc. This will likely be a tricky thing to deal with since we need to include both the type and the level for each spell in our final data frame."
   ]
  },
  {
   "cell_type": "markdown",
   "metadata": {},
   "source": [
    "## Part 4.2: Sketch the Pipeline (5 points)\n",
    "\n",
    "First, in a markdown cell, write a bullet point list of tasks we need to get the data frame we want. I'll give you what the first bullet point should be, and you fill in the rest (there may be only one more, depending on how efficient you are in describing the tasks...):\n",
    "\n",
    "- Write a function that takes a class (string) as an argument and returns the tables from the class's DND wiki spell page in a dictionary for each spell level\n",
    "- ... \n",
    "\n",
    "Then, in a code cell, define **empty** functions that correspond to the tasks you identified as needing done. For example, the function for the first bullet point above might start with:\n",
    "\n",
    "```python\n",
    "def get_class_spell_dict(dnd_class):\n",
    "    \"\"\" takes a D&D class (string) and gets the spell tables and saves them in a dictionary\n",
    "    \n",
    "    Args:\n",
    "        dnd_class (str): the D&D class\n",
    "        \n",
    "    Returns:\n",
    "        table_dict (dict): a dictionary of tables, one for each spell level\n",
    "    \"\"\"\n",
    "    pass\n",
    "```"
   ]
  },
  {
   "cell_type": "markdown",
   "metadata": {},
   "source": [
    "- Write a function that takes a class (string) as an argument and returns the tables from the class's DND wiki spell page in \n",
    "  a dictionary for each spell level\n",
    "- Write a function that creates a df from the tables dictionary for a given class and format it like needed (include spell level)\n",
    "- Write a function that loops through all the classes, gets the spell tables for each class, creates and cleans df\n",
    "  from tables dictionary, and concatenates all the cleaned df's to get the final df."
   ]
  },
  {
   "cell_type": "code",
   "execution_count": 43,
   "metadata": {},
   "outputs": [],
   "source": [
    "def get_class_spell_dict(dnd_class):\n",
    "    \"\"\" takes a D&D class (string) and gets the spell tables and saves them in a dictionary\n",
    "    \n",
    "    Args:\n",
    "        dnd_class (str): the D&D class\n",
    "        \n",
    "    Returns:\n",
    "        table_dict (dict): a dictionary of tables, one for each spell level\n",
    "    \"\"\"\n",
    "    pass\n",
    "\n",
    "def get_class_spell_df(tables_dict):\n",
    "    \"\"\" Takes a tables dict to create a df and formats it nicely\n",
    "        Args: spell tables dictionary (tables_dict)\n",
    "        Returns: clean df containing all spells info including the spell level and class type\n",
    "    \"\"\"\n",
    "    pass\n",
    "\n",
    "def get_all_spells_df(classes):\n",
    "    \"\"\" Loops through the classes list, get clean spell df for each class, and concat df's\n",
    "        Args: classes (list of all D&D classes)\n",
    "        Returns: (clean) concatenated df containing all spells info for all classes\n",
    "    \"\"\"\n",
    "    pass"
   ]
  },
  {
   "cell_type": "markdown",
   "metadata": {},
   "source": [
    "## Part 4.3: Write the first function (5 points)\n",
    "\n",
    "Go ahead and write the first function that I defined the framework for in part 4.2, and then test it by getting the dictionary of Bard spell tables. Show that it works by printing out the head of the 2nd level Bard spells. Your final calls should be something like:\n",
    "\n",
    "```python\n",
    "bard_spell_tables = get_class_spell_dict(\"bard\")\n",
    "bard_spell_tables['Level 2'].head()\n",
    "```\n",
    "\n",
    "**Note**: depending on how you create the dictionary in your `get_class_spell_dict` function, you may not have `'Level 2'` as the key; that's fine. The top of the table should look like:\n",
    "\n",
    "| Spell Name       | School        | Casting Time | Range                | Duration      | Components |\n",
    "|-----------------:|--------------:|-------------:|---------------------:|--------------:|-----------:|\n",
    "| Aid              | Abjuration    | 1 Action     | 30 Feet              | 8 hours       | V, S, M    |\n",
    "| Animal Messenger | Enchantment   | 1 Action R   | 30 Feet              | 24 hours      | V, S, M    |"
   ]
  },
  {
   "cell_type": "code",
   "execution_count": 44,
   "metadata": {},
   "outputs": [
    {
     "data": {
      "text/html": [
       "<div>\n",
       "<style scoped>\n",
       "    .dataframe tbody tr th:only-of-type {\n",
       "        vertical-align: middle;\n",
       "    }\n",
       "\n",
       "    .dataframe tbody tr th {\n",
       "        vertical-align: top;\n",
       "    }\n",
       "\n",
       "    .dataframe thead th {\n",
       "        text-align: right;\n",
       "    }\n",
       "</style>\n",
       "<table border=\"1\" class=\"dataframe\">\n",
       "  <thead>\n",
       "    <tr style=\"text-align: right;\">\n",
       "      <th></th>\n",
       "      <th>Spell Name</th>\n",
       "      <th>School</th>\n",
       "      <th>Casting Time</th>\n",
       "      <th>Range</th>\n",
       "      <th>Duration</th>\n",
       "      <th>Components</th>\n",
       "    </tr>\n",
       "  </thead>\n",
       "  <tbody>\n",
       "    <tr>\n",
       "      <th>0</th>\n",
       "      <td>Aid</td>\n",
       "      <td>Abjuration</td>\n",
       "      <td>1 Action</td>\n",
       "      <td>30 Feet</td>\n",
       "      <td>8 hours</td>\n",
       "      <td>V, S, M</td>\n",
       "    </tr>\n",
       "    <tr>\n",
       "      <th>1</th>\n",
       "      <td>Animal Messenger</td>\n",
       "      <td>Enchantment</td>\n",
       "      <td>1 Action R</td>\n",
       "      <td>30 Feet</td>\n",
       "      <td>24 hours</td>\n",
       "      <td>V, S, M</td>\n",
       "    </tr>\n",
       "  </tbody>\n",
       "</table>\n",
       "</div>"
      ],
      "text/plain": [
       "         Spell Name       School Casting Time    Range  Duration Components\n",
       "0               Aid   Abjuration     1 Action  30 Feet   8 hours    V, S, M\n",
       "1  Animal Messenger  Enchantment   1 Action R  30 Feet  24 hours    V, S, M"
      ]
     },
     "execution_count": 44,
     "metadata": {},
     "output_type": "execute_result"
    }
   ],
   "source": [
    "def get_class_spell_dict(dnd_class):\n",
    "    \"\"\" takes a D&D class (string) and gets the spell tables and saves them in a dictionary\n",
    "    \n",
    "    Args:\n",
    "        dnd_class (str): the D&D class\n",
    "    \n",
    "    Returns:\n",
    "        table_dict (dict): a dictionary of tables, one for each spell level\n",
    "    \"\"\"\n",
    "    \n",
    "    url = f\"http://dnd5e.wikidot.com/spells:{dnd_class}\"\n",
    "    table_dfs = pd.read_html(url)\n",
    "    table_dict = {}\n",
    "    num_tables = len(table_dfs)\n",
    "    levels = [(\"Level \" + str(i)) for i in range(num_tables)]\n",
    "    \n",
    "    for i in range(num_tables):\n",
    "        table_dict[levels[i]] = table_dfs[i]\n",
    "    \n",
    "    return table_dict\n",
    "\n",
    "bard_spell_tables = get_class_spell_dict(\"bard\")\n",
    "bard_spell_tables['Level 2'].head(2)"
   ]
  }
 ],
 "metadata": {
  "kernelspec": {
   "display_name": "Python 3 (ipykernel)",
   "language": "python",
   "name": "python3"
  },
  "language_info": {
   "codemirror_mode": {
    "name": "ipython",
    "version": 3
   },
   "file_extension": ".py",
   "mimetype": "text/x-python",
   "name": "python",
   "nbconvert_exporter": "python",
   "pygments_lexer": "ipython3",
   "version": "3.10.13"
  }
 },
 "nbformat": 4,
 "nbformat_minor": 4
}
