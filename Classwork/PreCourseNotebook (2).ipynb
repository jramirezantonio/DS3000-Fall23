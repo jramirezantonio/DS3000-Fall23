{
 "cells": [
  {
   "cell_type": "markdown",
   "id": "306a9546",
   "metadata": {
    "slideshow": {
     "slide_type": "slide"
    }
   },
   "source": [
    "# DS 3000 Pre-Course Notebook\n",
    "## For students who need a refresher on jupyter notebooks and python\n",
    "Some of the material here will also be briefly touched upon in the first class.\n",
    "\n",
    "- jupyter\n",
    "    - markdown\n",
    "    - gotchas (when in doubt: restart & run all)\n",
    "    \n",
    "- python lightning review (brush up on our skills & pick up a few new tricks)\n",
    "    - types (floats & ints, tuples, lists, dict, string)\n",
    "    - if statement & comparison operators\n",
    "    - iteration (for/while loops)\n",
    "    - functions\n",
    "    - operators (Arithmetic & Logical)"
   ]
  },
  {
   "cell_type": "markdown",
   "id": "bb2d5535",
   "metadata": {
    "slideshow": {
     "slide_type": "slide"
    }
   },
   "source": [
    "# Jupyter Notebooks\n",
    "\n",
    "Jupyter contains two cell (in these blue / green rectangles) types:\n",
    "- markdown\n",
    "    - markdown is a simple text/document formatting language\n",
    "- python cells\n",
    "    - a python interpreter is running in the background with all python variables / functions etc\n",
    "    \n",
    "By merging both, Jupyter provides a 'living' document which includes:\n",
    "- results of analysis\n",
    "- method of how analysis was done (the code)\n",
    "- the ability to easily modify a few things and poke around or modify an analysis\n"
   ]
  },
  {
   "cell_type": "markdown",
   "id": "de2e7347",
   "metadata": {},
   "source": [
    "    \n",
    "# Installing Jupyter Notebook  \n",
    "  \n",
    "In the terminal type:\n",
    "\n",
    "`pip install notebook`\n",
    "\n",
    "Then to run Jupyter Notebook in the browser, type in the terminal:\n",
    "\n",
    "`jupyter notebook`\n",
    "\n",
    "**Note**: make sure the notebook file `.ipynb` is in the appropriate folder.\n",
    "\n",
    "## Other options\n",
    "\n",
    "Aternatives to introduce yourself to jupyter are to install Cantor or open the notebook in Google Colab. Either are acceptable for editing your notebook, though it is **strongly** preferred that you install jupyter notebook on your own machine."
   ]
  },
  {
   "cell_type": "markdown",
   "id": "c2f17ab9",
   "metadata": {
    "slideshow": {
     "slide_type": "slide"
    }
   },
   "source": [
    "# Navigating Jupyter\n",
    "\n",
    "- selecting a cell\n",
    "- changing cell type\n",
    "- running a cell\n",
    "    - for markdown cell: renders text\n",
    "    - for python cell: runs the code\n",
    "- add a cell\n",
    "- remove a cell\n"
   ]
  },
  {
   "cell_type": "markdown",
   "id": "48139665",
   "metadata": {
    "slideshow": {
     "slide_type": "slide"
    }
   },
   "source": [
    "# The Jupyter-Python Gotcha\n",
    "\n",
    "The state of variables and functions may depend on previous cells which have been modified or deleted:"
   ]
  },
  {
   "cell_type": "code",
   "execution_count": 1,
   "id": "5fe04ef1",
   "metadata": {},
   "outputs": [],
   "source": [
    "def scale_it(x):\n",
    "    return 4 * x"
   ]
  },
  {
   "cell_type": "markdown",
   "id": "92d59c5d",
   "metadata": {},
   "source": [
    "# note\n",
    "If you change the function above (replace the 4 with a 3) but do not run the cell, the below will stay the same. Try it."
   ]
  },
  {
   "cell_type": "code",
   "execution_count": 2,
   "id": "fced9d58",
   "metadata": {},
   "outputs": [
    {
     "data": {
      "text/plain": [
       "20"
      ]
     },
     "execution_count": 2,
     "metadata": {},
     "output_type": "execute_result"
    }
   ],
   "source": [
    "scale_it(5)"
   ]
  },
  {
   "cell_type": "markdown",
   "id": "bed953f7",
   "metadata": {
    "slideshow": {
     "slide_type": "-"
    }
   },
   "source": [
    "This can be problematic as `.ipynb` are saved with the outputs of each cell!\n",
    "\n",
    "Mitigate the issue by:\n",
    "- observing the index (idx) in `In [idx]` and `Out [idx]`\n",
    "\n",
    "Best practice:\n",
    "\n",
    "- Give a fresh `Kernel>Restart & Run All`\n",
    "    - before sharing\n",
    "    - when debugging\n",
    "\n",
    "**Note**: this is required of all your submissions for this class\n"
   ]
  },
  {
   "cell_type": "markdown",
   "id": "823ce296",
   "metadata": {
    "slideshow": {
     "slide_type": "slide"
    }
   },
   "source": [
    "# Jupyter Output"
   ]
  },
  {
   "cell_type": "code",
   "execution_count": 1,
   "id": "4e31e791",
   "metadata": {},
   "outputs": [],
   "source": [
    "# by default jupyter echos the result of the final line's evaluation\n",
    "x = 3\n",
    "y = x + 5"
   ]
  },
  {
   "cell_type": "code",
   "execution_count": 3,
   "id": "6602d094",
   "metadata": {},
   "outputs": [
    {
     "data": {
      "text/plain": [
       "3"
      ]
     },
     "execution_count": 3,
     "metadata": {},
     "output_type": "execute_result"
    }
   ],
   "source": [
    "# you can suppress it with ;\n",
    "x+ 10;\n",
    "x"
   ]
  },
  {
   "cell_type": "code",
   "execution_count": 5,
   "id": "c5f450b7",
   "metadata": {},
   "outputs": [
    {
     "name": "stdout",
     "output_type": "stream",
     "text": [
      "hey, does this work?\n",
      "how about this?\n"
     ]
    }
   ],
   "source": [
    "# jupyter reproduces anything printed to the command line\n",
    "print('hey, does this work?')\n",
    "print('how about this?');"
   ]
  },
  {
   "cell_type": "markdown",
   "id": "063b0236",
   "metadata": {
    "slideshow": {
     "slide_type": "slide"
    }
   },
   "source": [
    "# Markdown Rundown\n",
    "\n",
    "Spend 5-10 minutes with [this markdown guide](https://www.markdownguide.org/basic-syntax/)"
   ]
  },
  {
   "cell_type": "markdown",
   "id": "ae973308",
   "metadata": {
    "slideshow": {
     "slide_type": "-"
    }
   },
   "source": [
    "# Headings\n",
    "\n",
    "more #'s yields smaller headings\n",
    "\n",
    "# one #\n",
    "## two #\n",
    "### three #"
   ]
  },
  {
   "cell_type": "markdown",
   "id": "7f48a820",
   "metadata": {
    "slideshow": {
     "slide_type": "-"
    }
   },
   "source": [
    "## Lists\n",
    "\n",
    "here is a list of things I love:\n",
    "- baseball\n",
    "- python\n",
    "- open source software"
   ]
  },
  {
   "cell_type": "markdown",
   "id": "4d3e3655",
   "metadata": {
    "slideshow": {
     "slide_type": "-"
    }
   },
   "source": [
    "## Links\n",
    "you can link to website, like [this one](https://github.com/adam-p/markdown-here/wiki/Markdown-Cheatsheet) which contains a more complete markdown reference (and was used to generate this quick markdown guide, many examples taken from them)"
   ]
  },
  {
   "cell_type": "markdown",
   "id": "533543b6",
   "metadata": {},
   "source": [
    "## Images\n",
    "\n",
    "![alt text](http://dangerouslyirrelevant.org/wp-content/uploads/2016/03/2015-Gallup-Student-Poll-1-3.jpg \"Logo Title Text 1\")"
   ]
  },
  {
   "cell_type": "markdown",
   "id": "4c7e4dce",
   "metadata": {},
   "source": [
    "## Tables\n",
    "\n",
    "| Car Repair                         | Cost ($) | Prob | Salted Roads? |\n",
    "|------------------------------------|----------|------|---------------|\n",
    "| None                               | 0        | .9   | No            |\n",
    "| Oxygen sensor replacement          | 250      | .01  | No                    |\n",
    "| Under car rust repair              | 1000     | .02  | Yes           |\n",
    "| Timing Belt Replacement            | 750      | .03  | No            |\n",
    "| Fuel cap replacement or tightening | 25       | .03  | No            |\n",
    "| rusted muffler repair              | 250      | .01  | Yes           |\n",
    "\n",
    "Tables can be tough to generate by hand, go ahead and use a [table generator](https://www.tablesgenerator.com/markdown_tables) online to save yourself some time."
   ]
  },
  {
   "cell_type": "markdown",
   "id": "157835b1",
   "metadata": {},
   "source": [
    "## Block quote\n",
    "    \n",
    "    This is a blockquote\n",
    "    \n",
    "## Python code for display (not for running)  \n",
    "  \n",
    "\n",
    "```python\n",
    "import numpy as np\n",
    "rng = np.random.default_rng(seed=0)\n",
    "```"
   ]
  },
  {
   "cell_type": "markdown",
   "id": "2c684776",
   "metadata": {},
   "source": [
    "## Latex Math\n",
    "\n",
    "$$ \\sum_{i=0}^n a_i = \\frac{a_0 + a_n}{2} (n + 1) $$"
   ]
  },
  {
   "cell_type": "markdown",
   "id": "f56cda82",
   "metadata": {
    "slideshow": {
     "slide_type": "slide"
    }
   },
   "source": [
    "# Python lightning review\n",
    "\n",
    "- brush up our skills \n",
    "- pick up a few new tricks"
   ]
  },
  {
   "cell_type": "markdown",
   "id": "93cd45bf",
   "metadata": {
    "slideshow": {
     "slide_type": "slide"
    }
   },
   "source": [
    "# Types\n",
    "- ints / floats\n",
    "- tuple\n",
    "    - an immutable sequence of objects\n",
    "- list\n",
    "    - a mutable sequence of objects\n",
    "    - sorting\n",
    "- dict\n",
    "    - a mutable mapping between objects\n",
    "- strings\n",
    "    - python has a great library of methods for strings"
   ]
  },
  {
   "cell_type": "markdown",
   "id": "638a4334",
   "metadata": {
    "slideshow": {
     "slide_type": "slide"
    }
   },
   "source": [
    "## Ints/Floats\n",
    "\n",
    "An **int** is an integer.\n",
    "A **float** is a decimal."
   ]
  },
  {
   "cell_type": "code",
   "execution_count": 6,
   "id": "3214152e",
   "metadata": {},
   "outputs": [
    {
     "data": {
      "text/plain": [
       "int"
      ]
     },
     "execution_count": 6,
     "metadata": {},
     "output_type": "execute_result"
    }
   ],
   "source": [
    "#this is an int\n",
    "x = 1\n",
    "x\n",
    "type(x)"
   ]
  },
  {
   "cell_type": "code",
   "execution_count": 7,
   "id": "7cf0fc9e",
   "metadata": {},
   "outputs": [
    {
     "data": {
      "text/plain": [
       "float"
      ]
     },
     "execution_count": 7,
     "metadata": {},
     "output_type": "execute_result"
    }
   ],
   "source": [
    "#this is a float\n",
    "x = 1.0\n",
    "x\n",
    "type(x)"
   ]
  },
  {
   "cell_type": "markdown",
   "id": "dd2384e8",
   "metadata": {
    "slideshow": {
     "slide_type": "slide"
    }
   },
   "source": [
    "## Tuples\n",
    "\n",
    "A tuple is\n",
    "- an ordered, immutable list of objects"
   ]
  },
  {
   "cell_type": "code",
   "execution_count": 8,
   "id": "ec6c9642",
   "metadata": {},
   "outputs": [
    {
     "data": {
      "text/plain": [
       "('a', 1, 'asdf')"
      ]
     },
     "execution_count": 8,
     "metadata": {},
     "output_type": "execute_result"
    }
   ],
   "source": [
    "a_tuple = ('a', 1, 'asdf')\n",
    "a_tuple"
   ]
  },
  {
   "cell_type": "code",
   "execution_count": 9,
   "id": "72e748e9",
   "metadata": {},
   "outputs": [
    {
     "data": {
      "text/plain": [
       "('a', 1, 'asdf')"
      ]
     },
     "execution_count": 9,
     "metadata": {},
     "output_type": "execute_result"
    }
   ],
   "source": [
    "# careful with that tuple constructor (it takes a single input which is a tuple)\n",
    "a_tuple = tuple(('a', 1, 'asdf'))\n",
    "a_tuple"
   ]
  },
  {
   "cell_type": "code",
   "execution_count": 10,
   "id": "f2d2d826",
   "metadata": {},
   "outputs": [
    {
     "data": {
      "text/plain": [
       "('a', 1, 'asdf')"
      ]
     },
     "execution_count": 10,
     "metadata": {},
     "output_type": "execute_result"
    }
   ],
   "source": [
    "# you can make a tuple without including the parenthases (this is most common in the code I've seen)\n",
    "a_tuple = 'a', 1, 'asdf'\n",
    "a_tuple"
   ]
  },
  {
   "cell_type": "code",
   "execution_count": 11,
   "id": "d055929c",
   "metadata": {},
   "outputs": [],
   "source": [
    "beatles_tuple = ['john', 'ringo', 'paul', 'george']"
   ]
  },
  {
   "cell_type": "code",
   "execution_count": 12,
   "id": "af538268",
   "metadata": {
    "scrolled": true
   },
   "outputs": [
    {
     "data": {
      "text/plain": [
       "'george'"
      ]
     },
     "execution_count": 12,
     "metadata": {},
     "output_type": "execute_result"
    }
   ],
   "source": [
    "# you can slice a tuple just like a list:\n",
    "beatles_tuple[-1]"
   ]
  },
  {
   "cell_type": "code",
   "execution_count": 13,
   "id": "643d2f18",
   "metadata": {},
   "outputs": [
    {
     "data": {
      "text/plain": [
       "['john', 'ringo']"
      ]
     },
     "execution_count": 13,
     "metadata": {},
     "output_type": "execute_result"
    }
   ],
   "source": [
    "beatles_tuple[:2]"
   ]
  },
  {
   "cell_type": "code",
   "execution_count": 14,
   "id": "0a0506dd",
   "metadata": {},
   "outputs": [],
   "source": [
    "# tuples are immutable, you can't change which items are inside them \n",
    "beatles_tuple[0] = 'yoko ono'"
   ]
  },
  {
   "cell_type": "code",
   "execution_count": 15,
   "id": "84be75e0",
   "metadata": {},
   "outputs": [
    {
     "data": {
      "text/plain": [
       "('a', 7, [1, 2, 3])"
      ]
     },
     "execution_count": 15,
     "metadata": {},
     "output_type": "execute_result"
    }
   ],
   "source": [
    "# (though you can change the items themselves if they're mutable)\n",
    "# third item in this tuple is a list, which is mutable\n",
    "my_tuple = 'a', 7, [1, 2, 3]\n",
    "my_tuple"
   ]
  },
  {
   "cell_type": "code",
   "execution_count": 16,
   "id": "47213ab2",
   "metadata": {},
   "outputs": [
    {
     "data": {
      "text/plain": [
       "('a', 7, [1, 2, 3, 'yoko'])"
      ]
     },
     "execution_count": 16,
     "metadata": {},
     "output_type": "execute_result"
    }
   ],
   "source": [
    "# idx 2 corresponds to third item in tuple ... the list\n",
    "my_tuple[2].append('yoko')\n",
    "my_tuple"
   ]
  },
  {
   "cell_type": "markdown",
   "id": "01ebaf62",
   "metadata": {},
   "source": [
    "### Tuple unpacking (a humble but super useful construction ... wait until functions!)"
   ]
  },
  {
   "cell_type": "code",
   "execution_count": 17,
   "id": "457e5f65",
   "metadata": {},
   "outputs": [
    {
     "data": {
      "text/plain": [
       "'john'"
      ]
     },
     "execution_count": 17,
     "metadata": {},
     "output_type": "execute_result"
    }
   ],
   "source": [
    "# build tuple of all beatles\n",
    "beatles_tuple = 'paul', 'ringo', 'john', 'george'\n",
    "\n",
    "# tuple unpacking into individual variables\n",
    "member0, member1, member2, member3 = beatles_tuple\n",
    "member2"
   ]
  },
  {
   "cell_type": "code",
   "execution_count": 18,
   "id": "9a2f0925",
   "metadata": {},
   "outputs": [
    {
     "data": {
      "text/plain": [
       "('obj in item1 initially', 'obj in item0 initially')"
      ]
     },
     "execution_count": 18,
     "metadata": {},
     "output_type": "execute_result"
    }
   ],
   "source": [
    "# swapping items in python\n",
    "item0 = 'obj in item0 initially'\n",
    "item1 = 'obj in item1 initially'\n",
    "\n",
    "# re-assign each variable to the other :)\n",
    "item1, item0 = item0, item1\n",
    "\n",
    "# doesn't do anything but output to jupyter notebook so we can see if it worked\n",
    "item0, item1"
   ]
  },
  {
   "cell_type": "code",
   "execution_count": 19,
   "id": "8ea13a71",
   "metadata": {},
   "outputs": [
    {
     "data": {
      "text/plain": [
       "True"
      ]
     },
     "execution_count": 19,
     "metadata": {},
     "output_type": "execute_result"
    }
   ],
   "source": [
    "# the 'in' keyword compares an object to each item in a tuple, if it == one item then it returns True\n",
    "'george' in beatles_tuple"
   ]
  },
  {
   "cell_type": "code",
   "execution_count": 20,
   "id": "f8f9a1d9",
   "metadata": {},
   "outputs": [
    {
     "data": {
      "text/plain": [
       "True"
      ]
     },
     "execution_count": 20,
     "metadata": {},
     "output_type": "execute_result"
    }
   ],
   "source": [
    "# the 'not' keyword will negate a boolean variable, which makes for some super readable code\n",
    "'matt' not in beatles_tuple"
   ]
  },
  {
   "cell_type": "markdown",
   "id": "7cfff974",
   "metadata": {
    "slideshow": {
     "slide_type": "slide"
    }
   },
   "source": [
    "## Lists\n",
    "A python **list** is:\n",
    "- an ordered sequence of objects\n",
    "- **mutable** (mutable objects can be modified, immutable objects (like tuples) may not)\n",
    "- implemented as a [dynamic array](https://en.wikipedia.org/wiki/Linked_list#Linked_lists_vs._dynamic_arrays)\n",
    "\n",
    "see [python doc](https://docs.python.org/3/tutorial/datastructures.html) for more detail\n",
    "\n",
    "### Initializing a list, adding, inserting and appending elements"
   ]
  },
  {
   "cell_type": "code",
   "execution_count": 21,
   "id": "122aef9b",
   "metadata": {},
   "outputs": [],
   "source": [
    "# how to make a list\n",
    "some_list = [1, 2, 'hello', 'hello']"
   ]
  },
  {
   "cell_type": "code",
   "execution_count": 22,
   "id": "671a4000",
   "metadata": {},
   "outputs": [
    {
     "data": {
      "text/plain": [
       "1"
      ]
     },
     "execution_count": 22,
     "metadata": {},
     "output_type": "execute_result"
    }
   ],
   "source": [
    "# addressing an element (note: we start indexing at 0)\n",
    "some_list[0]"
   ]
  },
  {
   "cell_type": "code",
   "execution_count": 23,
   "id": "b03a3e07",
   "metadata": {},
   "outputs": [
    {
     "data": {
      "text/plain": [
       "0"
      ]
     },
     "execution_count": 23,
     "metadata": {},
     "output_type": "execute_result"
    }
   ],
   "source": [
    "# finding index of items equal to 1\n",
    "some_list.index(1)"
   ]
  },
  {
   "cell_type": "code",
   "execution_count": 24,
   "id": "cc89d63b",
   "metadata": {},
   "outputs": [
    {
     "data": {
      "text/plain": [
       "2"
      ]
     },
     "execution_count": 24,
     "metadata": {},
     "output_type": "execute_result"
    }
   ],
   "source": [
    "# note that we find index of the first occurance\n",
    "# (there are two `hello` entries, but we only get index of first one)\n",
    "some_list.index('hello')"
   ]
  },
  {
   "cell_type": "code",
   "execution_count": 25,
   "id": "29f5837d",
   "metadata": {},
   "outputs": [],
   "source": [
    "# what happens if the item isn't in the list?\n",
    "# some_list.index('are you in there?')"
   ]
  },
  {
   "cell_type": "code",
   "execution_count": 26,
   "id": "f0b699fa",
   "metadata": {},
   "outputs": [
    {
     "data": {
      "text/plain": [
       "False"
      ]
     },
     "execution_count": 26,
     "metadata": {},
     "output_type": "execute_result"
    }
   ],
   "source": [
    "# how should we check if an item is in a list?\n",
    "'are you in there?' in some_list"
   ]
  },
  {
   "cell_type": "code",
   "execution_count": 27,
   "id": "bfa079d6",
   "metadata": {},
   "outputs": [
    {
     "data": {
      "text/plain": [
       "[1, 2, 'hello', 'hello', 'asdf']"
      ]
     },
     "execution_count": 27,
     "metadata": {},
     "output_type": "execute_result"
    }
   ],
   "source": [
    "# append a single item to the end of a list\n",
    "some_list.append('asdf')\n",
    "some_list"
   ]
  },
  {
   "cell_type": "code",
   "execution_count": 28,
   "id": "a1f81e58",
   "metadata": {},
   "outputs": [
    {
     "data": {
      "text/plain": [
       "['a new beginning', 1, 2, 'hello', 'hello', 'asdf']"
      ]
     },
     "execution_count": 28,
     "metadata": {},
     "output_type": "execute_result"
    }
   ],
   "source": [
    "# insert a single item to an arbitrary location of a list\n",
    "# note: we push list at, and including index, to the right to make room\n",
    "some_list.insert(0, 'a new beginning')\n",
    "some_list"
   ]
  },
  {
   "cell_type": "code",
   "execution_count": 29,
   "id": "9b6c022a",
   "metadata": {},
   "outputs": [
    {
     "data": {
      "text/plain": [
       "['a new beginning', 1, 2, 'a middle child', 'hello', 'hello', 'asdf']"
      ]
     },
     "execution_count": 29,
     "metadata": {},
     "output_type": "execute_result"
    }
   ],
   "source": [
    "# insert a single item to an arbitrary location of a list\n",
    "some_list.insert(3, 'a middle child')\n",
    "some_list"
   ]
  },
  {
   "cell_type": "code",
   "execution_count": 30,
   "id": "bc591d3e",
   "metadata": {},
   "outputs": [
    {
     "data": {
      "text/plain": [
       "'a middle child'"
      ]
     },
     "execution_count": 30,
     "metadata": {},
     "output_type": "execute_result"
    }
   ],
   "source": [
    "# popping a single item out of the list\n",
    "third_item = some_list.pop(3)\n",
    "third_item"
   ]
  },
  {
   "cell_type": "code",
   "execution_count": 31,
   "id": "c2af8806",
   "metadata": {},
   "outputs": [
    {
     "data": {
      "text/plain": [
       "['a new beginning', 1, 2, 'hello', 'hello', 'asdf']"
      ]
     },
     "execution_count": 31,
     "metadata": {},
     "output_type": "execute_result"
    }
   ],
   "source": [
    "# notice that after popping removes the item from the list\n",
    "some_list"
   ]
  },
  {
   "cell_type": "markdown",
   "id": "6171b09f",
   "metadata": {
    "slideshow": {
     "slide_type": "slide"
    }
   },
   "source": [
    "## Slicing a list (part 1)\n",
    "A slice refers to a \"contiguous\" run of items in a list.  Slicing returns these elements from the list.\n",
    "\n",
    "![](https://i.ibb.co/JK1VHpy/list1.png)"
   ]
  },
  {
   "cell_type": "code",
   "execution_count": 32,
   "id": "3a84f6f4",
   "metadata": {},
   "outputs": [
    {
     "data": {
      "text/plain": [
       "[-45, 6, 0, 72, 1543]"
      ]
     },
     "execution_count": 32,
     "metadata": {},
     "output_type": "execute_result"
    }
   ],
   "source": [
    "# lets build the example above\n",
    "c = [-45, 6, 0, 72, 1543]\n",
    "c"
   ]
  },
  {
   "cell_type": "code",
   "execution_count": 33,
   "id": "5f446ff2",
   "metadata": {},
   "outputs": [
    {
     "data": {
      "text/plain": [
       "[0, 72, 1543]"
      ]
     },
     "execution_count": 33,
     "metadata": {},
     "output_type": "execute_result"
    }
   ],
   "source": [
    "# the first index is the starting index (included in slice)\n",
    "# the second index is the ending index (not included in slice)\n",
    "c[2:5]"
   ]
  },
  {
   "cell_type": "code",
   "execution_count": 34,
   "id": "5e047171",
   "metadata": {},
   "outputs": [
    {
     "data": {
      "text/plain": [
       "[-45, 6]"
      ]
     },
     "execution_count": 34,
     "metadata": {},
     "output_type": "execute_result"
    }
   ],
   "source": [
    "# by default, if we exclude the starting index it is assumed to be 0\n",
    "c[:2]"
   ]
  },
  {
   "cell_type": "code",
   "execution_count": 35,
   "id": "06dee335",
   "metadata": {},
   "outputs": [
    {
     "data": {
      "text/plain": [
       "[0, 72, 1543]"
      ]
     },
     "execution_count": 35,
     "metadata": {},
     "output_type": "execute_result"
    }
   ],
   "source": [
    "# by default, if we exclude the ending index it is assumed the length of the list\n",
    "c[2:]"
   ]
  },
  {
   "cell_type": "markdown",
   "id": "55c8f566",
   "metadata": {
    "slideshow": {
     "slide_type": "slide"
    }
   },
   "source": [
    "## Slicing a list (part 2)"
   ]
  },
  {
   "cell_type": "markdown",
   "id": "b1189659",
   "metadata": {
    "slideshow": {
     "slide_type": "-"
    }
   },
   "source": [
    "Negative indices are helpful if we want to start counting from the \"end\" of a list:\n",
    "\n",
    "![](https://i.ibb.co/RGF8sPW/list2.png)"
   ]
  },
  {
   "cell_type": "code",
   "execution_count": 36,
   "id": "79962040",
   "metadata": {},
   "outputs": [],
   "source": [
    "c = [-45, 6, 0, 72, 1543]"
   ]
  },
  {
   "cell_type": "code",
   "execution_count": 37,
   "id": "126d4a9b",
   "metadata": {},
   "outputs": [
    {
     "data": {
      "text/plain": [
       "[72, 1543]"
      ]
     },
     "execution_count": 37,
     "metadata": {},
     "output_type": "execute_result"
    }
   ],
   "source": [
    "# just the same as c[3:5]\n",
    "c[-2:5]"
   ]
  },
  {
   "cell_type": "code",
   "execution_count": 38,
   "id": "0582602d",
   "metadata": {},
   "outputs": [
    {
     "data": {
      "text/plain": [
       "[0, 72, 1543]"
      ]
     },
     "execution_count": 38,
     "metadata": {},
     "output_type": "execute_result"
    }
   ],
   "source": [
    "# this backwards counting & default ending index make for an elegant way to get the last n elements of a list\n",
    "c[-3:]"
   ]
  },
  {
   "cell_type": "markdown",
   "id": "8274c8ff",
   "metadata": {},
   "source": [
    "We might be interested in skipping through the list by some constant index (skipping by 2 gets every other index, for example)"
   ]
  },
  {
   "cell_type": "code",
   "execution_count": 39,
   "id": "154f0f04",
   "metadata": {},
   "outputs": [],
   "source": [
    "c = [-45, 6, 0, 72, 1543]"
   ]
  },
  {
   "cell_type": "code",
   "execution_count": 40,
   "id": "b2fb0b3c",
   "metadata": {},
   "outputs": [
    {
     "data": {
      "text/plain": [
       "[-45, 0, 1543]"
      ]
     },
     "execution_count": 40,
     "metadata": {},
     "output_type": "execute_result"
    }
   ],
   "source": [
    "# starting idx: 0, ending idx: 5, step size: 2\n",
    "c[0:5:2]"
   ]
  },
  {
   "cell_type": "code",
   "execution_count": 41,
   "id": "74a8ddf6",
   "metadata": {},
   "outputs": [
    {
     "data": {
      "text/plain": [
       "[-45, 0, 1543]"
      ]
     },
     "execution_count": 41,
     "metadata": {},
     "output_type": "execute_result"
    }
   ],
   "source": [
    "# same as above but now we use defaults\n",
    "c[::2]"
   ]
  },
  {
   "cell_type": "code",
   "execution_count": 42,
   "id": "d02f91de",
   "metadata": {},
   "outputs": [
    {
     "data": {
      "text/plain": [
       "[6, 72]"
      ]
     },
     "execution_count": 42,
     "metadata": {},
     "output_type": "execute_result"
    }
   ],
   "source": [
    "# grab all the odd indexed elements\n",
    "c[1::2]"
   ]
  },
  {
   "cell_type": "code",
   "execution_count": 43,
   "id": "bdeeb9a5",
   "metadata": {},
   "outputs": [
    {
     "data": {
      "text/plain": [
       "[1543, 72, 0, 6]"
      ]
     },
     "execution_count": 43,
     "metadata": {},
     "output_type": "execute_result"
    }
   ],
   "source": [
    "# we can even take negative steps if we want to\n",
    "c[5:0:-1]"
   ]
  },
  {
   "cell_type": "code",
   "execution_count": 44,
   "id": "bd0912ff",
   "metadata": {},
   "outputs": [
    {
     "data": {
      "text/plain": [
       "[1543, 72, 0, 6, -45]"
      ]
     },
     "execution_count": 44,
     "metadata": {},
     "output_type": "execute_result"
    }
   ],
   "source": [
    "# reverses list order\n",
    "c[::-1]"
   ]
  },
  {
   "cell_type": "markdown",
   "id": "9114c9c9",
   "metadata": {
    "slideshow": {
     "slide_type": "slide"
    }
   },
   "source": [
    "### \"Arithmetic\" on lists:\n",
    "- \"multiplication\" by int: repeat list some number of times\n",
    "- \"addition\" with another list: join two lists together"
   ]
  },
  {
   "cell_type": "code",
   "execution_count": 45,
   "id": "812b08ce",
   "metadata": {},
   "outputs": [],
   "source": [
    "# cast a string to a list\n",
    "my_list = list('echo ')"
   ]
  },
  {
   "cell_type": "code",
   "execution_count": 46,
   "id": "341cb0a5",
   "metadata": {},
   "outputs": [
    {
     "data": {
      "text/plain": [
       "['e', 'c', 'h', 'o', ' ', 'e', 'c', 'h', 'o', ' ', 'e', 'c', 'h', 'o', ' ']"
      ]
     },
     "execution_count": 46,
     "metadata": {},
     "output_type": "execute_result"
    }
   ],
   "source": [
    "# multiplying a list by an integer\n",
    "my_list * 3"
   ]
  },
  {
   "cell_type": "code",
   "execution_count": 47,
   "id": "aff1911e",
   "metadata": {},
   "outputs": [
    {
     "data": {
      "text/plain": [
       "['e', 'c', 'h', 'o', ' ', 'a', 'b', 'c']"
      ]
     },
     "execution_count": 47,
     "metadata": {},
     "output_type": "execute_result"
    }
   ],
   "source": [
    "# adding two lists together (unlike typical addition, order matters!)\n",
    "another_list = list('abc')\n",
    "my_list + another_list"
   ]
  },
  {
   "cell_type": "markdown",
   "id": "3b8bb228",
   "metadata": {},
   "source": [
    "Generally, python often defines the behavior of operators on objects without the typical numerical meaning."
   ]
  },
  {
   "cell_type": "markdown",
   "id": "b58c76d7",
   "metadata": {},
   "source": [
    "(++) When building your own object, you may overload arithmetic, logical and comparison operations so that it has an intuitive meaning in your application.\n",
    "\n",
    "For example, consider an object which contains statistics on a brain region:\n",
    "\n",
    "``` python\n",
    "brain_region0 + brain_region1\n",
    "```\n",
    "may return a region whose volume is the union of both region, and contains statistics derived from its constituent regions."
   ]
  },
  {
   "cell_type": "markdown",
   "id": "a0799afa",
   "metadata": {
    "slideshow": {
     "slide_type": "slide"
    }
   },
   "source": [
    "### Helpful list functions (min, max, len, sorted)"
   ]
  },
  {
   "cell_type": "code",
   "execution_count": 48,
   "id": "d5a104fb",
   "metadata": {},
   "outputs": [],
   "source": [
    "list_of_ints = [2, 11, -10, 4, -100]"
   ]
  },
  {
   "cell_type": "code",
   "execution_count": 49,
   "id": "5074c094",
   "metadata": {},
   "outputs": [
    {
     "data": {
      "text/plain": [
       "-100"
      ]
     },
     "execution_count": 49,
     "metadata": {},
     "output_type": "execute_result"
    }
   ],
   "source": [
    "min(list_of_ints)"
   ]
  },
  {
   "cell_type": "code",
   "execution_count": 50,
   "id": "c3329947",
   "metadata": {},
   "outputs": [
    {
     "data": {
      "text/plain": [
       "11"
      ]
     },
     "execution_count": 50,
     "metadata": {},
     "output_type": "execute_result"
    }
   ],
   "source": [
    "max(list_of_ints)"
   ]
  },
  {
   "cell_type": "code",
   "execution_count": 51,
   "id": "a13d4529",
   "metadata": {},
   "outputs": [
    {
     "data": {
      "text/plain": [
       "5"
      ]
     },
     "execution_count": 51,
     "metadata": {},
     "output_type": "execute_result"
    }
   ],
   "source": [
    "# number of elements in the list\n",
    "len(list_of_ints)"
   ]
  },
  {
   "cell_type": "code",
   "execution_count": 52,
   "id": "3961b517",
   "metadata": {},
   "outputs": [
    {
     "data": {
      "text/plain": [
       "[-100, -10, 2, 4, 11]"
      ]
     },
     "execution_count": 52,
     "metadata": {},
     "output_type": "execute_result"
    }
   ],
   "source": [
    "# return a sorted copy of the list (increasing order)\n",
    "sorted_list_of_ints = sorted(list_of_ints)\n",
    "sorted_list_of_ints"
   ]
  },
  {
   "cell_type": "markdown",
   "id": "7f7ec8ff",
   "metadata": {},
   "source": [
    "You can also sort in [reverse](https://docs.python.org/3/library/functions.html#sorted) (decreasing order) by using the `reverse` parameter"
   ]
  },
  {
   "cell_type": "code",
   "execution_count": 53,
   "id": "bfba9bee",
   "metadata": {},
   "outputs": [
    {
     "data": {
      "text/plain": [
       "[11, 4, 2, -10, -100]"
      ]
     },
     "execution_count": 53,
     "metadata": {},
     "output_type": "execute_result"
    }
   ],
   "source": [
    "sorted_list_of_ints = sorted(list_of_ints, reverse=True)\n",
    "sorted_list_of_ints"
   ]
  },
  {
   "cell_type": "markdown",
   "id": "6ebec63e",
   "metadata": {},
   "source": [
    "### Activity (Lists):\n",
    "- produce `list_a` which contains all the char in the sentence (in this order):\n",
    "\n",
    "`the quick brown fox jumps`\n",
    "\n",
    "repeat any characters which appear twice, so there should be 4 spaces in your list.\n",
    "- produce `list_b` which reverse sorts this list\n",
    "- produce `list_c` by discarding all odd indexed letters in `list_a`\n",
    "\n",
    "Ensure that your final code retains copies of all your old answers (i.e. don't overwrite part A's list to make part B's list)"
   ]
  },
  {
   "cell_type": "markdown",
   "id": "127271cd",
   "metadata": {},
   "source": [
    "## Dictionary\n",
    "python dictionary\n",
    "- unordered collection which stores key-value pairs \n",
    "- mutable\n",
    "\n",
    "a real-life dictionary matches words to definitions, the words are keys and the definitions are values.  Note that a real-life dictionary is sorted for our convenience, python dictionaries are not!"
   ]
  },
  {
   "cell_type": "code",
   "execution_count": 54,
   "id": "8cc965c6",
   "metadata": {},
   "outputs": [
    {
     "data": {
      "text/plain": [
       "{'eric': 17, 'qi': 7, 'lynne': 3}"
      ]
     },
     "execution_count": 54,
     "metadata": {},
     "output_type": "execute_result"
    }
   ],
   "source": [
    "favorite_number_dict = {'eric':  17, 'qi': 7, 'lynne': 3}\n",
    "favorite_number_dict"
   ]
  },
  {
   "cell_type": "code",
   "execution_count": 55,
   "id": "448996a8",
   "metadata": {},
   "outputs": [
    {
     "data": {
      "text/plain": [
       "7"
      ]
     },
     "execution_count": 55,
     "metadata": {},
     "output_type": "execute_result"
    }
   ],
   "source": [
    "# use square brackets to \"lookup\" (below we get the value associated with key 'qi')\n",
    "favorite_number_dict['qi']"
   ]
  },
  {
   "cell_type": "code",
   "execution_count": 56,
   "id": "676e3fba",
   "metadata": {},
   "outputs": [
    {
     "data": {
      "text/plain": [
       "{'eric': 17, 'qi': 7, 'lynne': 3, 'zeke': 9999}"
      ]
     },
     "execution_count": 56,
     "metadata": {},
     "output_type": "execute_result"
    }
   ],
   "source": [
    "# dictionaries are mutable, we can add key value pairs\n",
    "favorite_number_dict['zeke'] = 9999\n",
    "favorite_number_dict"
   ]
  },
  {
   "cell_type": "code",
   "execution_count": 57,
   "id": "89957c29",
   "metadata": {},
   "outputs": [
    {
     "data": {
      "text/plain": [
       "dict_keys(['eric', 'qi', 'lynne', 'zeke'])"
      ]
     },
     "execution_count": 57,
     "metadata": {},
     "output_type": "execute_result"
    }
   ],
   "source": [
    "# keys() returns all the keys of the dict\n",
    "favorite_number_dict.keys()"
   ]
  },
  {
   "cell_type": "code",
   "execution_count": 58,
   "id": "dd1659c5",
   "metadata": {},
   "outputs": [
    {
     "data": {
      "text/plain": [
       "dict_values([17, 7, 3, 9999])"
      ]
     },
     "execution_count": 58,
     "metadata": {},
     "output_type": "execute_result"
    }
   ],
   "source": [
    "# values() returns all the values of the dict\n",
    "favorite_number_dict.values()"
   ]
  },
  {
   "cell_type": "code",
   "execution_count": 59,
   "id": "b3137823",
   "metadata": {},
   "outputs": [
    {
     "data": {
      "text/plain": [
       "dict_items([('eric', 17), ('qi', 7), ('lynne', 3), ('zeke', 9999)])"
      ]
     },
     "execution_count": 59,
     "metadata": {},
     "output_type": "execute_result"
    }
   ],
   "source": [
    "# items() returns (key, value) tuples of all the pairs in the dict\n",
    "favorite_number_dict.items()"
   ]
  },
  {
   "cell_type": "code",
   "execution_count": 60,
   "id": "59fc1093",
   "metadata": {},
   "outputs": [
    {
     "data": {
      "text/plain": [
       "{'eric': 42, 'qi': 7, 'lynne': 3, 'zeke': 9999, 'fleck': 3.14159}"
      ]
     },
     "execution_count": 60,
     "metadata": {},
     "output_type": "execute_result"
    }
   ],
   "source": [
    "# you can update one dict into another\n",
    "favorite_number_dict2 = {'eric': 42, 'fleck': 3.14159}\n",
    "\n",
    "# add (overwrite if need be) key, value pairs from favorite_number_dict2 to favorite_number_dict\n",
    "favorite_number_dict.update(favorite_number_dict2)\n",
    "\n",
    "# notice that value associated with key 'matt' was overwritten\n",
    "favorite_number_dict"
   ]
  },
  {
   "cell_type": "code",
   "execution_count": 61,
   "id": "1bdd4bb8",
   "metadata": {},
   "outputs": [
    {
     "data": {
      "text/plain": [
       "{'qi': 7, 'lynne': 3, 'zeke': 9999, 'fleck': 3.14159}"
      ]
     },
     "execution_count": 61,
     "metadata": {},
     "output_type": "execute_result"
    }
   ],
   "source": [
    "# removing a key, value from a dictionary (by key)\n",
    "del favorite_number_dict['eric']\n",
    "favorite_number_dict"
   ]
  },
  {
   "cell_type": "markdown",
   "id": "8fbdb907",
   "metadata": {
    "slideshow": {
     "slide_type": "slide"
    }
   },
   "source": [
    "## Dictionaries\n",
    "\n",
    "A real life dictionary assigns a definition (value) to every word (key).\n",
    "\n",
    "Python dictionaries assign a (not necessarily unique) value to every key.  \n",
    "(and they're not sorted like real dictionaries!)"
   ]
  },
  {
   "cell_type": "code",
   "execution_count": 62,
   "id": "f777d638",
   "metadata": {},
   "outputs": [
    {
     "data": {
      "text/plain": [
       "{'eric': 17, 'qi': 7, 'lynne': 3, 'tamrat': 1}"
      ]
     },
     "execution_count": 62,
     "metadata": {},
     "output_type": "execute_result"
    }
   ],
   "source": [
    "# stores favorite numbers of some people\n",
    "# keys are 'eric', 'qi', ...\n",
    "# values are 17, 7, 3, 1\n",
    "favorite_number_dict = {'eric':  17, 'qi': 7, 'lynne': 3, 'tamrat': 1}\n",
    "favorite_number_dict"
   ]
  },
  {
   "cell_type": "code",
   "execution_count": 63,
   "id": "2187c1c5",
   "metadata": {},
   "outputs": [
    {
     "data": {
      "text/plain": [
       "1"
      ]
     },
     "execution_count": 63,
     "metadata": {},
     "output_type": "execute_result"
    }
   ],
   "source": [
    "# what's tamrat's favorite number?\n",
    "favorite_number_dict['tamrat']"
   ]
  },
  {
   "cell_type": "code",
   "execution_count": 64,
   "id": "c6de9988",
   "metadata": {},
   "outputs": [
    {
     "data": {
      "text/plain": [
       "False"
      ]
     },
     "execution_count": 64,
     "metadata": {},
     "output_type": "execute_result"
    }
   ],
   "source": [
    "# keys\n",
    "'a' == ('a', 'b', 'c')"
   ]
  },
  {
   "cell_type": "code",
   "execution_count": 65,
   "id": "6ee194da",
   "metadata": {},
   "outputs": [],
   "source": [
    "# keys must be immutable\n",
    "some_dict_wont_work = {('a', 'b', 'c'): 123}"
   ]
  },
  {
   "cell_type": "code",
   "execution_count": 66,
   "id": "ff05c9d9",
   "metadata": {},
   "outputs": [
    {
     "data": {
      "text/plain": [
       "123"
      ]
     },
     "execution_count": 66,
     "metadata": {},
     "output_type": "execute_result"
    }
   ],
   "source": [
    "some_dict_wont_work[('a', 'b', 'c')]"
   ]
  },
  {
   "cell_type": "code",
   "execution_count": 67,
   "id": "18298d37",
   "metadata": {},
   "outputs": [
    {
     "data": {
      "text/plain": [
       "{17: 'eric', 7: 'qi', 3: 'lynne', 1: 'tamrat'}"
      ]
     },
     "execution_count": 67,
     "metadata": {},
     "output_type": "execute_result"
    }
   ],
   "source": [
    "# notice that each key has a unique value.  \n",
    "# some values may be repeated among keys.  \n",
    "\n",
    "# we shouldn't store the numbers as keys and values as names\n",
    "#(remember the surjective-injective requires w/ inverse existence from CS1800?)\n",
    "problematic_fav_number_dict = {17: 'eric', 7: 'qi', 3: 'lynne', 1 :'tamrat'}\n",
    "problematic_fav_number_dict"
   ]
  },
  {
   "cell_type": "markdown",
   "id": "91f436e3",
   "metadata": {
    "slideshow": {
     "slide_type": "slide"
    }
   },
   "source": [
    "# Strings\n",
    "\n",
    "Python has awesome [string manipulation methods](https://docs.python.org/3/library/stdtypes.html#string-methods), we'll highlight a few useful ones here.  Worth a few minutes to famliarize yourself with the link.\n",
    "\n",
    "(tip: handling file paths?  use [pathlib](https://docs.python.org/3/library/pathlib.html) instead of treating them as strings)"
   ]
  },
  {
   "cell_type": "code",
   "execution_count": 68,
   "id": "c5d3502a",
   "metadata": {},
   "outputs": [
    {
     "name": "stdout",
     "output_type": "stream",
     "text": [
      "hi eric, I heard your favorite number is about 17.0\n"
     ]
    }
   ],
   "source": [
    "# string formatting (putting data into a string)\n",
    "# see https://docs.python.org/3/library/string.html#formatspec for other ways to format besides .2f below\n",
    "name = 'eric'\n",
    "fav_num = 17\n",
    "greeting_str = f'hi {name}, I heard your favorite number is about {fav_num:.1f}'\n",
    "\n",
    "print(greeting_str)"
   ]
  },
  {
   "cell_type": "code",
   "execution_count": 69,
   "id": "c0df247d",
   "metadata": {},
   "outputs": [],
   "source": [
    "some_string = 'hello python world!'"
   ]
  },
  {
   "cell_type": "code",
   "execution_count": 70,
   "id": "7b9632ea",
   "metadata": {},
   "outputs": [
    {
     "data": {
      "text/plain": [
       "'hello ds3000 world!'"
      ]
     },
     "execution_count": 70,
     "metadata": {},
     "output_type": "execute_result"
    }
   ],
   "source": [
    "# replaces all occurances of one string with another\n",
    "some_string.replace('python', 'ds3000')"
   ]
  },
  {
   "cell_type": "code",
   "execution_count": 71,
   "id": "e6ff35b3",
   "metadata": {},
   "outputs": [
    {
     "data": {
      "text/plain": [
       "['hell', ' pyth', 'n w', 'rld!']"
      ]
     },
     "execution_count": 71,
     "metadata": {},
     "output_type": "execute_result"
    }
   ],
   "source": [
    "# splits a string on all occurances of 'o'\n",
    "some_string.split('o')"
   ]
  },
  {
   "cell_type": "code",
   "execution_count": 72,
   "id": "229d9945",
   "metadata": {},
   "outputs": [
    {
     "data": {
      "text/plain": [
       "['https:',\n",
       " '',\n",
       " 'www.some-website.com',\n",
       " 'this-section',\n",
       " 'this-subsection',\n",
       " 'file_<useful-thing>_gibberish-here-too.html']"
      ]
     },
     "execution_count": 72,
     "metadata": {},
     "output_type": "execute_result"
    }
   ],
   "source": [
    "# joins a list of strings together with \n",
    "url = 'https://www.some-website.com/this-section/this-subsection/file_<useful-thing>_gibberish-here-too.html'\n",
    "url.split('/')"
   ]
  },
  {
   "cell_type": "code",
   "execution_count": 73,
   "id": "fb3e1e4e",
   "metadata": {},
   "outputs": [
    {
     "data": {
      "text/plain": [
       "'file_<useful-thing>_gibberish-here-too.html'"
      ]
     },
     "execution_count": 73,
     "metadata": {},
     "output_type": "execute_result"
    }
   ],
   "source": [
    "url.split('/')[5]"
   ]
  },
  {
   "cell_type": "markdown",
   "id": "2a44a238",
   "metadata": {
    "slideshow": {
     "slide_type": "slide"
    }
   },
   "source": [
    "# Control Flow (If statements)"
   ]
  },
  {
   "cell_type": "code",
   "execution_count": 74,
   "id": "a081b98c",
   "metadata": {},
   "outputs": [
    {
     "name": "stdout",
     "output_type": "stream",
     "text": [
      "x is not smaller than 10\n"
     ]
    }
   ],
   "source": [
    "x = 3\n",
    "if x > 10:\n",
    "    print('x is smaller than 10')\n",
    "else:\n",
    "    print('x is not smaller than 10')"
   ]
  },
  {
   "cell_type": "code",
   "execution_count": 75,
   "id": "89305a20",
   "metadata": {},
   "outputs": [
    {
     "name": "stdout",
     "output_type": "stream",
     "text": [
      "youve earned an a-\n"
     ]
    }
   ],
   "source": [
    "grade = 91\n",
    "if grade >= 93:\n",
    "    print('youve earned an a')\n",
    "elif grade >= 90:\n",
    "    print('youve earned an a-')\n",
    "else:\n",
    "    print('some other grade')"
   ]
  },
  {
   "cell_type": "markdown",
   "id": "c0904aa6",
   "metadata": {},
   "source": [
    "## Iteration: For Loops\n",
    "For loops run the same block of code multiple times changing a set of variables with each run through the block.\n",
    "\n",
    "### range & for loops"
   ]
  },
  {
   "cell_type": "code",
   "execution_count": 76,
   "id": "a5cfb63b",
   "metadata": {},
   "outputs": [
    {
     "data": {
      "text/plain": [
       "[0, 1, 2, 3, 4, 5, 6, 7, 8, 9]"
      ]
     },
     "execution_count": 76,
     "metadata": {},
     "output_type": "execute_result"
    }
   ],
   "source": [
    "list(range(10))"
   ]
  },
  {
   "cell_type": "code",
   "execution_count": 77,
   "id": "f27ac2ef",
   "metadata": {},
   "outputs": [
    {
     "data": {
      "text/plain": [
       "[1, 3, 5, 7, 9]"
      ]
     },
     "execution_count": 77,
     "metadata": {},
     "output_type": "execute_result"
    }
   ],
   "source": [
    "# range(start_idx, stop_idx, step_size)\n",
    "list(range(1, 11, 2))"
   ]
  },
  {
   "cell_type": "code",
   "execution_count": 78,
   "id": "1911df3a",
   "metadata": {},
   "outputs": [
    {
     "name": "stdout",
     "output_type": "stream",
     "text": [
      "0\n",
      "1\n",
      "2\n",
      "3\n",
      "4\n",
      "5\n",
      "6\n",
      "7\n",
      "8\n",
      "9\n"
     ]
    }
   ],
   "source": [
    "for idx in range(10):\n",
    "    print(idx)"
   ]
  },
  {
   "cell_type": "markdown",
   "id": "3f68a934",
   "metadata": {},
   "source": [
    "### iterating through a list (or a tuple):\n",
    "- index heavy way: range & for loop\n",
    "- iterate through the list itself\n",
    "- need both?  try [enumerate](https://docs.python.org/3.8/library/functions.html#enumerate)"
   ]
  },
  {
   "cell_type": "code",
   "execution_count": 79,
   "id": "8c5ab915",
   "metadata": {},
   "outputs": [
    {
     "name": "stdout",
     "output_type": "stream",
     "text": [
      "a\n",
      "b\n",
      "c\n",
      "d\n"
     ]
    }
   ],
   "source": [
    "some_list = ['a', 'b', 'c', 'd']\n",
    "# an homage to matlab: a very index heavy way to build a loop\n",
    "for idx in range(len(some_list)):\n",
    "    item = some_list[idx]\n",
    "    print(item)"
   ]
  },
  {
   "cell_type": "code",
   "execution_count": 80,
   "id": "91ac9847",
   "metadata": {},
   "outputs": [
    {
     "name": "stdout",
     "output_type": "stream",
     "text": [
      "a\n",
      "b\n",
      "c\n",
      "d\n"
     ]
    }
   ],
   "source": [
    "# iterate through the list, skip all that indexing nonsense\n",
    "for item in some_list:\n",
    "    print(item)"
   ]
  },
  {
   "cell_type": "code",
   "execution_count": 81,
   "id": "f5128439",
   "metadata": {},
   "outputs": [
    {
     "name": "stdout",
     "output_type": "stream",
     "text": [
      "0 a\n",
      "1 b\n",
      "2 c\n",
      "3 d\n"
     ]
    }
   ],
   "source": [
    "# if you need an index too, use enumerate\n",
    "for idx, item in enumerate(some_list):\n",
    "    print(idx, item)"
   ]
  },
  {
   "cell_type": "code",
   "execution_count": 82,
   "id": "5c822422",
   "metadata": {},
   "outputs": [
    {
     "data": {
      "text/plain": [
       "[(0, 'a'), (1, 'b'), (2, 'c'), (3, 'd')]"
      ]
     },
     "execution_count": 82,
     "metadata": {},
     "output_type": "execute_result"
    }
   ],
   "source": [
    "list(enumerate(some_list))"
   ]
  },
  {
   "cell_type": "markdown",
   "id": "c76cc69c",
   "metadata": {},
   "source": [
    "### iterating through a dict\n",
    "- keys\n",
    "- values\n",
    "- items (and tuple unpacking)"
   ]
  },
  {
   "cell_type": "code",
   "execution_count": 83,
   "id": "e012c106",
   "metadata": {},
   "outputs": [
    {
     "name": "stdout",
     "output_type": "stream",
     "text": [
      "qi\n",
      "nomar\n",
      "mia\n"
     ]
    }
   ],
   "source": [
    "some_dict = {'qi': 7, 'nomar': 5, 'mia':10}\n",
    "for key in some_dict.keys():\n",
    "    print(key)"
   ]
  },
  {
   "cell_type": "code",
   "execution_count": 84,
   "id": "dc7768a4",
   "metadata": {},
   "outputs": [
    {
     "name": "stdout",
     "output_type": "stream",
     "text": [
      "7\n",
      "5\n",
      "10\n"
     ]
    }
   ],
   "source": [
    "for val in some_dict.values():\n",
    "    print(val)"
   ]
  },
  {
   "cell_type": "code",
   "execution_count": 85,
   "id": "6be153dc",
   "metadata": {},
   "outputs": [
    {
     "name": "stdout",
     "output_type": "stream",
     "text": [
      "qi 7\n",
      "nomar 5\n",
      "mia 10\n"
     ]
    }
   ],
   "source": [
    "for key, val in some_dict.items():\n",
    "    print(key, val)"
   ]
  },
  {
   "cell_type": "markdown",
   "id": "f140b550",
   "metadata": {},
   "source": [
    "## odds and ends:\n",
    "- string formatting"
   ]
  },
  {
   "cell_type": "code",
   "execution_count": 86,
   "id": "3803b642",
   "metadata": {},
   "outputs": [
    {
     "name": "stdout",
     "output_type": "stream",
     "text": [
      "hello, my name is: mia and my favorite number is 10.000\n"
     ]
    }
   ],
   "source": [
    "name = 'mia'\n",
    "fav_num = 10\n",
    "print(f'hello, my name is: {name} and my favorite number is {fav_num:.3f}')"
   ]
  },
  {
   "cell_type": "markdown",
   "id": "a618b1a3",
   "metadata": {},
   "source": [
    "### Activity (For Loops):\n",
    "\n",
    "Matt's son has a favorite song: [Wheels on the Bus](https://www.youtube.com/watch?v=8d8Vo72Kbrk).  He can't get enough (though Matt and his wife certainly can ...).  Here's how it goes:\n",
    "\n",
    "```\n",
    "The wheels on the bus go round and round, round and round, round and round\n",
    "the wheels on the bus go round and round ... All through the town.\n",
    "```\n",
    "\n",
    "There is a structure to each verse of the song:\n",
    "\n",
    "``` python\n",
    "noun = 'wheels on the bus'\n",
    "move = 'go round and round'\n",
    "repeats = 3\n",
    "\n",
    "The <noun> on the bus go <move> * repeats\n",
    "the <noun> on the bus go <move> ... All through the town\n",
    "```\n",
    "\n",
    "Write a nested loop which prints each verse according to the pattern above.  The list below contains a tuple of `(noun, move, repeat)` for every verse:\n",
    "\n",
    "``` python\n",
    "noun_move_rep_list = [\n",
    "('wheels', 'round and round', 3),\n",
    "('babies', 'wah, wah, wah', 4),\n",
    "('gators', 'chomp chomp chomp', 2)]\n",
    "```\n"
   ]
  },
  {
   "cell_type": "code",
   "execution_count": 87,
   "id": "138a0a1a",
   "metadata": {},
   "outputs": [
    {
     "name": "stdout",
     "output_type": "stream",
     "text": [
      "The wheels on the bus go round and round\n",
      "the wheels on the bus go round and round\n",
      "the wheels on the bus go round and round ... All through the town\n",
      "The babies on the bus go wah, wah, wah\n",
      "the babies on the bus go wah, wah, wah\n",
      "the babies on the bus go wah, wah, wah\n",
      "the babies on the bus go wah, wah, wah ... All through the town\n",
      "The gators on the bus go chomp chomp chomp\n",
      "the gators on the bus go chomp chomp chomp ... All through the town\n"
     ]
    }
   ],
   "source": [
    "noun_move_rep_list = [\n",
    "('wheels', 'round and round', 3),\n",
    "('babies', 'wah, wah, wah', 4),\n",
    "('gators', 'chomp chomp chomp', 2)]\n",
    "\n",
    "for noun, move, repeats in noun_move_rep_list:\n",
    "    for i in range(repeats):\n",
    "        if i == 0:\n",
    "            print(f\"The {noun} on the bus go {move}\")\n",
    "        elif i == repeats - 1:\n",
    "            print(f\"the {noun} on the bus go {move} ... All through the town\")\n",
    "        else:\n",
    "            print(f\"the {noun} on the bus go {move}\") "
   ]
  },
  {
   "cell_type": "code",
   "execution_count": 88,
   "id": "c5251382",
   "metadata": {},
   "outputs": [
    {
     "name": "stdout",
     "output_type": "stream",
     "text": [
      "The wheels on the bus go round and round round and round round and round\n",
      "The wheels on the bus go round and round ... All through the town\n",
      "\n",
      "The babies on the bus go wah, wah, wah wah, wah, wah wah, wah, wah wah, wah, wah\n",
      "The babies on the bus go wah, wah, wah ... All through the town\n",
      "\n",
      "The gators on the bus go chomp chomp chomp chomp chomp chomp\n",
      "The gators on the bus go chomp chomp chomp ... All through the town\n",
      "\n"
     ]
    }
   ],
   "source": [
    "noun_move_rep_list = [\n",
    "('wheels', 'round and round', 3),\n",
    "('babies', 'wah, wah, wah', 4),\n",
    "('gators', 'chomp chomp chomp', 2)]\n",
    "\n",
    "for noun, move, repeats in noun_move_rep_list:\n",
    "    # build verse0\n",
    "    verse0 = f'The {noun} on the bus go'\n",
    "    for idx in range(repeats):\n",
    "        verse0 = verse0 + ' ' + move\n",
    "    \n",
    "    # builds verse1, the second line of the verse\n",
    "    verse1 = f'The {noun} on the bus go {move} ... All through the town'\n",
    "    \n",
    "    # prints both lines of the verse\n",
    "    print(verse0)    \n",
    "    print(verse1, end='\\n\\n')"
   ]
  },
  {
   "cell_type": "markdown",
   "id": "9fbf6b2b",
   "metadata": {},
   "source": [
    "## While Loops\n",
    "While loops run so long as some condition is met."
   ]
  },
  {
   "cell_type": "code",
   "execution_count": 89,
   "id": "665efaa0",
   "metadata": {},
   "outputs": [
    {
     "name": "stdout",
     "output_type": "stream",
     "text": [
      "1.001\n",
      "1.0020009999999997\n",
      "1.0040060040009995\n",
      "1.008028056070055\n",
      "1.0161205618243738\n",
      "1.032500996162281\n",
      "1.0660583070761027\n",
      "1.136480314085966\n",
      "1.291587504304936\n",
      "1.6681982812766534\n",
      "2.7828855056543804\n",
      "7.744451737581237\n",
      "59.976532715725035\n",
      "3597.1844766004356\n"
     ]
    }
   ],
   "source": [
    "x = 1.001\n",
    "while x < 100:\n",
    "    print(x)\n",
    "    x = x ** 2\n",
    "print(x)"
   ]
  },
  {
   "cell_type": "markdown",
   "id": "54602c37",
   "metadata": {},
   "source": [
    "A tortoise is racing a hare.  Both run at a constant speed all day.  \n",
    "- The turtle runs at a speed of 1 mile / day.  \n",
    "- The hare runs at a speed of 1000 miles / day / (race_day + 1)\n",
    "\n",
    "So:\n",
    "- on the 1st day of racing, `race_day = 0` and the hare runs at 1000 miles / day.\n",
    "- on the 2nd day of racing, `race_day = 1` and the hare runs at 500 miles / day.\n",
    "\n",
    "How many full days must pass before the tortoise catches up to the hare?"
   ]
  },
  {
   "cell_type": "code",
   "execution_count": 90,
   "id": "41675ed2",
   "metadata": {},
   "outputs": [
    {
     "name": "stdout",
     "output_type": "stream",
     "text": [
      "on day 0, dist_tort: 0, dist_hare: 0\n"
     ]
    }
   ],
   "source": [
    "# v1: a big problem\n",
    "# initialize total distance run\n",
    "dist_tort = 0\n",
    "dist_hare = 0\n",
    "\n",
    "# initialize race_day\n",
    "race_day = 0\n",
    "\n",
    "while dist_tort < dist_hare:\n",
    "    # move each animal forward daily rate\n",
    "    dist_tort += 1\n",
    "    dist_hare += 1000 / (race_day + 1)\n",
    "    \n",
    "    # update race_day\n",
    "    race_day += 1\n",
    "    \n",
    "# prints output\n",
    "print(f'on day {race_day}, dist_tort: {dist_tort}, dist_hare: {dist_hare}')"
   ]
  },
  {
   "cell_type": "code",
   "execution_count": 91,
   "id": "cb6266c9",
   "metadata": {},
   "outputs": [
    {
     "name": "stdout",
     "output_type": "stream",
     "text": [
      "on day 9764, dist_tort: 9764, dist_hare: 9763.724304061332\n"
     ]
    }
   ],
   "source": [
    "# v2: ok (but repeated code)\n",
    "# initialize total distance run\n",
    "dist_tort = 0\n",
    "dist_hare = 0\n",
    "\n",
    "# initialize race_day\n",
    "race_day = 0\n",
    "\n",
    "# move each animal forward daily rate\n",
    "dist_tort += 1\n",
    "dist_hare += 1000 / (race_day + 1)\n",
    "\n",
    "# update race_day\n",
    "race_day += 1\n",
    "\n",
    "while dist_tort < dist_hare:\n",
    "    # move each animal forward daily rate\n",
    "    dist_tort += 1\n",
    "    dist_hare += 1000 / (race_day + 1)\n",
    "    \n",
    "    # update race_day\n",
    "    race_day += 1\n",
    "    \n",
    "# prints output\n",
    "print(f'on day {race_day}, dist_tort: {dist_tort}, dist_hare: {dist_hare}')"
   ]
  },
  {
   "cell_type": "markdown",
   "id": "3005bd07",
   "metadata": {},
   "source": [
    "### Break Statement\n",
    "We could avoid repeating code above if we could ensure that the loop runs at least once.  What if, instead of testing if we should continue the loop at the start we could check at the end?  Then we would always run the block at least once.\n",
    "\n",
    "... if only there were a way to `break` out of a loop at an arbitrary location."
   ]
  },
  {
   "cell_type": "code",
   "execution_count": 92,
   "id": "b966d882",
   "metadata": {},
   "outputs": [
    {
     "name": "stdout",
     "output_type": "stream",
     "text": [
      "0\n",
      "1\n",
      "2\n",
      "3\n",
      "4\n",
      "5\n",
      "0\n",
      "1\n",
      "2\n",
      "3\n",
      "4\n",
      "5\n",
      "0\n",
      "1\n",
      "2\n",
      "3\n",
      "4\n",
      "5\n"
     ]
    }
   ],
   "source": [
    "# break in a for loop\n",
    "# note: break ignores if blocks and breaks out of innermost loop\n",
    "for other_idx in range(3):\n",
    "    for idx in range(1000):\n",
    "        print(idx)\n",
    "        if idx > 4:\n",
    "            break"
   ]
  },
  {
   "cell_type": "code",
   "execution_count": 93,
   "id": "3dff9b4c",
   "metadata": {},
   "outputs": [
    {
     "name": "stdout",
     "output_type": "stream",
     "text": [
      "1.0020009999999997\n",
      "1.012066220495791\n",
      "1.0746166829392563\n",
      "1.5400026603006811\n",
      "13.339170582800026\n",
      "5633430.7282417575\n"
     ]
    }
   ],
   "source": [
    "# break in a while loop \n",
    "x = 1.001\n",
    "while True:\n",
    "    x = x ** 2\n",
    "    print(x)\n",
    "    \n",
    "    if x > 100:\n",
    "        break\n",
    "        \n",
    "    x = x ** 3\n",
    "    "
   ]
  },
  {
   "cell_type": "code",
   "execution_count": 94,
   "id": "4d955391",
   "metadata": {},
   "outputs": [
    {
     "name": "stdout",
     "output_type": "stream",
     "text": [
      "on day 9764, dist_tort: 9764, dist_hare: 9763.724304061332\n"
     ]
    }
   ],
   "source": [
    "# v3: best (no repeated code)\n",
    "# initialize total distance run\n",
    "dist_tort = 0\n",
    "dist_hare = 0\n",
    "\n",
    "# initialize race_day\n",
    "race_day = 0\n",
    "\n",
    "while True:\n",
    "    # move each animal forward daily rate\n",
    "    dist_tort += 1\n",
    "    dist_hare += 1000 / (race_day + 1)\n",
    "    \n",
    "    # update race_day\n",
    "    race_day += 1\n",
    "    \n",
    "    if dist_tort >= dist_hare:\n",
    "        break\n",
    "    \n",
    "# prints output\n",
    "print(f'on day {race_day}, dist_tort: {dist_tort}, dist_hare: {dist_hare}')"
   ]
  },
  {
   "cell_type": "markdown",
   "id": "cd4919ee",
   "metadata": {},
   "source": [
    "### continue statements\n",
    "`break` stops further execution of the loop \n",
    "`continue` immediately starts execution of the next iteration (skips remainder of block of current iteration)\n",
    "both of these statements:\n",
    "- ignore if blocks\n",
    "- apply to the innermost loop"
   ]
  },
  {
   "cell_type": "code",
   "execution_count": 95,
   "id": "e0b10c6c",
   "metadata": {},
   "outputs": [
    {
     "name": "stdout",
     "output_type": "stream",
     "text": [
      "th qck brn f jmps r th l dg"
     ]
    }
   ],
   "source": [
    "some_str = 'the quick brown fox jumps over the lazy dog'\n",
    "for c in some_str:\n",
    "    if c in 'aeiou':\n",
    "        # don't print vowels\n",
    "        continue\n",
    "        \n",
    "    if c > 't':\n",
    "        # don't print char after t in alpha order\n",
    "        continue\n",
    "        \n",
    "    # print c\n",
    "    print(c, end='')    "
   ]
  },
  {
   "cell_type": "code",
   "execution_count": 96,
   "id": "928ac2b3",
   "metadata": {},
   "outputs": [
    {
     "name": "stdout",
     "output_type": "stream",
     "text": [
      "bcdfghjklmnpqrst\n",
      "\n",
      "\n",
      "bbccddffgghhjjkkllmmnnppqqrrsstt\n",
      "\n",
      "\n",
      "bbbcccdddfffggghhhjjjkkklllmmmnnnpppqqqrrrsssttt\n",
      "\n",
      "\n"
     ]
    }
   ],
   "source": [
    "from string import ascii_lowercase\n",
    "\n",
    "for repeat_idx in range(1, 4):\n",
    "    for c in ascii_lowercase:\n",
    "        if c in 'aeiou':\n",
    "            # don't print vowels\n",
    "            continue\n",
    "        \n",
    "        if c > 't':\n",
    "            # don't print\n",
    "            break\n",
    "        \n",
    "        print(c * repeat_idx, end='')\n",
    "        \n",
    "    print('\\n' * 2)\n",
    "        "
   ]
  },
  {
   "cell_type": "markdown",
   "id": "acb7d379",
   "metadata": {},
   "source": [
    "### Activity (While Loops):\n",
    "\n",
    "Consider the movement of a tadpole in a pond.  At `time=0` the tadpole is at position `x=0`.  Every step in time the tadpole moves one inch to the left or right with equal probability.  For example, we could store a tadpole's movement as the list `tadpole_list`:\n",
    "\n",
    "```python\n",
    "tadpole_list = [0, 1, 0, 1, 0, 1, 2, 3, 2, 3, 4]\n",
    "```\n",
    "\n",
    "where `tadpole_list[time]` tells us their position at a given `time`.  Write a script which creates a `tadpole_list`, as above.  End your \"random walk\" (this is the official math name of such a thing) when the tadpole is more than 10 inches away from their starting position."
   ]
  },
  {
   "cell_type": "code",
   "execution_count": 97,
   "id": "6c285623",
   "metadata": {},
   "outputs": [
    {
     "name": "stdout",
     "output_type": "stream",
     "text": [
      "[0, -1, 0, 1, 0, 1, 0, -1, -2, -1, 0, 1, 2, 1, 2, 3, 4, 3, 4, 5, 4, 5, 4, 3, 4, 3, 2, 3, 2, 1, 0, 1, 0, -1, 0, 1, 0, -1, 0, 1, 2, 1, 0, 1, 0, 1, 0, -1, -2, -3, -2, -1, -2, -3, -4, -3, -4, -3, -4, -5, -4, -5, -4, -3, -4, -5, -6, -5, -6, -5, -6, -7, -8, -9, -8, -9, -8, -9, -10, -11]\n"
     ]
    }
   ],
   "source": [
    "import random\n",
    "\n",
    "# initialize tadpole_list\n",
    "tadpole_list = [0]\n",
    "\n",
    "while abs(tadpole_list[-1]) <= 10:\n",
    "    # choose a random direction\n",
    "    step = random.choice((-1, 1))\n",
    "    \n",
    "    # update tadpole_list with step\n",
    "    new_pos = tadpole_list[-1] + step\n",
    "    tadpole_list.append(new_pos)\n",
    "    \n",
    "print(tadpole_list)"
   ]
  },
  {
   "cell_type": "markdown",
   "id": "db2fc422",
   "metadata": {},
   "source": [
    "## Functions\n",
    "\n",
    "* defining and calling functions\n",
    "* functions with multiple inputs\n",
    "* functions with multiple outputs (tuple unpacking to the rescue!)\n",
    "* default parameter values"
   ]
  },
  {
   "cell_type": "code",
   "execution_count": 98,
   "id": "afe8ee45",
   "metadata": {},
   "outputs": [
    {
     "data": {
      "text/plain": [
       "9"
      ]
     },
     "execution_count": 98,
     "metadata": {},
     "output_type": "execute_result"
    }
   ],
   "source": [
    "def square(number):\n",
    "    \"\"\" squares a number\n",
    "    \n",
    "    Args:\n",
    "        number (float): input number\n",
    "        \n",
    "    Returns:\n",
    "        sq (float): square of input\n",
    "    \"\"\"\n",
    "    sq = number ** 2\n",
    "    return sq\n",
    "\n",
    "square(3)"
   ]
  },
  {
   "cell_type": "markdown",
   "id": "355bf36b",
   "metadata": {},
   "source": [
    "* Definition begins with the (**`def` keyword**, followed by the function name, a set of parentheses and a colon (`:`). \n",
    ">```python\n",
    "def square(number):\n",
    "```\n",
    "* By convention function names should begin with a lowercase letter and in multiword names underscores should separate each word. \n",
    "* Required parentheses contain the function’s **parameter list**, if any.\n",
    "* The indented lines after the colon (`:`) are the function’s **block**\n",
    "    * Consists of a docstring followed by the statements that perform the function’s task.\n",
    "> ```python\n",
    "> \"\"\" squares a number\n",
    "> \n",
    "> Args:\n",
    ">     number (float): input number\n",
    "> \n",
    "> Returns:\n",
    ">     sq (float): square of input\n",
    "> \"\"\"\n",
    "> ```"
   ]
  },
  {
   "cell_type": "markdown",
   "id": "d4acc42b",
   "metadata": {},
   "source": [
    "### Multiple Inputs to Fnc\n",
    "- passing by order\n",
    "- passing by keyword\n",
    "- default inputs\n",
    "- passing by order & keyword"
   ]
  },
  {
   "cell_type": "code",
   "execution_count": 99,
   "id": "b9af7635",
   "metadata": {},
   "outputs": [],
   "source": [
    "def raise_to_power(a, b=2):\n",
    "    \"\"\" compute a to the b power\n",
    "    \n",
    "    Args:\n",
    "        a (float): base\n",
    "        b (float): exponent\n",
    "        \n",
    "    Returns:\n",
    "        out (float): a to the b-th power\n",
    "    \"\"\"\n",
    "    return a ** b"
   ]
  },
  {
   "cell_type": "code",
   "execution_count": 100,
   "id": "4abe9fed",
   "metadata": {},
   "outputs": [
    {
     "data": {
      "text/plain": [
       "64"
      ]
     },
     "execution_count": 100,
     "metadata": {},
     "output_type": "execute_result"
    }
   ],
   "source": [
    "# notice: the arguments (inputs) are distinguished by the order they're passed in\n",
    "raise_to_power(4, 3)"
   ]
  },
  {
   "cell_type": "code",
   "execution_count": 101,
   "id": "a0a1445c",
   "metadata": {},
   "outputs": [
    {
     "data": {
      "text/plain": [
       "64"
      ]
     },
     "execution_count": 101,
     "metadata": {},
     "output_type": "execute_result"
    }
   ],
   "source": [
    "# passing arguments by keyword\n",
    "raise_to_power(a=4, b=3)"
   ]
  },
  {
   "cell_type": "code",
   "execution_count": 102,
   "id": "b42663f4",
   "metadata": {},
   "outputs": [
    {
     "data": {
      "text/plain": [
       "64"
      ]
     },
     "execution_count": 102,
     "metadata": {},
     "output_type": "execute_result"
    }
   ],
   "source": [
    "raise_to_power(b=3, a=4)"
   ]
  },
  {
   "cell_type": "code",
   "execution_count": 103,
   "id": "79302838",
   "metadata": {},
   "outputs": [
    {
     "data": {
      "text/plain": [
       "64"
      ]
     },
     "execution_count": 103,
     "metadata": {},
     "output_type": "execute_result"
    }
   ],
   "source": [
    "# passing by order & keyword (all ordered args before keyword args)\n",
    "raise_to_power(4, b=3)"
   ]
  },
  {
   "cell_type": "code",
   "execution_count": 104,
   "id": "4c394c42",
   "metadata": {},
   "outputs": [
    {
     "data": {
      "text/plain": [
       "4"
      ]
     },
     "execution_count": 104,
     "metadata": {},
     "output_type": "execute_result"
    }
   ],
   "source": [
    "# using default param\n",
    "raise_to_power(a=2)"
   ]
  },
  {
   "cell_type": "markdown",
   "id": "24c0a3d6",
   "metadata": {},
   "source": [
    "### Multiple Outputs From Fxn\n",
    "- tuple unpacking allows for multiple outputs\n",
    "- (assert ... not related but helpful in this example)"
   ]
  },
  {
   "cell_type": "code",
   "execution_count": 105,
   "id": "b2c33763",
   "metadata": {},
   "outputs": [],
   "source": [
    "def int_divide(n, d):\n",
    "    \"\"\" integer division, returns divisor and remainder\n",
    "    \n",
    "    finds a, b such that:\n",
    "    \n",
    "    d * a + b = n\n",
    "    \n",
    "    (equiv: n / d = a remainder b)\n",
    "    \n",
    "    Args:\n",
    "        n (int): numerator\n",
    "        d (int): denominator\n",
    "        \n",
    "    Returns:\n",
    "        a (int): factor\n",
    "        b (int): remainder\n",
    "    \"\"\"\n",
    "    # validate inputs\n",
    "    assert type(n) == int, 'n is not an int'\n",
    "    assert type(d) == int, 'd is not an int'\n",
    "    \n",
    "    # integer division\n",
    "    a = n // d\n",
    "    \n",
    "    # mod operator\n",
    "    b = n % d\n",
    "    \n",
    "    return a, b"
   ]
  },
  {
   "cell_type": "code",
   "execution_count": 106,
   "id": "35ab9c6a",
   "metadata": {},
   "outputs": [
    {
     "data": {
      "text/plain": [
       "(5, 1)"
      ]
     },
     "execution_count": 106,
     "metadata": {},
     "output_type": "execute_result"
    }
   ],
   "source": [
    "a, b = int_divide(11, 2)\n",
    "a, b"
   ]
  },
  {
   "cell_type": "code",
   "execution_count": 107,
   "id": "25fc1e02",
   "metadata": {},
   "outputs": [
    {
     "data": {
      "text/plain": [
       "(5, 1)"
      ]
     },
     "execution_count": 107,
     "metadata": {},
     "output_type": "execute_result"
    }
   ],
   "source": [
    "int_divide(11, 2)"
   ]
  },
  {
   "cell_type": "code",
   "execution_count": 5,
   "id": "49e56e9e",
   "metadata": {},
   "outputs": [
    {
     "ename": "AssertionError",
     "evalue": "something went wrong",
     "output_type": "error",
     "traceback": [
      "\u001b[1;31m---------------------------------------------------------------------------\u001b[0m",
      "\u001b[1;31mAssertionError\u001b[0m                            Traceback (most recent call last)",
      "Cell \u001b[1;32mIn[5], line 1\u001b[0m\n\u001b[1;32m----> 1\u001b[0m \u001b[38;5;28;01massert\u001b[39;00m \u001b[38;5;241m11\u001b[39m \u001b[38;5;241m>\u001b[39m \u001b[38;5;241m20\u001b[39m, \u001b[38;5;124m'\u001b[39m\u001b[38;5;124msomething went wrong\u001b[39m\u001b[38;5;124m'\u001b[39m\n",
      "\u001b[1;31mAssertionError\u001b[0m: something went wrong"
     ]
    }
   ],
   "source": [
    "assert 11 > 20, 'something went wrong'"
   ]
  },
  {
   "cell_type": "markdown",
   "id": "2f8917f5",
   "metadata": {},
   "source": [
    "### Activity (Functions):\n",
    "A store opens one morning with the following stock of items:\n",
    "- 3 milk\n",
    "- 2 eggs\n",
    "- 7 bubble gum\n",
    "\n",
    "Which can be encoded in `item_stock_dict` as:\n",
    "\n",
    "```python\n",
    "item_stock_dict = {'milk': 3, 'eggs': 2, 'bubble gum': 7}\n",
    "```\n",
    "\n",
    "1. Write a function `update_stock()` which accepts arguments:\n",
    "- **item_stock_dict** (dict): initial inventory of items\n",
    "- **item** (str): item\n",
    "- **quant** (int): quantity of item\n",
    "\n",
    "and returns:\n",
    "- **item_stock_dict** (dict): inventory of items after purchase\n",
    "\n",
    "`update_stock()` tracks the inventory of the store as items are sold.  For example, my purchase of a single package of bubble gum could be tracked with:\n",
    "```python\n",
    "item_stock_dict = update_stock(item_stock_dict, item='bubble gum', quant=1)\n",
    "```\n",
    "Write a suitable test for your function using `assert`.\n",
    "\n",
    "2. Extend your `update_stock()` function to also allow for items to be added to the inventory.  The default behavior should still be item removal but when `add_item=True` is passed, the items will be added instead of removed.  Again, write a suitable test for your function using `assert`.\n"
   ]
  },
  {
   "cell_type": "code",
   "execution_count": 109,
   "id": "67b4686f",
   "metadata": {},
   "outputs": [],
   "source": [
    "def update_stock(item_stock_dict, item, quant, add_item=False):\n",
    "    \"\"\" tracks the inventory of the store as items are sold (and added).\n",
    "\n",
    "    Args:\n",
    "        item_stock_dict (dict): keys are items, values are number of\n",
    "            items in stock at the store (initially)\n",
    "        item (str): specific item to be updated\n",
    "        quant (int): the # of items to be updated\n",
    "        add_item (bool): True when items are to be added, otherwise\n",
    "            items are removed from inventory\n",
    "\n",
    "    Returns:\n",
    "        item_stock_dict (dict): the updated inventory\n",
    "    \"\"\"\n",
    "    \n",
    "    if item not in item_stock_dict.keys() and add_item == False:\n",
    "        raise Error('item not in stock')\n",
    "        \n",
    "    elif item not in item_stock_dict and add_item:\n",
    "        # new item, set quantity (first time)\n",
    "        item_stock_dict[item] = quant\n",
    "        \n",
    "    elif add_item:\n",
    "        # add item (existing)\n",
    "        item_stock_dict[item] += quant\n",
    "        \n",
    "    else:\n",
    "        # remove item (existing)\n",
    "        item_stock_dict[item] -= quant\n",
    "\n",
    "    return item_stock_dict "
   ]
  },
  {
   "cell_type": "code",
   "execution_count": 110,
   "id": "7a57605d",
   "metadata": {},
   "outputs": [],
   "source": [
    "# test case\n",
    "item_stock_dict = {'milk': 3, 'eggs': 2, 'bubble gum': 7}\n",
    "\n",
    "item_stock_dict = update_stock(item_stock_dict, item='bubble gum', quant=1)\n",
    "\n",
    "item_stock_dict_expected = {'milk': 3, 'eggs': 2, 'bubble gum': 6}\n",
    "assert item_stock_dict == item_stock_dict_expected, 'update_stock() failure'\n"
   ]
  },
  {
   "cell_type": "markdown",
   "id": "efeafb73",
   "metadata": {
    "slideshow": {
     "slide_type": "slide"
    }
   },
   "source": [
    "# Python variable names\n",
    "\n",
    "- can have letters, digits and underscores but may not begin with a digit\n",
    "- python is case sensitive (though, by convention, variables are all lower case.  use underscores to seperate words)\n"
   ]
  },
  {
   "cell_type": "code",
   "execution_count": 111,
   "id": "37cf3918",
   "metadata": {},
   "outputs": [],
   "source": [
    "# string (you can use single or double quotes). \n",
    "some_string = 'a'\n",
    "some_other_string = \"a\"\n",
    "\n",
    "# integer\n",
    "some_int = 3\n",
    "\n",
    "# float\n",
    "some_float = 1.2345\n",
    "\n",
    "# bool\n",
    "sunny_day = True"
   ]
  },
  {
   "cell_type": "markdown",
   "id": "c1773ad6",
   "metadata": {
    "slideshow": {
     "slide_type": "slide"
    }
   },
   "source": [
    "## Arithmetic Operators\n",
    "| Python operation | Arithmetic operator | Python expression\n",
    "| :-------- | :-------- | :-------- \n",
    "| Addition | `+`  | `f + 7` \n",
    "| Subtraction | `–` | `p - c` \n",
    "| Multiplication | `*` | `b * m` \n",
    "| Exponentiation | `**` |  `x ** y` \n",
    "| True division | `/` | `x / y` \n",
    "| Floor division | `//` | `x // y` \n",
    "| Remainder (modulo) | `%` | `r % s` \n",
    "\n",
    "* [All operators and their precedence](https://docs.python.org/3/reference/expressions.html#operator-precedence)"
   ]
  },
  {
   "cell_type": "code",
   "execution_count": 112,
   "id": "c85464fd",
   "metadata": {},
   "outputs": [
    {
     "data": {
      "text/plain": [
       "5.5"
      ]
     },
     "execution_count": 112,
     "metadata": {},
     "output_type": "execute_result"
    }
   ],
   "source": [
    "11 / 2"
   ]
  },
  {
   "cell_type": "code",
   "execution_count": 113,
   "id": "40707826",
   "metadata": {},
   "outputs": [
    {
     "data": {
      "text/plain": [
       "5"
      ]
     },
     "execution_count": 113,
     "metadata": {},
     "output_type": "execute_result"
    }
   ],
   "source": [
    "# integer division (floor division discards any remainder)\n",
    "11 // 2"
   ]
  },
  {
   "cell_type": "code",
   "execution_count": 114,
   "id": "3ef0b7e6",
   "metadata": {},
   "outputs": [
    {
     "data": {
      "text/plain": [
       "1"
      ]
     },
     "execution_count": 114,
     "metadata": {},
     "output_type": "execute_result"
    }
   ],
   "source": [
    "# get remainder after integer division\n",
    "11 % 2"
   ]
  },
  {
   "cell_type": "code",
   "execution_count": 115,
   "id": "3d0cabac",
   "metadata": {},
   "outputs": [
    {
     "data": {
      "text/plain": [
       "'ab'"
      ]
     },
     "execution_count": 115,
     "metadata": {},
     "output_type": "execute_result"
    }
   ],
   "source": [
    "# arithmetic operators are defined for non-numbers too!\n",
    "# like strings\n",
    "'a' + 'b'"
   ]
  },
  {
   "cell_type": "markdown",
   "id": "e371e80c",
   "metadata": {
    "slideshow": {
     "slide_type": "slide"
    }
   },
   "source": [
    "## Logical Operators\n",
    "\n",
    "Algebraic operator | Python operator | Sample condition | Meaning \n",
    ":---- | :---- | :---- | :----\n",
    "&gt;  | `>` | `x > y` | `x` is greater than `y`\n",
    "&lt;  | `<` | `x < y` | `x` is less than `y`\n",
    "&ge; | `>=` | `x >= y` | `x` is greater than or equal to `y`\n",
    "&le; | `<=` | `x <= y` | `x` is less than or equal to `y`\n",
    "= | `==` | `x == y` | `x` is equal to `y`\n",
    "&ne; | `!=` | `x != y` | `x` is not equal to `y`"
   ]
  },
  {
   "cell_type": "code",
   "execution_count": 116,
   "id": "f073a57b",
   "metadata": {},
   "outputs": [
    {
     "data": {
      "text/plain": [
       "True"
      ]
     },
     "execution_count": 116,
     "metadata": {},
     "output_type": "execute_result"
    }
   ],
   "source": [
    "a = 3\n",
    "b = 10\n",
    "\n",
    "a != b"
   ]
  },
  {
   "cell_type": "code",
   "execution_count": 117,
   "id": "9a69f1de",
   "metadata": {},
   "outputs": [
    {
     "data": {
      "text/plain": [
       "False"
      ]
     },
     "execution_count": 117,
     "metadata": {},
     "output_type": "execute_result"
    }
   ],
   "source": [
    "# python \"syntactic sugar\": evaluating if a number is in a range\n",
    "x = 10\n",
    "\n",
    "100 <= x < 200        "
   ]
  },
  {
   "cell_type": "code",
   "execution_count": 118,
   "id": "0fc5af70",
   "metadata": {},
   "outputs": [],
   "source": [
    "# produces TypeError: objects must be compare-able\n",
    "# 10 < 'a'"
   ]
  },
  {
   "cell_type": "code",
   "execution_count": 119,
   "id": "8bb5e804",
   "metadata": {},
   "outputs": [
    {
     "data": {
      "text/plain": [
       "True"
      ]
     },
     "execution_count": 119,
     "metadata": {},
     "output_type": "execute_result"
    }
   ],
   "source": [
    "# python bad habit, don't use \"is\" to compare objects \n",
    "# (it sometimes works, which makes it a subtle error to catch)\n",
    "\n",
    "# works for strings\n",
    "x = 'a'\n",
    "y = 'a'\n",
    "x is y"
   ]
  },
  {
   "cell_type": "code",
   "execution_count": 120,
   "id": "3a259edb",
   "metadata": {},
   "outputs": [
    {
     "data": {
      "text/plain": [
       "False"
      ]
     },
     "execution_count": 120,
     "metadata": {},
     "output_type": "execute_result"
    }
   ],
   "source": [
    "# doesn't work for floats\n",
    "x = 1.23\n",
    "y = 1.23\n",
    "x is y"
   ]
  },
  {
   "cell_type": "markdown",
   "id": "9ef6f303",
   "metadata": {},
   "source": [
    "`is` tests if the variables point to the same object ... ++[Strings](https://en.wikipedia.org/wiki/String_literal) behave a bit differently."
   ]
  },
  {
   "cell_type": "markdown",
   "id": "db6c8a88",
   "metadata": {
    "slideshow": {
     "slide_type": "slide"
    }
   },
   "source": [
    "## Type Casting (converting between variable types)"
   ]
  },
  {
   "cell_type": "code",
   "execution_count": 121,
   "id": "11e76fa9",
   "metadata": {},
   "outputs": [
    {
     "data": {
      "text/plain": [
       "int"
      ]
     },
     "execution_count": 121,
     "metadata": {},
     "output_type": "execute_result"
    }
   ],
   "source": [
    "# `type()` returns the object type\n",
    "a = 1\n",
    "type(a)"
   ]
  },
  {
   "cell_type": "code",
   "execution_count": 122,
   "id": "aa774428",
   "metadata": {},
   "outputs": [
    {
     "data": {
      "text/plain": [
       "float"
      ]
     },
     "execution_count": 122,
     "metadata": {},
     "output_type": "execute_result"
    }
   ],
   "source": [
    "a = float(1)\n",
    "type(a)"
   ]
  },
  {
   "cell_type": "code",
   "execution_count": 123,
   "id": "49453022",
   "metadata": {},
   "outputs": [
    {
     "data": {
      "text/plain": [
       "float"
      ]
     },
     "execution_count": 123,
     "metadata": {},
     "output_type": "execute_result"
    }
   ],
   "source": [
    "a = float('3')\n",
    "type(a)"
   ]
  },
  {
   "cell_type": "code",
   "execution_count": null,
   "id": "3150e440",
   "metadata": {},
   "outputs": [],
   "source": []
  }
 ],
 "metadata": {
  "celltoolbar": "Slideshow",
  "kernelspec": {
   "display_name": "Python 3 (ipykernel)",
   "language": "python",
   "name": "python3"
  },
  "language_info": {
   "codemirror_mode": {
    "name": "ipython",
    "version": 3
   },
   "file_extension": ".py",
   "mimetype": "text/x-python",
   "name": "python",
   "nbconvert_exporter": "python",
   "pygments_lexer": "ipython3",
   "version": "3.10.11"
  }
 },
 "nbformat": 4,
 "nbformat_minor": 5
}
