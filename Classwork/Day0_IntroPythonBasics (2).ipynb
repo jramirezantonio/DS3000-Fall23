{
 "cells": [
  {
   "cell_type": "markdown",
   "id": "39e41d4a",
   "metadata": {
    "slideshow": {
     "slide_type": "slide"
    }
   },
   "source": [
    "# DS3000 Day 0\n",
    "## Class Introduction\n",
    "September 7/8, 2023\n",
    "\n",
    "Content:\n",
    "- Motivating Clear Communication in DS\n",
    "- Admin/Syllabus Review\n",
    "- Data Collection/Getting to Know You\n",
    "- Python Basics\n",
    "    - Some of this will be review from the Pre-Course Notebook (see Canvas)\n",
    "        - Iteration\n",
    "        - Function\n",
    "        - Assert\n",
    "        - Import\n",
    "    \n",
    "### Assignment Due Dates:\n",
    "* Getting to Know You (Sept. 11 via Gradescope)\n",
    "* Homework 1 (Sept. 18 via Gradescope)"
   ]
  },
  {
   "cell_type": "markdown",
   "id": "a9719af0",
   "metadata": {
    "slideshow": {
     "slide_type": "slide"
    }
   },
   "source": [
    "# Motivating Clear Communication in DS\n",
    "\n",
    "Write down a few sentences describing how you think you could build an algorithm to recommend songs to a user. Assume you have access to any data you think would be useful. Then, read this explanation to your neighbor. \n",
    "\n",
    "Neighbors: pretend you know nothing about computer science, statistics, or data science and try to count how many words someone like that would not understand. Think if you were the owner of a company like Spotify, but didn't have a CS/DS background, would you be convinced to let your neighbor work on their algorithm for you?"
   ]
  },
  {
   "cell_type": "markdown",
   "id": "de40d44c",
   "metadata": {
    "slideshow": {
     "slide_type": "slide"
    }
   },
   "source": [
    "# Admin/Syllabus\n",
    "\n",
    "Take a look at the course Canvas page ([link](https://northeastern.instructure.com/courses/152530)) together.\n",
    "\n",
    "Be sure to mention:\n",
    "- Labs are due @ the end of each class we have them, but not weighted very heavily\n",
    "- First homework has been assigned, and is due Sept. 18\n",
    "    - Note remaining homeworks are given lots of time, but will generally be longer with several open-ended/mini-project-like questions\n",
    "- There are three quizzes, also relatively low stakes, but treat these more like traditional tests\n",
    "    - You will have a week to sit down and do them, but a 2 hour limit to do them within\n",
    "- Sometime in the next two weeks, be sure to stop by office hours\n",
    "- I will update you on visitors; I have committments from people who work for Zelus Analytics (sports) and from Finra (finance).\n",
    "    "
   ]
  },
  {
   "cell_type": "markdown",
   "id": "07643c1e",
   "metadata": {
    "slideshow": {
     "slide_type": "slide"
    }
   },
   "source": [
    "# An Example of Data Collection/Getting to Know You\n",
    "\n",
    "Please fill out this [Google Form](https://forms.gle/E1sMKevakaHU6rT86) (the link is also on Canvas) as a way of providing me some information about yourself (and to provide us with a data set we can use for some examples going forward!).\n",
    "\n",
    "**Notes** \n",
    "\n",
    "- when we use the data set later, all names/identifiers will be removed, but if you are uncomfortable providing any of the information, you may leave your response blank.\n",
    "- this will count as your attendance point for today (we will use Qwickly for the first time next week)\n"
   ]
  },
  {
   "cell_type": "markdown",
   "id": "2189d9db",
   "metadata": {},
   "source": [
    "## Important Python Basics\n",
    "Some of the following will be similar in content to the [Pre-Course Notebook](https://northeastern.instructure.com/courses/152530/files/22900833?module_item_id=9356896) which contains a summary of the basic python tools you should know in starting this course. If you have not seen python before, you **must** work through this notebook over the next week. The first homework is quite similar in content as well.\n",
    "\n",
    "The most important, first thing to understand about python (as with many other languages) is that everything is an object with a type:"
   ]
  },
  {
   "cell_type": "code",
   "execution_count": 1,
   "id": "cc0e9351-1ac6-4950-93f2-18c29ab91c50",
   "metadata": {},
   "outputs": [],
   "source": [
    "# x is an integer\n",
    "x = 3"
   ]
  },
  {
   "cell_type": "code",
   "execution_count": 2,
   "id": "ef34d2e2-70ac-4b7d-b7b0-2739ce4eb654",
   "metadata": {},
   "outputs": [],
   "source": [
    "#x is a float\n",
    "x = 1.4"
   ]
  },
  {
   "cell_type": "code",
   "execution_count": 3,
   "id": "a7beb05e-0e2d-45b9-956f-47711f985c1a",
   "metadata": {},
   "outputs": [],
   "source": [
    "#x is a boolean\n",
    "x = (2 > 3)"
   ]
  },
  {
   "cell_type": "code",
   "execution_count": 4,
   "id": "21c3cb6e-d34b-47c8-b216-253aa5563845",
   "metadata": {},
   "outputs": [],
   "source": [
    "#x is a string\n",
    "x = 'a string'"
   ]
  },
  {
   "cell_type": "code",
   "execution_count": 5,
   "id": "db579e5d-1180-42ea-b73e-80b601f97cbb",
   "metadata": {},
   "outputs": [
    {
     "data": {
      "text/plain": [
       "'a string'"
      ]
     },
     "execution_count": 5,
     "metadata": {},
     "output_type": "execute_result"
    }
   ],
   "source": [
    "x"
   ]
  },
  {
   "cell_type": "code",
   "execution_count": 6,
   "id": "6a2560f0-b39a-409d-b06a-842fe4ab4673",
   "metadata": {},
   "outputs": [
    {
     "data": {
      "text/plain": [
       "str"
      ]
     },
     "execution_count": 6,
     "metadata": {},
     "output_type": "execute_result"
    }
   ],
   "source": [
    "type(x)"
   ]
  },
  {
   "cell_type": "code",
   "execution_count": 7,
   "id": "71437dd0-67d1-4d2a-a24f-b4cee0c734fd",
   "metadata": {},
   "outputs": [
    {
     "data": {
      "text/plain": [
       "[1, 2, 'three', 'blue']"
      ]
     },
     "execution_count": 7,
     "metadata": {},
     "output_type": "execute_result"
    }
   ],
   "source": [
    "#this is a list\n",
    "list_a = [1, 2, \"three\", \"blue\"]\n",
    "list_a"
   ]
  },
  {
   "cell_type": "code",
   "execution_count": 8,
   "id": "85b5b5dd-8547-4302-8d0b-bf945f744341",
   "metadata": {},
   "outputs": [
    {
     "data": {
      "text/plain": [
       "1"
      ]
     },
     "execution_count": 8,
     "metadata": {},
     "output_type": "execute_result"
    }
   ],
   "source": [
    "#you can extract things from the list with square bracket indexing\n",
    "list_a[0]"
   ]
  },
  {
   "cell_type": "code",
   "execution_count": 9,
   "id": "3803fad2-2309-4c63-ba97-c607ee210308",
   "metadata": {},
   "outputs": [
    {
     "data": {
      "text/plain": [
       "'blue'"
      ]
     },
     "execution_count": 9,
     "metadata": {},
     "output_type": "execute_result"
    }
   ],
   "source": [
    "list_a[3]"
   ]
  },
  {
   "cell_type": "code",
   "execution_count": 10,
   "id": "e8086ff5-bc48-4da8-80b4-7181f7bc4c4f",
   "metadata": {},
   "outputs": [
    {
     "data": {
      "text/plain": [
       "[1, 2]"
      ]
     },
     "execution_count": 10,
     "metadata": {},
     "output_type": "execute_result"
    }
   ],
   "source": [
    "#using a colon will get you multiple items in a row, but be careful, the stop index stops BEFORE not ON!\n",
    "list_a[0:2]"
   ]
  },
  {
   "cell_type": "code",
   "execution_count": 11,
   "id": "ebbe8910-8870-4f0e-a47d-337d7574706d",
   "metadata": {},
   "outputs": [
    {
     "data": {
      "text/plain": [
       "(1, 2, 'three', 'red')"
      ]
     },
     "execution_count": 11,
     "metadata": {},
     "output_type": "execute_result"
    }
   ],
   "source": [
    "#this is a tuple\n",
    "tuple_a = (1, 2, \"three\", \"red\")\n",
    "tuple_a"
   ]
  },
  {
   "cell_type": "code",
   "execution_count": 12,
   "id": "a5902cd7-0325-4429-b3dc-81bc2f9e68c5",
   "metadata": {},
   "outputs": [
    {
     "data": {
      "text/plain": [
       "2"
      ]
     },
     "execution_count": 12,
     "metadata": {},
     "output_type": "execute_result"
    }
   ],
   "source": [
    "#they work mostly the same as lists\n",
    "tuple_a[1]"
   ]
  },
  {
   "cell_type": "code",
   "execution_count": 13,
   "id": "7c3a9991-21bf-4f51-9168-6823dc7b0901",
   "metadata": {},
   "outputs": [
    {
     "data": {
      "text/plain": [
       "[1, 2, 42, 'blue']"
      ]
     },
     "execution_count": 13,
     "metadata": {},
     "output_type": "execute_result"
    }
   ],
   "source": [
    "#except lists are mutable (you can change them)\n",
    "list_a[2] = 42\n",
    "list_a"
   ]
  },
  {
   "cell_type": "code",
   "execution_count": 14,
   "id": "a6eab1fd-0a29-49b7-894a-fc067ef910bd",
   "metadata": {},
   "outputs": [],
   "source": [
    "#and tuples aren't\n",
    "#tuple_a[2] = \"what?\"\n",
    "#tuple_a"
   ]
  },
  {
   "cell_type": "code",
   "execution_count": 15,
   "id": "34e81add-74de-40ea-94cc-f27b7d17acb1",
   "metadata": {},
   "outputs": [
    {
     "data": {
      "text/plain": [
       "{'first': 1, 'second': 2, 'third': 'three', 'fourth': True}"
      ]
     },
     "execution_count": 15,
     "metadata": {},
     "output_type": "execute_result"
    }
   ],
   "source": [
    "#this is a dictionary\n",
    "dict_a = {'first': 1, 'second': 2, 'third': \"three\", 'fourth': True}\n",
    "dict_a"
   ]
  },
  {
   "cell_type": "code",
   "execution_count": 16,
   "id": "eb642a23-fdb0-465d-b48c-68dcfadd89ec",
   "metadata": {},
   "outputs": [
    {
     "data": {
      "text/plain": [
       "2"
      ]
     },
     "execution_count": 16,
     "metadata": {},
     "output_type": "execute_result"
    }
   ],
   "source": [
    "#also similar to a list, except each element has a name (a 'key')\n",
    "dict_a['second']"
   ]
  },
  {
   "cell_type": "code",
   "execution_count": 17,
   "id": "e624c09a-442c-48b2-9e00-c5f6ed8a8007",
   "metadata": {},
   "outputs": [
    {
     "data": {
      "text/plain": [
       "{'first': 1, 'second': 2, 'third': 77, 'fourth': True}"
      ]
     },
     "execution_count": 17,
     "metadata": {},
     "output_type": "execute_result"
    }
   ],
   "source": [
    "#it's mutable though!\n",
    "dict_a['third'] = 77\n",
    "dict_a"
   ]
  },
  {
   "cell_type": "code",
   "execution_count": 18,
   "id": "19e5bf5f-515c-4028-8292-6065ce11bed3",
   "metadata": {},
   "outputs": [
    {
     "data": {
      "text/plain": [
       "['another', 'list', 'that', 'includes', [1, 2, 42, 'blue']]"
      ]
     },
     "execution_count": 18,
     "metadata": {},
     "output_type": "execute_result"
    }
   ],
   "source": [
    "#all three of lists, tuples and dictionaries can have any objects as elements (values)\n",
    "list_b = [\"another\", \"list\", \"that\", \"includes\", list_a]\n",
    "list_b"
   ]
  },
  {
   "cell_type": "code",
   "execution_count": 19,
   "id": "309993a5-b1a6-4b88-8a37-c7cf49867c6f",
   "metadata": {},
   "outputs": [
    {
     "data": {
      "text/plain": [
       "('yet', 'again', 'but', 'with', (1, 2, 'three', 'red'))"
      ]
     },
     "execution_count": 19,
     "metadata": {},
     "output_type": "execute_result"
    }
   ],
   "source": [
    "tuple_b = (\"yet\", \"again\", \"but\", \"with\", tuple_a)\n",
    "tuple_b"
   ]
  },
  {
   "cell_type": "code",
   "execution_count": 20,
   "id": "7d879023-8983-4346-bf32-6d07e4df878e",
   "metadata": {},
   "outputs": [
    {
     "data": {
      "text/plain": [
       "{'a list': [1, 2, 42, 'blue'],\n",
       " 'a tuple': (1, 2, 'three', 'red'),\n",
       " 'a dict': {'first': 1, 'second': 2, 'third': 77, 'fourth': True}}"
      ]
     },
     "execution_count": 20,
     "metadata": {},
     "output_type": "execute_result"
    }
   ],
   "source": [
    "dict_b = {'a list': list_a, \"a tuple\": tuple_a, \"a dict\": dict_a}\n",
    "dict_b"
   ]
  },
  {
   "cell_type": "markdown",
   "id": "474af87c",
   "metadata": {
    "slideshow": {
     "slide_type": "slide"
    }
   },
   "source": [
    "# Some useful tools:\n",
    "## `+= 1`\n",
    "\n",
    "Useful for iteration; let's you update numbers!"
   ]
  },
  {
   "cell_type": "code",
   "execution_count": 21,
   "id": "9daf9083",
   "metadata": {},
   "outputs": [
    {
     "data": {
      "text/plain": [
       "11"
      ]
     },
     "execution_count": 21,
     "metadata": {},
     "output_type": "execute_result"
    }
   ],
   "source": [
    "# this code:\n",
    "y = 10\n",
    "y = y + 1\n",
    "y"
   ]
  },
  {
   "cell_type": "code",
   "execution_count": 22,
   "id": "21fd3b90",
   "metadata": {},
   "outputs": [
    {
     "data": {
      "text/plain": [
       "11"
      ]
     },
     "execution_count": 22,
     "metadata": {},
     "output_type": "execute_result"
    }
   ],
   "source": [
    "# is the same as this code:\n",
    "y = 10\n",
    "y += 1\n",
    "y"
   ]
  },
  {
   "cell_type": "markdown",
   "id": "c0904aa6",
   "metadata": {
    "slideshow": {
     "slide_type": "slide"
    }
   },
   "source": [
    "## Range"
   ]
  },
  {
   "cell_type": "code",
   "execution_count": 23,
   "id": "4d7e495e",
   "metadata": {},
   "outputs": [
    {
     "data": {
      "text/plain": [
       "range(0, 10)"
      ]
     },
     "execution_count": 23,
     "metadata": {},
     "output_type": "execute_result"
    }
   ],
   "source": [
    "# range counts sequential values (0, 1, 2, 3, ...)\n",
    "# notice: calling range() provides us a range object\n",
    "range(10)"
   ]
  },
  {
   "cell_type": "code",
   "execution_count": 24,
   "id": "a5cfb63b",
   "metadata": {},
   "outputs": [
    {
     "data": {
      "text/plain": [
       "[0, 1, 2, 3, 4, 5, 6, 7, 8, 9]"
      ]
     },
     "execution_count": 24,
     "metadata": {},
     "output_type": "execute_result"
    }
   ],
   "source": [
    "# to see whats inside that range, we may type-cast to a list:\n",
    "list(range(10))"
   ]
  },
  {
   "cell_type": "code",
   "execution_count": 25,
   "id": "f27ac2ef",
   "metadata": {},
   "outputs": [
    {
     "data": {
      "text/plain": [
       "[1, 3, 5, 7, 9]"
      ]
     },
     "execution_count": 25,
     "metadata": {},
     "output_type": "execute_result"
    }
   ],
   "source": [
    "# range(start_idx, stop_idx, step_size)\n",
    "# notice: we include start_idx but not stop_idx (i.e. if you want the 10th element, you need to go to 11, like before)\n",
    "list(range(1, 11, 2))"
   ]
  },
  {
   "cell_type": "code",
   "execution_count": 26,
   "id": "eaf96f03",
   "metadata": {},
   "outputs": [
    {
     "data": {
      "text/plain": [
       "[1, 3, 5, 7, 9]"
      ]
     },
     "execution_count": 26,
     "metadata": {},
     "output_type": "execute_result"
    }
   ],
   "source": [
    "#indexing (using square brackets) to get the same thing works a bit differently\n",
    "list(range(1,11))[0:11:2]"
   ]
  },
  {
   "cell_type": "markdown",
   "id": "0b17a24f",
   "metadata": {
    "slideshow": {
     "slide_type": "slide"
    }
   },
   "source": [
    "## Iteration: For Loops\n",
    "For loops run the same block of code multiple times, allowing us to avoid copy-pasting code.\n"
   ]
  },
  {
   "cell_type": "code",
   "execution_count": 27,
   "id": "9f408f12",
   "metadata": {},
   "outputs": [
    {
     "name": "stdout",
     "output_type": "stream",
     "text": [
      "0\n",
      "1\n",
      "4\n",
      "9\n",
      "16\n"
     ]
    }
   ],
   "source": [
    "# verbose code which prints square of first n integers\n",
    "print(0**2)\n",
    "print(1**2)\n",
    "print(2**2)\n",
    "print(3**2)\n",
    "print(4**2)"
   ]
  },
  {
   "cell_type": "code",
   "execution_count": 28,
   "id": "1911df3a",
   "metadata": {},
   "outputs": [
    {
     "name": "stdout",
     "output_type": "stream",
     "text": [
      "start of loop body where idx= 0\n",
      "0\n",
      "start of loop body where idx= 1\n",
      "1\n",
      "start of loop body where idx= 2\n",
      "4\n",
      "start of loop body where idx= 3\n",
      "9\n",
      "start of loop body where idx= 4\n",
      "16\n",
      "end of loop\n"
     ]
    }
   ],
   "source": [
    "# using a for loop\n",
    "for idx in range(5):\n",
    "    # this whole loop body\n",
    "    print('start of loop body where idx= ' + str(idx))\n",
    "    print(idx ** 2)\n",
    "    \n",
    "print('end of loop')\n",
    "    "
   ]
  },
  {
   "cell_type": "code",
   "execution_count": 29,
   "id": "e5b9cb32",
   "metadata": {},
   "outputs": [
    {
     "name": "stdout",
     "output_type": "stream",
     "text": [
      "BEGIN OUTER LOOP BODY: the quick brown fox jumps over the lazy dog\n",
      "BEGIN INNER LOOP BODY: a\n",
      "the quick brown fox jumps over the l!zy dog\n",
      "\n",
      "BEGIN INNER LOOP BODY: e\n",
      "th! quick brown fox jumps ov!r th! lazy dog\n",
      "\n",
      "BEGIN INNER LOOP BODY: i\n",
      "the qu!ck brown fox jumps over the lazy dog\n",
      "\n",
      "BEGIN INNER LOOP BODY: o\n",
      "the quick br!wn f!x jumps !ver the lazy d!g\n",
      "\n",
      "BEGIN INNER LOOP BODY: u\n",
      "the q!ick brown fox j!mps over the lazy dog\n",
      "\n",
      "BEGIN OUTER LOOP BODY: sixty zippers were quickly picked from the woven jute bag\n",
      "BEGIN INNER LOOP BODY: a\n",
      "sixty zippers were quickly picked from the woven jute b!g\n",
      "\n",
      "BEGIN INNER LOOP BODY: e\n",
      "sixty zipp!rs w!r! quickly pick!d from th! wov!n jut! bag\n",
      "\n",
      "BEGIN INNER LOOP BODY: i\n",
      "s!xty z!ppers were qu!ckly p!cked from the woven jute bag\n",
      "\n",
      "BEGIN INNER LOOP BODY: o\n",
      "sixty zippers were quickly picked fr!m the w!ven jute bag\n",
      "\n",
      "BEGIN INNER LOOP BODY: u\n",
      "sixty zippers were q!ickly picked from the woven j!te bag\n",
      "\n"
     ]
    }
   ],
   "source": [
    "# nested loop\n",
    "for str_words in ['the quick brown fox jumps over the lazy dog', \n",
    "                  'sixty zippers were quickly picked from the woven jute bag']:\n",
    "    print('BEGIN OUTER LOOP BODY: ' + str_words)\n",
    "    \n",
    "    for vowel in 'aeiou':\n",
    "        print('BEGIN INNER LOOP BODY: ' + vowel)\n",
    "        \n",
    "        # replace all occurances of vowel with '!'\n",
    "        print(str_words.replace(vowel, '!'))\n",
    "        \n",
    "        # prints a blank line between each run\n",
    "        print('')\n",
    "        \n",
    "        "
   ]
  },
  {
   "cell_type": "markdown",
   "id": "3f68a934",
   "metadata": {
    "slideshow": {
     "slide_type": "slide"
    }
   },
   "source": [
    "### iterating through a list (or a tuple):\n",
    "We often want to operate on all the items in some collection of items (list, tuple, strings, dictionaries, etc.):"
   ]
  },
  {
   "cell_type": "code",
   "execution_count": 30,
   "id": "91ac9847",
   "metadata": {},
   "outputs": [
    {
     "data": {
      "text/plain": [
       "[16, 64, 4, 36]"
      ]
     },
     "execution_count": 30,
     "metadata": {},
     "output_type": "execute_result"
    }
   ],
   "source": [
    "# iterate through the list and square everything, saving to a new list\n",
    "# the numbers we want to square\n",
    "some_list = [4,8,-2,6]\n",
    "# an empty list to put the squared values in\n",
    "another_list = list()\n",
    "\n",
    "#the for loop that does it\n",
    "for item in some_list:\n",
    "    another_list.append(item ** 2)\n",
    "    \n",
    "another_list"
   ]
  },
  {
   "cell_type": "code",
   "execution_count": 31,
   "id": "4761ce74",
   "metadata": {},
   "outputs": [
    {
     "name": "stdout",
     "output_type": "stream",
     "text": [
      "the letter a is a vowel.\n",
      "the letter e is a vowel.\n",
      "the letter i is a vowel.\n",
      "the letter o is a vowel.\n",
      "the letter u is a vowel.\n"
     ]
    }
   ],
   "source": [
    "# you can iterate on strings too\n",
    "for vowel in 'aeiou':\n",
    "    print('the letter ' + vowel + ' is a vowel.')"
   ]
  },
  {
   "cell_type": "markdown",
   "id": "0b0c3e37",
   "metadata": {},
   "source": [
    "(++) need both the index and item?  Try [enumerate](https://docs.python.org/3.8/library/functions.html#enumerate)"
   ]
  },
  {
   "cell_type": "code",
   "execution_count": 32,
   "id": "f5128439",
   "metadata": {},
   "outputs": [
    {
     "name": "stdout",
     "output_type": "stream",
     "text": [
      "0 4\n",
      "1 8\n",
      "2 -2\n",
      "3 6\n"
     ]
    }
   ],
   "source": [
    "# if you need an index too, use enumerate\n",
    "for idx, item in enumerate(some_list):\n",
    "    print(idx, item)"
   ]
  },
  {
   "cell_type": "code",
   "execution_count": 33,
   "id": "5c822422",
   "metadata": {},
   "outputs": [
    {
     "data": {
      "text/plain": [
       "[(0, 4), (1, 8), (2, -2), (3, 6)]"
      ]
     },
     "execution_count": 33,
     "metadata": {},
     "output_type": "execute_result"
    }
   ],
   "source": [
    "list(enumerate(some_list))"
   ]
  },
  {
   "cell_type": "markdown",
   "id": "c76cc69c",
   "metadata": {
    "slideshow": {
     "slide_type": "slide"
    }
   },
   "source": [
    "## iterating through a dict\n",
    "- keys\n",
    "- values\n",
    "- items (and tuple unpacking)"
   ]
  },
  {
   "cell_type": "code",
   "execution_count": 34,
   "id": "e012c106",
   "metadata": {},
   "outputs": [
    {
     "name": "stdout",
     "output_type": "stream",
     "text": [
      "eric\n",
      "qi\n",
      "lynne\n"
     ]
    }
   ],
   "source": [
    "some_dict = {'eric': 17, 'qi': 7, 'lynne':1}\n",
    "for key in some_dict.keys():\n",
    "    print(key)"
   ]
  },
  {
   "cell_type": "code",
   "execution_count": 35,
   "id": "dc7768a4",
   "metadata": {},
   "outputs": [
    {
     "name": "stdout",
     "output_type": "stream",
     "text": [
      "17\n",
      "7\n",
      "1\n"
     ]
    }
   ],
   "source": [
    "for val in some_dict.values():\n",
    "    print(val)"
   ]
  },
  {
   "cell_type": "code",
   "execution_count": 36,
   "id": "6be153dc",
   "metadata": {},
   "outputs": [
    {
     "name": "stdout",
     "output_type": "stream",
     "text": [
      "eric 17\n",
      "qi 7\n",
      "lynne 1\n"
     ]
    }
   ],
   "source": [
    "for key, val in some_dict.items():\n",
    "    print(key, val)"
   ]
  },
  {
   "cell_type": "markdown",
   "id": "db2fc422",
   "metadata": {
    "slideshow": {
     "slide_type": "slide"
    }
   },
   "source": [
    "## Functions in a bit more detail + practice time\n",
    "\n",
    "* defining and calling functions\n",
    "* functions with multiple inputs\n",
    "* functions with multiple outputs (tuple unpacking to the rescue!)\n",
    "* assertion"
   ]
  },
  {
   "cell_type": "code",
   "execution_count": 37,
   "id": "afe8ee45",
   "metadata": {},
   "outputs": [
    {
     "data": {
      "text/plain": [
       "9"
      ]
     },
     "execution_count": 37,
     "metadata": {},
     "output_type": "execute_result"
    }
   ],
   "source": [
    "def square(number):\n",
    "    \"\"\" squares a number\n",
    "    \n",
    "    Args:\n",
    "        number (float): input number\n",
    "        \n",
    "    Returns:\n",
    "        sq (float): square of input\n",
    "    \"\"\"\n",
    "    sq = number ** 2\n",
    "    return sq\n",
    "\n",
    "square(3)"
   ]
  },
  {
   "cell_type": "markdown",
   "id": "355bf36b",
   "metadata": {},
   "source": [
    "* Definition begins with the (**`def` keyword**, followed by the function name, a set of parentheses and a colon (`:`). \n",
    ">```python\n",
    "def square(number):\n",
    "```\n",
    "* By convention function names should begin with a lowercase letter and in multiword names underscores should separate each word. \n",
    "* Required parentheses contain the function’s **parameter list**, if any.\n",
    "* The indented lines after the colon (`:`) are the function’s **block**\n",
    "    * Consists of a docstring followed by the statements that perform the function’s task.\n",
    "> ```python\n",
    "> \"\"\" squares a number\n",
    "> \n",
    "> Args:\n",
    ">     number (float): input number\n",
    "> \n",
    "> Returns:\n",
    ">     sq (float): square of input\n",
    "> \"\"\"\n",
    "> ```"
   ]
  },
  {
   "cell_type": "markdown",
   "id": "d4acc42b",
   "metadata": {},
   "source": [
    "### Multiple Inputs to Fnc\n",
    "- passing by order\n",
    "- passing by keyword\n",
    "- default inputs\n",
    "- passing by order & keyword"
   ]
  },
  {
   "cell_type": "code",
   "execution_count": 38,
   "id": "b9af7635",
   "metadata": {},
   "outputs": [],
   "source": [
    "#notice that when I write a function, the docstring provides all the information about what it does, the arguments it takes, and the value it returns!\n",
    "def raise_to_power(a, b=2):\n",
    "    \"\"\" compute a to the b power\n",
    "    \n",
    "    Args:\n",
    "        a (float): base\n",
    "        b (float): exponent\n",
    "        \n",
    "    Returns:\n",
    "        out (float): a to the b-th power\n",
    "    \"\"\"\n",
    "    return a ** b"
   ]
  },
  {
   "cell_type": "code",
   "execution_count": 39,
   "id": "4abe9fed",
   "metadata": {},
   "outputs": [
    {
     "data": {
      "text/plain": [
       "64"
      ]
     },
     "execution_count": 39,
     "metadata": {},
     "output_type": "execute_result"
    }
   ],
   "source": [
    "# notice: the arguments (inputs) are distinguished by the order they're passed in\n",
    "raise_to_power(4, 3)"
   ]
  },
  {
   "cell_type": "code",
   "execution_count": 40,
   "id": "a0a1445c",
   "metadata": {},
   "outputs": [
    {
     "data": {
      "text/plain": [
       "64"
      ]
     },
     "execution_count": 40,
     "metadata": {},
     "output_type": "execute_result"
    }
   ],
   "source": [
    "# passing arguments by keyword\n",
    "raise_to_power(a=4, b=3)"
   ]
  },
  {
   "cell_type": "code",
   "execution_count": 41,
   "id": "b42663f4",
   "metadata": {},
   "outputs": [
    {
     "data": {
      "text/plain": [
       "64"
      ]
     },
     "execution_count": 41,
     "metadata": {},
     "output_type": "execute_result"
    }
   ],
   "source": [
    "raise_to_power(b=3, a=4)"
   ]
  },
  {
   "cell_type": "code",
   "execution_count": 42,
   "id": "4c394c42",
   "metadata": {},
   "outputs": [
    {
     "data": {
      "text/plain": [
       "4"
      ]
     },
     "execution_count": 42,
     "metadata": {},
     "output_type": "execute_result"
    }
   ],
   "source": [
    "# using default param\n",
    "raise_to_power(a=2)"
   ]
  },
  {
   "cell_type": "markdown",
   "id": "24c0a3d6",
   "metadata": {
    "slideshow": {
     "slide_type": "slide"
    }
   },
   "source": [
    "### Multiple Outputs From Fnc\n",
    "- tuple unpacking (among other things) allows for multiple outputs"
   ]
  },
  {
   "cell_type": "code",
   "execution_count": 43,
   "id": "869ae559",
   "metadata": {},
   "outputs": [
    {
     "data": {
      "text/plain": [
       "3.141592653589793"
      ]
     },
     "execution_count": 43,
     "metadata": {},
     "output_type": "execute_result"
    }
   ],
   "source": [
    "# load the math module so that we can use pi\n",
    "import math\n",
    "pi = math.pi\n",
    "pi"
   ]
  },
  {
   "cell_type": "code",
   "execution_count": 44,
   "id": "0dba82a8",
   "metadata": {},
   "outputs": [
    {
     "data": {
      "text/plain": [
       "3.141592653589793"
      ]
     },
     "execution_count": 44,
     "metadata": {},
     "output_type": "execute_result"
    }
   ],
   "source": [
    "# tuple unpacking: break a tuple into its component variables\n",
    "some_tuple = ('a', 1, pi)\n",
    "item0, item1, item2 = some_tuple\n",
    "item2"
   ]
  },
  {
   "cell_type": "code",
   "execution_count": 45,
   "id": "cd3f9fe5",
   "metadata": {},
   "outputs": [],
   "source": [
    "def get_multiple(x):\n",
    "    \"\"\" computes first few multiples of x\n",
    "    \n",
    "    Args:\n",
    "        x (float): input number\n",
    "        \n",
    "    Returns:\n",
    "        mult1 (float): x\n",
    "        mult2 (float): 2x\n",
    "        mult3 (float): 3x\n",
    "    \"\"\"\n",
    "    mult1 = x\n",
    "    mult2 = x * 2\n",
    "    mult3 = x * 3\n",
    "    \n",
    "    return mult1, mult2, mult3"
   ]
  },
  {
   "cell_type": "code",
   "execution_count": 46,
   "id": "14cffe9d",
   "metadata": {},
   "outputs": [],
   "source": [
    "# supports returning multiple values\n",
    "mult1, mult2, mult3 = get_multiple(3)"
   ]
  },
  {
   "cell_type": "code",
   "execution_count": 47,
   "id": "64b20af6",
   "metadata": {},
   "outputs": [
    {
     "data": {
      "text/plain": [
       "(3, 6, 9)"
      ]
     },
     "execution_count": 47,
     "metadata": {},
     "output_type": "execute_result"
    }
   ],
   "source": [
    "# the output of the function is a tuple\n",
    "tuple_out = get_multiple(3)\n",
    "tuple_out"
   ]
  },
  {
   "cell_type": "markdown",
   "id": "ceeb0a73",
   "metadata": {},
   "source": [
    "### unpack tuple into component variables\n",
    "mult1, mult2, mult3 = tuple_out\n",
    "mult3"
   ]
  },
  {
   "cell_type": "markdown",
   "id": "c28873cf",
   "metadata": {
    "slideshow": {
     "slide_type": "slide"
    }
   },
   "source": [
    "## Assert (function behavior)\n",
    "\n",
    "We may want to check that the inputs to a function are appropriate."
   ]
  },
  {
   "cell_type": "code",
   "execution_count": 49,
   "id": "ee7f564c",
   "metadata": {},
   "outputs": [],
   "source": [
    "def alpha_sort_list(list_in):\n",
    "    \"\"\" sorts a list, alphabetically (regardless of case)\n",
    "    \n",
    "    Args:\n",
    "        list_in (list): list of strings\n",
    "        \n",
    "    Return:\n",
    "        list_out (list): list of strings, alpha sorted\n",
    "    \"\"\"\n",
    "    \n",
    "    return sorted(list_in)"
   ]
  },
  {
   "cell_type": "markdown",
   "id": "6e4f98d1",
   "metadata": {},
   "source": [
    "Does the function above work?  Seems to work on first glance ... to be sure lets build a little set of test cases and ensure it works as expected.\n",
    "\n",
    "A test case is a set of inputs and outputs to a function with our intended behavior."
   ]
  },
  {
   "cell_type": "code",
   "execution_count": 50,
   "id": "22320c19",
   "metadata": {},
   "outputs": [],
   "source": [
    "# assert alpha_sort_list(['Eliana', 'Callum', 'Bruno']) == ['Bruno', 'Callum', 'Eliana']\n",
    "# assert alpha_sort_list(['Eliana', 'callum', 'Bruno']) == ['Bruno', 'callum', 'eliana']"
   ]
  },
  {
   "cell_type": "code",
   "execution_count": 51,
   "id": "63897cab",
   "metadata": {},
   "outputs": [],
   "source": [
    "def MYfunction(someInput, AnotherInput = 'high five'):\n",
    "    \"\"\" takes a person's name and different statements as an input and prints a sentence using them\n",
    "    \n",
    "    Args:\n",
    "        someInput (string): name\n",
    "        AnotherInput (string): preferred greeting\n",
    "        \n",
    "    Returns:\n",
    "        None; instead prints a statement\n",
    "    \"\"\"\n",
    "    \n",
    "    if AnotherInput == 'high five':\n",
    "        print(f'I am sorry {someInput}, I am only a computer I cant high five')\n",
    "    else:\n",
    "        print(f'{AnotherInput} {someInput}!')"
   ]
  },
  {
   "cell_type": "code",
   "execution_count": 52,
   "id": "819b1264",
   "metadata": {},
   "outputs": [
    {
     "name": "stdout",
     "output_type": "stream",
     "text": [
      "Wassup Eric!\n",
      "I am sorry Qi, I am only a computer I cant high five\n"
     ]
    }
   ],
   "source": [
    "MYfunction('Eric', 'Wassup')\n",
    "MYfunction('Qi', 'high five')\n",
    "\n",
    "# Can use input to let someone else do it!\n",
    "# name = input()\n",
    "# greeting = input()\n",
    "\n",
    "# MYfunction(name, greeting)"
   ]
  },
  {
   "cell_type": "markdown",
   "id": "fae596e7",
   "metadata": {},
   "source": [
    "# LECTURE BREAK/PRACTICE\n",
    "\n",
    "The Standard Creepiness Rule states that you shouldn't date anyone younger than $\\frac{Your Age}{2} + 7$:\n",
    "\n",
    "![dating](https://imgs.xkcd.com/comics/dating_pools.png)\n",
    "\n",
    "Spend 5-10 minutes writing a function that takes as input a person's age, and outputs the sentence: `\"You can date people at least {result} years old.\"` Where `{result}` is the result of calculating the lower bound of the SRC.\n",
    "\n",
    "Then, define a variable `neighbor_age = int(input())` and pass it to your function after your neighbor enters their age.\n",
    "\n",
    "**note**: we are using `int(input())` because by default `input()` takes only strings and we are going to be passing our function an integer."
   ]
  },
  {
   "cell_type": "markdown",
   "id": "709080d9",
   "metadata": {
    "slideshow": {
     "slide_type": "slide"
    }
   },
   "source": [
    "## `import`-ing \n",
    "\n",
    "We can use software from [Python's standard library](https://docs.python.org/3/library/index.html) or anything on [pypi](https://pypi.org/) (e.g. pandas, numpy, scipy, matplotlib ....this is where folks share their python software) by `import`-ing it into our code. We already imported the math module earlier to be able to use $\\pi$.\n",
    "\n",
    "(If its on pypi you must install it via pip before use, everything in the standard library comes with Python itself).\n",
    "\n",
    "Lets build a random number generator:"
   ]
  },
  {
   "cell_type": "code",
   "execution_count": 53,
   "id": "d7e1ba8d",
   "metadata": {},
   "outputs": [
    {
     "data": {
      "text/plain": [
       "['or me']"
      ]
     },
     "execution_count": 53,
     "metadata": {},
     "output_type": "execute_result"
    }
   ],
   "source": [
    "# imports the whole library\n",
    "import random\n",
    "\n",
    "# you can access these functions as attributes of 'random'\n",
    "random.choices(['pick me', 'or me', 'maybe me?'])"
   ]
  },
  {
   "cell_type": "code",
   "execution_count": 54,
   "id": "b61f679f",
   "metadata": {},
   "outputs": [
    {
     "data": {
      "text/plain": [
       "['maybe me?']"
      ]
     },
     "execution_count": 54,
     "metadata": {},
     "output_type": "execute_result"
    }
   ],
   "source": [
    "# import just the function you'd like from the library\n",
    "from random import choices\n",
    "\n",
    "# importing as immediately above, you may only use the functions you've explicitly imported\n",
    "choices(['pick me', 'or me', 'maybe me?'])"
   ]
  },
  {
   "cell_type": "markdown",
   "id": "ffbb051f",
   "metadata": {},
   "source": [
    "Veteran programming instinct: wondering (and checking) \"Does this function also do this other behavior?\"\n",
    "\n",
    "Go to the [official documentation](https://docs.python.org/3/library/random.html) and skim it to see what else you can do with a function."
   ]
  },
  {
   "cell_type": "code",
   "execution_count": 55,
   "id": "f950afd8",
   "metadata": {},
   "outputs": [
    {
     "data": {
      "text/plain": [
       "['maybe me?']"
      ]
     },
     "execution_count": 55,
     "metadata": {},
     "output_type": "execute_result"
    }
   ],
   "source": [
    "# we can add a weight parameter which changes how often one item is selected vs another\n",
    "# if weight of one item is twice the other, it will be picked twice as often\n",
    "choices(['pick me', 'or me', 'maybe me?'], weights=[1, 2, 3])"
   ]
  },
  {
   "cell_type": "code",
   "execution_count": 56,
   "id": "e058b43f",
   "metadata": {},
   "outputs": [
    {
     "data": {
      "text/plain": [
       "['pick me',\n",
       " 'or me',\n",
       " 'or me',\n",
       " 'maybe me?',\n",
       " 'maybe me?',\n",
       " 'or me',\n",
       " 'maybe me?',\n",
       " 'maybe me?',\n",
       " 'pick me',\n",
       " 'maybe me?']"
      ]
     },
     "execution_count": 56,
     "metadata": {},
     "output_type": "execute_result"
    }
   ],
   "source": [
    "# or select multiple items by passing k argument\n",
    "choices(['pick me', 'or me', 'maybe me?'], k=10, weights=[1, 2, 3])"
   ]
  }
 ],
 "metadata": {
  "celltoolbar": "Edit Metadata",
  "kernelspec": {
   "display_name": "Python 3 (ipykernel)",
   "language": "python",
   "name": "python3"
  },
  "language_info": {
   "codemirror_mode": {
    "name": "ipython",
    "version": 3
   },
   "file_extension": ".py",
   "mimetype": "text/x-python",
   "name": "python",
   "nbconvert_exporter": "python",
   "pygments_lexer": "ipython3",
   "version": "3.10.11"
  }
 },
 "nbformat": 4,
 "nbformat_minor": 5
}
