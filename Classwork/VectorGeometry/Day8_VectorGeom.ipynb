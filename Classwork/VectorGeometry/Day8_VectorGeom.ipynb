{
 "cells": [
  {
   "cell_type": "markdown",
   "metadata": {
    "slideshow": {
     "slide_type": "slide"
    }
   },
   "source": [
    "# DS3000 Day 8\n",
    "\n",
    "Oct 10, 2023\n",
    "\n",
    "Admin\n",
    "- Qwickly Attendance (PIN on board)\n",
    "- Homework 2 due by **midnight Tonight**\n",
    "  - Part 1.5 is **not** extra credit (it *was*)\n",
    "- Homework 3 will be posted then, due **Oct 31**\n",
    "  - Please do start this one earlier rather than later...\n",
    "- Project Proposals due by **next Tuesday**\n",
    "  - Example proposal on Canvas. *Obviously* do not just copy it... especially because you are not allowed to use the Spotify API.\n",
    "  - Please let me know if you'd like to work with someone by **next Thurs/Friday**. I will post a list of all proposals for your section on Wednesday for those who want to see if anyone had a similar idea to them wants to work together. Anyone who is not in a group by class time Thurs/Friday will be randomly assigned to groups.\n",
    "- Quiz 2 will be assigned **next Tuesday**\n",
    "  - Due one week later, on **Oct 24**\n",
    "- Visitor and Lab **next Tuesday**\n",
    "  - Visitor: Arielle Dror, NWSL\n",
    "  - Lab: Covers Cleaning, Graphing, and Summarizing Data\n",
    "\n",
    "Push-Up Tracker\n",
    "- Section 04: 5\n",
    "- Section 05: 8\n",
    "- Section 06: 7\n",
    "\n",
    "Content:\n",
    "- Wrap up Correlation discussion\n",
    "- Vector Geometry Basics\n",
    "  - By Hand and In Python\n",
    "- Next time: Ethics and Machine Learning Intro"
   ]
  },
  {
   "cell_type": "code",
   "execution_count": 7,
   "metadata": {},
   "outputs": [],
   "source": [
    "# packages for today\n",
    "import warnings\n",
    "warnings.simplefilter(action='ignore', category=FutureWarning)\n",
    "\n",
    "import requests\n",
    "from bs4 import BeautifulSoup\n",
    "import pandas as pd?\n",
    "import matplotlib.pyplot as plt\n",
    "import numpy as np\n",
    "from matplotlib.backends.backend_pdf import PdfPages\n",
    "import seaborn as sns                                                                                                                                                                                                                                                                                                                                                                                                                                                                                                                                                                                                                                                                                                                                                                                                                                                                                                                                                                                                                                                                                                                                                                                                                                                                                                                                                                                                                                                                                                                                                                                                                                                                                                                        \n",
    "import plotly.express as px "
   ]
  },
  {
   "cell_type": "markdown",
   "metadata": {},
   "source": [
    "### Co-variance & correlation: Qualitatively\n",
    "(How two values vary together)\n",
    "\n",
    "The behavior between any two values x and y can be summarized in one of the three ways:\n",
    "1. as x gets larger y typically gets larger too\n",
    "    - ex: \n",
    "        - `x=temp on some day`\n",
    "        - `y=number of people on the beach on the same day`\n",
    "    - covariance & correlation is positive\n",
    "2. as x gets larger y typically doesn't get larger or smaller\n",
    "    - ex: \n",
    "        - `x=individual's favorite number`\n",
    "        - `y=number of hot dogs that individual has eaten in their lifetime`\n",
    "    - covariance & correlation is zero\n",
    "3. as x gets larger, y typically gets smaller\n",
    "    - ex: \n",
    "        - `x=average speed of driver on 10 mile commute`\n",
    "        - `y=average commute time of driver on 10 mile commute`\n",
    "    - covariance & correlation are negative"
   ]
  },
  {
   "cell_type": "markdown",
   "metadata": {},
   "source": [
    "Covariance & Correlation are only defined between two values when the observations are somehow **linked**:\n",
    "1. on the same **day**, we observe temp & beach population\n",
    "1. on the same **individual**, we observe favortie number & hot dogs eaten\n",
    "1. on the same **driver**, we observe speed and commute time\n",
    "\n",
    "If we don't observe the data in pairs, correlation / covariance is not defined:\n",
    "- `x=an individual's favorite number`\n",
    "- `y=the temperature on a given day`\n",
    "\n",
    "`x` is observed per individual while `y` is observed per day ... there isn't a way to \"pair\" every x with a y!"
   ]
  },
  {
   "cell_type": "code",
   "execution_count": 8,
   "metadata": {},
   "outputs": [
    {
     "data": {
      "text/html": [
       "<div>\n",
       "<style scoped>\n",
       "    .dataframe tbody tr th:only-of-type {\n",
       "        vertical-align: middle;\n",
       "    }\n",
       "\n",
       "    .dataframe tbody tr th {\n",
       "        vertical-align: top;\n",
       "    }\n",
       "\n",
       "    .dataframe thead th {\n",
       "        text-align: right;\n",
       "    }\n",
       "</style>\n",
       "<table border=\"1\" class=\"dataframe\">\n",
       "  <thead>\n",
       "    <tr style=\"text-align: right;\">\n",
       "      <th></th>\n",
       "      <th>height</th>\n",
       "      <th>weight</th>\n",
       "      <th>damage</th>\n",
       "      <th>basespeed</th>\n",
       "      <th>attack</th>\n",
       "      <th>defense</th>\n",
       "    </tr>\n",
       "  </thead>\n",
       "  <tbody>\n",
       "    <tr>\n",
       "      <th>height</th>\n",
       "      <td>1434.948698</td>\n",
       "      <td>2812.923275</td>\n",
       "      <td>263.536645</td>\n",
       "      <td>202.599603</td>\n",
       "      <td>313.770817</td>\n",
       "      <td>366.510684</td>\n",
       "    </tr>\n",
       "    <tr>\n",
       "      <th>weight</th>\n",
       "      <td>2812.923275</td>\n",
       "      <td>17239.445888</td>\n",
       "      <td>1673.129204</td>\n",
       "      <td>185.234597</td>\n",
       "      <td>1605.373603</td>\n",
       "      <td>1452.893957</td>\n",
       "    </tr>\n",
       "    <tr>\n",
       "      <th>damage</th>\n",
       "      <td>263.536645</td>\n",
       "      <td>1673.129204</td>\n",
       "      <td>817.131921</td>\n",
       "      <td>-31.478764</td>\n",
       "      <td>226.885607</td>\n",
       "      <td>92.157130</td>\n",
       "    </tr>\n",
       "    <tr>\n",
       "      <th>basespeed</th>\n",
       "      <td>202.599603</td>\n",
       "      <td>185.234597</td>\n",
       "      <td>-31.478764</td>\n",
       "      <td>715.395585</td>\n",
       "      <td>144.560927</td>\n",
       "      <td>-38.338322</td>\n",
       "    </tr>\n",
       "    <tr>\n",
       "      <th>attack</th>\n",
       "      <td>313.770817</td>\n",
       "      <td>1605.373603</td>\n",
       "      <td>226.885607</td>\n",
       "      <td>144.560927</td>\n",
       "      <td>715.852539</td>\n",
       "      <td>347.606181</td>\n",
       "    </tr>\n",
       "    <tr>\n",
       "      <th>defense</th>\n",
       "      <td>366.510684</td>\n",
       "      <td>1452.893957</td>\n",
       "      <td>92.157130</td>\n",
       "      <td>-38.338322</td>\n",
       "      <td>347.606181</td>\n",
       "      <td>724.508962</td>\n",
       "    </tr>\n",
       "  </tbody>\n",
       "</table>\n",
       "</div>"
      ],
      "text/plain": [
       "                height        weight       damage   basespeed       attack  \\\n",
       "height     1434.948698   2812.923275   263.536645  202.599603   313.770817   \n",
       "weight     2812.923275  17239.445888  1673.129204  185.234597  1605.373603   \n",
       "damage      263.536645   1673.129204   817.131921  -31.478764   226.885607   \n",
       "basespeed   202.599603    185.234597   -31.478764  715.395585   144.560927   \n",
       "attack      313.770817   1605.373603   226.885607  144.560927   715.852539   \n",
       "defense     366.510684   1452.893957    92.157130  -38.338322   347.606181   \n",
       "\n",
       "               defense  \n",
       "height      366.510684  \n",
       "weight     1452.893957  \n",
       "damage       92.157130  \n",
       "basespeed   -38.338322  \n",
       "attack      347.606181  \n",
       "defense     724.508962  "
      ]
     },
     "execution_count": 8,
     "metadata": {},
     "output_type": "execute_result"
    }
   ],
   "source": [
    "import pandas as pd \n",
    "\n",
    "df_poke = pd.read_csv('pokedata.csv')\n",
    "\n",
    "# use .rename to make all the column names lower case\n",
    "# we can also pass a function which operates on each index / column\n",
    "def make_lower(x):\n",
    "    return str(x).lower()\n",
    "df_poke.rename(make_lower, axis = 1, inplace=True)\n",
    "\n",
    "# set the index to the pokedex number\n",
    "df_poke.set_index('pokedex', inplace=True)\n",
    "\n",
    "df_poke.iloc[:,3:].cov()"
   ]
  },
  {
   "cell_type": "markdown",
   "metadata": {},
   "source": [
    "## Computing Co-variance (\"by hand\")\n",
    "\n",
    "**Goal**: \n",
    "\n",
    "compute the covariance of x and y below:"
   ]
  },
  {
   "cell_type": "code",
   "execution_count": 11,
   "metadata": {},
   "outputs": [
    {
     "data": {
      "text/html": [
       "<div>\n",
       "<style scoped>\n",
       "    .dataframe tbody tr th:only-of-type {\n",
       "        vertical-align: middle;\n",
       "    }\n",
       "\n",
       "    .dataframe tbody tr th {\n",
       "        vertical-align: top;\n",
       "    }\n",
       "\n",
       "    .dataframe thead th {\n",
       "        text-align: right;\n",
       "    }\n",
       "</style>\n",
       "<table border=\"1\" class=\"dataframe\">\n",
       "  <thead>\n",
       "    <tr style=\"text-align: right;\">\n",
       "      <th></th>\n",
       "      <th>car weight (x)</th>\n",
       "      <th>mpg (y)</th>\n",
       "    </tr>\n",
       "  </thead>\n",
       "  <tbody>\n",
       "    <tr>\n",
       "      <th>car0</th>\n",
       "      <td>-2</td>\n",
       "      <td>4</td>\n",
       "    </tr>\n",
       "    <tr>\n",
       "      <th>car1</th>\n",
       "      <td>-1</td>\n",
       "      <td>2</td>\n",
       "    </tr>\n",
       "    <tr>\n",
       "      <th>car2</th>\n",
       "      <td>0</td>\n",
       "      <td>0</td>\n",
       "    </tr>\n",
       "    <tr>\n",
       "      <th>car3</th>\n",
       "      <td>1</td>\n",
       "      <td>-2</td>\n",
       "    </tr>\n",
       "    <tr>\n",
       "      <th>car4</th>\n",
       "      <td>2</td>\n",
       "      <td>-4</td>\n",
       "    </tr>\n",
       "  </tbody>\n",
       "</table>\n",
       "</div>"
      ],
      "text/plain": [
       "      car weight (x)  mpg (y)\n",
       "car0              -2        4\n",
       "car1              -1        2\n",
       "car2               0        0\n",
       "car3               1       -2\n",
       "car4               2       -4"
      ]
     },
     "execution_count": 11,
     "metadata": {},
     "output_type": "execute_result"
    }
   ],
   "source": [
    "df_car = pd.DataFrame({'car weight (x)': [-2, -1, 0, 1, 2],\n",
    "                       'mpg (y)': [4, 2, 0, -2, -4]},\n",
    "                      index=['car0', 'car1', 'car2', 'car3', 'car4'])\n",
    "df_car"
   ]
  },
  {
   "cell_type": "markdown",
   "metadata": {},
   "source": [
    "**Sample covariance:**\n",
    "$$ \\texttt{cov}(x, y) = \\frac{1}{N-1} \\sum_i (x_i - \\bar{x})(y_i - \\bar{y})$$\n",
    "\n",
    "\n",
    "**Compute:**\n",
    "\n",
    "|      | x | y | $$ x_i - \\bar{x}$$ | $$y - \\bar{y}$$ | $$ (x_i - \\bar{x})(y - \\bar{y})$$ |\n",
    "|-----:|---------------:|--------:|--------------------|-----------------|-----------------------------------|\n",
    "| car0 |              -2 |       4 | -2                 | 4               | -8                                |\n",
    "| car1 |              -1 |       2 | -1                 | 2               | -2                                |\n",
    "| car2 |              0 |       0 | 0                  | 0               | 0                                 |\n",
    "| car3 |              1 |       -2 | 1                  | -2              | -2                                |\n",
    "| car4 |              2 |       -4 | 2                  | -4              | -8                                |"
   ]
  },
  {
   "cell_type": "code",
   "execution_count": 12,
   "metadata": {},
   "outputs": [
    {
     "data": {
      "text/plain": [
       "-5.0"
      ]
     },
     "execution_count": 12,
     "metadata": {},
     "output_type": "execute_result"
    }
   ],
   "source": [
    "num_car = 5\n",
    "sample_cov = (-8 -2 +0 -2 -8) / (num_car - 1)\n",
    "sample_cov"
   ]
  },
  {
   "cell_type": "markdown",
   "metadata": {},
   "source": [
    "## Anatomy of a Covariance Matrix (computing covariance via computer)"
   ]
  },
  {
   "cell_type": "code",
   "execution_count": 13,
   "metadata": {},
   "outputs": [
    {
     "data": {
      "text/html": [
       "<div>\n",
       "<style scoped>\n",
       "    .dataframe tbody tr th:only-of-type {\n",
       "        vertical-align: middle;\n",
       "    }\n",
       "\n",
       "    .dataframe tbody tr th {\n",
       "        vertical-align: top;\n",
       "    }\n",
       "\n",
       "    .dataframe thead th {\n",
       "        text-align: right;\n",
       "    }\n",
       "</style>\n",
       "<table border=\"1\" class=\"dataframe\">\n",
       "  <thead>\n",
       "    <tr style=\"text-align: right;\">\n",
       "      <th></th>\n",
       "      <th>car weight (x)</th>\n",
       "      <th>mpg (y)</th>\n",
       "    </tr>\n",
       "  </thead>\n",
       "  <tbody>\n",
       "    <tr>\n",
       "      <th>car weight (x)</th>\n",
       "      <td>2.5</td>\n",
       "      <td>-5.0</td>\n",
       "    </tr>\n",
       "    <tr>\n",
       "      <th>mpg (y)</th>\n",
       "      <td>-5.0</td>\n",
       "      <td>10.0</td>\n",
       "    </tr>\n",
       "  </tbody>\n",
       "</table>\n",
       "</div>"
      ],
      "text/plain": [
       "                car weight (x)  mpg (y)\n",
       "car weight (x)             2.5     -5.0\n",
       "mpg (y)                   -5.0     10.0"
      ]
     },
     "execution_count": 13,
     "metadata": {},
     "output_type": "execute_result"
    }
   ],
   "source": [
    "# returns a full covariance matrix\n",
    "df_car.cov()"
   ]
  },
  {
   "cell_type": "markdown",
   "metadata": {},
   "source": [
    "A covariance matrix contains the covariance of every pair of elements:\n",
    "    \n",
    "|   |         x |         y |\n",
    "|--:|----------:|----------:|\n",
    "| x | cov(x, x) | cov(x, y) |\n",
    "| y | cov(y, x) | cov(y, y) |\n",
    "\n",
    "- Note 1: cov(x, y) = cov(y, x) (always, not just in this example)\n",
    "- Note 2: cov(x, x) is the variance of x and itself"
   ]
  },
  {
   "cell_type": "code",
   "execution_count": 14,
   "metadata": {},
   "outputs": [
    {
     "data": {
      "text/plain": [
       "car weight (x)     2.5\n",
       "mpg (y)           10.0\n",
       "dtype: float64"
      ]
     },
     "execution_count": 14,
     "metadata": {},
     "output_type": "execute_result"
    }
   ],
   "source": [
    "# variance diagonal of the covariance matrix\n",
    "df_car.var()"
   ]
  },
  {
   "cell_type": "markdown",
   "metadata": {},
   "source": [
    "## Correlation (motivation)\n",
    "\n",
    "Covariance by itself is not actually very useful, since the units are not (usually) interpretable. Instead, we usually use correlation.\n",
    "\n",
    "Which has a more consistent relationship? (or maybe they're the same?)\n",
    "- height of a person in `inches`\n",
    "- height of a person in `cm`\n",
    "\n",
    "or\n",
    "- height of a person in `inches`\n",
    "- height of a person in `feet`"
   ]
  },
  {
   "cell_type": "code",
   "execution_count": 15,
   "metadata": {},
   "outputs": [
    {
     "data": {
      "text/html": [
       "<div>\n",
       "<style scoped>\n",
       "    .dataframe tbody tr th:only-of-type {\n",
       "        vertical-align: middle;\n",
       "    }\n",
       "\n",
       "    .dataframe tbody tr th {\n",
       "        vertical-align: top;\n",
       "    }\n",
       "\n",
       "    .dataframe thead th {\n",
       "        text-align: right;\n",
       "    }\n",
       "</style>\n",
       "<table border=\"1\" class=\"dataframe\">\n",
       "  <thead>\n",
       "    <tr style=\"text-align: right;\">\n",
       "      <th></th>\n",
       "      <th>height_inches</th>\n",
       "      <th>height_cm</th>\n",
       "      <th>height_feet</th>\n",
       "    </tr>\n",
       "  </thead>\n",
       "  <tbody>\n",
       "    <tr>\n",
       "      <th>0</th>\n",
       "      <td>68</td>\n",
       "      <td>172.72</td>\n",
       "      <td>5.666667</td>\n",
       "    </tr>\n",
       "    <tr>\n",
       "      <th>1</th>\n",
       "      <td>69</td>\n",
       "      <td>175.26</td>\n",
       "      <td>5.750000</td>\n",
       "    </tr>\n",
       "    <tr>\n",
       "      <th>2</th>\n",
       "      <td>70</td>\n",
       "      <td>177.80</td>\n",
       "      <td>5.833333</td>\n",
       "    </tr>\n",
       "    <tr>\n",
       "      <th>3</th>\n",
       "      <td>72</td>\n",
       "      <td>182.88</td>\n",
       "      <td>6.000000</td>\n",
       "    </tr>\n",
       "    <tr>\n",
       "      <th>4</th>\n",
       "      <td>55</td>\n",
       "      <td>139.70</td>\n",
       "      <td>4.583333</td>\n",
       "    </tr>\n",
       "    <tr>\n",
       "      <th>5</th>\n",
       "      <td>77</td>\n",
       "      <td>195.58</td>\n",
       "      <td>6.416667</td>\n",
       "    </tr>\n",
       "  </tbody>\n",
       "</table>\n",
       "</div>"
      ],
      "text/plain": [
       "   height_inches  height_cm  height_feet\n",
       "0             68     172.72     5.666667\n",
       "1             69     175.26     5.750000\n",
       "2             70     177.80     5.833333\n",
       "3             72     182.88     6.000000\n",
       "4             55     139.70     4.583333\n",
       "5             77     195.58     6.416667"
      ]
     },
     "execution_count": 15,
     "metadata": {},
     "output_type": "execute_result"
    }
   ],
   "source": [
    "inch_to_cm = 2.54\n",
    "inch_to_feet = 1/12\n",
    "\n",
    "df_height = pd.DataFrame({'height_inches': [68, 69, 70, 72, 55, 77]})\n",
    "df_height['height_cm'] = df_height['height_inches'] * inch_to_cm\n",
    "df_height['height_feet'] = df_height['height_inches'] * inch_to_feet\n",
    "\n",
    "df_height"
   ]
  },
  {
   "cell_type": "code",
   "execution_count": 16,
   "metadata": {},
   "outputs": [
    {
     "data": {
      "text/html": [
       "<div>\n",
       "<style scoped>\n",
       "    .dataframe tbody tr th:only-of-type {\n",
       "        vertical-align: middle;\n",
       "    }\n",
       "\n",
       "    .dataframe tbody tr th {\n",
       "        vertical-align: top;\n",
       "    }\n",
       "\n",
       "    .dataframe thead th {\n",
       "        text-align: right;\n",
       "    }\n",
       "</style>\n",
       "<table border=\"1\" class=\"dataframe\">\n",
       "  <thead>\n",
       "    <tr style=\"text-align: right;\">\n",
       "      <th></th>\n",
       "      <th>height_inches</th>\n",
       "      <th>height_cm</th>\n",
       "      <th>height_feet</th>\n",
       "    </tr>\n",
       "  </thead>\n",
       "  <tbody>\n",
       "    <tr>\n",
       "      <th>height_inches</th>\n",
       "      <td>53.900000</td>\n",
       "      <td>136.906000</td>\n",
       "      <td>4.491667</td>\n",
       "    </tr>\n",
       "    <tr>\n",
       "      <th>height_cm</th>\n",
       "      <td>136.906000</td>\n",
       "      <td>347.741240</td>\n",
       "      <td>11.408833</td>\n",
       "    </tr>\n",
       "    <tr>\n",
       "      <th>height_feet</th>\n",
       "      <td>4.491667</td>\n",
       "      <td>11.408833</td>\n",
       "      <td>0.374306</td>\n",
       "    </tr>\n",
       "  </tbody>\n",
       "</table>\n",
       "</div>"
      ],
      "text/plain": [
       "               height_inches   height_cm  height_feet\n",
       "height_inches      53.900000  136.906000     4.491667\n",
       "height_cm         136.906000  347.741240    11.408833\n",
       "height_feet         4.491667   11.408833     0.374306"
      ]
     },
     "execution_count": 16,
     "metadata": {},
     "output_type": "execute_result"
    }
   ],
   "source": [
    "df_height.cov()"
   ]
  },
  {
   "cell_type": "markdown",
   "metadata": {},
   "source": [
    "- Covariance between `height_inches` and `height_cm` ~= 136\n",
    "- Covariance between `height_inches` and `height_feet` ~= 4\n",
    "\n",
    "So is there a stronger relationship between `height_inches` and `height_cm`? ..."
   ]
  },
  {
   "cell_type": "code",
   "execution_count": 17,
   "metadata": {},
   "outputs": [
    {
     "data": {
      "text/plain": [
       "<Axes: xlabel='height_inches', ylabel='height_cm'>"
      ]
     },
     "execution_count": 17,
     "metadata": {},
     "output_type": "execute_result"
    },
    {
     "data": {
      "image/png": "[encoded data removed]",
      "text/plain": [
       "<Figure size 640x480 with 1 Axes>"
      ]
     },
     "metadata": {},
     "output_type": "display_data"
    }
   ],
   "source": [
    "sns.scatterplot(data=df_height, x='height_inches', y='height_cm')"
   ]
  },
  {
   "cell_type": "code",
   "execution_count": 18,
   "metadata": {},
   "outputs": [
    {
     "data": {
      "text/plain": [
       "<Axes: xlabel='height_inches', ylabel='height_feet'>"
      ]
     },
     "execution_count": 18,
     "metadata": {},
     "output_type": "execute_result"
    },
    {
     "data": {
      "image/png": "[encoded data removed]",
      "text/plain": [
       "<Figure size 640x480 with 1 Axes>"
      ]
     },
     "metadata": {},
     "output_type": "display_data"
    }
   ],
   "source": [
    "sns.scatterplot(data=df_height, x='height_inches', y='height_feet')"
   ]
  },
  {
   "cell_type": "markdown",
   "metadata": {},
   "source": [
    "So is there a stronger relationship between `height_inches` and `height_cm`? ...\n",
    "\n",
    "... not at all, they have the *same* relationship.  Its just that covariance depends on the units we measure in.  Smaller units -> bigger values -> bigger covariance.\n",
    "\n",
    "## The 'strongest' relationship between two variables\n",
    "\n",
    "In some sense, this is the 'strongest' possible relationship.  When one variable increases, the other always does so too.  \n",
    "\n",
    "**Helpful fact:**\n",
    "The covariance is always smaller than the product of the standard deviations of both variables:\n",
    "\n",
    "$$|cov(x,y)| \\leq \\sigma_x \\sigma_y$$\n",
    "\n",
    "### Question: What does it mean that this is the 'strongest' possible relationship, and that the covariances are as large as they can possibly be?"
   ]
  },
  {
   "cell_type": "code",
   "execution_count": 19,
   "metadata": {},
   "outputs": [
    {
     "data": {
      "text/html": [
       "<div>\n",
       "<style scoped>\n",
       "    .dataframe tbody tr th:only-of-type {\n",
       "        vertical-align: middle;\n",
       "    }\n",
       "\n",
       "    .dataframe tbody tr th {\n",
       "        vertical-align: top;\n",
       "    }\n",
       "\n",
       "    .dataframe thead th {\n",
       "        text-align: right;\n",
       "    }\n",
       "</style>\n",
       "<table border=\"1\" class=\"dataframe\">\n",
       "  <thead>\n",
       "    <tr style=\"text-align: right;\">\n",
       "      <th></th>\n",
       "      <th>height_inches</th>\n",
       "      <th>height_cm</th>\n",
       "      <th>height_feet</th>\n",
       "    </tr>\n",
       "  </thead>\n",
       "  <tbody>\n",
       "    <tr>\n",
       "      <th>height_inches</th>\n",
       "      <td>1.0</td>\n",
       "      <td>1.0</td>\n",
       "      <td>1.0</td>\n",
       "    </tr>\n",
       "    <tr>\n",
       "      <th>height_cm</th>\n",
       "      <td>1.0</td>\n",
       "      <td>1.0</td>\n",
       "      <td>1.0</td>\n",
       "    </tr>\n",
       "    <tr>\n",
       "      <th>height_feet</th>\n",
       "      <td>1.0</td>\n",
       "      <td>1.0</td>\n",
       "      <td>1.0</td>\n",
       "    </tr>\n",
       "  </tbody>\n",
       "</table>\n",
       "</div>"
      ],
      "text/plain": [
       "               height_inches  height_cm  height_feet\n",
       "height_inches            1.0        1.0          1.0\n",
       "height_cm                1.0        1.0          1.0\n",
       "height_feet              1.0        1.0          1.0"
      ]
     },
     "execution_count": 19,
     "metadata": {},
     "output_type": "execute_result"
    }
   ],
   "source": [
    "# compute the correlation matrix (each item is correlation of that row & column)\n",
    "df_height.corr()"
   ]
  },
  {
   "cell_type": "markdown",
   "metadata": {},
   "source": [
    "## Correlation (Compute)\n",
    "\n",
    "Remember, the biggest (and smallest) covariance we can possibly have is the product of the standard deviations:\n",
    "\n",
    "$$|cov(x,y)| \\leq \\sigma_x \\sigma_y$$\n",
    "\n",
    "Correlation: \"How big of a covariance do you have comapred to how big it could possibly be?\"\n",
    "\n",
    "$$corr(x,y) = \\frac{\\texttt{cov}(x, y)}{\\sigma_x \\sigma_y} $$\n",
    "\n",
    "In doing so, it removes any effect of the scale of the data might have (e.g. changing units)."
   ]
  },
  {
   "cell_type": "markdown",
   "metadata": {},
   "source": [
    "## Let's discuss Correlation some more\n",
    "\n",
    "Correlations are shown above each scatter (credit: wikipedia)\n",
    "<img src=\"https://upload.wikimedia.org/wikipedia/commons/thumb/d/d4/Correlation_examples2.svg/1920px-Correlation_examples2.svg.png\" alt=\"Drawing\" style=\"width: 800px;\"/>\n",
    "\n",
    "Common misconception:\n",
    "\n",
    "- if x and y are uncorrelated, they are independent\n",
    "    - (see examples in last row directly above)"
   ]
  },
  {
   "cell_type": "markdown",
   "metadata": {},
   "source": [
    "## The most important correlation/covariance slide: why did we go through all this trouble?\n",
    "\n",
    "- mean and median describe where a feature typically is\n",
    "- variance / standard deviation describes how consistently a feature stays near its mean\n",
    "- correlation describes which relationship two values have:\n",
    "    - when x increases, y typically increases\n",
    "    - when x increases, y typically stays the same\n",
    "    - when x increases, y typically decreases\n",
    "    - **MOST IMPORTANTLY**: Just because two features have a correlation, **does not** mean they have anything to do with each other: [Spurious Correlations](http://www.tylervigen.com/spurious-correlations)"
   ]
  },
  {
   "cell_type": "markdown",
   "metadata": {},
   "source": [
    "## Reminder: representing data (samples & features)\n",
    "To describe a collection of **samples** we record a set of **features** for each sample.\n",
    "\n",
    "For example, when describing penguins:"
   ]
  },
  {
   "cell_type": "code",
   "execution_count": 20,
   "metadata": {},
   "outputs": [
    {
     "data": {
      "text/html": [
       "<div>\n",
       "<style scoped>\n",
       "    .dataframe tbody tr th:only-of-type {\n",
       "        vertical-align: middle;\n",
       "    }\n",
       "\n",
       "    .dataframe tbody tr th {\n",
       "        vertical-align: top;\n",
       "    }\n",
       "\n",
       "    .dataframe thead th {\n",
       "        text-align: right;\n",
       "    }\n",
       "</style>\n",
       "<table border=\"1\" class=\"dataframe\">\n",
       "  <thead>\n",
       "    <tr style=\"text-align: right;\">\n",
       "      <th></th>\n",
       "      <th>species</th>\n",
       "      <th>island</th>\n",
       "      <th>bill_length_mm</th>\n",
       "      <th>bill_depth_mm</th>\n",
       "      <th>flipper_length_mm</th>\n",
       "      <th>body_mass_g</th>\n",
       "      <th>sex</th>\n",
       "    </tr>\n",
       "  </thead>\n",
       "  <tbody>\n",
       "    <tr>\n",
       "      <th>0</th>\n",
       "      <td>Adelie</td>\n",
       "      <td>Torgersen</td>\n",
       "      <td>39.1</td>\n",
       "      <td>18.7</td>\n",
       "      <td>181.0</td>\n",
       "      <td>3750.0</td>\n",
       "      <td>Male</td>\n",
       "    </tr>\n",
       "    <tr>\n",
       "      <th>1</th>\n",
       "      <td>Adelie</td>\n",
       "      <td>Torgersen</td>\n",
       "      <td>39.5</td>\n",
       "      <td>17.4</td>\n",
       "      <td>186.0</td>\n",
       "      <td>3800.0</td>\n",
       "      <td>Female</td>\n",
       "    </tr>\n",
       "    <tr>\n",
       "      <th>2</th>\n",
       "      <td>Adelie</td>\n",
       "      <td>Torgersen</td>\n",
       "      <td>40.3</td>\n",
       "      <td>18.0</td>\n",
       "      <td>195.0</td>\n",
       "      <td>3250.0</td>\n",
       "      <td>Female</td>\n",
       "    </tr>\n",
       "    <tr>\n",
       "      <th>4</th>\n",
       "      <td>Adelie</td>\n",
       "      <td>Torgersen</td>\n",
       "      <td>36.7</td>\n",
       "      <td>19.3</td>\n",
       "      <td>193.0</td>\n",
       "      <td>3450.0</td>\n",
       "      <td>Female</td>\n",
       "    </tr>\n",
       "    <tr>\n",
       "      <th>5</th>\n",
       "      <td>Adelie</td>\n",
       "      <td>Torgersen</td>\n",
       "      <td>39.3</td>\n",
       "      <td>20.6</td>\n",
       "      <td>190.0</td>\n",
       "      <td>3650.0</td>\n",
       "      <td>Male</td>\n",
       "    </tr>\n",
       "  </tbody>\n",
       "</table>\n",
       "</div>"
      ],
      "text/plain": [
       "  species     island  bill_length_mm  bill_depth_mm  flipper_length_mm  \\\n",
       "0  Adelie  Torgersen            39.1           18.7              181.0   \n",
       "1  Adelie  Torgersen            39.5           17.4              186.0   \n",
       "2  Adelie  Torgersen            40.3           18.0              195.0   \n",
       "4  Adelie  Torgersen            36.7           19.3              193.0   \n",
       "5  Adelie  Torgersen            39.3           20.6              190.0   \n",
       "\n",
       "   body_mass_g     sex  \n",
       "0       3750.0    Male  \n",
       "1       3800.0  Female  \n",
       "2       3250.0  Female  \n",
       "4       3450.0  Female  \n",
       "5       3650.0    Male  "
      ]
     },
     "execution_count": 20,
     "metadata": {},
     "output_type": "execute_result"
    }
   ],
   "source": [
    "df_penguin = sns.load_dataset('penguins')\n",
    "df_penguin.dropna(axis=0, inplace=True)\n",
    "\n",
    "df_penguin.head()"
   ]
  },
  {
   "cell_type": "markdown",
   "metadata": {},
   "source": [
    "Each penguin is a sample for which we've observed 7 features:\n",
    "- species\n",
    "- island\n",
    "- bill_length_mm\n",
    "- bill_depth_mm\n",
    "- flipper_length_mm\n",
    "- body_mass_g\n",
    "- sex \n",
    "\n",
    "A numerical dataset can be represented as an array (we'll return to those categorical variables `species`, `island` and `sex` later on). \n",
    "\n",
    "**By convention, sklearn (our Python ML library) represent:**\n",
    "- each sample as a row \n",
    "- each feature as a column \n",
    "\n",
    "**as is shown above.**\n"
   ]
  },
  {
   "cell_type": "markdown",
   "metadata": {},
   "source": [
    "## Samples as vectors"
   ]
  },
  {
   "cell_type": "code",
   "execution_count": 21,
   "metadata": {},
   "outputs": [
    {
     "data": {
      "text/html": [
       "<div>\n",
       "<style scoped>\n",
       "    .dataframe tbody tr th:only-of-type {\n",
       "        vertical-align: middle;\n",
       "    }\n",
       "\n",
       "    .dataframe tbody tr th {\n",
       "        vertical-align: top;\n",
       "    }\n",
       "\n",
       "    .dataframe thead th {\n",
       "        text-align: right;\n",
       "    }\n",
       "</style>\n",
       "<table border=\"1\" class=\"dataframe\">\n",
       "  <thead>\n",
       "    <tr style=\"text-align: right;\">\n",
       "      <th></th>\n",
       "      <th>bill_length_mm</th>\n",
       "      <th>bill_depth_mm</th>\n",
       "      <th>flipper_length_mm</th>\n",
       "      <th>body_mass_g</th>\n",
       "    </tr>\n",
       "  </thead>\n",
       "  <tbody>\n",
       "    <tr>\n",
       "      <th>0</th>\n",
       "      <td>39.1</td>\n",
       "      <td>18.7</td>\n",
       "      <td>181.0</td>\n",
       "      <td>3750.0</td>\n",
       "    </tr>\n",
       "    <tr>\n",
       "      <th>1</th>\n",
       "      <td>40.2</td>\n",
       "      <td>17.9</td>\n",
       "      <td>194.0</td>\n",
       "      <td>3700.0</td>\n",
       "    </tr>\n",
       "    <tr>\n",
       "      <th>2</th>\n",
       "      <td>40.3</td>\n",
       "      <td>18.0</td>\n",
       "      <td>195.0</td>\n",
       "      <td>3250.0</td>\n",
       "    </tr>\n",
       "    <tr>\n",
       "      <th>4</th>\n",
       "      <td>36.7</td>\n",
       "      <td>19.3</td>\n",
       "      <td>193.0</td>\n",
       "      <td>3450.0</td>\n",
       "    </tr>\n",
       "    <tr>\n",
       "      <th>5</th>\n",
       "      <td>39.3</td>\n",
       "      <td>20.6</td>\n",
       "      <td>190.0</td>\n",
       "      <td>3650.0</td>\n",
       "    </tr>\n",
       "  </tbody>\n",
       "</table>\n",
       "</div>"
      ],
      "text/plain": [
       "   bill_length_mm  bill_depth_mm  flipper_length_mm  body_mass_g\n",
       "0            39.1           18.7              181.0       3750.0\n",
       "1            40.2           17.9              194.0       3700.0\n",
       "2            40.3           18.0              195.0       3250.0\n",
       "4            36.7           19.3              193.0       3450.0\n",
       "5            39.3           20.6              190.0       3650.0"
      ]
     },
     "execution_count": 21,
     "metadata": {},
     "output_type": "execute_result"
    }
   ],
   "source": [
    "# only focus on numerical features (for now)\n",
    "col_num_list = ['bill_length_mm', 'bill_depth_mm', 'flipper_length_mm', 'body_mass_g']\n",
    "df_penguin_num = df_penguin.loc[:, col_num_list]\n",
    "\n",
    "# for pedagogical reasons, we need penguin1 to have slightly different values\n",
    "df_penguin_num.iloc[1, :] = [40.2, 17.9, 194.0, 3700]\n",
    "\n",
    "df_penguin_num.head()"
   ]
  },
  {
   "cell_type": "markdown",
   "metadata": {},
   "source": [
    "Individual samples (penguins) are considered, mathematically, as vectors.  When sklearn looks at the first penguin it sees:"
   ]
  },
  {
   "cell_type": "code",
   "execution_count": 22,
   "metadata": {},
   "outputs": [
    {
     "data": {
      "text/plain": [
       "array([  39.1,   18.7,  181. , 3750. ])"
      ]
     },
     "execution_count": 22,
     "metadata": {},
     "output_type": "execute_result"
    }
   ],
   "source": [
    "np.array(df_penguin_num.iloc[0, :])"
   ]
  },
  {
   "cell_type": "markdown",
   "metadata": {},
   "source": [
    "## Distances between samples\n",
    "Many ML tools require that these vectors have meaningful distances between them.  \n",
    "- A pair of samples with a large distance between them are considered different\n",
    "- A pair of smaples with a small distance between them are considered similar\n",
    "\n",
    "Computing (the $\\ell_2$, or Euclidean) distance between two vectors $x = \\begin{bmatrix} x_1 \\\\ x_2 \\end{bmatrix}$ and $x' = \\begin{bmatrix} x_1' \\\\ x_2' \\end{bmatrix}$:\n",
    "\n",
    "$$||x - x'||_2 = \\sqrt{\\sum_i (x_i - x_i')^2}$$\n",
    "\n",
    "In words, to compute the distance between two vectors:\n",
    "- we square the differences of each element\n",
    "- add these values together\n",
    "- compute the square root of this sum\n",
    "\n",
    "How similar is penguin0 to penguin1?"
   ]
  },
  {
   "cell_type": "code",
   "execution_count": 23,
   "metadata": {},
   "outputs": [
    {
     "data": {
      "text/plain": [
       "bill_length_mm         39.1\n",
       "bill_depth_mm          18.7\n",
       "flipper_length_mm     181.0\n",
       "body_mass_g          3750.0\n",
       "Name: 0, dtype: float64"
      ]
     },
     "execution_count": 23,
     "metadata": {},
     "output_type": "execute_result"
    }
   ],
   "source": [
    "penguin0 = df_penguin_num.iloc[0, :]\n",
    "penguin0"
   ]
  },
  {
   "cell_type": "code",
   "execution_count": 24,
   "metadata": {},
   "outputs": [
    {
     "data": {
      "text/plain": [
       "bill_length_mm         40.2\n",
       "bill_depth_mm          17.9\n",
       "flipper_length_mm     194.0\n",
       "body_mass_g          3700.0\n",
       "Name: 1, dtype: float64"
      ]
     },
     "execution_count": 24,
     "metadata": {},
     "output_type": "execute_result"
    }
   ],
   "source": [
    "penguin1 = df_penguin_num.iloc[1, :]\n",
    "penguin1"
   ]
  },
  {
   "cell_type": "code",
   "execution_count": 25,
   "metadata": {},
   "outputs": [
    {
     "data": {
      "text/plain": [
       "51.68026702717392"
      ]
     },
     "execution_count": 25,
     "metadata": {},
     "output_type": "execute_result"
    }
   ],
   "source": [
    "sq_diff_per_feat = [(39.1 - 40.2) ** 2, (18.7 - 17.9) ** 2, (181 - 194) ** 2, (3750 - 3700) ** 2]\n",
    "l2_dist = sum(sq_diff_per_feat) ** .5\n",
    "l2_dist"
   ]
  },
  {
   "cell_type": "markdown",
   "metadata": {},
   "source": [
    "In and of itself, this distance isn't too insightful ... the penguins are 50 ?unit? apart?  The value becomes more useful when compared to other distances.  Is penguin 1 more similar to penguin 0 or penguin 2?"
   ]
  },
  {
   "cell_type": "code",
   "execution_count": 26,
   "metadata": {},
   "outputs": [
    {
     "name": "stdout",
     "output_type": "stream",
     "text": [
      "distance between penguin0 and penguin1: 51.680\n",
      "distance between penguin1 and penguin2: 450.001\n"
     ]
    }
   ],
   "source": [
    "vec_penguin0 = np.array(df_penguin_num.iloc[0, :])\n",
    "vec_penguin1 = np.array(df_penguin_num.iloc[1, :])\n",
    "vec_penguin2 = np.array(df_penguin_num.iloc[2, :])\n",
    "\n",
    "# a quicker, equivilent way to compute distance\n",
    "l2_dist_quick_a = np.linalg.norm(vec_penguin0 - vec_penguin1)\n",
    "l2_dist_quick_b = np.linalg.norm(vec_penguin1 - vec_penguin2)\n",
    "\n",
    "print(f'distance between penguin0 and penguin1: {l2_dist_quick_a:.3f}') #the .3f limits the printing to 3 decimals\n",
    "print(f'distance between penguin1 and penguin2: {l2_dist_quick_b:.3f}')"
   ]
  },
  {
   "cell_type": "markdown",
   "metadata": {},
   "source": [
    "So: penguin0 and penguin1 are more similar since we observed:\n",
    "\n",
    "    distance between penguin0 and penguin1: 51.680\n",
    "    distance between penguin1 and penguin2: 450.001\n",
    "    \n",
    "Is this satisfying or should penguin1 and penguin2 be considered more similar?  Lets break it out by feature:"
   ]
  },
  {
   "cell_type": "code",
   "execution_count": 19,
   "metadata": {},
   "outputs": [
    {
     "data": {
      "text/plain": [
       "bill_length_mm        1.1\n",
       "bill_depth_mm        -0.8\n",
       "flipper_length_mm    13.0\n",
       "body_mass_g         -50.0\n",
       "dtype: float64"
      ]
     },
     "execution_count": 19,
     "metadata": {},
     "output_type": "execute_result"
    }
   ],
   "source": [
    "df_penguin_num.iloc[1, :] - df_penguin_num.iloc[0, :]"
   ]
  },
  {
   "cell_type": "code",
   "execution_count": 20,
   "metadata": {},
   "outputs": [
    {
     "data": {
      "text/plain": [
       "bill_length_mm        -0.1\n",
       "bill_depth_mm         -0.1\n",
       "flipper_length_mm     -1.0\n",
       "body_mass_g          450.0\n",
       "dtype: float64"
      ]
     },
     "execution_count": 20,
     "metadata": {},
     "output_type": "execute_result"
    }
   ],
   "source": [
    "df_penguin_num.iloc[1, :] - df_penguin_num.iloc[2, :]"
   ]
  },
  {
   "cell_type": "markdown",
   "metadata": {},
   "source": [
    "The bills and flippers of penguin2 and penguin1 are just about identical ... but their difference in body mass is so large that it yields a large distance.\n",
    "\n",
    "## Big Idea: Distances assume that a change of 1 unit (in any feature) is equally significant\n",
    "\n",
    "What if we measured the body mass of the penguin in a different unit?"
   ]
  },
  {
   "cell_type": "code",
   "execution_count": 21,
   "metadata": {},
   "outputs": [
    {
     "data": {
      "text/html": [
       "<div>\n",
       "<style scoped>\n",
       "    .dataframe tbody tr th:only-of-type {\n",
       "        vertical-align: middle;\n",
       "    }\n",
       "\n",
       "    .dataframe tbody tr th {\n",
       "        vertical-align: top;\n",
       "    }\n",
       "\n",
       "    .dataframe thead th {\n",
       "        text-align: right;\n",
       "    }\n",
       "</style>\n",
       "<table border=\"1\" class=\"dataframe\">\n",
       "  <thead>\n",
       "    <tr style=\"text-align: right;\">\n",
       "      <th></th>\n",
       "      <th>bill_length_mm</th>\n",
       "      <th>bill_depth_mm</th>\n",
       "      <th>flipper_length_mm</th>\n",
       "      <th>body_mass_kg</th>\n",
       "    </tr>\n",
       "  </thead>\n",
       "  <tbody>\n",
       "    <tr>\n",
       "      <th>0</th>\n",
       "      <td>39.1</td>\n",
       "      <td>18.7</td>\n",
       "      <td>181.0</td>\n",
       "      <td>3.75</td>\n",
       "    </tr>\n",
       "    <tr>\n",
       "      <th>1</th>\n",
       "      <td>40.2</td>\n",
       "      <td>17.9</td>\n",
       "      <td>194.0</td>\n",
       "      <td>3.70</td>\n",
       "    </tr>\n",
       "    <tr>\n",
       "      <th>2</th>\n",
       "      <td>40.3</td>\n",
       "      <td>18.0</td>\n",
       "      <td>195.0</td>\n",
       "      <td>3.25</td>\n",
       "    </tr>\n",
       "  </tbody>\n",
       "</table>\n",
       "</div>"
      ],
      "text/plain": [
       "   bill_length_mm  bill_depth_mm  flipper_length_mm  body_mass_kg\n",
       "0            39.1           18.7              181.0          3.75\n",
       "1            40.2           17.9              194.0          3.70\n",
       "2            40.3           18.0              195.0          3.25"
      ]
     },
     "execution_count": 21,
     "metadata": {},
     "output_type": "execute_result"
    }
   ],
   "source": [
    "# replace body_mass_g with body_mass_kg\n",
    "df_penguin_num['body_mass_kg'] = df_penguin_num['body_mass_g'] / 1000\n",
    "del df_penguin_num['body_mass_g']\n",
    "\n",
    "df_penguin_num.head(3)"
   ]
  },
  {
   "cell_type": "code",
   "execution_count": 22,
   "metadata": {},
   "outputs": [
    {
     "name": "stdout",
     "output_type": "stream",
     "text": [
      "distance between penguin0 and penguin1: 13.071\n",
      "distance between penguin1 and penguin2: 1.106\n"
     ]
    }
   ],
   "source": [
    "vec_penguin0 = np.array(df_penguin_num.iloc[0, :])\n",
    "vec_penguin1 = np.array(df_penguin_num.iloc[1, :])\n",
    "vec_penguin2 = np.array(df_penguin_num.iloc[2, :])\n",
    "\n",
    "# a quicker, equivilent way to compute distance\n",
    "l2_dist_quick_a = np.linalg.norm(vec_penguin0 - vec_penguin1)\n",
    "l2_dist_quick_b = np.linalg.norm(vec_penguin1 - vec_penguin2)\n",
    "\n",
    "print(f'distance between penguin0 and penguin1: {l2_dist_quick_a:.3f}') #the .3f limits the printing to 3 decimals\n",
    "print(f'distance between penguin1 and penguin2: {l2_dist_quick_b:.3f}')"
   ]
  },
  {
   "cell_type": "markdown",
   "metadata": {},
   "source": [
    "These numbers aren't just different, they claim an opposite conclusion: penguin1 and penguin2 are more similar!\n",
    "\n",
    "- **Distances assume that a change of 1 unit (in any feature) is equally significant**\n",
    "- **Distances implicitly weight how important each feature is relative to others according to its variance**\n",
    "    - a feature with a higher variance is responsible for more of the distances\n",
    "    \n",
    "To wrap all the different features into a single distance we must say *something* about how important one feature is compared to another.  "
   ]
  },
  {
   "cell_type": "code",
   "execution_count": 23,
   "metadata": {},
   "outputs": [
    {
     "data": {
      "text/plain": [
       "bill_length_mm        5.467070\n",
       "bill_depth_mm         1.969606\n",
       "flipper_length_mm    13.996877\n",
       "body_mass_kg          0.805387\n",
       "dtype: float64"
      ]
     },
     "execution_count": 23,
     "metadata": {},
     "output_type": "execute_result"
    }
   ],
   "source": [
    "df_penguin_num.std()"
   ]
  },
  {
   "cell_type": "markdown",
   "metadata": {},
   "source": [
    "### Scale Normalization:\n",
    "How to scale your features so that they're equally important in our distance metric:"
   ]
  },
  {
   "cell_type": "code",
   "execution_count": 24,
   "metadata": {},
   "outputs": [],
   "source": [
    "# by dividing each feature by the standard deviation, outputs will have same std dev\n",
    "df_penguin_num_scaled = pd.DataFrame()\n",
    "for feat in df_penguin_num.columns:\n",
    "    df_penguin_num_scaled[f'{feat}_scaled'] = df_penguin_num[feat] / df_penguin_num[feat].std()"
   ]
  },
  {
   "cell_type": "code",
   "execution_count": 25,
   "metadata": {},
   "outputs": [
    {
     "data": {
      "text/plain": [
       "bill_length_mm_scaled       1.0\n",
       "bill_depth_mm_scaled        1.0\n",
       "flipper_length_mm_scaled    1.0\n",
       "body_mass_kg_scaled         1.0\n",
       "dtype: float64"
      ]
     },
     "execution_count": 25,
     "metadata": {},
     "output_type": "execute_result"
    }
   ],
   "source": [
    "df_penguin_num_scaled.std()"
   ]
  },
  {
   "cell_type": "code",
   "execution_count": 26,
   "metadata": {},
   "outputs": [
    {
     "data": {
      "text/html": [
       "<div>\n",
       "<style scoped>\n",
       "    .dataframe tbody tr th:only-of-type {\n",
       "        vertical-align: middle;\n",
       "    }\n",
       "\n",
       "    .dataframe tbody tr th {\n",
       "        vertical-align: top;\n",
       "    }\n",
       "\n",
       "    .dataframe thead th {\n",
       "        text-align: right;\n",
       "    }\n",
       "</style>\n",
       "<table border=\"1\" class=\"dataframe\">\n",
       "  <thead>\n",
       "    <tr style=\"text-align: right;\">\n",
       "      <th></th>\n",
       "      <th>bill_length_mm_scaled</th>\n",
       "      <th>bill_depth_mm_scaled</th>\n",
       "      <th>flipper_length_mm_scaled</th>\n",
       "      <th>body_mass_kg_scaled</th>\n",
       "    </tr>\n",
       "  </thead>\n",
       "  <tbody>\n",
       "    <tr>\n",
       "      <th>0</th>\n",
       "      <td>7.151911</td>\n",
       "      <td>9.494285</td>\n",
       "      <td>12.931456</td>\n",
       "      <td>4.656148</td>\n",
       "    </tr>\n",
       "    <tr>\n",
       "      <th>1</th>\n",
       "      <td>7.353115</td>\n",
       "      <td>9.088113</td>\n",
       "      <td>13.860235</td>\n",
       "      <td>4.594066</td>\n",
       "    </tr>\n",
       "    <tr>\n",
       "      <th>2</th>\n",
       "      <td>7.371407</td>\n",
       "      <td>9.138884</td>\n",
       "      <td>13.931679</td>\n",
       "      <td>4.035329</td>\n",
       "    </tr>\n",
       "  </tbody>\n",
       "</table>\n",
       "</div>"
      ],
      "text/plain": [
       "   bill_length_mm_scaled  bill_depth_mm_scaled  flipper_length_mm_scaled  \\\n",
       "0               7.151911              9.494285                 12.931456   \n",
       "1               7.353115              9.088113                 13.860235   \n",
       "2               7.371407              9.138884                 13.931679   \n",
       "\n",
       "   body_mass_kg_scaled  \n",
       "0             4.656148  \n",
       "1             4.594066  \n",
       "2             4.035329  "
      ]
     },
     "execution_count": 26,
     "metadata": {},
     "output_type": "execute_result"
    }
   ],
   "source": [
    "df_penguin_num_scaled.head(3)"
   ]
  },
  {
   "cell_type": "markdown",
   "metadata": {},
   "source": [
    "Notice that in doing so, our units are no longer valid, so lets remove the units:"
   ]
  },
  {
   "cell_type": "code",
   "execution_count": 27,
   "metadata": {},
   "outputs": [
    {
     "data": {
      "text/html": [
       "<div>\n",
       "<style scoped>\n",
       "    .dataframe tbody tr th:only-of-type {\n",
       "        vertical-align: middle;\n",
       "    }\n",
       "\n",
       "    .dataframe tbody tr th {\n",
       "        vertical-align: top;\n",
       "    }\n",
       "\n",
       "    .dataframe thead th {\n",
       "        text-align: right;\n",
       "    }\n",
       "</style>\n",
       "<table border=\"1\" class=\"dataframe\">\n",
       "  <thead>\n",
       "    <tr style=\"text-align: right;\">\n",
       "      <th></th>\n",
       "      <th>bill_length_scaled</th>\n",
       "      <th>bill_depth_scaled</th>\n",
       "      <th>flippter_length_scaled</th>\n",
       "      <th>body_mass_scaled</th>\n",
       "    </tr>\n",
       "  </thead>\n",
       "  <tbody>\n",
       "    <tr>\n",
       "      <th>0</th>\n",
       "      <td>7.151911</td>\n",
       "      <td>9.494285</td>\n",
       "      <td>12.931456</td>\n",
       "      <td>4.656148</td>\n",
       "    </tr>\n",
       "    <tr>\n",
       "      <th>1</th>\n",
       "      <td>7.353115</td>\n",
       "      <td>9.088113</td>\n",
       "      <td>13.860235</td>\n",
       "      <td>4.594066</td>\n",
       "    </tr>\n",
       "    <tr>\n",
       "      <th>2</th>\n",
       "      <td>7.371407</td>\n",
       "      <td>9.138884</td>\n",
       "      <td>13.931679</td>\n",
       "      <td>4.035329</td>\n",
       "    </tr>\n",
       "  </tbody>\n",
       "</table>\n",
       "</div>"
      ],
      "text/plain": [
       "   bill_length_scaled  bill_depth_scaled  flippter_length_scaled  \\\n",
       "0            7.151911           9.494285               12.931456   \n",
       "1            7.353115           9.088113               13.860235   \n",
       "2            7.371407           9.138884               13.931679   \n",
       "\n",
       "   body_mass_scaled  \n",
       "0          4.656148  \n",
       "1          4.594066  \n",
       "2          4.035329  "
      ]
     },
     "execution_count": 27,
     "metadata": {},
     "output_type": "execute_result"
    }
   ],
   "source": [
    "df_penguin_num_scaled.columns = ['bill_length_scaled',\n",
    "                                'bill_depth_scaled',\n",
    "                                'flippter_length_scaled',\n",
    "                                'body_mass_scaled']\n",
    "df_penguin_num_scaled.head(3)"
   ]
  },
  {
   "cell_type": "markdown",
   "metadata": {},
   "source": [
    "Now, which penguins are actually most similar?"
   ]
  },
  {
   "cell_type": "code",
   "execution_count": 28,
   "metadata": {},
   "outputs": [
    {
     "name": "stdout",
     "output_type": "stream",
     "text": [
      "distance between penguin0 and penguin1: 1.035\n",
      "distance between penguin1 and penguin2: 0.566\n"
     ]
    }
   ],
   "source": [
    "vec_penguin0 = np.array(df_penguin_num_scaled.iloc[0, :])\n",
    "vec_penguin1 = np.array(df_penguin_num_scaled.iloc[1, :])\n",
    "vec_penguin2 = np.array(df_penguin_num_scaled.iloc[2, :])\n",
    "\n",
    "# a quicker, equivilent way to compute distance\n",
    "l2_dist_quick_a = np.linalg.norm(vec_penguin0 - vec_penguin1)\n",
    "l2_dist_quick_b = np.linalg.norm(vec_penguin1 - vec_penguin2)\n",
    "\n",
    "print(f'distance between penguin0 and penguin1: {l2_dist_quick_a:.3f}') #the .3f limits the printing to 3 decimals\n",
    "print(f'distance between penguin1 and penguin2: {l2_dist_quick_b:.3f}')"
   ]
  },
  {
   "cell_type": "markdown",
   "metadata": {},
   "source": [
    "# What do we do with categorical features?\n",
    "## One hot encoding and \"Dummy\" variables\n",
    "### (Representing categorical variables in the sample vector as numbers)\n",
    "\n",
    "**One hot encoding:** replace each categorical column with a set of columns per each unique category.  These new columns (called dummy variables) have value 1 where the original row belonged to the corresponding category."
   ]
  },
  {
   "cell_type": "code",
   "execution_count": 27,
   "metadata": {},
   "outputs": [
    {
     "data": {
      "text/html": [
       "<div>\n",
       "<style scoped>\n",
       "    .dataframe tbody tr th:only-of-type {\n",
       "        vertical-align: middle;\n",
       "    }\n",
       "\n",
       "    .dataframe tbody tr th {\n",
       "        vertical-align: top;\n",
       "    }\n",
       "\n",
       "    .dataframe thead th {\n",
       "        text-align: right;\n",
       "    }\n",
       "</style>\n",
       "<table border=\"1\" class=\"dataframe\">\n",
       "  <thead>\n",
       "    <tr style=\"text-align: right;\">\n",
       "      <th></th>\n",
       "      <th>species</th>\n",
       "      <th>island</th>\n",
       "      <th>bill_length_mm</th>\n",
       "      <th>bill_depth_mm</th>\n",
       "      <th>flipper_length_mm</th>\n",
       "      <th>body_mass_g</th>\n",
       "      <th>sex</th>\n",
       "    </tr>\n",
       "  </thead>\n",
       "  <tbody>\n",
       "    <tr>\n",
       "      <th>65</th>\n",
       "      <td>Adelie</td>\n",
       "      <td>Biscoe</td>\n",
       "      <td>41.6</td>\n",
       "      <td>18.0</td>\n",
       "      <td>192.0</td>\n",
       "      <td>3950.0</td>\n",
       "      <td>Male</td>\n",
       "    </tr>\n",
       "    <tr>\n",
       "      <th>276</th>\n",
       "      <td>Gentoo</td>\n",
       "      <td>Biscoe</td>\n",
       "      <td>43.8</td>\n",
       "      <td>13.9</td>\n",
       "      <td>208.0</td>\n",
       "      <td>4300.0</td>\n",
       "      <td>Female</td>\n",
       "    </tr>\n",
       "    <tr>\n",
       "      <th>186</th>\n",
       "      <td>Chinstrap</td>\n",
       "      <td>Dream</td>\n",
       "      <td>49.7</td>\n",
       "      <td>18.6</td>\n",
       "      <td>195.0</td>\n",
       "      <td>3600.0</td>\n",
       "      <td>Male</td>\n",
       "    </tr>\n",
       "    <tr>\n",
       "      <th>198</th>\n",
       "      <td>Chinstrap</td>\n",
       "      <td>Dream</td>\n",
       "      <td>50.1</td>\n",
       "      <td>17.9</td>\n",
       "      <td>190.0</td>\n",
       "      <td>3400.0</td>\n",
       "      <td>Female</td>\n",
       "    </tr>\n",
       "    <tr>\n",
       "      <th>293</th>\n",
       "      <td>Gentoo</td>\n",
       "      <td>Biscoe</td>\n",
       "      <td>46.5</td>\n",
       "      <td>14.8</td>\n",
       "      <td>217.0</td>\n",
       "      <td>5200.0</td>\n",
       "      <td>Female</td>\n",
       "    </tr>\n",
       "  </tbody>\n",
       "</table>\n",
       "</div>"
      ],
      "text/plain": [
       "       species  island  bill_length_mm  bill_depth_mm  flipper_length_mm  \\\n",
       "65      Adelie  Biscoe            41.6           18.0              192.0   \n",
       "276     Gentoo  Biscoe            43.8           13.9              208.0   \n",
       "186  Chinstrap   Dream            49.7           18.6              195.0   \n",
       "198  Chinstrap   Dream            50.1           17.9              190.0   \n",
       "293     Gentoo  Biscoe            46.5           14.8              217.0   \n",
       "\n",
       "     body_mass_g     sex  \n",
       "65        3950.0    Male  \n",
       "276       4300.0  Female  \n",
       "186       3600.0    Male  \n",
       "198       3400.0  Female  \n",
       "293       5200.0  Female  "
      ]
     },
     "execution_count": 27,
     "metadata": {},
     "output_type": "execute_result"
    }
   ],
   "source": [
    "df_penguin = sns.load_dataset('penguins')\n",
    "\n",
    "# discard penguins with missing features\n",
    "df_penguin.dropna(axis=0, inplace=True)\n",
    "\n",
    "# shuffle order of rows\n",
    "df_penguin = df_penguin.sample(frac=1, random_state=1)\n",
    "\n",
    "# grab only the first few rows\n",
    "df_penguin = df_penguin.head()\n",
    "\n",
    "df_penguin"
   ]
  },
  {
   "cell_type": "code",
   "execution_count": 28,
   "metadata": {},
   "outputs": [
    {
     "data": {
      "text/html": [
       "<div>\n",
       "<style scoped>\n",
       "    .dataframe tbody tr th:only-of-type {\n",
       "        vertical-align: middle;\n",
       "    }\n",
       "\n",
       "    .dataframe tbody tr th {\n",
       "        vertical-align: top;\n",
       "    }\n",
       "\n",
       "    .dataframe thead th {\n",
       "        text-align: right;\n",
       "    }\n",
       "</style>\n",
       "<table border=\"1\" class=\"dataframe\">\n",
       "  <thead>\n",
       "    <tr style=\"text-align: right;\">\n",
       "      <th></th>\n",
       "      <th>island</th>\n",
       "      <th>bill_length_mm</th>\n",
       "      <th>bill_depth_mm</th>\n",
       "      <th>flipper_length_mm</th>\n",
       "      <th>body_mass_g</th>\n",
       "      <th>sex</th>\n",
       "      <th>species_Adelie</th>\n",
       "      <th>species_Chinstrap</th>\n",
       "      <th>species_Gentoo</th>\n",
       "    </tr>\n",
       "  </thead>\n",
       "  <tbody>\n",
       "    <tr>\n",
       "      <th>65</th>\n",
       "      <td>Biscoe</td>\n",
       "      <td>41.6</td>\n",
       "      <td>18.0</td>\n",
       "      <td>192.0</td>\n",
       "      <td>3950.0</td>\n",
       "      <td>Male</td>\n",
       "      <td>True</td>\n",
       "      <td>False</td>\n",
       "      <td>False</td>\n",
       "    </tr>\n",
       "    <tr>\n",
       "      <th>276</th>\n",
       "      <td>Biscoe</td>\n",
       "      <td>43.8</td>\n",
       "      <td>13.9</td>\n",
       "      <td>208.0</td>\n",
       "      <td>4300.0</td>\n",
       "      <td>Female</td>\n",
       "      <td>False</td>\n",
       "      <td>False</td>\n",
       "      <td>True</td>\n",
       "    </tr>\n",
       "    <tr>\n",
       "      <th>186</th>\n",
       "      <td>Dream</td>\n",
       "      <td>49.7</td>\n",
       "      <td>18.6</td>\n",
       "      <td>195.0</td>\n",
       "      <td>3600.0</td>\n",
       "      <td>Male</td>\n",
       "      <td>False</td>\n",
       "      <td>True</td>\n",
       "      <td>False</td>\n",
       "    </tr>\n",
       "    <tr>\n",
       "      <th>198</th>\n",
       "      <td>Dream</td>\n",
       "      <td>50.1</td>\n",
       "      <td>17.9</td>\n",
       "      <td>190.0</td>\n",
       "      <td>3400.0</td>\n",
       "      <td>Female</td>\n",
       "      <td>False</td>\n",
       "      <td>True</td>\n",
       "      <td>False</td>\n",
       "    </tr>\n",
       "    <tr>\n",
       "      <th>293</th>\n",
       "      <td>Biscoe</td>\n",
       "      <td>46.5</td>\n",
       "      <td>14.8</td>\n",
       "      <td>217.0</td>\n",
       "      <td>5200.0</td>\n",
       "      <td>Female</td>\n",
       "      <td>False</td>\n",
       "      <td>False</td>\n",
       "      <td>True</td>\n",
       "    </tr>\n",
       "  </tbody>\n",
       "</table>\n",
       "</div>"
      ],
      "text/plain": [
       "     island  bill_length_mm  bill_depth_mm  flipper_length_mm  body_mass_g  \\\n",
       "65   Biscoe            41.6           18.0              192.0       3950.0   \n",
       "276  Biscoe            43.8           13.9              208.0       4300.0   \n",
       "186   Dream            49.7           18.6              195.0       3600.0   \n",
       "198   Dream            50.1           17.9              190.0       3400.0   \n",
       "293  Biscoe            46.5           14.8              217.0       5200.0   \n",
       "\n",
       "        sex  species_Adelie  species_Chinstrap  species_Gentoo  \n",
       "65     Male            True              False           False  \n",
       "276  Female           False              False            True  \n",
       "186    Male           False               True           False  \n",
       "198  Female           False               True           False  \n",
       "293  Female           False              False            True  "
      ]
     },
     "execution_count": 28,
     "metadata": {},
     "output_type": "execute_result"
    }
   ],
   "source": [
    "pd.get_dummies(df_penguin, columns=['species'])"
   ]
  },
  {
   "cell_type": "code",
   "execution_count": 29,
   "metadata": {},
   "outputs": [
    {
     "data": {
      "text/html": [
       "<div>\n",
       "<style scoped>\n",
       "    .dataframe tbody tr th:only-of-type {\n",
       "        vertical-align: middle;\n",
       "    }\n",
       "\n",
       "    .dataframe tbody tr th {\n",
       "        vertical-align: top;\n",
       "    }\n",
       "\n",
       "    .dataframe thead th {\n",
       "        text-align: right;\n",
       "    }\n",
       "</style>\n",
       "<table border=\"1\" class=\"dataframe\">\n",
       "  <thead>\n",
       "    <tr style=\"text-align: right;\">\n",
       "      <th></th>\n",
       "      <th>bill_length_mm</th>\n",
       "      <th>bill_depth_mm</th>\n",
       "      <th>flipper_length_mm</th>\n",
       "      <th>body_mass_g</th>\n",
       "      <th>species_Adelie</th>\n",
       "      <th>species_Chinstrap</th>\n",
       "      <th>species_Gentoo</th>\n",
       "      <th>island_Biscoe</th>\n",
       "      <th>island_Dream</th>\n",
       "      <th>sex_Female</th>\n",
       "      <th>sex_Male</th>\n",
       "    </tr>\n",
       "  </thead>\n",
       "  <tbody>\n",
       "    <tr>\n",
       "      <th>65</th>\n",
       "      <td>41.6</td>\n",
       "      <td>18.0</td>\n",
       "      <td>192.0</td>\n",
       "      <td>3950.0</td>\n",
       "      <td>1.0</td>\n",
       "      <td>0.0</td>\n",
       "      <td>0.0</td>\n",
       "      <td>1.0</td>\n",
       "      <td>0.0</td>\n",
       "      <td>0.0</td>\n",
       "      <td>1.0</td>\n",
       "    </tr>\n",
       "    <tr>\n",
       "      <th>276</th>\n",
       "      <td>43.8</td>\n",
       "      <td>13.9</td>\n",
       "      <td>208.0</td>\n",
       "      <td>4300.0</td>\n",
       "      <td>0.0</td>\n",
       "      <td>0.0</td>\n",
       "      <td>1.0</td>\n",
       "      <td>1.0</td>\n",
       "      <td>0.0</td>\n",
       "      <td>1.0</td>\n",
       "      <td>0.0</td>\n",
       "    </tr>\n",
       "    <tr>\n",
       "      <th>186</th>\n",
       "      <td>49.7</td>\n",
       "      <td>18.6</td>\n",
       "      <td>195.0</td>\n",
       "      <td>3600.0</td>\n",
       "      <td>0.0</td>\n",
       "      <td>1.0</td>\n",
       "      <td>0.0</td>\n",
       "      <td>0.0</td>\n",
       "      <td>1.0</td>\n",
       "      <td>0.0</td>\n",
       "      <td>1.0</td>\n",
       "    </tr>\n",
       "    <tr>\n",
       "      <th>198</th>\n",
       "      <td>50.1</td>\n",
       "      <td>17.9</td>\n",
       "      <td>190.0</td>\n",
       "      <td>3400.0</td>\n",
       "      <td>0.0</td>\n",
       "      <td>1.0</td>\n",
       "      <td>0.0</td>\n",
       "      <td>0.0</td>\n",
       "      <td>1.0</td>\n",
       "      <td>1.0</td>\n",
       "      <td>0.0</td>\n",
       "    </tr>\n",
       "    <tr>\n",
       "      <th>293</th>\n",
       "      <td>46.5</td>\n",
       "      <td>14.8</td>\n",
       "      <td>217.0</td>\n",
       "      <td>5200.0</td>\n",
       "      <td>0.0</td>\n",
       "      <td>0.0</td>\n",
       "      <td>1.0</td>\n",
       "      <td>1.0</td>\n",
       "      <td>0.0</td>\n",
       "      <td>1.0</td>\n",
       "      <td>0.0</td>\n",
       "    </tr>\n",
       "  </tbody>\n",
       "</table>\n",
       "</div>"
      ],
      "text/plain": [
       "     bill_length_mm  bill_depth_mm  flipper_length_mm  body_mass_g  \\\n",
       "65             41.6           18.0              192.0       3950.0   \n",
       "276            43.8           13.9              208.0       4300.0   \n",
       "186            49.7           18.6              195.0       3600.0   \n",
       "198            50.1           17.9              190.0       3400.0   \n",
       "293            46.5           14.8              217.0       5200.0   \n",
       "\n",
       "     species_Adelie  species_Chinstrap  species_Gentoo  island_Biscoe  \\\n",
       "65              1.0                0.0             0.0            1.0   \n",
       "276             0.0                0.0             1.0            1.0   \n",
       "186             0.0                1.0             0.0            0.0   \n",
       "198             0.0                1.0             0.0            0.0   \n",
       "293             0.0                0.0             1.0            1.0   \n",
       "\n",
       "     island_Dream  sex_Female  sex_Male  \n",
       "65            0.0         0.0       1.0  \n",
       "276           0.0         1.0       0.0  \n",
       "186           1.0         0.0       1.0  \n",
       "198           1.0         1.0       0.0  \n",
       "293           0.0         1.0       0.0  "
      ]
     },
     "execution_count": 29,
     "metadata": {},
     "output_type": "execute_result"
    }
   ],
   "source": [
    "pd.get_dummies(df_penguin, columns=['species', 'island', 'sex'], dtype='float')"
   ]
  },
  {
   "cell_type": "markdown",
   "metadata": {},
   "source": [
    "## Intro to Vector Geometry (on board and in python)\n",
    "\n",
    "Above, we looked at representing data as vectors, and already talked about calculating distances between vectors such as  $x = \\begin{bmatrix} x_1 \\\\ x_2 \\end{bmatrix}$ and $x' = \\begin{bmatrix} x_1' \\\\ x_2' \\end{bmatrix}$. Data are usually represented as vectors (or matrices).\n",
    "\n",
    "For example, the first observation in the Penguin data set, represented as a vector (excluding categorical/dummy variables) was, after scaling, and rounding to three places:\n",
    "\n",
    "$x_1 = \\begin{bmatrix} 7.152 \\\\ 9.494 \\\\ 12.931 \\\\ 4.656 \\end{bmatrix}$"
   ]
  },
  {
   "cell_type": "code",
   "execution_count": 32,
   "metadata": {},
   "outputs": [
    {
     "data": {
      "text/plain": [
       "array([ 7.15191075,  9.49428525, 12.93145595,  4.65614842])"
      ]
     },
     "execution_count": 32,
     "metadata": {},
     "output_type": "execute_result"
    }
   ],
   "source": [
    "x1 = np.array(df_penguin_num_scaled.iloc[0, :])\n",
    "x1"
   ]
  },
  {
   "cell_type": "markdown",
   "metadata": {},
   "source": [
    "### Notation\n",
    "\n",
    "Generally, we use **lowercase** letters to represent vectors, like above, and **uppercase** letters to represent matrices, such as when we consider the data set containing the first two penguins:\n",
    "\n",
    "$X = \\begin{bmatrix} 7.152 & 9.494 & 12.931 & 4.656 \\\\ 7.353 & 9.088 & 13.860 & 4.594 \\end{bmatrix}$\n",
    "\n",
    "Note that by convention also, vectors are **column vectors**, but that when we combine vectors into a data matrix, the vectors are included as the **rows**."
   ]
  },
  {
   "cell_type": "markdown",
   "metadata": {},
   "source": [
    "## Vector Addition\n",
    "\n",
    "In order to add two vectors together, they must be the same **dimension**. For example, each penguin in the data set (again, discounting the categorical features) is represented by a vector of length $n = 4$:\n",
    "\n",
    "$x_1 = \\begin{bmatrix} 7.152 \\\\ 9.494 \\\\ 12.931 \\\\ 4.656 \\end{bmatrix}$\n",
    "$x_2 = \\begin{bmatrix} 7.353 \\\\ 9.088 \\\\ 13.860 \\\\ 4.594 \\end{bmatrix}$\n",
    "\n",
    "$x_1 + x_2 = \\begin{bmatrix} 14.505 \\\\ 18.582 \\\\ 26.791 \\\\ 9.250 \\end{bmatrix}$"
   ]
  },
  {
   "cell_type": "code",
   "execution_count": 33,
   "metadata": {},
   "outputs": [
    {
     "data": {
      "text/plain": [
       "array([ 7.3531154 ,  9.08811262, 13.86023456,  4.59406644])"
      ]
     },
     "execution_count": 33,
     "metadata": {},
     "output_type": "execute_result"
    }
   ],
   "source": [
    "x2 = np.array(df_penguin_num_scaled.iloc[1, :])\n",
    "x2"
   ]
  },
  {
   "cell_type": "code",
   "execution_count": 34,
   "metadata": {},
   "outputs": [
    {
     "data": {
      "text/plain": [
       "array([14.50502616, 18.58239787, 26.79169051,  9.25021486])"
      ]
     },
     "execution_count": 34,
     "metadata": {},
     "output_type": "execute_result"
    }
   ],
   "source": [
    "x1+x2"
   ]
  },
  {
   "cell_type": "markdown",
   "metadata": {},
   "source": [
    "If we simplify the vectors to be two-dimensional, we can very easily understand what the vector addition operation is doing with a quick graph (done on board). Check out what it means to add the following two vectors together:\n",
    "\n",
    "\n",
    "$x = \\begin{bmatrix} 3 \\\\ 4 \\end{bmatrix}$\n",
    "\n",
    "$y = \\begin{bmatrix} 7 \\\\ 1 \\end{bmatrix}$\n",
    "\n",
    "$x + y = \\begin{bmatrix} 10 \\\\ 5 \\end{bmatrix}$\n"
   ]
  },
  {
   "cell_type": "code",
   "execution_count": 35,
   "metadata": {},
   "outputs": [
    {
     "data": {
      "text/plain": [
       "array([10,  5])"
      ]
     },
     "execution_count": 35,
     "metadata": {},
     "output_type": "execute_result"
    }
   ],
   "source": [
    "x = np.array([3, 4])\n",
    "y = np.array([7, 1])\n",
    "x + y"
   ]
  },
  {
   "cell_type": "markdown",
   "metadata": {},
   "source": [
    "## Vector \"Multiplication\"\n",
    "\n",
    "You can easily multiply scalars (real numbers) to vectors:\n",
    "\n",
    "$cx_1 = \\begin{bmatrix} 7.152(c) \\\\ 9.494(c) \\\\ 12.931(c) \\\\ 4.656(c) \\end{bmatrix}$\n",
    "\n",
    "You can see (done on board) that all this does is **scale** the vector so that it gets longer (or shorter, if the scalar is less than 1)."
   ]
  },
  {
   "cell_type": "code",
   "execution_count": 36,
   "metadata": {},
   "outputs": [
    {
     "data": {
      "text/plain": [
       "array([21.45573226, 28.48285575, 38.79436786, 13.96844526])"
      ]
     },
     "execution_count": 36,
     "metadata": {},
     "output_type": "execute_result"
    }
   ],
   "source": [
    "c=3\n",
    "c*x1"
   ]
  },
  {
   "cell_type": "markdown",
   "metadata": {},
   "source": [
    "But when we talk about \"multiplying\" vectors together, there may be more than interpretation of that. One common operation that gets confused with multiplication is calculating the **dot product**. For two vectors $x$ and $y$, the dot product is:\n",
    "\n",
    "$x\\cdot y = \\sum_i x_i \\times y_i$\n",
    "\n",
    "That is, the sum of all the pairwise products of the vectors. Let's use a simple, two-dimensional example instead of our penguins for a moment:\n",
    "\n",
    "$x = \\begin{bmatrix} 3 \\\\ 4 \\end{bmatrix}$\n",
    "\n",
    "$y = \\begin{bmatrix} 7 \\\\ 1 \\end{bmatrix}$\n",
    "\n",
    "$x \\cdot y = 3\\times7 + 4\\times1 = 21 + 4 = 25$\n",
    "\n",
    "This is a common operation that we'll use quite a bit! The graphical interpretation is a bit complex, and beyond the scope of this course (for now...)."
   ]
  },
  {
   "cell_type": "code",
   "execution_count": 37,
   "metadata": {},
   "outputs": [
    {
     "data": {
      "text/plain": [
       "25"
      ]
     },
     "execution_count": 37,
     "metadata": {},
     "output_type": "execute_result"
    }
   ],
   "source": [
    "x = np.array([3, 4])\n",
    "y = np.array([7, 1])\n",
    "np.dot(x, y)"
   ]
  },
  {
   "cell_type": "markdown",
   "metadata": {},
   "source": [
    "We'll talk about what else we might mean by \"multiplying\" vectors when we talk about matrix multiplication later! Another useful operation we might use on occasion is finding the length of a vector:\n",
    "\n",
    "$||x|| = \\sqrt{\\sum_i x_i^2}$\n",
    "\n",
    "For example, if:\n",
    "\n",
    "$x = \\begin{bmatrix} 3 \\\\ 4 \\end{bmatrix}$\n",
    "$||x|| = \\sqrt{3^2  + 4^2} = \\sqrt{9 + 16} = \\sqrt{25} = 5$\n",
    "\n",
    "We can also use graphing to understand this a little bit better (professor will show this on the board)."
   ]
  },
  {
   "cell_type": "code",
   "execution_count": 38,
   "metadata": {},
   "outputs": [
    {
     "data": {
      "text/plain": [
       "5.0"
      ]
     },
     "execution_count": 38,
     "metadata": {},
     "output_type": "execute_result"
    }
   ],
   "source": [
    "#in numpy\n",
    "np.linalg.norm(x)"
   ]
  },
  {
   "cell_type": "markdown",
   "metadata": {},
   "source": [
    "## Rest of Class (if time)\n",
    "\n",
    "Practice, by hand, graphing the following two dimensional vectors and performing the associated operations both by hand and in python using numpy.\n",
    "\n",
    "$x = \\begin{bmatrix} -2 \\\\ 0 \\end{bmatrix}$\n",
    "\n",
    "$y = \\begin{bmatrix} 1 \\\\ 2 \\end{bmatrix}$\n",
    "\n",
    "$z = \\begin{bmatrix} -.5 \\\\ -3 \\end{bmatrix}$\n",
    "\n",
    "- $x + z - y$\n",
    "- $||z||$\n",
    "- $y \\cdot z$\n",
    "\n",
    "### What about in three dimensions?\n",
    "\n",
    "$a = \\begin{bmatrix} 1 \\\\ 2 \\\\ 3 \\end{bmatrix}$\n",
    "\n",
    "$b = \\begin{bmatrix} -1 \\\\ 2 \\\\ 3 \\end{bmatrix}$\n",
    "\n",
    "- $a - b$\n",
    "- $||b||$\n",
    "- $a \\cdot b$"
   ]
  },
  {
   "cell_type": "code",
   "execution_count": null,
   "metadata": {},
   "outputs": [],
   "source": []
  }
 ],
 "metadata": {
  "celltoolbar": "Slideshow",
  "kernelspec": {
   "display_name": "Python 3 (ipykernel)",
   "language": "python",
   "name": "python3"
  },
  "language_info": {
   "codemirror_mode": {
    "name": "ipython",
    "version": 3
   },
   "file_extension": ".py",
   "mimetype": "text/x-python",
   "name": "python",
   "nbconvert_exporter": "python",
   "pygments_lexer": "ipython3",
   "version": "3.10.13"
  }
 },
 "nbformat": 4,
 "nbformat_minor": 4
}
