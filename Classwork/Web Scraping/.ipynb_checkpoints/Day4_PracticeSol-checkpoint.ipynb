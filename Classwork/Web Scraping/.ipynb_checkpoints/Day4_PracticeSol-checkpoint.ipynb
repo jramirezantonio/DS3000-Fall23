{
 "cells": [
  {
   "cell_type": "code",
   "execution_count": null,
   "id": "b66bd653-3ac2-41f0-8fa8-20abf9a1fea8",
   "metadata": {},
   "outputs": [],
   "source": [
    "def extract_prep_info(url):\n",
    "    \"\"\" returns a dictionary of recipe preparation info \n",
    "    \n",
    "    Args:\n",
    "        url (str): location of all recipes \"recipe\"\n",
    "        \n",
    "    Returns:\n",
    "        prep_info_dict (dict): keys are features ('prep'), \n",
    "            vals are str that describe feature ('20 mins')\n",
    "    \"\"\"\n",
    "    html = requests.get(url).text\n",
    "    soup = BeautifulSoup(html)\n",
    "    \n",
    "    prep_str = soup.find_all(class_='mntl-recipe-details__content')[0].text.strip().replace('\\n', ' ')\n",
    "    prep_dict = dict()\n",
    "    \n",
    "    for line in prep_str.split('   '):\n",
    "        line_list = line.split(':')\n",
    "        prep_dict[line_list[0].strip()] = line_list[1].strip()\n",
    "    \n",
    "    return prep_dict"
   ]
  },
  {
   "cell_type": "code",
   "execution_count": null,
   "id": "077ff4ef-1e5b-46c3-b327-49ce44f01cd3",
   "metadata": {},
   "outputs": [],
   "source": [
    "def extract_nutrition(url):\n",
    "    \"\"\" returns a dictionary of nutrition info \n",
    "    \n",
    "    Args:\n",
    "        url (str): location of all recipes \"recipe\"\n",
    "        \n",
    "    Returns:\n",
    "        nutr_dict (dict): keys are molecule types ('fat'), \n",
    "            vals are str of quantity ('24 g')\n",
    "    \"\"\"\n",
    "    html = requests.get(url).text\n",
    "    soup = BeautifulSoup(html)\n",
    "    \n",
    "    nutr_dict = dict()\n",
    "    nutr_list = soup.find_all('span', class_ = 'mntl-nutrition-facts-label__nutrient-name mntl-nutrition-facts-label__nutrient-name--has-postfix')\n",
    "    for fact in nutr_list:\n",
    "        nutr_dict[fact.text] = fact.next_sibling.strip()\n",
    "    \n",
    "    return nutr_dict"
   ]
  }
 ],
 "metadata": {
  "kernelspec": {
   "display_name": "Python 3 (ipykernel)",
   "language": "python",
   "name": "python3"
  },
  "language_info": {
   "codemirror_mode": {
    "name": "ipython",
    "version": 3
   },
   "file_extension": ".py",
   "mimetype": "text/x-python",
   "name": "python",
   "nbconvert_exporter": "python",
   "pygments_lexer": "ipython3",
   "version": "3.10.13"
  }
 },
 "nbformat": 4,
 "nbformat_minor": 5
}
