{
 "cells": [
  {
   "cell_type": "code",
   "execution_count": 1,
   "id": "7ade909c",
   "metadata": {},
   "outputs": [],
   "source": [
    "def crawl_recipes(query):\n",
    "    \"\"\" gets html of from allrecipes.com to search query\n",
    "    \n",
    "    Args:\n",
    "        query (str): search string\n",
    "        \n",
    "    Returns:\n",
    "        html_str (str): html response from allreceipes.com\n",
    "    \"\"\"\n",
    "    \n",
    "    query = query.replace(\" \", \"+\")\n",
    "    url = f'https://www.allrecipes.com/search?q={query}'\n",
    "    return requests.get(url).text\n",
    "\n",
    "def extract_recipes(text):\n",
    "    \"\"\" builds list of recipe names from allrecipies html\n",
    "    \n",
    "    Args:\n",
    "        html_str (str): html response from allrecipes.com, see crawl_recipes()\n",
    "        \n",
    "    Returns:\n",
    "        recipe_list (list): list of recipes\n",
    "    \"\"\"\n",
    "    # build soup object from text\n",
    "    soup = BeautifulSoup(text)\n",
    "    \n",
    "    \n",
    "    recipe_list = []\n",
    "    for recipe in soup.find_all(class_='card__title-text'):\n",
    "        # extract / store recipe\n",
    "        recipe = recipe.text\n",
    "        recipe_list.append(recipe)\n",
    "    \n",
    "    return recipe_list\n",
    "    "
   ]
  },
  {
   "cell_type": "code",
   "execution_count": null,
   "id": "f2c0e928",
   "metadata": {},
   "outputs": [],
   "source": []
  }
 ],
 "metadata": {
  "kernelspec": {
   "display_name": "Python 3 (ipykernel)",
   "language": "python",
   "name": "python3"
  },
  "language_info": {
   "codemirror_mode": {
    "name": "ipython",
    "version": 3
   },
   "file_extension": ".py",
   "mimetype": "text/x-python",
   "name": "python",
   "nbconvert_exporter": "python",
   "pygments_lexer": "ipython3",
   "version": "3.10.13"
  }
 },
 "nbformat": 4,
 "nbformat_minor": 5
}
